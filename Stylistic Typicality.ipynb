{
 "cells": [
  {
   "cell_type": "code",
   "execution_count": 1,
   "metadata": {},
   "outputs": [],
   "source": [
    "import pystan\n",
    "import pandas as pd\n",
    "import numpy as np\n",
    "from tqdm import tqdm\n",
    "from datetime import datetime\n",
    "import nltk\n",
    "import os\n",
    "\n",
    "tqdm.pandas()\n",
    "\n",
    "DELIM         = \" +++$+++ \"\n",
    "CONVO_FILE    = \"wikipedia.talkpages.conversations.txt\"\n",
    "USERS_FILE    = \"wikipedia.talkpages.userinfo.txt\"\n",
    "ADMINS_FILE   = \"wikipedia.talkpages.admins.txt\"\n",
    "POSTS_DF_FILE = \"posts_df.pickle\"\n",
    "USERS_DF_FILE = \"users_df.pickle\"\n",
    "POSTS_CSV     = \"posts.csv\"\n",
    "USERS_CSV     = \"users.csv\"\n",
    "NETWORK_FILE  = \"users_network.pickle\"\n",
    "CORPUS_DIR    = (\"../data/wiki/\")\n",
    "FWORDS_DIR    = '../data/function words/'\n",
    "\n",
    "function_words = ['conjunctions', 'articles', 'prepositions', 'adverbs', 'quantifiers', \n",
    "           'impersonal_pronouns', 'personal_pronouns', 'auxiliary_verbs']"
   ]
  },
  {
   "cell_type": "code",
   "execution_count": 2,
   "metadata": {},
   "outputs": [],
   "source": [
    "posts = pd.read_pickle(CORPUS_DIR + POSTS_DF_FILE)"
   ]
  },
  {
   "cell_type": "code",
   "execution_count": 3,
   "metadata": {},
   "outputs": [],
   "source": [
    "columns = ['user', 'edit_count', 'gender', 'numerical_id']\n",
    "\n",
    "users = {column: [] for column in columns}\n",
    "with open(CORPUS_DIR + USERS_FILE) as f:\n",
    "    for line in f.readlines():\n",
    "        line = line.rstrip('\\n').split(DELIM)\n",
    "        assert(len(line) == len(columns))\n",
    "        line = {column: value for column, value in zip(columns, line)}\n",
    "        for column, value in line.items():\n",
    "            users[column].append(value)\n",
    "            \n",
    "users = pd.DataFrame(data=users, index=users['user'], columns=columns)\n",
    "\n",
    "columns = ['user', 'admin_ascension']\n",
    "\n",
    "admins = {column: [] for column in columns}\n",
    "with open(CORPUS_DIR + ADMINS_FILE) as f:\n",
    "    for line in f.readlines():\n",
    "        line = line.rstrip('\\n').split(' ')\n",
    "        line = ' '.join(line[:-1]), line[-1]\n",
    "        assert(len(line) == len(columns))\n",
    "        line = {column: value for column, value in zip(columns, line)}\n",
    "            \n",
    "        # convert timestamps to datetime objects\n",
    "        try:\n",
    "            line['admin_ascension'] = datetime.strptime(line['admin_ascension'], \"%Y-%m-%d\")\n",
    "        except ValueError:\n",
    "            line['admin_ascension'] = None\n",
    "            \n",
    "        for column, value in line.items():\n",
    "            admins[column].append(value)\n",
    "            \n",
    "admins = pd.DataFrame(data=admins, index=admins['user'], columns=columns)\n",
    "users = pd.merge(users, admins, on='user', how='left').set_index('user')\n",
    "users['admin'] = users['admin_ascension'].notna()"
   ]
  },
  {
   "cell_type": "code",
   "execution_count": 4,
   "metadata": {},
   "outputs": [
    {
     "name": "stdout",
     "output_type": "stream",
     "text": [
      "112452\n",
      "248259\n"
     ]
    }
   ],
   "source": [
    "df = pd.merge(posts, users, left_on='user', right_index=True)\n",
    "print(len(df[df.admin]))\n",
    "print(len(df[~df.admin]))"
   ]
  },
  {
   "cell_type": "code",
   "execution_count": 5,
   "metadata": {},
   "outputs": [
    {
     "name": "stderr",
     "output_type": "stream",
     "text": [
      "100%|██████████| 360711/360711 [13:41<00:00, 439.04it/s]\n"
     ]
    }
   ],
   "source": [
    "pos = df.tokens.progress_apply(nltk.pos_tag)\n",
    "df['pos'] = pos.apply(lambda pos_list: list(map(lambda t: t[1], pos_list)))"
   ]
  },
  {
   "cell_type": "code",
   "execution_count": 8,
   "metadata": {},
   "outputs": [
    {
     "name": "stderr",
     "output_type": "stream",
     "text": [
      "100%|██████████| 360711/360711 [00:15<00:00, 23666.97it/s]\n"
     ]
    }
   ],
   "source": [
    "from collections import Counter\n",
    "def get_ngrams(n, tokens):\n",
    "    return zip(*(tokens[i:] for i in range(n)))\n",
    "\n",
    "pos_trigrams = df.pos.progress_apply(lambda x: Counter(list(get_ngrams(3, x))))\n",
    "df['pos_trigrams'] = pos_trigrams"
   ]
  },
  {
   "cell_type": "code",
   "execution_count": 23,
   "metadata": {},
   "outputs": [
    {
     "name": "stderr",
     "output_type": "stream",
     "text": [
      "100%|██████████| 360711/360711 [17:47<00:00, 337.75it/s]\n"
     ]
    }
   ],
   "source": [
    "trigram_counts = Counter()\n",
    "for c in tqdm(df.pos_trigrams):\n",
    "    trigram_counts += c"
   ]
  },
  {
   "cell_type": "code",
   "execution_count": 24,
   "metadata": {},
   "outputs": [
    {
     "name": "stderr",
     "output_type": "stream",
     "text": [
      "100%|██████████| 112452/112452 [03:19<00:00, 562.58it/s]\n"
     ]
    }
   ],
   "source": [
    "trigram_counts_admin = Counter()\n",
    "for c in tqdm(df[df.admin].pos_trigrams):\n",
    "    trigram_counts_admin += c"
   ]
  },
  {
   "cell_type": "code",
   "execution_count": 25,
   "metadata": {},
   "outputs": [],
   "source": [
    "import math\n",
    "\n",
    "def KLD(P, Q):\n",
    "    return {i: P[i] * math.log(P[i] / Q[i], 2) if i in P else 0 for i in Q}"
   ]
  },
  {
   "cell_type": "code",
   "execution_count": 26,
   "metadata": {},
   "outputs": [],
   "source": [
    "def count_to_freq(counter):\n",
    "    total = sum(counter.values())\n",
    "    return {i: counter[i]/total for i in counter}\n",
    "\n",
    "trigram_freq = count_to_freq(trigram_counts)\n",
    "trigram_freq_admin = count_to_freq(trigram_counts_admin)"
   ]
  },
  {
   "cell_type": "code",
   "execution_count": 27,
   "metadata": {},
   "outputs": [],
   "source": [
    "admin_diverg = KLD(trigram_freq_admin, trigram_freq)"
   ]
  },
  {
   "cell_type": "code",
   "execution_count": 42,
   "metadata": {},
   "outputs": [],
   "source": [
    "pos_admin_diverg = {k:v for (k,v) in admin_diverg.items() if v >= 0}\n",
    "neg_admin_diverg = {k:v for (k,v) in admin_diverg.items() if v < 0}\n",
    "\n",
    "top_pos = sorted(pos_admin_diverg.items(), key=lambda x: x[1], reverse=True)[:20]\n",
    "top_neg = sorted(neg_admin_diverg.items(), key=lambda x: x[1], reverse=False)[:20]"
   ]
  },
  {
   "cell_type": "code",
   "execution_count": 58,
   "metadata": {},
   "outputs": [
    {
     "data": {
      "text/plain": [
       "[(('NNP', 'NNP', ':'), 0.0010285035822041127),\n",
       " (('NNP', ':', 'NNP'), 0.0009084737661793094),\n",
       " (('PRP', 'MD', 'VB'), 0.0006989988217194979),\n",
       " ((':', 'NNP', 'NNP'), 0.0006894492687301764),\n",
       " (('IN', 'PRP', 'VBP'), 0.0005741059322565479),\n",
       " (('JJ', 'NNP', ':'), 0.0005573336781763727),\n",
       " ((',', 'CC', 'PRP'), 0.0004951565213662961),\n",
       " (('NN', '.', ':'), 0.00047544730252520935),\n",
       " (('NN', ',', 'CC'), 0.00043464868379632993),\n",
       " (('DT', 'NN', ','), 0.0004117405408922502),\n",
       " (('JJ', 'TO', 'VB'), 0.0003487158631102547),\n",
       " (('MD', 'RB', 'VB'), 0.000343727597046823),\n",
       " (('.', ':', ')'), 0.0003398520849684353),\n",
       " (('VB', 'DT', 'NN'), 0.00033411335315110887),\n",
       " ((',', 'PRP', 'MD'), 0.0003243493511141481),\n",
       " ((\"''\", 'RB', ':'), 0.00030062116186188923),\n",
       " (('CC', \"''\", 'NN'), 0.0002957467715850177),\n",
       " (('PRP', 'VBP', 'JJ'), 0.00028854697393355396),\n",
       " (('VB', 'TO', 'VB'), 0.0002828513435158768),\n",
       " (('NN', 'TO', 'VB'), 0.00027865728932818963)]"
      ]
     },
     "execution_count": 58,
     "metadata": {},
     "output_type": "execute_result"
    }
   ],
   "source": [
    "top_pos"
   ]
  },
  {
   "cell_type": "code",
   "execution_count": 81,
   "metadata": {},
   "outputs": [
    {
     "name": "stderr",
     "output_type": "stream",
     "text": [
      "360711it [03:07, 1920.43it/s]\n"
     ]
    }
   ],
   "source": [
    "def find_sub_list(sl,l):\n",
    "    results=[]\n",
    "    sll=len(sl)\n",
    "    for ind in (i for i,e in enumerate(l) if e==sl[0]):\n",
    "        if l[ind:ind+sll]==sl:\n",
    "            results.append((ind,ind+sll-1))\n",
    "\n",
    "    return results\n",
    "\n",
    "top_pos_instances = {pos[0]: Counter() for pos in top_pos}\n",
    "top_neg_instances = {pos[0]: Counter() for pos in top_neg}\n",
    "\n",
    "for _, row in tqdm(df.iterrows()):\n",
    "    for pos_trigram, _ in top_pos:\n",
    "        if pos_trigram in row['pos_trigrams']:\n",
    "            locs = find_sub_list(list(pos_trigram), row['pos'])\n",
    "            trigrams = [tuple(row['tokens'][loc[0]:loc[1]+1]) for loc in locs]\n",
    "            top_pos_instances[pos_trigram].update(trigrams)\n",
    "            "
   ]
  },
  {
   "cell_type": "code",
   "execution_count": 99,
   "metadata": {},
   "outputs": [
    {
     "name": "stderr",
     "output_type": "stream",
     "text": [
      "360711it [02:38, 2273.93it/s]\n"
     ]
    }
   ],
   "source": [
    "for _, row in tqdm(df.iterrows()):\n",
    "    for pos_trigram, _ in top_neg:\n",
    "        if pos_trigram in row['pos_trigrams']:\n",
    "            locs = find_sub_list(list(pos_trigram), row['pos'])\n",
    "            trigrams = [tuple(row['tokens'][loc[0]:loc[1]+1]) for loc in locs]\n",
    "            top_neg_instances[pos_trigram].update(trigrams)"
   ]
  },
  {
   "cell_type": "code",
   "execution_count": 73,
   "metadata": {},
   "outputs": [
    {
     "data": {
      "text/plain": [
       "[(('NNP', 'NNP', ':'), 0.0010285035822041127),\n",
       " (('NNP', ':', 'NNP'), 0.0009084737661793094),\n",
       " (('PRP', 'MD', 'VB'), 0.0006989988217194979),\n",
       " ((':', 'NNP', 'NNP'), 0.0006894492687301764),\n",
       " (('IN', 'PRP', 'VBP'), 0.0005741059322565479),\n",
       " (('JJ', 'NNP', ':'), 0.0005573336781763727),\n",
       " ((',', 'CC', 'PRP'), 0.0004951565213662961),\n",
       " (('NN', '.', ':'), 0.00047544730252520935),\n",
       " (('NN', ',', 'CC'), 0.00043464868379632993),\n",
       " (('DT', 'NN', ','), 0.0004117405408922502),\n",
       " (('JJ', 'TO', 'VB'), 0.0003487158631102547),\n",
       " (('MD', 'RB', 'VB'), 0.000343727597046823),\n",
       " (('.', ':', ')'), 0.0003398520849684353),\n",
       " (('VB', 'DT', 'NN'), 0.00033411335315110887),\n",
       " ((',', 'PRP', 'MD'), 0.0003243493511141481),\n",
       " ((\"''\", 'RB', ':'), 0.00030062116186188923),\n",
       " (('CC', \"''\", 'NN'), 0.0002957467715850177),\n",
       " (('PRP', 'VBP', 'JJ'), 0.00028854697393355396),\n",
       " (('VB', 'TO', 'VB'), 0.0002828513435158768),\n",
       " (('NN', 'TO', 'VB'), 0.00027865728932818963)]"
      ]
     },
     "execution_count": 73,
     "metadata": {},
     "output_type": "execute_result"
    }
   ],
   "source": [
    "top_pos"
   ]
  },
  {
   "cell_type": "code",
   "execution_count": 100,
   "metadata": {},
   "outputs": [
    {
     "data": {
      "text/plain": [
       "[(('NNP', 'NNP', 'NNP'), -0.001651809956463843),\n",
       " (('IN', 'DT', 'NNP'), -0.0005821594907861032),\n",
       " (('NN', 'IN', 'DT'), -0.0004659622837395458),\n",
       " (('DT', 'NNP', 'NNP'), -0.00045851082751109694),\n",
       " (('NNP', 'NNP', 'NN'), -0.0002932459541662096),\n",
       " (('NN', 'NN', 'NN'), -0.00028608374835630983),\n",
       " (('NN', 'IN', 'NNP'), -0.0002794303547490264),\n",
       " (('NNP', ',', 'NNP'), -0.00026695039716942426),\n",
       " (('DT', 'NNP', 'NN'), -0.0002532779692771846),\n",
       " (('NNP', 'IN', 'NNP'), -0.0002467470943616104),\n",
       " (('JJ', 'NN', 'IN'), -0.0002387135910615494),\n",
       " (('NNP', 'NNP', \"''\"), -0.00023710546938931676),\n",
       " (('DT', 'NN', 'IN'), -0.00021990033574099366),\n",
       " (('.', 'PRP', 'VBD'), -0.00021257057184801778),\n",
       " (('NN', 'NNP', 'NN'), -0.00021240816268725449),\n",
       " (('NN', \"''\", 'NN'), -0.00020503006122331288),\n",
       " (('NNP', 'NN', 'NN'), -0.00019832488982324953),\n",
       " (('MD', 'PRP', 'VB'), -0.00019395014865393237),\n",
       " (('NN', '.', 'PRP'), -0.00018226224980441553),\n",
       " (('NN', 'CC', 'NN'), -0.00017531880811265206)]"
      ]
     },
     "execution_count": 100,
     "metadata": {},
     "output_type": "execute_result"
    }
   ],
   "source": [
    "top_neg"
   ]
  },
  {
   "cell_type": "code",
   "execution_count": 96,
   "metadata": {},
   "outputs": [
    {
     "name": "stdout",
     "output_type": "stream",
     "text": [
      "('NNP', 'NNP', ':') KLD: 0.0010285035822041127\n",
      "('[', 'WP', ':')\t0.29529434799634513\n",
      "('[', 'User', ':')\t0.23066505678109908\n",
      "('[', 'Wikipedia', ':')\t0.21852564939302963\n",
      "('[', 'Special', ':')\t0.03468868293956402\n",
      "(']', ']', '-')\t0.02116238089022321\n",
      "\n",
      "('NNP', ':', 'NNP') KLD: 0.0009084737661793094\n",
      "('Wikipedia', ':', 'Criteria')\t0.012962256957682043\n",
      "('WP', ':', 'CSD')\t0.00998163102623644\n",
      "('WP', ':', 'RS')\t0.00965237583613489\n",
      "('Wikipedia', ':', 'Media')\t0.009513742071881607\n",
      "('WP', ':', 'V')\t0.0085952933837036\n",
      "\n",
      "('PRP', 'MD', 'VB') KLD: 0.0006989988217194979\n",
      "('it', 'would', 'be')\t0.02475512602847068\n",
      "('I', \"'d\", 'like')\t0.01418310043097819\n",
      "('I', 'would', 'like')\t0.012948935614470419\n",
      "('it', 'should', 'be')\t0.012831396108136345\n",
      "('I', \"'ll\", 'be')\t0.011864960167167298\n",
      "\n",
      "(':', 'NNP', 'NNP') KLD: 0.0006894492687301764\n",
      "(':', 'RS', ']')\t0.008929514952974744\n",
      "(':', 'V', ']')\t0.007397231321990912\n",
      "(':', 'Monotype', 'Corsiva')\t0.007256331677762514\n",
      "(':', 'BLP', ']')\t0.007168269400119765\n",
      "(':', 'Consensus|consensus', ']')\t0.006270034168163725\n",
      "\n",
      "('IN', 'PRP', 'VBP') KLD: 0.0005741059322565479\n",
      "('If', 'you', 'have')\t0.03899276058935473\n",
      "('if', 'you', 'have')\t0.02337603735457417\n",
      "('that', 'you', 'have')\t0.021325851955033254\n",
      "('that', 'you', 'are')\t0.019099095564144318\n",
      "('if', 'you', 'want')\t0.01873614408192894\n",
      "\n",
      "('JJ', 'NNP', ':') KLD: 0.0005573336781763727\n",
      "('[', 'Wikipedia', ':')\t0.49396788418337634\n",
      "('[', 'WP', ':')\t0.3343872202346285\n",
      "('[', 'User', ':')\t0.0856144437973209\n",
      "('[', 'Template', ':')\t0.02283883850569931\n",
      "(']', ']', '--')\t0.0060321158166236795\n",
      "\n",
      "(',', 'CC', 'PRP') KLD: 0.0004951565213662961\n",
      "(',', 'but', 'I')\t0.36108560568853965\n",
      "(',', 'and', 'I')\t0.24470970083918772\n",
      "(',', 'but', 'it')\t0.12160748222331362\n",
      "(',', 'and', 'it')\t0.07006043005701351\n",
      "(',', 'but', 'you')\t0.043923896564241637\n",
      "\n",
      "('NN', '.', ':') KLD: 0.00047544730252520935\n",
      "('<', '!', '--')\t0.10192082846166695\n",
      "(']', '.', '--')\t0.02528812426925004\n",
      "('page', '.', '--')\t0.024352764322699182\n",
      "('article', '.', '--')\t0.020911975947887088\n",
      "('time', '.', '--')\t0.009787873726407216\n",
      "\n",
      "('NN', ',', 'CC') KLD: 0.00043464868379632993\n",
      "('article', ',', 'and')\t0.024530271398747392\n",
      "('page', ',', 'and')\t0.02417611094542201\n",
      "('article', ',', 'but')\t0.019758425290784372\n",
      "('page', ',', 'but')\t0.01727930211750671\n",
      "(']', ',', 'and')\t0.010568893528183717\n",
      "\n",
      "('DT', 'NN', ',') KLD: 0.0004117405408922502\n",
      "('the', 'article', ',')\t0.05791618160651921\n",
      "('the', 'way', ',')\t0.03250413577599412\n",
      "('the', 'page', ',')\t0.015195147356166902\n",
      "('any', 'case', ',')\t0.012759634826297408\n",
      "('this', 'case', ',')\t0.011120642117517308\n",
      "\n",
      "('JJ', 'TO', 'VB') KLD: 0.0003487158631102547\n",
      "('likely', 'to', 'be')\t0.012624096090207133\n",
      "('free', 'to', 'ask')\t0.0108836867263145\n",
      "('able', 'to', 'help')\t0.00980512317685991\n",
      "('able', 'to', 'find')\t0.00963353352126486\n",
      "('happy', 'to', 'help')\t0.008211790660620173\n",
      "\n",
      "('MD', 'RB', 'VB') KLD: 0.000343727597046823\n",
      "('should', 'not', 'be')\t0.021886564964750405\n",
      "('wo', \"n't\", 'be')\t0.018889093557948322\n",
      "('should', \"n't\", 'be')\t0.018068556692399148\n",
      "('ca', \"n't\", 'be')\t0.018051811042081818\n",
      "('can', 'not', 'be')\t0.01632700905939682\n",
      "\n",
      "('.', ':', ')') KLD: 0.0003398520849684353\n",
      "('.', ':', ')')\t0.641769093392163\n",
      "('!', ':', ')')\t0.1687152011765942\n",
      "('.', ';', ')')\t0.08519802500262633\n",
      "('?', ':', ')')\t0.05956508036558462\n",
      "('!', ';', ')')\t0.025107679378085935\n",
      "\n",
      "('VB', 'DT', 'NN') KLD: 0.00033411335315110887\n",
      "('take', 'a', 'look')\t0.02593648798878631\n",
      "('have', 'a', 'look')\t0.010498332447194161\n",
      "('keep', 'an', 'eye')\t0.0077335782299772825\n",
      "('find', 'a', 'list')\t0.00668954516893035\n",
      "('improve', 'the', 'article')\t0.005829184590845376\n",
      "\n",
      "(',', 'PRP', 'MD') KLD: 0.0003243493511141481\n",
      "(',', 'I', \"'ll\")\t0.1237521976220984\n",
      "(',', 'I', 'would')\t0.09359635269227332\n",
      "(',', 'I', \"'d\")\t0.07830984236717423\n",
      "(',', 'I', 'will')\t0.06963854703656247\n",
      "(',', 'you', 'can')\t0.06650972913376442\n",
      "\n",
      "(\"''\", 'RB', ':') KLD: 0.00030062116186188923\n",
      "(\"''\", 'font-family', ':')\t0.9863368669022379\n",
      "(\"''\", 'here', ';')\t0.0007067137809187279\n",
      "(\"''\", 'here', ':')\t0.0007067137809187279\n",
      "(\"''\", 'too', ':')\t0.0007067137809187279\n",
      "(\"''\", 'too', '...')\t0.0004711425206124853\n",
      "\n",
      "('CC', \"''\", 'NN') KLD: 0.0002957467715850177\n",
      "('\\\\', \"''\", '>')\t0.8183411214953271\n",
      "('\\\\', \"''\", '|')\t0.14544392523364486\n",
      "('\\\\', \"''\", 'size=\\\\')\t0.00720404984423676\n",
      "('\\\\', \"''\", 'color=\\\\')\t0.004283489096573208\n",
      "('\\\\', \"''\", 'class=\\\\')\t0.0025311526479750777\n",
      "\n",
      "('PRP', 'VBP', 'JJ') KLD: 0.00028854697393355396\n",
      "('I', \"'m\", 'sure')\t0.05660793491312765\n",
      "('I', \"'m\", 'sorry')\t0.04322787757002475\n",
      "('You', \"'re\", 'welcome')\t0.03722400568529909\n",
      "('I', \"'m\", 'glad')\t0.030656505011395104\n",
      "('I', \"'m\", 'afraid')\t0.02815693385938687\n",
      "\n",
      "('VB', 'TO', 'VB') KLD: 0.0002828513435158768\n",
      "('need', 'to', 'be')\t0.02360884972703764\n",
      "('seem', 'to', 'be')\t0.018604539795038788\n",
      "('have', 'to', 'be')\t0.01831721099511541\n",
      "('like', 'to', 'see')\t0.014486160329470357\n",
      "('like', 'to', 'know')\t0.013193180729815152\n",
      "\n",
      "('NN', 'TO', 'VB') KLD: 0.00027865728932818963\n",
      "('nothing', 'to', 'do')\t0.013842039953160775\n",
      "('thing', 'to', 'do')\t0.007515248964468602\n",
      "('article', 'to', 'address')\t0.0070608385619658496\n",
      "('way', 'to', 'go')\t0.006117063110613979\n",
      "('time', 'to', 'do')\t0.00531310624464757\n",
      "\n"
     ]
    }
   ],
   "source": [
    "for pos, kld in top_pos:\n",
    "    print(pos, 'KLD:', kld)\n",
    "    top_inst = count_to_freq(top_pos_instances[pos]) \n",
    "    top_inst = sorted(top_inst.items(), key=lambda x: x[1], reverse=True)[:5] # display top 5\n",
    "    for inst, freq in top_inst:\n",
    "        print('{}\\t{}'.format(inst, freq))\n",
    "    print()"
   ]
  },
  {
   "cell_type": "code",
   "execution_count": 101,
   "metadata": {},
   "outputs": [
    {
     "name": "stdout",
     "output_type": "stream",
     "text": [
      "('NNP', 'NNP', 'NNP') KLD: -0.001651809956463843\n",
      "('[', '[', 'WP')\t0.04444797981489545\n",
      "('[', '[', 'Wikipedia')\t0.040635361891683694\n",
      "('[', '[', 'User')\t0.039535675609293185\n",
      "('<', '\\\\/font', '>')\t0.01489042212323185\n",
      "(']', ']', '<')\t0.01206584720501055\n",
      "\n",
      "('IN', 'DT', 'NNP') KLD: -0.0005821594907861032\n",
      "('on', 'the', '[')\t0.03540337559557458\n",
      "('at', 'the', '[')\t0.02595493822175563\n",
      "('of', 'the', '[')\t0.02429136719696358\n",
      "('in', 'the', '[')\t0.02212710974723411\n",
      "('for', 'the', '[')\t0.008269401598966325\n",
      "\n",
      "('NN', 'IN', 'DT') KLD: -0.0004659622837395458\n",
      "('part', 'of', 'the')\t0.012635285289618749\n",
      "('look', 'at', 'the')\t0.01004935207365292\n",
      "('top', 'of', 'the')\t0.0051487777425033915\n",
      "('article', 'on', 'the')\t0.00501601777829086\n",
      "('end', 'of', 'the')\t0.004733181332794597\n",
      "\n",
      "('DT', 'NNP', 'NNP') KLD: -0.00045851082751109694\n",
      "('the', '[', '[')\t0.38940068315909326\n",
      "('The', '[', '[')\t0.006883345409377911\n",
      "('the', 'Arbitration', 'Committee')\t0.0043991305247903945\n",
      "('the', 'United', 'Kingdom')\t0.0040886036642169546\n",
      "('the', 'Main', 'Page')\t0.003985094710692475\n",
      "\n",
      "('NNP', 'NNP', 'NN') KLD: -0.0002932459541662096\n",
      "('[', 'User', 'talk')\t0.11163653222067686\n",
      "('[', '[', 'Talk')\t0.0649420491423273\n",
      "(']', ']', 'article')\t0.05702364394993046\n",
      "('>', ']', ']')\t0.03310152990264256\n",
      "('[', 'Wikipedia', 'talk')\t0.02813166434863236\n",
      "\n",
      "('NN', 'NN', 'NN') KLD: -0.00028608374835630983\n",
      "('talk', 'page', ']')\t0.03269444102058425\n",
      "('<', 'b', '>')\t0.030907185997781337\n",
      "('article', 'talk', 'page')\t0.02881178355725379\n",
      "('<', 'span', 'style=\\\\')\t0.021354616048317517\n",
      "('page', ']', ']')\t0.01913595464070011\n",
      "\n",
      "('NN', 'IN', 'NNP') KLD: -0.0002794303547490264\n",
      "('look', 'at', '[')\t0.01563256553918517\n",
      "('discussion', 'at', '[')\t0.013142422355952133\n",
      "('violation', 'of', '[')\t0.0041675312997164005\n",
      "('conformance', 'with', 'Wikipedia')\t0.00349311752092412\n",
      "('note', 'on', '[')\t0.0029051670471052084\n",
      "\n",
      "('NNP', ',', 'NNP') KLD: -0.00026695039716942426\n",
      "(']', ',', '[')\t0.20795875198307773\n",
      "('>', ',', '[')\t0.006830601092896175\n",
      "(']', ',', '\\\\')\t0.004847523356248899\n",
      "('Best', ',', '<')\t0.00273224043715847\n",
      "('Regards', ',', '<')\t0.002688172043010753\n",
      "\n",
      "('DT', 'NNP', 'NN') KLD: -0.0002532779692771846\n",
      "('any', 'Wikipedia', 'page')\t0.0149583600256246\n",
      "('the', 'Talk', 'page')\t0.009993593850096093\n",
      "('a', 'Wikipedia', 'article')\t0.006310057655349135\n",
      "('the', 'Wikipedia', 'article')\t0.005509288917360666\n",
      "('the', 'GA', 'review')\t0.005188981422165279\n",
      "\n",
      "('NNP', 'IN', 'NNP') KLD: -0.0002467470943616104\n",
      "('Manual', 'of', 'Style')\t0.021220299518442082\n",
      "('Register', 'of', 'Historic')\t0.008308197068317723\n",
      "(']', 'of', '[')\t0.006773561941048844\n",
      "(']', 'for', '[')\t0.005186008361115521\n",
      "(']', 'on', '[')\t0.004921416097793301\n",
      "\n",
      "('JJ', 'NN', 'IN') KLD: -0.0002387135910615494\n",
      "('Good', 'luck', 'with')\t0.004304936615757366\n",
      "(']', ']', 'from')\t0.0033530913338813656\n",
      "('large', 'number', 'of')\t0.0032881927919352744\n",
      "('[', 'List', 'of')\t0.002704105914420456\n",
      "('vast', 'majority', 'of')\t0.0024661445939514557\n",
      "\n",
      "('NNP', 'NNP', \"''\") KLD: -0.00023710546938931676\n",
      "(']', ']', \"''\")\t0.10651299504950495\n",
      "(']', '\\\\', \"''\")\t0.0812964108910891\n",
      "('New', 'Roman\\\\', \"''\")\t0.043007425742574254\n",
      "('Kristen', 'ITC\\\\', \"''\")\t0.020652846534653466\n",
      "('Lucida', 'Calligraphy\\\\', \"''\")\t0.01593440594059406\n",
      "\n",
      "('DT', 'NN', 'IN') KLD: -0.00021990033574099366\n",
      "('a', 'lot', 'of')\t0.024701440645140214\n",
      "('a', 'look', 'at')\t0.017985896891435933\n",
      "('a', 'couple', 'of')\t0.01204504407804778\n",
      "('the', 'fact', 'that')\t0.009963645527559864\n",
      "('a', 'list', 'of')\t0.008092253557278129\n",
      "\n",
      "('.', 'PRP', 'VBD') KLD: -0.00021257057184801778\n",
      "('.', 'I', 'was')\t0.142363925665736\n",
      "('.', 'I', 'did')\t0.08238013750037528\n",
      "('.', 'It', 'was')\t0.06502747005313879\n",
      "('.', 'I', 'had')\t0.04347173436608724\n",
      "('.', 'I', 'thought')\t0.03275391035455883\n",
      "\n",
      "('NN', 'NNP', 'NN') KLD: -0.00021240816268725449\n",
      "(']', '[', 'http')\t0.050239952009598084\n",
      "('%', 'D0', '%')\t0.03794241151769646\n",
      "('>', '<', 'font')\t0.03719256148770246\n",
      "('%', 'C3', '%')\t0.03621775644871026\n",
      "('>', '<', 'sup')\t0.01912117576484703\n",
      "\n",
      "('NN', \"''\", 'NN') KLD: -0.00020503006122331288\n",
      "('style=\\\\', \"''\", 'color')\t0.04514328725376806\n",
      "('style=\\\\', \"''\", 'border:1px')\t0.039488902351710084\n",
      "('color=\\\\', \"''\", 'green\\\\')\t0.03284316425253805\n",
      "('style=\\\\', \"''\", 'background')\t0.022599181215692755\n",
      "('|style=\\\\', \"''\", 'vertical-align')\t0.021350810523030603\n",
      "\n",
      "('NNP', 'NN', 'NN') KLD: -0.00019832488982324953\n",
      "('<', 'sup', '>')\t0.04076211881289268\n",
      "('<', 'span', 'style=\\\\')\t0.03258926291055831\n",
      "('<', 'font', 'color=\\\\')\t0.030699289983143484\n",
      "('<', 'br', '>')\t0.012361444552280738\n",
      "('<', 'font', 'face=\\\\')\t0.009449864637074118\n",
      "\n",
      "('MD', 'PRP', 'VB') KLD: -0.00019395014865393237\n",
      "('Can', 'you', 'please')\t0.03775673348911573\n",
      "('could', 'you', 'please')\t0.035727462796703975\n",
      "('Would', 'you', 'be')\t0.030623539540031976\n",
      "('Would', 'you', 'mind')\t0.03013159512975034\n",
      "('would', 'you', 'mind')\t0.020292706924117575\n",
      "\n",
      "('NN', '.', 'PRP') KLD: -0.00018226224980441553\n",
      "('article', '.', 'I')\t0.03411523301988456\n",
      "('page', '.', 'I')\t0.031930440944184464\n",
      "(']', '.', 'I')\t0.013610664147266796\n",
      "('time', '.', 'I')\t0.010850149835402488\n",
      "('problem', '.', 'I')\t0.008709644085561182\n",
      "\n",
      "('NN', 'CC', 'NN') KLD: -0.00017531880811265206\n",
      "('sa=X', '&', 'oi=book_result')\t0.003466277767209858\n",
      "('oi=book_result', '&', 'ct=result')\t0.0033394627269460824\n",
      "('deletion', 'or', '\\\\')\t0.002747659205715131\n",
      "('copy', 'and', 'paste')\t0.0026842516855832433\n",
      "('time', 'and', 'effort')\t0.0026842516855832433\n",
      "\n"
     ]
    }
   ],
   "source": [
    "for pos, kld in top_neg:\n",
    "    print(pos, 'KLD:', kld)\n",
    "    top_inst = count_to_freq(top_neg_instances[pos]) \n",
    "    top_inst = sorted(top_inst.items(), key=lambda x: x[1], reverse=True)[:5] # display top 5\n",
    "    for inst, freq in top_inst:\n",
    "        print('{}\\t{}'.format(inst, freq))\n",
    "    print()"
   ]
  },
  {
   "cell_type": "code",
   "execution_count": null,
   "metadata": {},
   "outputs": [],
   "source": []
  }
 ],
 "metadata": {
  "kernelspec": {
   "display_name": "lasn-env",
   "language": "python",
   "name": "lasn-env"
  },
  "language_info": {
   "codemirror_mode": {
    "name": "ipython",
    "version": 3
   },
   "file_extension": ".py",
   "mimetype": "text/x-python",
   "name": "python",
   "nbconvert_exporter": "python",
   "pygments_lexer": "ipython3",
   "version": "3.7.0"
  }
 },
 "nbformat": 4,
 "nbformat_minor": 2
}
