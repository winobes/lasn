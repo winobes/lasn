{
 "cells": [
  {
   "cell_type": "code",
   "execution_count": 1,
   "metadata": {},
   "outputs": [
    {
     "data": {
      "application/vnd.jupyter.widget-view+json": {
       "model_id": "7cb36e21e6d04ec5a8f5076194e64f6e",
       "version_major": 2,
       "version_minor": 0
      },
      "text/plain": [
       "HBox(children=(IntProgress(value=1, bar_style='info', max=1), HTML(value='')))"
      ]
     },
     "metadata": {},
     "output_type": "display_data"
    },
    {
     "name": "stdout",
     "output_type": "stream",
     "text": [
      "\n"
     ]
    }
   ],
   "source": [
    "from data import wiki\n",
    "from data import corpus\n",
    "import alignment\n",
    "\n",
    "import nltk\n",
    "import pandas as pd\n",
    "import pickle\n",
    "from tqdm import tqdm_notebook as tqdm\n",
    "\n",
    "tqdm().pandas()\n",
    "\n",
    "posts = wiki.load_posts()\n",
    "pairs = corpus.get_reply_pairs(posts)\n",
    "users = wiki.load_users(posts=posts)\n",
    "network = wiki.load_network(reply_pairs=pairs, recreate=False)"
   ]
  },
  {
   "cell_type": "code",
   "execution_count": 2,
   "metadata": {
    "scrolled": true
   },
   "outputs": [],
   "source": [
    "# Run post annotations for `recreate=True` in `load_posts`\n",
    "# posts = corpus.tokenize_posts(posts)\n",
    "# posts = corpus.pos_tag_posts(posts)\n",
    "# markers = alignment.load_markers()\n",
    "# posts = corpus.detect_markers(posts, markers)\n",
    "# wiki.save_posts(posts, overwrite=True)\n",
    "\n",
    "# wiki.save_network(posts, overwrite=False)\n",
    "\n",
    "# users = corpus.compute_centrality(users, network, log_normalize=True)\n",
    "# wiki.save_users(users, overwrite=True)"
   ]
  },
  {
   "cell_type": "code",
   "execution_count": 3,
   "metadata": {},
   "outputs": [],
   "source": [
    "df = pd.merge(posts, users, left_on='user', right_index=True)"
   ]
  },
  {
   "cell_type": "code",
   "execution_count": 4,
   "metadata": {},
   "outputs": [
    {
     "data": {
      "text/plain": [
       "False    29007\n",
       "True      1893\n",
       "Name: highly_central, dtype: int64"
      ]
     },
     "execution_count": 4,
     "metadata": {},
     "output_type": "execute_result"
    }
   ],
   "source": [
    "# define highly-central users as users having centrality \n",
    "# one stddev above the mean (for log-noramlized centrality)\n",
    "\n",
    "threshold = users.centrality.mean() + users.centrality.std()\n",
    "users['highly_central'] = (users['centrality'] > threshold)\n",
    "df['highly_central'] = (df['centrality'] > threshold)\n",
    "users.highly_central.value_counts()"
   ]
  },
  {
   "cell_type": "code",
   "execution_count": 5,
   "metadata": {},
   "outputs": [
    {
     "data": {
      "text/plain": [
       "False    29007\n",
       "True      1893\n",
       "Name: highly_central, dtype: int64"
      ]
     },
     "execution_count": 5,
     "metadata": {},
     "output_type": "execute_result"
    }
   ],
   "source": [
    "users.highly_central.value_counts()"
   ]
  },
  {
   "cell_type": "code",
   "execution_count": 6,
   "metadata": {},
   "outputs": [
    {
     "name": "stdout",
     "output_type": "stream",
     "text": [
      "Total users: 30900\n",
      "Admin pop: 1812 (%5.86)\n",
      "Central pop: 1893 (%6.13)\n",
      "Overlap: 588 users\n",
      "\n",
      "Total posts: 376923\n",
      "Admin posts: 115783 (%30.72)\n",
      "Central posts: 178078 (%47.25)\n",
      "Overlap: 83849 users\n"
     ]
    }
   ],
   "source": [
    "admin_pop = len(users[users.admin == True])\n",
    "admin_posts = len(df[df.admin == True])\n",
    "central_pop = len(users[users.highly_central == True])\n",
    "central_posts = len(df[df.highly_central == True])\n",
    "\n",
    "print(\"Total users: {}\".format(len(users)))\n",
    "print(\"Admin pop: {} (%{:04.2f})\".format(admin_pop, 100 * (admin_pop / len(users))))\n",
    "print(\"Central pop: {} (%{:04.2f})\".format(central_pop, 100 * (central_pop / len(users))))\n",
    "print(\"Overlap: {} users\".format(len(users[(users.admin == True) & (users.highly_central==True)])))\n",
    "print()\n",
    "print(\"Total posts: {}\".format(len(df)))\n",
    "print(\"Admin posts: {} (%{:04.2f})\".format(admin_posts, 100 * (admin_posts / len(df))))\n",
    "print(\"Central posts: {} (%{:04.2f})\".format(central_posts, 100 * (central_posts / len(df))))\n",
    "print(\"Overlap: {} users\".format(len(df[(df.admin == True) & (df.highly_central==True)])))\n"
   ]
  },
  {
   "cell_type": "code",
   "execution_count": 7,
   "metadata": {},
   "outputs": [
    {
     "name": "stderr",
     "output_type": "stream",
     "text": [
      "/Users/xnobwi/.virtualenvs/lasn/lib/python3.7/site-packages/numpy/lib/histograms.py:754: RuntimeWarning: invalid value encountered in greater_equal\n",
      "  keep = (tmp_a >= first_edge)\n",
      "/Users/xnobwi/.virtualenvs/lasn/lib/python3.7/site-packages/numpy/lib/histograms.py:755: RuntimeWarning: invalid value encountered in less_equal\n",
      "  keep &= (tmp_a <= last_edge)\n"
     ]
    },
    {
     "data": {
      "text/plain": [
       "([array([   2.,    4.,    0.,    0.,    0.,    9.,   82.,  580., 1034.,\n",
       "           59.]),\n",
       "  array([2.2200e+02, 6.3000e+01, 0.0000e+00, 4.0000e+00, 3.3000e+01,\n",
       "         4.9200e+02, 5.2590e+03, 1.3889e+04, 5.2290e+03, 1.4900e+02])],\n",
       " array([0. , 0.1, 0.2, 0.3, 0.4, 0.5, 0.6, 0.7, 0.8, 0.9, 1. ]),\n",
       " <a list of 2 Lists of Patches objects>)"
      ]
     },
     "execution_count": 7,
     "metadata": {},
     "output_type": "execute_result"
    },
    {
     "data": {
      "image/png": "[encoded data removed]",
      "text/plain": [
       "<Figure size 432x288 with 1 Axes>"
      ]
     },
     "metadata": {
      "needs_background": "light"
     },
     "output_type": "display_data"
    }
   ],
   "source": [
    "%matplotlib inline\n",
    "from matplotlib import pyplot as plt\n",
    "x1 = [user.centrality for i, user in users[users.admin].iterrows()]\n",
    "x2 = [user.centrality for i, user in users[~users.admin].iterrows()]\n",
    "plt.figure()\n",
    "plt.hist([x1,x2], stacked=True)"
   ]
  },
  {
   "cell_type": "code",
   "execution_count": 8,
   "metadata": {},
   "outputs": [
    {
     "data": {
      "application/vnd.jupyter.widget-view+json": {
       "model_id": "844f2d108cc54f22abd9e14f3e6f6da0",
       "version_major": 2,
       "version_minor": 0
      },
      "text/plain": [
       "HBox(children=(IntProgress(value=0, max=376923), HTML(value='')))"
      ]
     },
     "metadata": {},
     "output_type": "display_data"
    },
    {
     "name": "stdout",
     "output_type": "stream",
     "text": [
      "\n"
     ]
    }
   ],
   "source": [
    "from collections import Counter\n",
    "def get_ngrams(n, tokens):\n",
    "    return zip(*(tokens[i:] for i in range(n)))\n",
    "\n",
    "pos_trigrams = df.pos_tags.progress_apply(lambda x: Counter(list(get_ngrams(3, x))))\n",
    "df['pos_trigrams'] = pos_trigrams"
   ]
  },
  {
   "cell_type": "code",
   "execution_count": 9,
   "metadata": {},
   "outputs": [],
   "source": [
    "# trigram_counts = Counter()\n",
    "# for c in tqdm(df.pos_trigrams):\n",
    "#     trigram_counts += c\n",
    "with open('trigram_counts.pickle', 'rb') as f:\n",
    "    trigram_counts = pickle.load(f)"
   ]
  },
  {
   "cell_type": "code",
   "execution_count": 10,
   "metadata": {},
   "outputs": [
    {
     "data": {
      "application/vnd.jupyter.widget-view+json": {
       "model_id": "e1b27088a2ae41168db098b8934fdf38",
       "version_major": 2,
       "version_minor": 0
      },
      "text/plain": [
       "HBox(children=(IntProgress(value=0, max=115783), HTML(value='')))"
      ]
     },
     "metadata": {},
     "output_type": "display_data"
    },
    {
     "name": "stdout",
     "output_type": "stream",
     "text": [
      "\n"
     ]
    }
   ],
   "source": [
    "trigram_counts_admin = Counter()\n",
    "for c in tqdm(df[df.admin == True].pos_trigrams):\n",
    "    trigram_counts_admin += c"
   ]
  },
  {
   "cell_type": "code",
   "execution_count": 11,
   "metadata": {},
   "outputs": [
    {
     "data": {
      "application/vnd.jupyter.widget-view+json": {
       "model_id": "a7c874f54a604ebc9ab9834fff7a7fe1",
       "version_major": 2,
       "version_minor": 0
      },
      "text/plain": [
       "HBox(children=(IntProgress(value=0, max=178078), HTML(value='')))"
      ]
     },
     "metadata": {},
     "output_type": "display_data"
    },
    {
     "name": "stdout",
     "output_type": "stream",
     "text": [
      "\n"
     ]
    }
   ],
   "source": [
    "trigram_counts_central = Counter()\n",
    "for c in tqdm(df[df.highly_central == True].pos_trigrams):\n",
    "    trigram_counts_central += c"
   ]
  },
  {
   "cell_type": "code",
   "execution_count": 12,
   "metadata": {},
   "outputs": [],
   "source": [
    "import math\n",
    "\n",
    "def KLD(P, Q):\n",
    "    return {i: P[i] * math.log(P[i] / Q[i], 2) if i in P else 0 for i in Q}\n",
    "\n",
    "def count_to_freq(counter):\n",
    "    total = sum(counter.values())\n",
    "    return {i: counter[i]/total for i in counter}"
   ]
  },
  {
   "cell_type": "code",
   "execution_count": 13,
   "metadata": {},
   "outputs": [],
   "source": [
    "trigram_freq = count_to_freq(trigram_counts)\n",
    "trigram_freq_admin = count_to_freq(trigram_counts_admin)\n",
    "trigram_freq_central = count_to_freq(trigram_counts_central)"
   ]
  },
  {
   "cell_type": "code",
   "execution_count": 14,
   "metadata": {},
   "outputs": [],
   "source": [
    "admin_diverg = KLD(trigram_freq_admin, trigram_freq)\n",
    "central_diverg = KLD(trigram_freq_central, trigram_freq)"
   ]
  },
  {
   "cell_type": "code",
   "execution_count": 15,
   "metadata": {},
   "outputs": [],
   "source": [
    "pos_admin_diverg = {k:v for (k,v) in admin_diverg.items() if v >= 0}\n",
    "neg_admin_diverg = {k:v for (k,v) in admin_diverg.items() if v < 0}\n",
    "\n",
    "pos_central_diverg = {k:v for (k,v) in central_diverg.items() if v >= 0}\n",
    "neg_central_diverg = {k:v for (k,v) in central_diverg.items() if v < 0}\n",
    "\n",
    "top_pos_admin = sorted(pos_admin_diverg.items(), key=lambda x: x[1], reverse=True)[:20]\n",
    "top_neg_admin = sorted(neg_admin_diverg.items(), key=lambda x: x[1], reverse=False)[:20]\n",
    "\n",
    "top_pos_central = sorted(pos_central_diverg.items(), key=lambda x: x[1], reverse=True)[:20]\n",
    "top_neg_central = sorted(neg_central_diverg.items(), key=lambda x: x[1], reverse=False)[:20]"
   ]
  },
  {
   "cell_type": "code",
   "execution_count": 16,
   "metadata": {},
   "outputs": [],
   "source": [
    "def find_sub_list(sl,l):\n",
    "    results=[]\n",
    "    sll=len(sl)\n",
    "    for ind in (i for i,e in enumerate(l) if e==sl[0]):\n",
    "        if l[ind:ind+sll]==sl:\n",
    "            results.append((ind,ind+sll-1))\n",
    "    return results\n",
    "\n",
    "def get_top_instances(top, ngram_row='pos_trigrams'):\n",
    "    top_instances = {pos[0]: Counter() for pos in top}\n",
    "    for _, row in tqdm(df.iterrows(), total=len(df)):\n",
    "        for pos_ngram, _ in top:\n",
    "            if pos_ngram in row[ngram_row]:\n",
    "                locs = find_sub_list(list(pos_ngram), row['pos_tags'])\n",
    "                ngrams = [tuple(row['tokens'][loc[0]:loc[1]+1]) for loc in locs]\n",
    "                top_instances[pos_ngram].update(ngrams)\n",
    "    return top_instances"
   ]
  },
  {
   "cell_type": "code",
   "execution_count": 17,
   "metadata": {},
   "outputs": [
    {
     "data": {
      "application/vnd.jupyter.widget-view+json": {
       "model_id": "1bbebc444e874dd6945ce175cd765eef",
       "version_major": 2,
       "version_minor": 0
      },
      "text/plain": [
       "HBox(children=(IntProgress(value=0, max=376923), HTML(value='')))"
      ]
     },
     "metadata": {},
     "output_type": "display_data"
    },
    {
     "name": "stdout",
     "output_type": "stream",
     "text": [
      "\n"
     ]
    },
    {
     "data": {
      "application/vnd.jupyter.widget-view+json": {
       "model_id": "503090016d3f410faa469eb109dfff15",
       "version_major": 2,
       "version_minor": 0
      },
      "text/plain": [
       "HBox(children=(IntProgress(value=0, max=376923), HTML(value='')))"
      ]
     },
     "metadata": {},
     "output_type": "display_data"
    },
    {
     "name": "stdout",
     "output_type": "stream",
     "text": [
      "\n"
     ]
    },
    {
     "data": {
      "application/vnd.jupyter.widget-view+json": {
       "model_id": "12ee5b38e81343d3a26ee421f2b087f0",
       "version_major": 2,
       "version_minor": 0
      },
      "text/plain": [
       "HBox(children=(IntProgress(value=0, max=376923), HTML(value='')))"
      ]
     },
     "metadata": {},
     "output_type": "display_data"
    },
    {
     "name": "stdout",
     "output_type": "stream",
     "text": [
      "\n"
     ]
    },
    {
     "data": {
      "application/vnd.jupyter.widget-view+json": {
       "model_id": "e1b83a55bea5436a871bfc3a4a0fe3fb",
       "version_major": 2,
       "version_minor": 0
      },
      "text/plain": [
       "HBox(children=(IntProgress(value=0, max=376923), HTML(value='')))"
      ]
     },
     "metadata": {},
     "output_type": "display_data"
    },
    {
     "name": "stdout",
     "output_type": "stream",
     "text": [
      "\n"
     ]
    }
   ],
   "source": [
    "top_pos_instances_admin = get_top_instances(top_pos_admin)\n",
    "top_neg_instances_admin = get_top_instances(top_neg_admin)\n",
    "top_pos_instances_central = get_top_instances(top_pos_central)\n",
    "top_neg_instances_central = get_top_instances(top_neg_central)"
   ]
  },
  {
   "cell_type": "code",
   "execution_count": 18,
   "metadata": {},
   "outputs": [],
   "source": [
    "def print_top_pos(top_pos):\n",
    "    print('{:^12} {:^8}'.format('n-gram', 'KLD weight'))\n",
    "    for (pos_seq, kld) in top_pos:\n",
    "        pos_str = ('{:3} '*len(pos_seq)).format(*pos_seq)\n",
    "        print(\"{} {:.6f}\".format(pos_str, kld))"
   ]
  },
  {
   "cell_type": "code",
   "execution_count": 19,
   "metadata": {},
   "outputs": [],
   "source": [
    "def print_top_instances(top, instances, freqs, counts):\n",
    "    for pos, kld in top:\n",
    "        freq = freqs[pos]\n",
    "        count = counts[pos]\n",
    "        pos_str = ('{:3} '*len(pos)).format(*pos)\n",
    "        print(pos_str, 'KLD:', kld, 'freq:', freq, 'count:', count)\n",
    "        top_inst = count_to_freq(instances[pos]) \n",
    "        top_inst = sorted(top_inst.items(), key=lambda x: x[1], reverse=True)[:5] # display top 5\n",
    "        print('{:20} {:8}'.format('instance', 'rel. freq.'))\n",
    "        for inst, freq in top_inst:\n",
    "            print('{:20} {:.6f}'.format(' '.join(inst), freq))\n",
    "        print()"
   ]
  },
  {
   "cell_type": "code",
   "execution_count": 20,
   "metadata": {},
   "outputs": [
    {
     "name": "stdout",
     "output_type": "stream",
     "text": [
      "Admin KLD\t 0.012055585611230324\n",
      "Central KLD\t 0.0056654634165668625\n"
     ]
    }
   ],
   "source": [
    "print(\"Admin KLD\\t\", sum(admin_diverg.values()))\n",
    "print(\"Central KLD\\t\", sum(central_diverg.values()))"
   ]
  },
  {
   "cell_type": "code",
   "execution_count": 21,
   "metadata": {},
   "outputs": [
    {
     "name": "stdout",
     "output_type": "stream",
     "text": [
      "Top indicative trigrams (admins)\n",
      "   n-gram    KLD weight\n",
      "NNP NNP :    0.001072\n",
      "NNP :   NNP  0.000978\n",
      "PRP MD  VB   0.000762\n",
      ":   NNP NNP  0.000703\n",
      "JJ  NNP :    0.000561\n",
      "IN  PRP VBP  0.000557\n",
      "NN  .   :    0.000453\n",
      ",   CC  PRP  0.000435\n",
      "''  RB  :    0.000384\n",
      "DT  NN  ,    0.000382\n",
      "NN  ,   CC   0.000375\n",
      ",   PRP MD   0.000363\n",
      ".   :   ''   0.000350\n",
      "JJ  TO  VB   0.000347\n",
      "VB  DT  NN   0.000347\n",
      "MD  RB  VB   0.000336\n",
      ".   :   )    0.000332\n",
      "NN  ''  RB   0.000318\n",
      "RB  :   NNP  0.000317\n",
      "CC  ''  NN   0.000314\n",
      "\n",
      "Top indicative trigrams (highly central)\n",
      "   n-gram    KLD weight\n",
      "PRP VBP RB   0.000371\n",
      "PRP MD  VB   0.000335\n",
      "IN  PRP VBP  0.000284\n",
      "NN  .   NN   0.000243\n",
      ".   :   )    0.000242\n",
      ",   CC  PRP  0.000226\n",
      ":   NN  .    0.000224\n",
      "MD  RB  VB   0.000204\n",
      "DT  NN  ,    0.000183\n",
      "TO  VB  IN   0.000170\n",
      "NN  ,   CC   0.000166\n",
      "PRP MD  RB   0.000162\n",
      "PRP VBP JJ   0.000159\n",
      "VBP RB  VB   0.000157\n",
      "CC  PRP VBP  0.000156\n",
      "JJ  TO  VB   0.000153\n",
      ".   NN  :    0.000151\n",
      ":   PRP VBP  0.000143\n",
      "NNP :   NNP  0.000143\n",
      ":   NNP CC   0.000142\n"
     ]
    }
   ],
   "source": [
    "print(\"Top indicative trigrams (admins)\")\n",
    "print_top_pos(top_pos_admin)\n",
    "print()\n",
    "print(\"Top indicative trigrams (highly central)\")\n",
    "print_top_pos(top_pos_central)"
   ]
  },
  {
   "cell_type": "code",
   "execution_count": 22,
   "metadata": {},
   "outputs": [
    {
     "name": "stdout",
     "output_type": "stream",
     "text": [
      "NNP NNP :    KLD: 0.001072474216740806 freq: 0.002995493612019941 count: 61288\n",
      "instance             rel. freq.\n",
      "[ WP :               0.292019\n",
      "[ User :             0.233278\n",
      "[ Wikipedia :        0.213226\n",
      "[ Special :          0.041198\n",
      "] ] -                0.020660\n",
      "\n",
      "NNP :   NNP  KLD: 0.0009782339834676016 freq: 0.0028204208715445554 count: 57706\n",
      "instance             rel. freq.\n",
      "Wikipedia : Criteria 0.012604\n",
      "WP : CSD             0.010245\n",
      "Wikipedia : Media    0.009340\n",
      "WP : RS              0.009324\n",
      "WP : V               0.008306\n",
      "\n",
      "PRP MD  VB   KLD: 0.0007616047825223614 freq: 0.0074848239744278455 count: 153140\n",
      "instance             rel. freq.\n",
      "it would be          0.024598\n",
      "I 'd like            0.014189\n",
      "I would like         0.013128\n",
      "it should be         0.012740\n",
      "I 'll be             0.011889\n",
      "\n",
      ":   NNP NNP  KLD: 0.0007031816237219995 freq: 0.0027750642263292685 count: 56778\n",
      "instance             rel. freq.\n",
      ": RS ]               0.008143\n",
      ": Monotype Corsiva   0.006973\n",
      ": V ]                0.006801\n",
      ": BLP ]              0.006630\n",
      ": Consensus|consensus ] 0.005959\n",
      "\n",
      "JJ  NNP :    KLD: 0.0005613988091952885 freq: 0.0011748739630227018 count: 24038\n",
      "instance             rel. freq.\n",
      "[ Wikipedia :        0.490019\n",
      "[ WP :               0.335114\n",
      "[ User :             0.083320\n",
      "[ Template :         0.022458\n",
      "Monotype Corsiva ;   0.006160\n",
      "\n",
      "IN  PRP VBP  KLD: 0.0005573861382111462 freq: 0.004982486127733599 count: 101942\n",
      "instance             rel. freq.\n",
      "If you have          0.038286\n",
      "if you have          0.023166\n",
      "that you have        0.021291\n",
      "that you are         0.019101\n",
      "if you want          0.018776\n",
      "\n",
      "NN  .   :    KLD: 0.0004528641833238564 freq: 0.0014630939380599292 count: 29935\n",
      "instance             rel. freq.\n",
      "< ! --               0.101022\n",
      "] . --               0.024830\n",
      "page . --            0.024230\n",
      "article . --         0.020634\n",
      "time . --            0.010127\n",
      "\n",
      ",   CC  PRP  KLD: 0.00043456507259730245 freq: 0.0022888976854279117 count: 46831\n",
      "instance             rel. freq.\n",
      ", but I              0.361502\n",
      ", and I              0.243454\n",
      ", but it             0.121544\n",
      ", and it             0.070499\n",
      ", but you            0.044011\n",
      "\n",
      "''  RB  :    KLD: 0.00038382908551974957 freq: 0.00020747732644277265 count: 4245\n",
      "instance             rel. freq.\n",
      "'' font-family :     0.987297\n",
      "'' here ;            0.000595\n",
      "'' here :            0.000595\n",
      "'' too :             0.000595\n",
      "'' too ...           0.000397\n",
      "\n",
      "DT  NN  ,    KLD: 0.0003818263967537482 freq: 0.0031908008903392153 count: 65284\n",
      "instance             rel. freq.\n",
      "the article ,        0.058194\n",
      "the way ,            0.032532\n",
      "the page ,           0.015336\n",
      "any case ,           0.012780\n",
      "this case ,          0.011183\n",
      "\n",
      "NN  ,   CC   KLD: 0.00037482107282966543 freq: 0.0026220833001182253 count: 53648\n",
      "instance             rel. freq.\n",
      "article , and        0.024696\n",
      "page , and           0.024040\n",
      "article , but        0.019803\n",
      "page , but           0.017267\n",
      "] , and              0.010602\n",
      "\n",
      ",   PRP MD   KLD: 0.00036330985215090466 freq: 0.0016402194577368686 count: 33559\n",
      "instance             rel. freq.\n",
      ", I 'll              0.124018\n",
      ", I would            0.093358\n",
      ", I 'd               0.077789\n",
      ", I will             0.070131\n",
      ", you can            0.066387\n",
      "\n",
      ".   :   ''   KLD: 0.0003503647830784696 freq: 9.824014750293828e-05 count: 2010\n",
      "instance             rel. freq.\n",
      ". -- '               0.633112\n",
      ". - ''               0.113201\n",
      ". -- ''              0.087758\n",
      "? -- '               0.077802\n",
      "! -- '               0.043879\n",
      "\n",
      "JJ  TO  VB   KLD: 0.0003467438733750063 freq: 0.0019938839887474464 count: 40795\n",
      "instance             rel. freq.\n",
      "likely to be         0.012573\n",
      "free to ask          0.010923\n",
      "able to find         0.009668\n",
      "able to help         0.009575\n",
      "happy to help        0.008041\n",
      "\n",
      "VB  DT  NN   KLD: 0.00034663191396252087 freq: 0.005055946297732065 count: 103445\n",
      "instance             rel. freq.\n",
      "take a look          0.025775\n",
      "have a look          0.010421\n",
      "keep an eye          0.007782\n",
      "find a list          0.006531\n",
      "improve the article  0.005772\n",
      "\n",
      "MD  RB  VB   KLD: 0.0003359879683778217 freq: 0.002918709894742769 count: 59717\n",
      "instance             rel. freq.\n",
      "should not be        0.021844\n",
      "wo n't be            0.019183\n",
      "should n't be        0.018232\n",
      "ca n't be            0.017805\n",
      "can not be           0.016411\n",
      "\n",
      ".   :   )    KLD: 0.00033197572700654495 freq: 0.0004652477433236167 count: 9519\n",
      "instance             rel. freq.\n",
      ". : )                0.639475\n",
      "! : )                0.171011\n",
      ". ; )                0.084461\n",
      "? : )                0.060883\n",
      "! ; )                0.024572\n",
      "\n",
      "NN  ''  RB   KLD: 0.0003175727523716245 freq: 0.00031554148869600474 count: 6456\n",
      "instance             rel. freq.\n",
      "style=\\ '' font-family 0.569454\n",
      "\\ '' not             0.014772\n",
      "\\ '' font-family     0.006098\n",
      "\\ '' so              0.005556\n",
      "\\ '' well            0.004066\n",
      "\n",
      "RB  :   NNP  KLD: 0.00031744102888043966 freq: 0.00013641206551278645 count: 2791\n",
      "instance             rel. freq.\n",
      "font-family : Verdana 0.198920\n",
      "font-family : Monotype 0.127025\n",
      "font-family : Verdana\\ 0.084399\n",
      "font-family : Bradley 0.082126\n",
      "font-family : Times  0.077863\n",
      "\n",
      "CC  ''  NN   KLD: 0.0003138536324168886 freq: 0.0002510255709328811 count: 5136\n",
      "instance             rel. freq.\n",
      "\\ '' >               0.828336\n",
      "\\ '' |               0.136770\n",
      "\\ '' size=\\          0.006488\n",
      "\\ '' color=\\         0.004559\n",
      "\\ '' class=\\         0.002280\n",
      "\n"
     ]
    }
   ],
   "source": [
    "print_top_instances(top_pos_admin, top_pos_instances_admin, trigram_freq, trigram_counts)"
   ]
  },
  {
   "cell_type": "code",
   "execution_count": 23,
   "metadata": {},
   "outputs": [
    {
     "name": "stdout",
     "output_type": "stream",
     "text": [
      "PRP VBP RB   KLD: 0.0003708216474701002 freq: 0.0048782342697118244 count: 99809\n",
      "instance             rel. freq.\n",
      "I do n't             0.226265\n",
      "I 'm not             0.109136\n",
      "you do n't           0.041904\n",
      "I am not             0.036868\n",
      "I have n't           0.028742\n",
      "\n",
      "PRP MD  VB   KLD: 0.00033520128551298487 freq: 0.0074848239744278455 count: 153140\n",
      "instance             rel. freq.\n",
      "it would be          0.024598\n",
      "I 'd like            0.014189\n",
      "I would like         0.013128\n",
      "it should be         0.012740\n",
      "I 'll be             0.011889\n",
      "\n",
      "IN  PRP VBP  KLD: 0.0002840675103482427 freq: 0.004982486127733599 count: 101942\n",
      "instance             rel. freq.\n",
      "If you have          0.038286\n",
      "if you have          0.023166\n",
      "that you have        0.021291\n",
      "that you are         0.019101\n",
      "if you want          0.018776\n",
      "\n",
      "NN  .   NN   KLD: 0.0002425927313100996 freq: 0.001190660812596557 count: 24361\n",
      "instance             rel. freq.\n",
      "\\/\\/en.wikipedia.org\\/w\\/index.php ? title=User_talk 0.124597\n",
      "\\/\\/en.wikipedia.org\\/w\\/index.php ? title=Wikipedia 0.095897\n",
      "\\/\\/en.wikipedia.org\\/w\\/index.php ? title=Talk 0.057438\n",
      "\\/\\/en.wikipedia.org\\/w\\/index.php ? title=User 0.023321\n",
      "\\/\\/en.wikipedia.org\\/w\\/index.php ? title=Wikipedia_talk 0.020939\n",
      "\n",
      ".   :   )    KLD: 0.00024225455746808495 freq: 0.0004652477433236167 count: 9519\n",
      "instance             rel. freq.\n",
      ". : )                0.639475\n",
      "! : )                0.171011\n",
      ". ; )                0.084461\n",
      "? : )                0.060883\n",
      "! ; )                0.024572\n",
      "\n",
      ",   CC  PRP  KLD: 0.00022611048219855852 freq: 0.0022888976854279117 count: 46831\n",
      "instance             rel. freq.\n",
      ", but I              0.361502\n",
      ", and I              0.243454\n",
      ", but it             0.121544\n",
      ", and it             0.070499\n",
      ", but you            0.044011\n",
      "\n",
      ":   NN  .    KLD: 0.00022445344802986703 freq: 0.0010953532068101242 count: 22411\n",
      "instance             rel. freq.\n",
      ": \\/\\/en.wikipedia.org\\/w\\/index.php ? 0.765493\n",
      ": \\/\\/www.youtube.com\\/watch ? 0.020110\n",
      ": \\/\\/www.google.com\\/search ? 0.010728\n",
      ": \\/\\/secure.wikimedia.org\\/wikipedia\\/en\\/w\\/index.php ? 0.010308\n",
      ": \\/\\/commons.wikimedia.org\\/w\\/index.php ? 0.003282\n",
      "\n",
      "MD  RB  VB   KLD: 0.0002038681635369733 freq: 0.002918709894742769 count: 59717\n",
      "instance             rel. freq.\n",
      "should not be        0.021844\n",
      "wo n't be            0.019183\n",
      "should n't be        0.018232\n",
      "ca n't be            0.017805\n",
      "can not be           0.016411\n",
      "\n",
      "DT  NN  ,    KLD: 0.00018288432415666374 freq: 0.0031908008903392153 count: 65284\n",
      "instance             rel. freq.\n",
      "the article ,        0.058194\n",
      "the way ,            0.032532\n",
      "the page ,           0.015336\n",
      "any case ,           0.012780\n",
      "this case ,          0.011183\n",
      "\n",
      "TO  VB  IN   KLD: 0.00016999245044425904 freq: 0.002149601953893895 count: 43981\n",
      "instance             rel. freq.\n",
      "to do with           0.049336\n",
      "to see if            0.030425\n",
      "to work on           0.027126\n",
      "to look at           0.024733\n",
      "to say that          0.023611\n",
      "\n",
      "NN  ,   CC   KLD: 0.00016649283681147815 freq: 0.0026220833001182253 count: 53648\n",
      "instance             rel. freq.\n",
      "article , and        0.024696\n",
      "page , and           0.024040\n",
      "article , but        0.019803\n",
      "page , but           0.017267\n",
      "] , and              0.010602\n",
      "\n",
      "PRP MD  RB   KLD: 0.00016221368526307152 freq: 0.002026728455972309 count: 41467\n",
      "instance             rel. freq.\n",
      "I ca n't             0.117277\n",
      "I wo n't             0.039092\n",
      "I would n't          0.035511\n",
      "I can not            0.027985\n",
      "you ca n't           0.026959\n",
      "\n",
      "PRP VBP JJ   KLD: 0.00015938631296503734 freq: 0.0019944704970907474 count: 40807\n",
      "instance             rel. freq.\n",
      "I 'm sure            0.056217\n",
      "I 'm sorry           0.043657\n",
      "You 're welcome      0.036331\n",
      "I 'm glad            0.030586\n",
      "I 'm afraid          0.028213\n",
      "\n",
      "VBP RB  VB   KLD: 0.00015702567094720343 freq: 0.002372377372957772 count: 48539\n",
      "instance             rel. freq.\n",
      "do n't know          0.121098\n",
      "do n't think         0.109283\n",
      "do n't have          0.074655\n",
      "do n't see           0.047652\n",
      "do n't want          0.044805\n",
      "\n",
      "CC  PRP VBP  KLD: 0.00015570127509880534 freq: 0.0017707664398166438 count: 36230\n",
      "instance             rel. freq.\n",
      "but I 'm             0.072113\n",
      "but I do             0.068345\n",
      "and I 'm             0.063295\n",
      "and I have           0.042362\n",
      "but I think          0.041891\n",
      "\n",
      "JJ  TO  VB   KLD: 0.0001533171899559664 freq: 0.0019938839887474464 count: 40795\n",
      "instance             rel. freq.\n",
      "likely to be         0.012573\n",
      "free to ask          0.010923\n",
      "able to find         0.009668\n",
      "able to help         0.009575\n",
      "happy to help        0.008041\n",
      "\n",
      ".   NN  :    KLD: 0.00015122171626444654 freq: 0.0003794708981158273 count: 7764\n",
      "instance             rel. freq.\n",
      "? title=User_talk :  0.286770\n",
      "? title=Wikipedia :  0.238793\n",
      "? title=Talk :       0.132905\n",
      "? title=User :       0.059123\n",
      "? title=Wikipedia_talk : 0.051975\n",
      "\n",
      ":   PRP VBP  KLD: 0.00014283742181508434 freq: 0.0005686687145257149 count: 11635\n",
      "instance             rel. freq.\n",
      "; I 'm               0.051337\n",
      "- I 'm               0.042726\n",
      "; I 've              0.036001\n",
      "- I 've              0.035099\n",
      "- I have             0.031573\n",
      "\n",
      "NNP :   NNP  KLD: 0.000142754921901941 freq: 0.0028204208715445554 count: 57706\n",
      "instance             rel. freq.\n",
      "Wikipedia : Criteria 0.012604\n",
      "WP : CSD             0.010245\n",
      "Wikipedia : Media    0.009340\n",
      "WP : RS              0.009324\n",
      "WP : V               0.008306\n",
      "\n",
      ":   NNP CC   KLD: 0.0001418024008789204 freq: 0.00038426071625278645 count: 7862\n",
      "instance             rel. freq.\n",
      ": Log &              0.047573\n",
      "; \\u2013 &           0.027991\n",
      ": Contributions &    0.019342\n",
      "; ThinkBlue &        0.019222\n",
      ": Log|type=upload &  0.012975\n",
      "\n"
     ]
    }
   ],
   "source": [
    "print_top_instances(top_pos_central, top_pos_instances_central, trigram_freq, trigram_counts)"
   ]
  },
  {
   "cell_type": "code",
   "execution_count": 24,
   "metadata": {},
   "outputs": [
    {
     "name": "stdout",
     "output_type": "stream",
     "text": [
      "Top anti-indicative trigrams (admins)\n",
      "   n-gram    KLD weight\n",
      "NNP NNP NNP  -0.001735\n",
      "IN  DT  NNP  -0.000605\n",
      "NN  IN  DT   -0.000484\n",
      "DT  NNP NNP  -0.000473\n",
      "NNP NNP NN   -0.000314\n",
      "NN  IN  NNP  -0.000306\n",
      "NNP ,   NNP  -0.000280\n",
      "NN  NN  NN   -0.000277\n",
      "DT  NNP NN   -0.000268\n",
      "NNP IN  NNP  -0.000258\n",
      "DT  NN  IN   -0.000244\n",
      "NNP NNP ''   -0.000240\n",
      "JJ  NN  IN   -0.000239\n",
      "NN  NNP NN   -0.000214\n",
      ".   PRP VBD  -0.000209\n",
      "MD  PRP VB   -0.000194\n",
      "NN  CC  NN   -0.000186\n",
      "NNP NN  NN   -0.000180\n",
      "NNP NNP ,    -0.000180\n",
      "NN  .   PRP  -0.000176\n",
      "\n",
      "Top anti-indicative trigrams (highly central)\n",
      "   n-gram    KLD weight\n",
      "NNP NNP NNP  -0.002825\n",
      "NNP NNP NN   -0.000512\n",
      "IN  DT  NNP  -0.000451\n",
      "DT  NNP NNP  -0.000434\n",
      "NN  NN  NN   -0.000418\n",
      "NN  IN  DT   -0.000386\n",
      "NN  NNP NNP  -0.000341\n",
      "NN  IN  NNP  -0.000270\n",
      "NNP NNP .    -0.000269\n",
      "IN  NNP NNP  -0.000267\n",
      "NNP NNP ,    -0.000246\n",
      "NNP NN  NN   -0.000245\n",
      "JJ  NNP NNP  -0.000244\n",
      "JJ  NN  NN   -0.000227\n",
      "NN  NNP NN   -0.000223\n",
      "NNP NNP IN   -0.000215\n",
      "NNP NN  NNP  -0.000209\n",
      "NNP IN  NNP  -0.000197\n",
      "''  NN  ''   -0.000189\n",
      "DT  NN  IN   -0.000187\n"
     ]
    }
   ],
   "source": [
    "print(\"Top anti-indicative trigrams (admins)\")\n",
    "print_top_pos(top_neg_admin)\n",
    "print()\n",
    "print(\"Top anti-indicative trigrams (highly central)\")\n",
    "print_top_pos(top_neg_central)"
   ]
  },
  {
   "cell_type": "code",
   "execution_count": 25,
   "metadata": {},
   "outputs": [
    {
     "name": "stdout",
     "output_type": "stream",
     "text": [
      "NNP NNP NNP  KLD: -0.001735267680488634 freq: 0.017511379605941662 count: 358284\n",
      "instance             rel. freq.\n",
      "[ [ WP               0.043809\n",
      "[ [ User             0.039621\n",
      "[ [ Wikipedia        0.039496\n",
      "< \\/font >           0.015754\n",
      "] ] <                0.012071\n",
      "\n",
      "IN  DT  NNP  KLD: -0.0006052912056666259 freq: 0.003026138672957425 count: 61915\n",
      "instance             rel. freq.\n",
      "on the [             0.035191\n",
      "at the [             0.025884\n",
      "of the [             0.024277\n",
      "in the [             0.021935\n",
      "for the [            0.008312\n",
      "\n",
      "NN  IN  DT   KLD: -0.00048448798648708855 freq: 0.008467469827933604 count: 173245\n",
      "instance             rel. freq.\n",
      "part of the          0.012679\n",
      "look at the          0.010065\n",
      "top of the           0.005185\n",
      "article on the       0.005021\n",
      "end of the           0.004731\n",
      "\n",
      "DT  NNP NNP  KLD: -0.0004728843100016021 freq: 0.00188875236821072 count: 38644\n",
      "instance             rel. freq.\n",
      "the [ [              0.388578\n",
      "The [ [              0.006875\n",
      "the Arbitration Committee 0.004248\n",
      "the United Kingdom   0.004100\n",
      "the Main Page        0.003879\n",
      "\n",
      "NNP NNP NN   KLD: -0.0003136177031473391 freq: 0.0026356218677094263 count: 53925\n",
      "instance             rel. freq.\n",
      "[ User talk          0.113268\n",
      "[ [ Talk             0.064172\n",
      "] ] article          0.056939\n",
      "> ] ]                0.035119\n",
      "[ Wikipedia talk     0.027555\n",
      "\n",
      "NN  IN  NNP  KLD: -0.00030638353752092813 freq: 0.002826383706368117 count: 57828\n",
      "instance             rel. freq.\n",
      "look at [            0.015695\n",
      "discussion at [      0.012994\n",
      "violation of [       0.004321\n",
      "conformance with Wikipedia 0.003519\n",
      "note on [            0.002831\n",
      "\n",
      "NNP ,   NNP  KLD: -0.00028017035914052764 freq: 0.0011090872771824256 count: 22692\n",
      "instance             rel. freq.\n",
      "] , [                0.207228\n",
      "> , [                0.006454\n",
      "] , \\                0.004705\n",
      "Verdana , Arial      0.004414\n",
      "Arial , Helvetica\\   0.004039\n",
      "\n",
      "NN  NN  NN   KLD: -0.00027673061259983565 freq: 0.00158611406306734 count: 32452\n",
      "instance             rel. freq.\n",
      "< b >                0.035371\n",
      "talk page ]          0.032081\n",
      "article talk page    0.027684\n",
      "> < b                0.022692\n",
      "< span style=\\       0.022266\n",
      "\n",
      "DT  NNP NN   KLD: -0.000267815548335558 freq: 0.0015258992064884245 count: 31220\n",
      "instance             rel. freq.\n",
      "any Wikipedia page   0.014532\n",
      "the Talk page        0.009820\n",
      "a Wikipedia article  0.006324\n",
      "the Wikipedia article 0.005411\n",
      "the GA review        0.005229\n",
      "\n",
      "NNP IN  NNP  KLD: -0.000257612227187879 freq: 0.0009236040136134452 count: 18897\n",
      "instance             rel. freq.\n",
      "Manual of Style      0.021060\n",
      "Register of Historic 0.007910\n",
      "] of [               0.007104\n",
      "] for [              0.005240\n",
      "] on [               0.005089\n",
      "\n",
      "DT  NN  IN   KLD: -0.00024372317815731849 freq: 0.010473035107851797 count: 214279\n",
      "instance             rel. freq.\n",
      "a lot of             0.024601\n",
      "a look at            0.017995\n",
      "a couple of          0.011938\n",
      "the fact that        0.010068\n",
      "a list of            0.007994\n",
      "\n",
      "NNP NNP ''   KLD: -0.00024005088061629663 freq: 0.000631864988516411 count: 12928\n",
      "instance             rel. freq.\n",
      "] ] ''               0.104814\n",
      "] \\ ''               0.079948\n",
      "New Roman\\ ''        0.040191\n",
      "Trebuchet MS\\ ''     0.024360\n",
      "Kristen ITC\\ ''      0.021180\n",
      "\n",
      "JJ  NN  IN   KLD: -0.00023904447590683488 freq: 0.004518655779572961 count: 92452\n",
      "instance             rel. freq.\n",
      "Good luck with       0.004219\n",
      "] ] from             0.003502\n",
      "large number of      0.003308\n",
      "[ List of            0.002724\n",
      "vast majority of     0.002427\n",
      "\n",
      "NN  NNP NN   KLD: -0.00021361373001433392 freq: 0.0006518062721886492 count: 13336\n",
      "instance             rel. freq.\n",
      "] [ http             0.048370\n",
      "> < font             0.042577\n",
      "% D0 %               0.038110\n",
      "% C3 %               0.035597\n",
      "> < sup              0.021847\n",
      "\n",
      ".   PRP VBD  KLD: -0.0002090182292528366 freq: 0.0016280005339180952 count: 33309\n",
      "instance             rel. freq.\n",
      ". I was              0.141779\n",
      ". I did              0.081426\n",
      ". It was             0.065317\n",
      ". I had              0.042968\n",
      ". I thought          0.032673\n",
      "\n",
      "MD  PRP VB   KLD: -0.00019403746025330868 freq: 0.0007948165565635733 count: 16262\n",
      "instance             rel. freq.\n",
      "Can you please       0.037507\n",
      "could you please     0.035834\n",
      "Would you be         0.030179\n",
      "Would you mind       0.029486\n",
      "would you mind       0.019965\n",
      "\n",
      "NN  CC  NN   KLD: -0.0001862300966156877 freq: 0.002312455770550507 count: 47313\n",
      "instance             rel. freq.\n",
      "sa=X & oi=book_result 0.003563\n",
      "oi=book_result & ct=result 0.003424\n",
      "deletion or \\        0.002787\n",
      "time and effort      0.002727\n",
      "copy and paste       0.002608\n",
      "\n",
      "NNP NN  NN   KLD: -0.0001802194134754835 freq: 0.0009568394864005089 count: 19577\n",
      "instance             rel. freq.\n",
      "< sup >              0.046414\n",
      "< span style=\\       0.040267\n",
      "< font color=\\       0.035527\n",
      "< font face=\\        0.011920\n",
      "< br >               0.011827\n",
      "\n",
      "NNP NNP ,    KLD: -0.00017966077911812516 freq: 0.002007227053557547 count: 41068\n",
      "instance             rel. freq.\n",
      "] ] ,                0.532069\n",
      "\\/span > ,           0.006005\n",
      "\\/nowiki > ,         0.004527\n",
      "Trebuchet MS ,       0.002425\n",
      "Mediation Committee , 0.002079\n",
      "\n",
      "NN  .   PRP  KLD: -0.00017609058864614732 freq: 0.0033108884736301205 count: 67741\n",
      "instance             rel. freq.\n",
      "article . I          0.034353\n",
      "page . I             0.031762\n",
      "] . I                0.013694\n",
      "time . I             0.010685\n",
      "problem . I          0.008623\n",
      "\n"
     ]
    }
   ],
   "source": [
    "print_top_instances(top_neg_admin, top_neg_instances_admin, trigram_freq, trigram_counts)"
   ]
  },
  {
   "cell_type": "code",
   "execution_count": 26,
   "metadata": {},
   "outputs": [
    {
     "name": "stdout",
     "output_type": "stream",
     "text": [
      "NNP NNP NNP  KLD: -0.0028253733059225195 freq: 0.017511379605941662 count: 358284\n",
      "instance             rel. freq.\n",
      "[ [ WP               0.043809\n",
      "[ [ User             0.039621\n",
      "[ [ Wikipedia        0.039496\n",
      "< \\/font >           0.015754\n",
      "] ] <                0.012071\n",
      "\n",
      "NNP NNP NN   KLD: -0.0005123390506811409 freq: 0.0026356218677094263 count: 53925\n",
      "instance             rel. freq.\n",
      "[ User talk          0.113268\n",
      "[ [ Talk             0.064172\n",
      "] ] article          0.056939\n",
      "> ] ]                0.035119\n",
      "[ Wikipedia talk     0.027555\n",
      "\n",
      "IN  DT  NNP  KLD: -0.0004511215571532975 freq: 0.003026138672957425 count: 61915\n",
      "instance             rel. freq.\n",
      "on the [             0.035191\n",
      "at the [             0.025884\n",
      "of the [             0.024277\n",
      "in the [             0.021935\n",
      "for the [            0.008312\n",
      "\n",
      "DT  NNP NNP  KLD: -0.0004343905107654599 freq: 0.00188875236821072 count: 38644\n",
      "instance             rel. freq.\n",
      "the [ [              0.388578\n",
      "The [ [              0.006875\n",
      "the Arbitration Committee 0.004248\n",
      "the United Kingdom   0.004100\n",
      "the Main Page        0.003879\n",
      "\n",
      "NN  NN  NN   KLD: -0.0004180558291528351 freq: 0.00158611406306734 count: 32452\n",
      "instance             rel. freq.\n",
      "< b >                0.035371\n",
      "talk page ]          0.032081\n",
      "article talk page    0.027684\n",
      "> < b                0.022692\n",
      "< span style=\\       0.022266\n",
      "\n",
      "NN  IN  DT   KLD: -0.00038559261415599443 freq: 0.008467469827933604 count: 173245\n",
      "instance             rel. freq.\n",
      "part of the          0.012679\n",
      "look at the          0.010065\n",
      "top of the           0.005185\n",
      "article on the       0.005021\n",
      "end of the           0.004731\n",
      "\n",
      "NN  NNP NNP  KLD: -0.000341076669352319 freq: 0.00246006037028129 count: 50333\n",
      "instance             rel. freq.\n",
      "deletion ] ]         0.036417\n",
      "> [ [                0.027586\n",
      "article [ [          0.026083\n",
      "page ] ]             0.025119\n",
      "b > <                0.020518\n",
      "\n",
      "NN  IN  NNP  KLD: -0.0002695013758523216 freq: 0.002826383706368117 count: 57828\n",
      "instance             rel. freq.\n",
      "look at [            0.015695\n",
      "discussion at [      0.012994\n",
      "violation of [       0.004321\n",
      "conformance with Wikipedia 0.003519\n",
      "note on [            0.002831\n",
      "\n",
      "NNP NNP .    KLD: -0.0002690660215990793 freq: 0.0024353781441673675 count: 49828\n",
      "instance             rel. freq.\n",
      "] ] .                0.620087\n",
      "] ] ?                0.057144\n",
      "\\/nowiki > .         0.007003\n",
      "] Hello !            0.002866\n",
      "\\/span > .           0.002069\n",
      "\n",
      "IN  NNP NNP  KLD: -0.0002666040541352517 freq: 0.0031896278736526134 count: 65260\n",
      "instance             rel. freq.\n",
      "at [ [               0.194336\n",
      "of [ [               0.087887\n",
      "on [ [               0.075232\n",
      "in [ [               0.043216\n",
      "for [ [              0.035420\n",
      "\n",
      "NNP NNP ,    KLD: -0.0002462686226879903 freq: 0.002007227053557547 count: 41068\n",
      "instance             rel. freq.\n",
      "] ] ,                0.532069\n",
      "\\/span > ,           0.006005\n",
      "\\/nowiki > ,         0.004527\n",
      "Trebuchet MS ,       0.002425\n",
      "Mediation Committee , 0.002079\n",
      "\n",
      "NNP NN  NN   KLD: -0.0002453612218385547 freq: 0.0009568394864005089 count: 19577\n",
      "instance             rel. freq.\n",
      "< sup >              0.046414\n",
      "< span style=\\       0.040267\n",
      "< font color=\\       0.035527\n",
      "< font face=\\        0.011920\n",
      "< br >               0.011827\n",
      "\n",
      "JJ  NNP NNP  KLD: -0.0002444120648162578 freq: 0.00198269145452945 count: 40566\n",
      "instance             rel. freq.\n",
      "[ [ User             0.108895\n",
      "small > <            0.050593\n",
      "[ [ WP               0.042030\n",
      "< \\/nowiki >         0.023773\n",
      "< \\/font >           0.013802\n",
      "\n",
      "JJ  NN  NN   KLD: -0.00022674417838331829 freq: 0.0020587420363774958 count: 42122\n",
      "instance             rel. freq.\n",
      "< span style=\\       0.032118\n",
      "< font color=\\       0.030330\n",
      "< font face=\\        0.020728\n",
      "fair use rationale   0.006976\n",
      "user talk page       0.006865\n",
      "\n",
      "NN  NNP NN   KLD: -0.00022345362410639688 freq: 0.0006518062721886492 count: 13336\n",
      "instance             rel. freq.\n",
      "] [ http             0.048370\n",
      "> < font             0.042577\n",
      "% D0 %               0.038110\n",
      "% C3 %               0.035597\n",
      "> < sup              0.021847\n",
      "\n",
      "NNP NNP IN   KLD: -0.00021498849670834982 freq: 0.0011817165603612149 count: 24178\n",
      "instance             rel. freq.\n",
      "] ] for              0.111395\n",
      "[ List of            0.065672\n",
      "] ] as               0.049028\n",
      "] ] in               0.047769\n",
      "] ] on               0.032148\n",
      "\n",
      "NNP NN  NNP  KLD: -0.00020939479206017998 freq: 0.0008593324743266969 count: 17582\n",
      "instance             rel. freq.\n",
      "< sup >              0.030446\n",
      "< b >                0.015973\n",
      "< br \\/              0.013186\n",
      "< code >             0.011364\n",
      "< br >               0.010184\n",
      "\n",
      "NNP IN  NNP  KLD: -0.00019693469377036864 freq: 0.0009236040136134452 count: 18897\n",
      "instance             rel. freq.\n",
      "Manual of Style      0.021060\n",
      "Register of Historic 0.007910\n",
      "] of [               0.007104\n",
      "] for [              0.005240\n",
      "] on [               0.005089\n",
      "\n",
      "''  NN  ''   KLD: -0.0001892191071206672 freq: 0.0020648514982868826 count: 42247\n",
      "instance             rel. freq.\n",
      "'' > '               0.068114\n",
      "'' green\\ ''         0.044750\n",
      "'' color=\\ ''        0.041273\n",
      "'' \\ ''              0.027559\n",
      "'' blue\\ ''          0.023386\n",
      "\n",
      "DT  NN  IN   KLD: -0.00018742989881230022 freq: 0.010473035107851797 count: 214279\n",
      "instance             rel. freq.\n",
      "a lot of             0.024601\n",
      "a look at            0.017995\n",
      "a couple of          0.011938\n",
      "the fact that        0.010068\n",
      "a list of            0.007994\n",
      "\n"
     ]
    }
   ],
   "source": [
    "print_top_instances(top_neg_central, top_neg_instances_central, trigram_freq, trigram_counts)"
   ]
  },
  {
   "cell_type": "code",
   "execution_count": null,
   "metadata": {},
   "outputs": [],
   "source": []
  },
  {
   "cell_type": "code",
   "execution_count": null,
   "metadata": {},
   "outputs": [],
   "source": []
  },
  {
   "cell_type": "code",
   "execution_count": null,
   "metadata": {},
   "outputs": [],
   "source": []
  },
  {
   "cell_type": "code",
   "execution_count": 27,
   "metadata": {},
   "outputs": [
    {
     "data": {
      "application/vnd.jupyter.widget-view+json": {
       "model_id": "20aa54a0966146bbad1fd5b6bc14e1bf",
       "version_major": 2,
       "version_minor": 0
      },
      "text/plain": [
       "HBox(children=(IntProgress(value=0, max=376923), HTML(value='')))"
      ]
     },
     "metadata": {},
     "output_type": "display_data"
    },
    {
     "name": "stdout",
     "output_type": "stream",
     "text": [
      "\n"
     ]
    }
   ],
   "source": [
    "pos_fourgrams = df.pos_tags.progress_apply(lambda x: Counter(list(get_ngrams(4, x))))\n",
    "df['pos_fourgrams'] = pos_fourgrams"
   ]
  },
  {
   "cell_type": "code",
   "execution_count": 28,
   "metadata": {},
   "outputs": [],
   "source": [
    "# fourgrams_counts = Counter()\n",
    "# for c in tqdm(df.pos_fourgrams):\n",
    "#     fourgrams_counts += c\n",
    "with open('fourgram_counts.pickle', 'rb') as f:\n",
    "    fourgram_counts = pickle.load(f)"
   ]
  },
  {
   "cell_type": "code",
   "execution_count": 29,
   "metadata": {},
   "outputs": [
    {
     "data": {
      "application/vnd.jupyter.widget-view+json": {
       "model_id": "ede023576fdd4c05a3c9472d62e26bc0",
       "version_major": 2,
       "version_minor": 0
      },
      "text/plain": [
       "HBox(children=(IntProgress(value=0, max=115783), HTML(value='')))"
      ]
     },
     "metadata": {},
     "output_type": "display_data"
    },
    {
     "name": "stdout",
     "output_type": "stream",
     "text": [
      "\n"
     ]
    },
    {
     "data": {
      "application/vnd.jupyter.widget-view+json": {
       "model_id": "dd2bd1a6fb894f7abee878de9ae7be26",
       "version_major": 2,
       "version_minor": 0
      },
      "text/plain": [
       "HBox(children=(IntProgress(value=0, max=178078), HTML(value='')))"
      ]
     },
     "metadata": {},
     "output_type": "display_data"
    },
    {
     "name": "stdout",
     "output_type": "stream",
     "text": [
      "\n"
     ]
    }
   ],
   "source": [
    "fourgram_counts_admin = Counter()\n",
    "for c in tqdm(df[df.admin == True].pos_fourgrams):\n",
    "    fourgram_counts_admin += c\n",
    "    \n",
    "fourgram_counts_central = Counter()\n",
    "for c in tqdm(df[df.highly_central == True].pos_fourgrams):\n",
    "    fourgram_counts_central += c"
   ]
  },
  {
   "cell_type": "code",
   "execution_count": 30,
   "metadata": {},
   "outputs": [],
   "source": [
    "fourgram_freq = count_to_freq(fourgram_counts)\n",
    "fourgram_freq_admin = count_to_freq(fourgram_counts_admin)\n",
    "fourgram_freq_central = count_to_freq(fourgram_counts_central)"
   ]
  },
  {
   "cell_type": "code",
   "execution_count": 31,
   "metadata": {},
   "outputs": [],
   "source": [
    "admin_diverg4 = KLD(fourgram_freq_admin, fourgram_freq)\n",
    "central_diverg4 = KLD(fourgram_freq_central, fourgram_freq)"
   ]
  },
  {
   "cell_type": "code",
   "execution_count": 32,
   "metadata": {},
   "outputs": [],
   "source": [
    "pos_admin_diverg4 = {k:v for (k,v) in admin_diverg4.items() if v >= 0}\n",
    "neg_admin_diverg4 = {k:v for (k,v) in admin_diverg4.items() if v < 0}\n",
    "\n",
    "pos_central_diverg4 = {k:v for (k,v) in central_diverg4.items() if v >= 0}\n",
    "neg_central_diverg4 = {k:v for (k,v) in central_diverg4.items() if v < 0}\n",
    "\n",
    "top_pos_admin4 = sorted(pos_admin_diverg4.items(), key=lambda x: x[1], reverse=True)[:20]\n",
    "top_neg_admin4 = sorted(neg_admin_diverg4.items(), key=lambda x: x[1], reverse=False)[:20]\n",
    "\n",
    "top_pos_central4 = sorted(pos_central_diverg4.items(), key=lambda x: x[1], reverse=True)[:20]\n",
    "top_neg_central4 = sorted(neg_central_diverg4.items(), key=lambda x: x[1], reverse=False)[:20]"
   ]
  },
  {
   "cell_type": "code",
   "execution_count": 33,
   "metadata": {},
   "outputs": [
    {
     "data": {
      "application/vnd.jupyter.widget-view+json": {
       "model_id": "a486770f71d141ca9671f544aeafe58e",
       "version_major": 2,
       "version_minor": 0
      },
      "text/plain": [
       "HBox(children=(IntProgress(value=0, max=376923), HTML(value='')))"
      ]
     },
     "metadata": {},
     "output_type": "display_data"
    },
    {
     "name": "stdout",
     "output_type": "stream",
     "text": [
      "\n"
     ]
    },
    {
     "data": {
      "application/vnd.jupyter.widget-view+json": {
       "model_id": "511cd6c9d3724b61bffae775b996c879",
       "version_major": 2,
       "version_minor": 0
      },
      "text/plain": [
       "HBox(children=(IntProgress(value=0, max=376923), HTML(value='')))"
      ]
     },
     "metadata": {},
     "output_type": "display_data"
    },
    {
     "name": "stdout",
     "output_type": "stream",
     "text": [
      "\n"
     ]
    },
    {
     "data": {
      "application/vnd.jupyter.widget-view+json": {
       "model_id": "18b5214335ed4caf83069ac11ad1b71d",
       "version_major": 2,
       "version_minor": 0
      },
      "text/plain": [
       "HBox(children=(IntProgress(value=0, max=376923), HTML(value='')))"
      ]
     },
     "metadata": {},
     "output_type": "display_data"
    },
    {
     "name": "stdout",
     "output_type": "stream",
     "text": [
      "\n"
     ]
    },
    {
     "data": {
      "application/vnd.jupyter.widget-view+json": {
       "model_id": "8088c168741c4293a3902e7df5e0b05f",
       "version_major": 2,
       "version_minor": 0
      },
      "text/plain": [
       "HBox(children=(IntProgress(value=0, max=376923), HTML(value='')))"
      ]
     },
     "metadata": {},
     "output_type": "display_data"
    },
    {
     "name": "stdout",
     "output_type": "stream",
     "text": [
      "\n"
     ]
    }
   ],
   "source": [
    "top_pos_instances_admin4 = get_top_instances(top_pos_admin4, ngram_row='pos_fourgrams')\n",
    "top_neg_instances_admin4 = get_top_instances(top_neg_admin4, ngram_row='pos_fourgrams')\n",
    "top_pos_instances_central4 = get_top_instances(top_pos_central4, ngram_row='pos_fourgrams')\n",
    "top_neg_instances_central4 = get_top_instances(top_neg_central4, ngram_row='pos_fourgrams')"
   ]
  },
  {
   "cell_type": "code",
   "execution_count": 34,
   "metadata": {},
   "outputs": [
    {
     "name": "stdout",
     "output_type": "stream",
     "text": [
      "Admin KLD\t 0.05291102646658371\n",
      "Central KLD\t 0.02686652356856986\n"
     ]
    }
   ],
   "source": [
    "admin_diverg4 = KLD(fourgram_freq_admin, fourgram_freq)\n",
    "central_diverg4 = KLD(fourgram_freq_central, fourgram_freq)\n",
    "print(\"Admin KLD\\t\", sum(admin_diverg4.values()))\n",
    "print(\"Central KLD\\t\", sum(central_diverg4.values()))"
   ]
  },
  {
   "cell_type": "code",
   "execution_count": 35,
   "metadata": {},
   "outputs": [
    {
     "name": "stdout",
     "output_type": "stream",
     "text": [
      "Top indicative four-grams (admins)\n",
      "   n-gram    KLD weight\n",
      "NNP NNP NNP :    0.000920\n",
      ":   NNP NNP NNP  0.000675\n",
      "NNP :   NNP NNP  0.000656\n",
      "NNP NNP :   NNP  0.000637\n",
      "NN  ''  RB  :    0.000402\n",
      ".   :   ''  ''   0.000350\n",
      "''  RB  :   NNP  0.000335\n",
      ":   CC  ''  NN   0.000322\n",
      "IN  NNP NNP NNP  0.000285\n",
      ",   PRP MD  VB   0.000282\n",
      "JJ  NNP :   NNP  0.000272\n",
      "JJ  JJ  NNP :    0.000271\n",
      "NN  :   CC  ''   0.000256\n",
      ":   NN  :   CC   0.000255\n",
      "IN  DT  NN  ,    0.000242\n",
      "JJ  NN  ''  RB   0.000225\n",
      "PRP MD  RB  VB   0.000205\n",
      ".   IN  PRP VBP  0.000192\n",
      "CC  ''  NN  NN   0.000190\n",
      "VBD #   CD  :    0.000189\n",
      "\n",
      "Top indicative four-grams (highly central)\n",
      "   n-gram    KLD weight\n",
      "NN  :   NN  .    0.000229\n",
      ":   NN  .   NN   0.000219\n",
      ".   :   ''  ''   0.000166\n",
      "NN  .   NN  :    0.000153\n",
      ".   NN  :   NNP  0.000146\n",
      "''  RB  :   NNP  0.000142\n",
      "PRP MD  RB  VB   0.000133\n",
      "NN  :   NNP CC   0.000133\n",
      "NN  ''  RB  :    0.000127\n",
      ".   VB  JJ  NN   0.000125\n",
      ":   NNP CC  NNP  0.000118\n",
      ",   CC  PRP VBP  0.000116\n",
      "RB  :   NNP ,    0.000115\n",
      "PRP VBP RB  VB   0.000111\n",
      "CC  NN  CC  NN   0.000109\n",
      "NNP CC  NNP CC   0.000108\n",
      "IN  DT  NN  ,    0.000108\n",
      ":   NN  :   CC   0.000102\n",
      "JJ  NN  ''  RB   0.000092\n",
      "CD  CC  NN  CC   0.000091\n"
     ]
    }
   ],
   "source": [
    "print(\"Top indicative four-grams (admins)\")\n",
    "print_top_pos(top_pos_admin4)\n",
    "print()\n",
    "print(\"Top indicative four-grams (highly central)\")\n",
    "print_top_pos(top_pos_central4)"
   ]
  },
  {
   "cell_type": "code",
   "execution_count": 36,
   "metadata": {},
   "outputs": [
    {
     "name": "stdout",
     "output_type": "stream",
     "text": [
      "NNP NNP NNP :    KLD: 0.0009201992550276906 freq: 0.0024572175894019242 count: 49420\n",
      "instance             rel. freq.\n",
      "[ [ WP :             0.319465\n",
      "[ [ Wikipedia :      0.264683\n",
      "[ [ User :           0.191357\n",
      "[ [ Special :        0.048638\n",
      "[ [ User_talk :      0.024744\n",
      "\n",
      ":   NNP NNP NNP  KLD: 0.0006752042156881623 freq: 0.002209755591375753 count: 44443\n",
      "instance             rel. freq.\n",
      ": RS ] ]             0.009696\n",
      ": V ] ]              0.008204\n",
      ": BLP ] ]            0.007969\n",
      ": Consensus|consensus ] ] 0.007478\n",
      ": ANI ] ]            0.006516\n",
      "\n",
      "NNP :   NNP NNP  KLD: 0.0006557770616358343 freq: 0.0019410129553838994 count: 39038\n",
      "instance             rel. freq.\n",
      "WP : RS ]            0.012164\n",
      "WP : V ]             0.010300\n",
      "WP : BLP ]           0.009846\n",
      "Wikipedia : Consensus|consensus ] 0.008986\n",
      "WP : NPOV ]          0.008006\n",
      "\n",
      "NNP NNP :   NNP  KLD: 0.0006365259078635571 freq: 0.0018547965389528404 count: 37304\n",
      "instance             rel. freq.\n",
      "[ Wikipedia : Media  0.012524\n",
      "[ WP : CSD           0.010453\n",
      "[ WP : RS            0.008507\n",
      "[ WP : V             0.008208\n",
      "[ WP : BLP           0.006935\n",
      "\n",
      "NN  ''  RB  :    KLD: 0.000402124531132164 freq: 0.00017561498433362193 count: 3532\n",
      "instance             rel. freq.\n",
      "style=\\ '' font-family : 0.981317\n",
      "\\ '' font-family :   0.010509\n",
      "\\xfc\\ '' indifferently ; 0.000467\n",
      "guy\\ '' here ;       0.000234\n",
      "warring\\ '' too ...  0.000234\n",
      "\n",
      ".   :   ''  ''   KLD: 0.00035018045784478 freq: 8.402868729440008e-05 count: 1690\n",
      "instance             rel. freq.\n",
      ". -- ' ''            0.718110\n",
      ". - '' '             0.105813\n",
      "? -- ' ''            0.088248\n",
      "! -- ' ''            0.049770\n",
      "! - '' '             0.012547\n",
      "\n",
      "''  RB  :   NNP  KLD: 0.0003351387475493259 freq: 0.00011709322992799537 count: 2355\n",
      "instance             rel. freq.\n",
      "'' font-family : Verdana 0.229583\n",
      "'' font-family : Monotype 0.146605\n",
      "'' font-family : Verdana\\ 0.097409\n",
      "'' font-family : Bradley 0.094785\n",
      "'' font-family : Times 0.089866\n",
      "\n",
      ":   CC  ''  NN   KLD: 0.00032150588794914583 freq: 0.000252235225233427 count: 5073\n",
      "instance             rel. freq.\n",
      "; \\ '' >             0.838927\n",
      "; \\ '' |             0.138519\n",
      "; \\ '' size=\\        0.006571\n",
      "; \\ '' color=\\       0.004617\n",
      "; \\ '' class=\\       0.002309\n",
      "\n",
      "IN  NNP NNP NNP  KLD: 0.00028473788110205766 freq: 0.00214954331900089 count: 43232\n",
      "instance             rel. freq.\n",
      "at [ [ Wikipedia     0.086388\n",
      "at [ [ WP            0.053573\n",
      "of [ [ WP            0.033804\n",
      "at [ [ User          0.027105\n",
      "per [ [ WP           0.015925\n",
      "\n",
      ",   PRP MD  VB   KLD: 0.00028242634689212446 freq: 0.0012619219429182685 count: 25380\n",
      "instance             rel. freq.\n",
      ", it would be        0.030970\n",
      ", I 'd like          0.019095\n",
      ", I 'd be            0.017607\n",
      ", it will be         0.016192\n",
      ", I would like       0.015150\n",
      "\n",
      "JJ  NNP :   NNP  KLD: 0.00027247303113702375 freq: 0.000676903283328972 count: 13614\n",
      "instance             rel. freq.\n",
      "[ Wikipedia : Criteria 0.033989\n",
      "[ Wikipedia : Consensus|consensus 0.024976\n",
      "[ Wikipedia : Blocking 0.019403\n",
      "Monotype Corsiva ; \\ 0.010802\n",
      "[ WP : CSD           0.009701\n",
      "\n",
      "JJ  JJ  NNP :    KLD: 0.0002712614806909862 freq: 0.0005841236794879362 count: 11748\n",
      "instance             rel. freq.\n",
      "[ [ Wikipedia :      0.613520\n",
      "[ [ WP :             0.371387\n",
      "[ [ WT :             0.004576\n",
      "[ [ MOS :            0.004416\n",
      "[ [ MediaWiki :      0.000723\n",
      "\n",
      "NN  :   CC  ''   KLD: 0.0002564271764582591 freq: 0.00023329147975463026 count: 4692\n",
      "instance             rel. freq.\n",
      "padding:1px ; \\ ''   0.337252\n",
      "gray ; \\ ''          0.188090\n",
      "tahoma ; \\ ''        0.092311\n",
      "green ; \\ ''         0.036809\n",
      "nowrap ; \\ ''        0.036809\n",
      "\n",
      ":   NN  :   CC   KLD: 0.0002546077158862183 freq: 0.00016189195611276134 count: 3256\n",
      "instance             rel. freq.\n",
      "; padding:1px ; \\    0.475543\n",
      ": tahoma ; \\         0.130163\n",
      ": nowrap ; \\         0.051902\n",
      ": green ; \\          0.044837\n",
      ": cream ; \\          0.043207\n",
      "\n",
      "IN  DT  NN  ,    KLD: 0.00024236427274471804 freq: 0.0017294496036456318 count: 34783\n",
      "instance             rel. freq.\n",
      "By the way ,         0.047822\n",
      "In any case ,        0.020105\n",
      "in the article ,     0.019369\n",
      "of the article ,     0.018196\n",
      "at the moment ,      0.012167\n",
      "\n",
      "JJ  NN  ''  RB   KLD: 0.00022455957672568085 freq: 0.00011470661632436743 count: 2307\n",
      "instance             rel. freq.\n",
      "span style=\\ '' font-family 0.722039\n",
      "font style=\\ '' font-family 0.164283\n",
      "style= \\ '' font-family 0.001467\n",
      "blue-linked entry.\\ '' Secondly 0.001100\n",
      "full days.\\ '' Also  0.001100\n",
      "\n",
      "PRP MD  RB  VB   KLD: 0.00020538643607608242 freq: 0.0018519624352985322 count: 37247\n",
      "instance             rel. freq.\n",
      "I ca n't find        0.017595\n",
      "I ca n't see         0.010968\n",
      "I wo n't be          0.010384\n",
      "I could n't find     0.008886\n",
      "it ca n't be         0.007287\n",
      "\n",
      ".   IN  PRP VBP  KLD: 0.00019208842217035082 freq: 0.0008557004191340978 count: 17210\n",
      "instance             rel. freq.\n",
      ". If you have        0.128944\n",
      ". If you want        0.074019\n",
      ". If you do          0.056790\n",
      ". If you are         0.047298\n",
      ". If you 're         0.033525\n",
      "\n",
      "CC  ''  NN  NN   KLD: 0.00018961192587935188 freq: 5.061609684360904e-05 count: 1018\n",
      "instance             rel. freq.\n",
      "\\ '' > \\u2014        0.613234\n",
      "\\ '' > <             0.227400\n",
      "\\ '' > \\u2013        0.054054\n",
      "\\ '' > e             0.035415\n",
      "\\ '' > \\u2004        0.016775\n",
      "\n",
      "VBD #   CD  :    KLD: 0.00018947828567427298 freq: 5.345020049791721e-05 count: 1075\n",
      "instance             rel. freq.\n",
      "solid # 228B22 ;     0.278182\n",
      "solid # 0000ff ;     0.231818\n",
      "solid # 000000 ;     0.223636\n",
      "solid # 808 ;        0.110909\n",
      "solid # 20406F ;     0.021818\n",
      "\n"
     ]
    }
   ],
   "source": [
    "print_top_instances(top_pos_admin4, top_pos_instances_admin4, fourgram_freq, fourgram_counts)"
   ]
  },
  {
   "cell_type": "code",
   "execution_count": 37,
   "metadata": {},
   "outputs": [
    {
     "name": "stdout",
     "output_type": "stream",
     "text": [
      "NN  :   NN  .    KLD: 0.00022873884964606152 freq: 0.0010657224162533556 count: 21434\n",
      "instance             rel. freq.\n",
      "http : \\/\\/en.wikipedia.org\\/w\\/index.php ? 0.799279\n",
      "http : \\/\\/www.youtube.com\\/watch ? 0.021027\n",
      "http : \\/\\/www.google.com\\/search ? 0.011041\n",
      "https : \\/\\/secure.wikimedia.org\\/wikipedia\\/en\\/w\\/index.php ? 0.010777\n",
      "http : \\/\\/commons.wikimedia.org\\/w\\/index.php ? 0.003431\n",
      "\n",
      ":   NN  .   NN   KLD: 0.00021913431867276692 freq: 0.0008630591444119506 count: 17358\n",
      "instance             rel. freq.\n",
      ": \\/\\/en.wikipedia.org\\/w\\/index.php ? title=User_talk 0.176423\n",
      ": \\/\\/en.wikipedia.org\\/w\\/index.php ? title=Wikipedia 0.135785\n",
      ": \\/\\/en.wikipedia.org\\/w\\/index.php ? title=Talk 0.081330\n",
      ": \\/\\/en.wikipedia.org\\/w\\/index.php ? title=User 0.033021\n",
      ": \\/\\/en.wikipedia.org\\/w\\/index.php ? title=Wikipedia_talk 0.029649\n",
      "\n",
      ".   :   ''  ''   KLD: 0.00016605727460788968 freq: 8.402868729440008e-05 count: 1690\n",
      "instance             rel. freq.\n",
      ". -- ' ''            0.718110\n",
      ". - '' '             0.105813\n",
      "? -- ' ''            0.088248\n",
      "! -- ' ''            0.049770\n",
      "! - '' '             0.012547\n",
      "\n",
      "NN  .   NN  :    KLD: 0.00015347923534377356 freq: 0.00034108686085182515 count: 6860\n",
      "instance             rel. freq.\n",
      "\\/\\/en.wikipedia.org\\/w\\/index.php ? title=User_talk : 0.306445\n",
      "\\/\\/en.wikipedia.org\\/w\\/index.php ? title=Wikipedia : 0.255325\n",
      "\\/\\/en.wikipedia.org\\/w\\/index.php ? title=Talk : 0.143466\n",
      "\\/\\/en.wikipedia.org\\/w\\/index.php ? title=User : 0.063213\n",
      "\\/\\/en.wikipedia.org\\/w\\/index.php ? title=Wikipedia_talk : 0.055517\n",
      "\n",
      ".   NN  :   NNP  KLD: 0.00014561759967268866 freq: 0.00030260271649332475 count: 6086\n",
      "instance             rel. freq.\n",
      "? title=Template_talk : Did_you_know 0.009924\n",
      "? title=Wikipedia : Administrator_intervention_against_vandalism 0.009149\n",
      "? title=User_talk : Gogo_Dodo 0.006513\n",
      "? title=Wikipedia : Village_pump_ 0.006047\n",
      "? title=User_talk : Mattisse 0.005892\n",
      "\n",
      "''  RB  :   NNP  KLD: 0.00014163577394342195 freq: 0.00011709322992799537 count: 2355\n",
      "instance             rel. freq.\n",
      "'' font-family : Verdana 0.229583\n",
      "'' font-family : Monotype 0.146605\n",
      "'' font-family : Verdana\\ 0.097409\n",
      "'' font-family : Bradley 0.094785\n",
      "'' font-family : Times 0.089866\n",
      "\n",
      "PRP MD  RB  VB   KLD: 0.00013300351987269107 freq: 0.0018519624352985322 count: 37247\n",
      "instance             rel. freq.\n",
      "I ca n't find        0.017595\n",
      "I ca n't see         0.010968\n",
      "I wo n't be          0.010384\n",
      "I could n't find     0.008886\n",
      "it ca n't be         0.007287\n",
      "\n",
      "NN  :   NNP CC   KLD: 0.00013250121603248166 freq: 0.0003175687726327416 count: 6387\n",
      "instance             rel. freq.\n",
      "nbsp ; ThinkBlue &   0.023686\n",
      "nbsp ; \\u2013 &      0.022206\n",
      "title=Template_talk : Did_you_know & 0.009474\n",
      "title=Wikipedia : Administrator_intervention_against_vandalism & 0.008734\n",
      "title=User_talk : Gogo_Dodo & 0.006218\n",
      "\n",
      "NN  ''  RB  :    KLD: 0.00012730441759004087 freq: 0.00017561498433362193 count: 3532\n",
      "instance             rel. freq.\n",
      "style=\\ '' font-family : 0.981317\n",
      "\\ '' font-family :   0.010509\n",
      "\\xfc\\ '' indifferently ; 0.000467\n",
      "guy\\ '' here ;       0.000234\n",
      "warring\\ '' too ...  0.000234\n",
      "\n",
      ".   VB  JJ  NN   KLD: 0.0001245419624408195 freq: 0.00029012271619102036 count: 5835\n",
      "instance             rel. freq.\n",
      ". < span style=\\     0.387398\n",
      ". < font face=\\      0.104462\n",
      ". < font color=\\     0.096925\n",
      ". < strong >         0.049744\n",
      ". < p >              0.040850\n",
      "\n",
      ":   NNP CC  NNP  KLD: 0.0001181898139908229 freq: 0.00023920829264695786 count: 4811\n",
      "instance             rel. freq.\n",
      ": Log & type=block   0.033242\n",
      ": Did_you_know & diff=prev 0.006844\n",
      ": Barack_Obama & diff=prev 0.003911\n",
      ": Administrator_intervention_against_vandalism & diff=prev 0.003324\n",
      ": Requests_for_page_protection & diff=prev 0.002738\n",
      "\n",
      ",   CC  PRP VBP  KLD: 0.00011598858825783585 freq: 0.0010119241679382427 count: 20352\n",
      "instance             rel. freq.\n",
      ", but I 'm           0.102137\n",
      ", but I do           0.096981\n",
      ", and I 'm           0.061967\n",
      ", but I think        0.059061\n",
      ", and I do           0.039233\n",
      "\n",
      "RB  :   NNP ,    KLD: 0.0001145831478348911 freq: 5.0218327909671055e-06 count: 101\n",
      "instance             rel. freq.\n",
      "font-family : Verdana , 0.805970\n",
      "font-family : Papyrus , 0.023454\n",
      "font-family : Optima , 0.017058\n",
      "font-family : Perpetua , 0.017058\n",
      "font-family : Georgia , 0.014925\n",
      "\n",
      "PRP VBP RB  VB   KLD: 0.0001111808998533793 freq: 0.0016036054571710006 count: 32252\n",
      "instance             rel. freq.\n",
      "I do n't know        0.145017\n",
      "I do n't think       0.143549\n",
      "I do n't see         0.058770\n",
      "I do n't have        0.056304\n",
      "I do n't want        0.037164\n",
      "\n",
      "CC  NN  CC  NN   KLD: 0.00010906659298917011 freq: 0.0009741858403308761 count: 19593\n",
      "instance             rel. freq.\n",
      "& sa=X & oi=book_result 0.008583\n",
      "& oi=book_result & ct=result 0.008248\n",
      "& ct=result & resnum=1 0.003357\n",
      "& aqi= & aql=        0.003213\n",
      "& aql= & oq=         0.003069\n",
      "\n",
      "NNP CC  NNP CC   KLD: 0.00010824920528201703 freq: 0.0002902221584245049 count: 5837\n",
      "instance             rel. freq.\n",
      "Log & type=block &   0.027508\n",
      "Did_you_know & diff=prev & 0.005663\n",
      "type=delete & user= & 0.003560\n",
      "year= & month=-1 &   0.003560\n",
      "Barack_Obama & diff=prev & 0.003236\n",
      "\n",
      "IN  DT  NN  ,    KLD: 0.0001079862073050315 freq: 0.0017294496036456318 count: 34783\n",
      "instance             rel. freq.\n",
      "By the way ,         0.047822\n",
      "In any case ,        0.020105\n",
      "in the article ,     0.019369\n",
      "of the article ,     0.018196\n",
      "at the moment ,      0.012167\n",
      "\n",
      ":   NN  :   CC   KLD: 0.00010198885887862626 freq: 0.00016189195611276134 count: 3256\n",
      "instance             rel. freq.\n",
      "; padding:1px ; \\    0.475543\n",
      ": tahoma ; \\         0.130163\n",
      ": nowrap ; \\         0.051902\n",
      ": green ; \\          0.044837\n",
      ": cream ; \\          0.043207\n",
      "\n",
      "JJ  NN  ''  RB   KLD: 9.195609317157725e-05 freq: 0.00011470661632436743 count: 2307\n",
      "instance             rel. freq.\n",
      "span style=\\ '' font-family 0.722039\n",
      "font style=\\ '' font-family 0.164283\n",
      "style= \\ '' font-family 0.001467\n",
      "blue-linked entry.\\ '' Secondly 0.001100\n",
      "full days.\\ '' Also  0.001100\n",
      "\n",
      "CD  CC  NN  CC   KLD: 9.056851770498383e-05 freq: 0.00020664096118078504 count: 4156\n",
      "instance             rel. freq.\n",
      "29 & action=historysubmit & 0.033152\n",
      "29 & diff=prev &     0.026794\n",
      "27_noticeboard\\/Incidents & diff=prev & 0.022934\n",
      "22 & hl=en &         0.018392\n",
      "3ALog & type=block & 0.009991\n",
      "\n"
     ]
    }
   ],
   "source": [
    "print_top_instances(top_pos_central4, top_pos_instances_central4, fourgram_freq, fourgram_counts)"
   ]
  },
  {
   "cell_type": "code",
   "execution_count": 38,
   "metadata": {},
   "outputs": [
    {
     "name": "stdout",
     "output_type": "stream",
     "text": [
      "Top anti-indicative trigrams (admins)\n",
      "   n-gram    KLD weight\n",
      "NNP NNP NNP NNP  -0.001892\n",
      "IN  DT  NNP NNP  -0.000272\n",
      "NN  IN  DT  NNP  -0.000236\n",
      "DT  NNP NNP NNP  -0.000186\n",
      "IN  DT  NNP NN   -0.000165\n",
      "JJ  NNP NNP NNP  -0.000157\n",
      "DT  NN  IN  DT   -0.000156\n",
      "IN  DT  NN  IN   -0.000152\n",
      "NN  NN  NN  NN   -0.000142\n",
      "NNP NNP IN  NNP  -0.000125\n",
      "NNP NNP ,   NNP  -0.000123\n",
      "NNP ,   NNP NNP  -0.000117\n",
      "NN  CC  NN  CC   -0.000116\n",
      "DT  JJ  NN  IN   -0.000115\n",
      "DT  NNP NNP NN   -0.000115\n",
      "JJ  NN  IN  DT   -0.000111\n",
      "NNP IN  NNP NNP  -0.000107\n",
      "NNP NNP NNP ''   -0.000104\n",
      "NNP NNP NNP (    -0.000102\n",
      "NN  IN  DT  JJ   -0.000102\n",
      "\n",
      "Top anti-indicative trigrams (highly central)\n",
      "   n-gram    KLD weight\n",
      "NNP NNP NNP NNP  -0.001865\n",
      "IN  DT  NNP NNP  -0.000262\n",
      "NNP NNP NNP NN   -0.000233\n",
      "DT  NNP NNP NNP  -0.000231\n",
      "NN  IN  DT  NNP  -0.000202\n",
      "JJ  NNP NNP NNP  -0.000186\n",
      "DT  NN  IN  DT   -0.000183\n",
      "NN  NNP NNP NNP  -0.000175\n",
      "NN  NN  NN  NN   -0.000175\n",
      "NN  :   NN  :    -0.000164\n",
      "NN  :   NNP NNP  -0.000145\n",
      "NNP NNP NNP .    -0.000144\n",
      "NN  ''  NN  ''   -0.000128\n",
      ":   NN  :   NNP  -0.000127\n",
      "NNP NNP NNP IN   -0.000111\n",
      "NN  IN  DT  NN   -0.000108\n",
      "NN  IN  NNP NNP  -0.000102\n",
      "NN  NN  NNP NNP  -0.000098\n",
      "DT  NN  IN  NNP  -0.000098\n",
      "NN  NNP NN  NNP  -0.000097\n"
     ]
    }
   ],
   "source": [
    "print(\"Top anti-indicative trigrams (admins)\")\n",
    "print_top_pos(top_neg_admin4)\n",
    "print()\n",
    "print(\"Top anti-indicative trigrams (highly central)\")\n",
    "print_top_pos(top_neg_central4)"
   ]
  },
  {
   "cell_type": "code",
   "execution_count": null,
   "metadata": {},
   "outputs": [],
   "source": []
  },
  {
   "cell_type": "code",
   "execution_count": 39,
   "metadata": {},
   "outputs": [],
   "source": [
    "central_from_admin_diverg3 = KLD(trigram_freq_central, trigram_freq_admin)\n",
    "admin_from_central_diverg3 = KLD(trigram_freq_admin, trigram_freq_central)\n",
    "central_from_admin_diverg4 = KLD(fourgram_freq_central, fourgram_freq_admin)\n",
    "admin_from_central_diverg4 = KLD(fourgram_freq_admin, fourgram_freq_central)"
   ]
  },
  {
   "cell_type": "code",
   "execution_count": 40,
   "metadata": {},
   "outputs": [
    {
     "name": "stdout",
     "output_type": "stream",
     "text": [
      "Central-from-admin 3-gram KLD:\t 0.007223121496530654\n",
      "Admin-from-central 3-gram KLD:\t 0.0084140362767782\n",
      "Central-from-admin 4-gram KLD:\t 0.018148856571174276\n",
      "Admin-from-central 4-gram KLD:\t 0.03756643745308383\n"
     ]
    }
   ],
   "source": [
    "print(\"Central-from-admin 3-gram KLD:\\t\", sum(central_from_admin_diverg3.values()))\n",
    "print(\"Admin-from-central 3-gram KLD:\\t\", sum(admin_from_central_diverg3.values()))\n",
    "\n",
    "print(\"Central-from-admin 4-gram KLD:\\t\", sum(central_from_admin_diverg4.values()))\n",
    "print(\"Admin-from-central 4-gram KLD:\\t\", sum(admin_from_central_diverg4.values()))"
   ]
  },
  {
   "cell_type": "code",
   "execution_count": null,
   "metadata": {},
   "outputs": [],
   "source": []
  }
 ],
 "metadata": {
  "kernelspec": {
   "display_name": "lasn",
   "language": "python",
   "name": "lasn"
  },
  "language_info": {
   "codemirror_mode": {
    "name": "ipython",
    "version": 3
   },
   "file_extension": ".py",
   "mimetype": "text/x-python",
   "name": "python",
   "nbconvert_exporter": "python",
   "pygments_lexer": "ipython3",
   "version": "3.7.0"
  }
 },
 "nbformat": 4,
 "nbformat_minor": 2
}
