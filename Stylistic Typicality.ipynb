{
 "cells": [
  {
   "cell_type": "code",
   "execution_count": 8,
   "metadata": {},
   "outputs": [
    {
     "data": {
      "application/vnd.jupyter.widget-view+json": {
       "model_id": "850e334a2f2446a692fe48b0d5f15105",
       "version_major": 2,
       "version_minor": 0
      },
      "text/plain": [
       "HBox(children=(IntProgress(value=1, bar_style='info', max=1), HTML(value='')))"
      ]
     },
     "metadata": {},
     "output_type": "display_data"
    },
    {
     "name": "stdout",
     "output_type": "stream",
     "text": [
      "\n"
     ]
    }
   ],
   "source": [
    "from data import wiki\n",
    "from data import corpus\n",
    "import wham\n",
    "\n",
    "import nltk\n",
    "import pandas as pd\n",
    "import pickle\n",
    "from tqdm import tqdm_notebook as tqdm\n",
    "\n",
    "tqdm().pandas()"
   ]
  },
  {
   "cell_type": "code",
   "execution_count": 9,
   "metadata": {},
   "outputs": [
    {
     "name": "stderr",
     "output_type": "stream",
     "text": [
      "Reading users file.: 100%|██████████| 26397/26397 [00:00<00:00, 339974.28it/s]\n",
      "Reading admins file.: 100%|██████████| 1949/1949 [00:00<00:00, 69111.36it/s]\n"
     ]
    },
    {
     "name": "stdout",
     "output_type": "stream",
     "text": [
      "Computed eigenvector centrality for 25633 users. Eigenvalue was 488.93710835096704.\n"
     ]
    }
   ],
   "source": [
    "posts = wiki.load_posts()\n",
    "pairs = corpus.get_reply_pairs(posts)\n",
    "users = wiki.create_users(posts=posts)\n",
    "network = corpus.create_network(pairs)\n",
    "users = corpus.compute_centrality(users, network, normalize=True, overwrite=True)"
   ]
  },
  {
   "cell_type": "code",
   "execution_count": 10,
   "metadata": {},
   "outputs": [
    {
     "name": "stderr",
     "output_type": "stream",
     "text": [
      "/Users/xnobwi/ShareFile/Personal Folders/Research/LASN/lasn/data/corpus.py:32: UserWarning: Posts are already PoS tagged. Skipping tagging.\n",
      "  warnings.warn(\"Posts are already PoS tagged. Skipping tagging.\")\n"
     ]
    }
   ],
   "source": [
    "posts = corpus.pos_tag_posts(posts)"
   ]
  },
  {
   "cell_type": "code",
   "execution_count": 11,
   "metadata": {},
   "outputs": [],
   "source": [
    "wiki.save_posts(posts, overwrite=True)"
   ]
  },
  {
   "cell_type": "code",
   "execution_count": 12,
   "metadata": {},
   "outputs": [
    {
     "name": "stdout",
     "output_type": "stream",
     "text": [
      "111589\n",
      "242860\n"
     ]
    }
   ],
   "source": [
    "df = pd.merge(posts, users, left_on='user', right_index=True)\n",
    "print(len(df[df.admin]))\n",
    "print(len(df[~df.admin]))"
   ]
  },
  {
   "cell_type": "code",
   "execution_count": 13,
   "metadata": {},
   "outputs": [
    {
     "data": {
      "application/vnd.jupyter.widget-view+json": {
       "model_id": "e7eb1edb3ddd4e3db39fbf964cda8f1c",
       "version_major": 2,
       "version_minor": 0
      },
      "text/plain": [
       "HBox(children=(IntProgress(value=0, max=354449), HTML(value='')))"
      ]
     },
     "metadata": {},
     "output_type": "display_data"
    },
    {
     "name": "stdout",
     "output_type": "stream",
     "text": [
      "\n"
     ]
    }
   ],
   "source": [
    "from collections import Counter\n",
    "def get_ngrams(n, tokens):\n",
    "    return zip(*(tokens[i:] for i in range(n)))\n",
    "\n",
    "pos_trigrams = df.pos_tags.progress_apply(lambda x: Counter(list(get_ngrams(3, x))))\n",
    "df['pos_trigrams'] = pos_trigrams"
   ]
  },
  {
   "cell_type": "code",
   "execution_count": 14,
   "metadata": {},
   "outputs": [],
   "source": [
    "# trigram_counts = Counter()\n",
    "# for c in tqdm(df.pos_trigrams):\n",
    "#     trigram_counts += c\n",
    "with open('trigram_counts.pickle', 'rb') as f:\n",
    "    trigram_counts = pickle.load(f)"
   ]
  },
  {
   "cell_type": "code",
   "execution_count": 15,
   "metadata": {},
   "outputs": [
    {
     "data": {
      "application/vnd.jupyter.widget-view+json": {
       "model_id": "956f3d14935d412dbcd5c358fc6177bb",
       "version_major": 2,
       "version_minor": 0
      },
      "text/plain": [
       "HBox(children=(IntProgress(value=0, max=111589), HTML(value='')))"
      ]
     },
     "metadata": {},
     "output_type": "display_data"
    },
    {
     "name": "stdout",
     "output_type": "stream",
     "text": [
      "\n"
     ]
    }
   ],
   "source": [
    "trigram_counts_admin = Counter()\n",
    "for c in tqdm(df[df.admin].pos_trigrams):\n",
    "    trigram_counts_admin += c"
   ]
  },
  {
   "cell_type": "code",
   "execution_count": 16,
   "metadata": {},
   "outputs": [
    {
     "data": {
      "text/plain": [
       "False    316591\n",
       "True      37858\n",
       "Name: highly_central, dtype: int64"
      ]
     },
     "execution_count": 16,
     "metadata": {},
     "output_type": "execute_result"
    }
   ],
   "source": [
    "threshold = users.centrality.mean() + users.centrality.std()\n",
    "df['highly_central'] = (df['centrality'] > threshold)\n",
    "df.highly_central.value_counts()"
   ]
  },
  {
   "cell_type": "code",
   "execution_count": 17,
   "metadata": {},
   "outputs": [
    {
     "data": {
      "application/vnd.jupyter.widget-view+json": {
       "model_id": "b52bdcd6395447719c58af73c993d9a9",
       "version_major": 2,
       "version_minor": 0
      },
      "text/plain": [
       "HBox(children=(IntProgress(value=0, max=37858), HTML(value='')))"
      ]
     },
     "metadata": {},
     "output_type": "display_data"
    },
    {
     "name": "stdout",
     "output_type": "stream",
     "text": [
      "\n"
     ]
    }
   ],
   "source": [
    "trigram_counts_central = Counter()\n",
    "for c in tqdm(df[df.highly_central].pos_trigrams):\n",
    "    trigram_counts_central += c"
   ]
  },
  {
   "cell_type": "code",
   "execution_count": 18,
   "metadata": {},
   "outputs": [],
   "source": [
    "import math\n",
    "\n",
    "def KLD(P, Q):\n",
    "    return {i: P[i] * math.log(P[i] / Q[i], 2) if i in P else 0 for i in Q}\n",
    "\n",
    "def count_to_freq(counter):\n",
    "    total = sum(counter.values())\n",
    "    return {i: counter[i]/total for i in counter}"
   ]
  },
  {
   "cell_type": "code",
   "execution_count": 19,
   "metadata": {},
   "outputs": [],
   "source": [
    "trigram_freq = count_to_freq(trigram_counts)\n",
    "trigram_freq_admin = count_to_freq(trigram_counts_admin)\n",
    "trigram_freq_central = count_to_freq(trigram_counts_central)"
   ]
  },
  {
   "cell_type": "code",
   "execution_count": 20,
   "metadata": {},
   "outputs": [],
   "source": [
    "admin_diverg = KLD(trigram_freq_admin, trigram_freq)\n",
    "central_diverg = KLD(trigram_freq_central, trigram_freq)"
   ]
  },
  {
   "cell_type": "code",
   "execution_count": 21,
   "metadata": {},
   "outputs": [],
   "source": [
    "pos_admin_diverg = {k:v for (k,v) in admin_diverg.items() if v >= 0}\n",
    "neg_admin_diverg = {k:v for (k,v) in admin_diverg.items() if v < 0}\n",
    "\n",
    "pos_central_diverg = {k:v for (k,v) in central_diverg.items() if v >= 0}\n",
    "neg_central_diverg = {k:v for (k,v) in central_diverg.items() if v < 0}\n",
    "\n",
    "top_pos_admin = sorted(pos_admin_diverg.items(), key=lambda x: x[1], reverse=True)[:20]\n",
    "top_neg_admin = sorted(neg_admin_diverg.items(), key=lambda x: x[1], reverse=False)[:20]\n",
    "\n",
    "top_pos_central = sorted(pos_central_diverg.items(), key=lambda x: x[1], reverse=True)[:20]\n",
    "top_neg_central = sorted(neg_central_diverg.items(), key=lambda x: x[1], reverse=False)[:20]"
   ]
  },
  {
   "cell_type": "code",
   "execution_count": 169,
   "metadata": {},
   "outputs": [],
   "source": [
    "def find_sub_list(sl,l):\n",
    "    results=[]\n",
    "    sll=len(sl)\n",
    "    for ind in (i for i,e in enumerate(l) if e==sl[0]):\n",
    "        if l[ind:ind+sll]==sl:\n",
    "            results.append((ind,ind+sll-1))\n",
    "    return results\n",
    "\n",
    "def get_top_instances(top, ngram_row='pos_trigrams'):\n",
    "    top_instances = {pos[0]: Counter() for pos in top}\n",
    "    for _, row in tqdm(df.iterrows(), total=len(df)):\n",
    "        for pos_ngram, _ in top:\n",
    "            if pos_ngram in row[ngram_row]:\n",
    "                locs = find_sub_list(list(pos_ngram), row['pos_tags'])\n",
    "                ngrams = [tuple(row['tokens'][loc[0]:loc[1]+1]) for loc in locs]\n",
    "                top_instances[pos_ngram].update(ngrams)\n",
    "    return top_instances"
   ]
  },
  {
   "cell_type": "code",
   "execution_count": null,
   "metadata": {},
   "outputs": [],
   "source": [
    "top_pos_instances_admin = get_top_instances(top_pos_admin)\n",
    "top_neg_instances_admin = get_top_instances(top_neg_admin)\n",
    "top_pos_instances_central = get_top_instances(top_pos_central)\n",
    "top_neg_instances_central = get_top_instances(top_neg_central)"
   ]
  },
  {
   "cell_type": "code",
   "execution_count": 29,
   "metadata": {},
   "outputs": [
    {
     "data": {
      "text/plain": [
       "False    30762\n",
       "True       138\n",
       "Name: highly_central, dtype: int64"
      ]
     },
     "execution_count": 29,
     "metadata": {},
     "output_type": "execute_result"
    }
   ],
   "source": [
    "users['highly_central'] = (users['centrality'] > threshold)\n",
    "users.highly_central.value_counts()"
   ]
  },
  {
   "cell_type": "code",
   "execution_count": 94,
   "metadata": {},
   "outputs": [],
   "source": [
    "def print_top_pos(top_pos):\n",
    "    print('{:^12} {:^8}'.format('n-gram', 'KLD weight'))\n",
    "    for (pos_seq, kld) in top_pos:\n",
    "        pos_str = ('{:3} '*len(pos_seq)).format(*pos_seq)\n",
    "        print(\"{} {:.6f}\".format(pos_str, kld))"
   ]
  },
  {
   "cell_type": "code",
   "execution_count": 132,
   "metadata": {},
   "outputs": [],
   "source": [
    "def print_top_instances(top, instances, freqs, counts):\n",
    "    for pos, kld in top:\n",
    "        freq = freqs[pos]\n",
    "        count = counts[pos]\n",
    "        pos_str = ('{:3} '*len(pos)).format(*pos)\n",
    "        print(pos_str, 'KLD:', kld, 'freq:', freq, 'count:', count)\n",
    "        top_inst = count_to_freq(instances[pos]) \n",
    "        top_inst = sorted(top_inst.items(), key=lambda x: x[1], reverse=True)[:5] # display top 5\n",
    "        print('{:20} {:8}'.format('instance', 'rel. freq.'))\n",
    "        for inst, freq in top_inst:\n",
    "            print('{:20} {:.6f}'.format(' '.join(inst), freq))\n",
    "        print()"
   ]
  },
  {
   "cell_type": "code",
   "execution_count": 30,
   "metadata": {},
   "outputs": [
    {
     "name": "stdout",
     "output_type": "stream",
     "text": [
      "Admin pop\t 1754\n",
      "Admin posts\t 111589\n",
      "Admin KLD\t 0.011643954774979318\n",
      "\n",
      "Central pop\t 138\n",
      "Central posts\t 37858\n",
      "Central KLD\t 0.03923107604227925\n"
     ]
    }
   ],
   "source": [
    "print(\"Admin pop\\t\", len(users[users.admin]))\n",
    "print(\"Admin posts\\t\", len(df[df.admin]))\n",
    "print(\"Admin KLD\\t\", sum(admin_diverg.values()))\n",
    "print()\n",
    "print(\"Central pop\\t\", len(users[users.highly_central]))\n",
    "print(\"Central posts\\t\", len(df[df.highly_central]))\n",
    "print(\"Central KLD\\t\", sum(central_diverg.values()))"
   ]
  },
  {
   "cell_type": "code",
   "execution_count": 104,
   "metadata": {},
   "outputs": [
    {
     "name": "stdout",
     "output_type": "stream",
     "text": [
      "Top indicative trigrams (admins)\n",
      "   n-gram    KLD weight\n",
      "NNP NNP :    0.001029\n",
      "NNP :   NNP  0.000908\n",
      "PRP MD  VB   0.000699\n",
      ":   NNP NNP  0.000689\n",
      "IN  PRP VBP  0.000574\n",
      "JJ  NNP :    0.000557\n",
      ",   CC  PRP  0.000495\n",
      "NN  .   :    0.000475\n",
      "NN  ,   CC   0.000435\n",
      "DT  NN  ,    0.000412\n",
      "JJ  TO  VB   0.000349\n",
      "MD  RB  VB   0.000344\n",
      ".   :   )    0.000340\n",
      "VB  DT  NN   0.000334\n",
      ",   PRP MD   0.000324\n",
      "''  RB  :    0.000301\n",
      "CC  ''  NN   0.000296\n",
      "PRP VBP JJ   0.000289\n",
      "VB  TO  VB   0.000283\n",
      "NN  TO  VB   0.000279\n",
      "\n",
      "Top indicative trigrams (highly central)\n",
      "   n-gram    KLD weight\n",
      ".   :   )    0.001921\n",
      "PRP VBP RB   0.001061\n",
      "IN  DT  NN   0.000947\n",
      "PRP VBP JJ   0.000798\n",
      "DT  NN  ,    0.000746\n",
      ".   PRP VBP  0.000677\n",
      "PRP MD  VB   0.000641\n",
      "TO  VB  IN   0.000632\n",
      ",   CC  PRP  0.000603\n",
      "''  VBZ NN   0.000567\n",
      "NN  ,   CC   0.000555\n",
      "VBZ NN  NN   0.000551\n",
      "VBP RB  VB   0.000515\n",
      ".   ''  ''   0.000508\n",
      ":   PRP VBP  0.000497\n",
      "IN  PRP VBP  0.000455\n",
      "VB  TO  VB   0.000435\n",
      "MD  RB  VB   0.000421\n",
      ".   NNP ,    0.000419\n",
      "CC  PRP VBP  0.000408\n"
     ]
    }
   ],
   "source": [
    "print(\"Top indicative trigrams (admins)\")\n",
    "print_top_pos(top_pos_admin)\n",
    "print()\n",
    "print(\"Top indicative trigrams (highly central)\")\n",
    "print_top_pos(top_pos_central)"
   ]
  },
  {
   "cell_type": "code",
   "execution_count": 149,
   "metadata": {},
   "outputs": [
    {
     "name": "stdout",
     "output_type": "stream",
     "text": [
      "NNP NNP :    KLD: 0.0010285035822041127 freq: 0.002995493612019941 count: 61288\n",
      "instance             rel. freq.\n",
      "[ WP :               0.295294\n",
      "[ User :             0.230665\n",
      "[ Wikipedia :        0.218526\n",
      "[ Special :          0.034689\n",
      "] ] -                0.021162\n",
      "\n",
      "NNP :   NNP  KLD: 0.0009084737661793094 freq: 0.0028204208715445554 count: 57706\n",
      "instance             rel. freq.\n",
      "Wikipedia : Criteria 0.012962\n",
      "WP : CSD             0.009982\n",
      "WP : RS              0.009652\n",
      "Wikipedia : Media    0.009514\n",
      "WP : V               0.008595\n",
      "\n",
      "PRP MD  VB   KLD: 0.0006989988217194979 freq: 0.0074848239744278455 count: 153140\n",
      "instance             rel. freq.\n",
      "it would be          0.024755\n",
      "I 'd like            0.014183\n",
      "I would like         0.012949\n",
      "it should be         0.012831\n",
      "I 'll be             0.011865\n",
      "\n",
      ":   NNP NNP  KLD: 0.0006894492687301764 freq: 0.0027750642263292685 count: 56778\n",
      "instance             rel. freq.\n",
      ": RS ]               0.008930\n",
      ": V ]                0.007397\n",
      ": Monotype Corsiva   0.007256\n",
      ": BLP ]              0.007168\n",
      ": Consensus|consensus ] 0.006270\n",
      "\n",
      "IN  PRP VBP  KLD: 0.0005741059322565479 freq: 0.004982486127733599 count: 101942\n",
      "instance             rel. freq.\n",
      "If you have          0.038993\n",
      "if you have          0.023376\n",
      "that you have        0.021326\n",
      "that you are         0.019099\n",
      "if you want          0.018736\n",
      "\n",
      "JJ  NNP :    KLD: 0.0005573336781763727 freq: 0.0011748739630227018 count: 24038\n",
      "instance             rel. freq.\n",
      "[ Wikipedia :        0.493968\n",
      "[ WP :               0.334387\n",
      "[ User :             0.085614\n",
      "[ Template :         0.022839\n",
      "] ] --               0.006032\n",
      "\n",
      ",   CC  PRP  KLD: 0.0004951565213662961 freq: 0.0022888976854279117 count: 46831\n",
      "instance             rel. freq.\n",
      ", but I              0.361086\n",
      ", and I              0.244710\n",
      ", but it             0.121607\n",
      ", and it             0.070060\n",
      ", but you            0.043924\n",
      "\n",
      "NN  .   :    KLD: 0.00047544730252520935 freq: 0.0014630939380599292 count: 29935\n",
      "instance             rel. freq.\n",
      "< ! --               0.101921\n",
      "] . --               0.025288\n",
      "page . --            0.024353\n",
      "article . --         0.020912\n",
      "time . --            0.009788\n",
      "\n",
      "NN  ,   CC   KLD: 0.00043464868379632993 freq: 0.0026220833001182253 count: 53648\n",
      "instance             rel. freq.\n",
      "article , and        0.024530\n",
      "page , and           0.024176\n",
      "article , but        0.019758\n",
      "page , but           0.017279\n",
      "] , and              0.010569\n",
      "\n",
      "DT  NN  ,    KLD: 0.0004117405408922502 freq: 0.0031908008903392153 count: 65284\n",
      "instance             rel. freq.\n",
      "the article ,        0.057916\n",
      "the way ,            0.032504\n",
      "the page ,           0.015195\n",
      "any case ,           0.012760\n",
      "this case ,          0.011121\n",
      "\n",
      "JJ  TO  VB   KLD: 0.0003487158631102547 freq: 0.0019938839887474464 count: 40795\n",
      "instance             rel. freq.\n",
      "likely to be         0.012624\n",
      "free to ask          0.010884\n",
      "able to help         0.009805\n",
      "able to find         0.009634\n",
      "happy to help        0.008212\n",
      "\n",
      "MD  RB  VB   KLD: 0.000343727597046823 freq: 0.002918709894742769 count: 59717\n",
      "instance             rel. freq.\n",
      "should not be        0.021887\n",
      "wo n't be            0.018889\n",
      "should n't be        0.018069\n",
      "ca n't be            0.018052\n",
      "can not be           0.016327\n",
      "\n",
      ".   :   )    KLD: 0.0003398520849684353 freq: 0.0004652477433236167 count: 9519\n",
      "instance             rel. freq.\n",
      ". : )                0.641769\n",
      "! : )                0.168715\n",
      ". ; )                0.085198\n",
      "? : )                0.059565\n",
      "! ; )                0.025108\n",
      "\n",
      "VB  DT  NN   KLD: 0.00033411335315110887 freq: 0.005055946297732065 count: 103445\n",
      "instance             rel. freq.\n",
      "take a look          0.025936\n",
      "have a look          0.010498\n",
      "keep an eye          0.007734\n",
      "find a list          0.006690\n",
      "improve the article  0.005829\n",
      "\n",
      ",   PRP MD   KLD: 0.0003243493511141481 freq: 0.0016402194577368686 count: 33559\n",
      "instance             rel. freq.\n",
      ", I 'll              0.123752\n",
      ", I would            0.093596\n",
      ", I 'd               0.078310\n",
      ", I will             0.069639\n",
      ", you can            0.066510\n",
      "\n",
      "''  RB  :    KLD: 0.00030062116186188923 freq: 0.00020747732644277265 count: 4245\n",
      "instance             rel. freq.\n",
      "'' font-family :     0.986337\n",
      "'' here ;            0.000707\n",
      "'' here :            0.000707\n",
      "'' too :             0.000707\n",
      "'' too ...           0.000471\n",
      "\n",
      "CC  ''  NN   KLD: 0.0002957467715850177 freq: 0.0002510255709328811 count: 5136\n",
      "instance             rel. freq.\n",
      "\\ '' >               0.818341\n",
      "\\ '' |               0.145444\n",
      "\\ '' size=\\          0.007204\n",
      "\\ '' color=\\         0.004283\n",
      "\\ '' class=\\         0.002531\n",
      "\n",
      "PRP VBP JJ   KLD: 0.00028854697393355396 freq: 0.0019944704970907474 count: 40807\n",
      "instance             rel. freq.\n",
      "I 'm sure            0.056608\n",
      "I 'm sorry           0.043228\n",
      "You 're welcome      0.037224\n",
      "I 'm glad            0.030657\n",
      "I 'm afraid          0.028157\n",
      "\n",
      "VB  TO  VB   KLD: 0.0002828513435158768 freq: 0.0020412445374690122 count: 41764\n",
      "instance             rel. freq.\n",
      "need to be           0.023609\n",
      "seem to be           0.018605\n",
      "have to be           0.018317\n",
      "like to see          0.014486\n",
      "like to know         0.013193\n",
      "\n",
      "NN  TO  VB   KLD: 0.00027865728932818963 freq: 0.0027965206565550346 count: 57217\n",
      "instance             rel. freq.\n",
      "nothing to do        0.013842\n",
      "thing to do          0.007515\n",
      "article to address   0.007061\n",
      "way to go            0.006117\n",
      "time to do           0.005313\n",
      "\n"
     ]
    }
   ],
   "source": [
    "print_top_instances(top_pos_admin, top_pos_instances_admin, trigram_freq, trigram_counts)"
   ]
  },
  {
   "cell_type": "code",
   "execution_count": 123,
   "metadata": {},
   "outputs": [
    {
     "name": "stdout",
     "output_type": "stream",
     "text": [
      ".   :   )    KLD: 0.001921269043920664 freq: 0.0004652477433236167 count: 9519\n",
      "instance             rel. freq.\n",
      ". : )                0.641769\n",
      "! : )                0.168715\n",
      ". ; )                0.085198\n",
      "? : )                0.059565\n",
      "! ; )                0.025108\n",
      "\n",
      "PRP VBP RB   KLD: 0.0010614612088188896 freq: 0.0048782342697118244 count: 99809\n",
      "instance             rel. freq.\n",
      "I do n't             0.226743\n",
      "I 'm not             0.109259\n",
      "you do n't           0.041630\n",
      "I am not             0.036630\n",
      "I have n't           0.028825\n",
      "\n",
      "IN  DT  NN   KLD: 0.0009465187591187016 freq: 0.01461432164420576 count: 299010\n",
      "instance             rel. freq.\n",
      "in the article       0.015224\n",
      "of the article       0.014324\n",
      "on the talk          0.012337\n",
      "on the article       0.009863\n",
      "in the future        0.006378\n",
      "\n",
      "PRP VBP JJ   KLD: 0.0007976618972286392 freq: 0.0019944704970907474 count: 40807\n",
      "instance             rel. freq.\n",
      "I 'm sure            0.056608\n",
      "I 'm sorry           0.043228\n",
      "You 're welcome      0.037224\n",
      "I 'm glad            0.030657\n",
      "I 'm afraid          0.028157\n",
      "\n",
      "DT  NN  ,    KLD: 0.0007458946182803822 freq: 0.0031908008903392153 count: 65284\n",
      "instance             rel. freq.\n",
      "the article ,        0.057916\n",
      "the way ,            0.032504\n",
      "the page ,           0.015195\n",
      "any case ,           0.012760\n",
      "this case ,          0.011121\n",
      "\n",
      ".   PRP VBP  KLD: 0.0006765682036624074 freq: 0.004723640445556703 count: 96646\n",
      "instance             rel. freq.\n",
      ". I 'm               0.131987\n",
      ". I have             0.089543\n",
      ". I do               0.083697\n",
      ". I 've              0.082207\n",
      ". I think            0.069470\n",
      "\n",
      "PRP MD  VB   KLD: 0.0006406836865676652 freq: 0.0074848239744278455 count: 153140\n",
      "instance             rel. freq.\n",
      "it would be          0.024755\n",
      "I 'd like            0.014183\n",
      "I would like         0.012949\n",
      "it should be         0.012831\n",
      "I 'll be             0.011865\n",
      "\n",
      "TO  VB  IN   KLD: 0.0006317197671711857 freq: 0.002149601953893895 count: 43981\n",
      "instance             rel. freq.\n",
      "to do with           0.048976\n",
      "to see if            0.030422\n",
      "to work on           0.027375\n",
      "to look at           0.024624\n",
      "to say that          0.023556\n",
      "\n",
      ",   CC  PRP  KLD: 0.0006028738074477461 freq: 0.0022888976854279117 count: 46831\n",
      "instance             rel. freq.\n",
      ", but I              0.361086\n",
      ", and I              0.244710\n",
      ", but it             0.121607\n",
      ", and it             0.070060\n",
      ", but you            0.043924\n",
      "\n",
      "''  VBZ NN   KLD: 0.0005666459540989512 freq: 0.00012546390977116547 count: 2567\n",
      "instance             rel. freq.\n",
      "'' < font            0.770549\n",
      "'' < span            0.037008\n",
      "'' means \\           0.020647\n",
      "'' [ http            0.010129\n",
      "'' [ [               0.009349\n",
      "\n",
      "NN  ,   CC   KLD: 0.0005554283206221765 freq: 0.0026220833001182253 count: 53648\n",
      "instance             rel. freq.\n",
      "article , and        0.024530\n",
      "page , and           0.024176\n",
      "article , but        0.019758\n",
      "page , but           0.017279\n",
      "] , and              0.010569\n",
      "\n",
      "VBZ NN  NN   KLD: 0.0005508963882139793 freq: 0.000129911598041199 count: 2658\n",
      "instance             rel. freq.\n",
      "< font color=\\       0.577502\n",
      "< font face=\\        0.149360\n",
      "< span style=\\       0.035741\n",
      "font color =\\        0.016930\n",
      "< font style=\\       0.015425\n",
      "\n",
      "VBP RB  VB   KLD: 0.0005146899621192297 freq: 0.002372377372957772 count: 48539\n",
      "instance             rel. freq.\n",
      "do n't know          0.121325\n",
      "do n't think         0.110200\n",
      "do n't have          0.074991\n",
      "do n't see           0.047673\n",
      "do n't want          0.044438\n",
      "\n",
      ".   ''  ''   KLD: 0.0005079783513412631 freq: 0.000212364895970282 count: 4345\n",
      "instance             rel. freq.\n",
      ". ' ''               0.672957\n",
      "! ' ''               0.106099\n",
      "? ' ''               0.085616\n",
      ". ''\\ ''             0.044189\n",
      "? \\ ''               0.013809\n",
      "\n",
      ":   PRP VBP  KLD: 0.0004972831621442039 freq: 0.0005686687145257149 count: 11635\n",
      "instance             rel. freq.\n",
      "; I 'm               0.051053\n",
      "- I 'm               0.042544\n",
      "; I 've              0.036270\n",
      "- I 've              0.035496\n",
      "- I have             0.032230\n",
      "\n",
      "IN  PRP VBP  KLD: 0.0004548097580386149 freq: 0.004982486127733599 count: 101942\n",
      "instance             rel. freq.\n",
      "If you have          0.038993\n",
      "if you have          0.023376\n",
      "that you have        0.021326\n",
      "that you are         0.019099\n",
      "if you want          0.018736\n",
      "\n",
      "VB  TO  VB   KLD: 0.0004347153790102548 freq: 0.0020412445374690122 count: 41764\n",
      "instance             rel. freq.\n",
      "need to be           0.023609\n",
      "seem to be           0.018605\n",
      "have to be           0.018317\n",
      "like to see          0.014486\n",
      "like to know         0.013193\n",
      "\n",
      "MD  RB  VB   KLD: 0.000421284692303719 freq: 0.002918709894742769 count: 59717\n",
      "instance             rel. freq.\n",
      "should not be        0.021887\n",
      "wo n't be            0.018889\n",
      "should n't be        0.018069\n",
      "ca n't be            0.018052\n",
      "can not be           0.016327\n",
      "\n",
      ".   NNP ,    KLD: 0.0004194092848495138 freq: 0.0007381207500444647 count: 15102\n",
      "instance             rel. freq.\n",
      ". Anyway ,           0.117534\n",
      ". Again ,            0.060058\n",
      ". Regards ,          0.037876\n",
      ". Otherwise ,        0.034433\n",
      ". BTW ,              0.034300\n",
      "\n",
      "CC  PRP VBP  KLD: 0.0004075131188661529 freq: 0.0017707664398166438 count: 36230\n",
      "instance             rel. freq.\n",
      "but I 'm             0.071957\n",
      "but I do             0.068645\n",
      "and I 'm             0.063815\n",
      "and I have           0.043003\n",
      "and I do             0.041899\n",
      "\n"
     ]
    }
   ],
   "source": [
    "print_top_instances(top_pos_central, top_pos_instances_central, trigram_freq, trigram_counts)"
   ]
  },
  {
   "cell_type": "code",
   "execution_count": 115,
   "metadata": {},
   "outputs": [
    {
     "name": "stdout",
     "output_type": "stream",
     "text": [
      "Top anti-indicative trigrams (admins)\n",
      "   n-gram    KLD weight\n",
      "NNP NNP NNP  -0.001652\n",
      "IN  DT  NNP  -0.000582\n",
      "NN  IN  DT   -0.000466\n",
      "DT  NNP NNP  -0.000459\n",
      "NNP NNP NN   -0.000293\n",
      "NN  NN  NN   -0.000286\n",
      "NN  IN  NNP  -0.000279\n",
      "NNP ,   NNP  -0.000267\n",
      "DT  NNP NN   -0.000253\n",
      "NNP IN  NNP  -0.000247\n",
      "JJ  NN  IN   -0.000239\n",
      "NNP NNP ''   -0.000237\n",
      "DT  NN  IN   -0.000220\n",
      ".   PRP VBD  -0.000213\n",
      "NN  NNP NN   -0.000212\n",
      "NN  ''  NN   -0.000205\n",
      "NNP NN  NN   -0.000198\n",
      "MD  PRP VB   -0.000194\n",
      "NN  .   PRP  -0.000182\n",
      "NN  CC  NN   -0.000175\n",
      "\n",
      "Top anti-indicative trigrams (highly central)\n",
      "   n-gram    KLD weight\n",
      "NNP NNP NNP  -0.006749\n",
      "NNP NNP NN   -0.001049\n",
      "NN  NNP NNP  -0.001028\n",
      "NN  ''  NN   -0.000985\n",
      "NNP NNP :    -0.000978\n",
      ":   NNP NNP  -0.000978\n",
      "NNP NNP .    -0.000846\n",
      "NNP :   NNP  -0.000814\n",
      "NN  :   NN   -0.000793\n",
      "IN  NNP NNP  -0.000776\n",
      ":   NN  :    -0.000696\n",
      "JJ  NNP NNP  -0.000642\n",
      "IN  DT  NNP  -0.000631\n",
      "DT  NNP NNP  -0.000627\n",
      "NN  IN  NNP  -0.000561\n",
      "NNP NNP ,    -0.000553\n",
      "JJ  NN  ''   -0.000525\n",
      "NN  :   NNP  -0.000521\n",
      "JJ  NN  NN   -0.000496\n",
      "''  NN  ''   -0.000481\n"
     ]
    }
   ],
   "source": [
    "print(\"Top anti-indicative trigrams (admins)\")\n",
    "print_top_pos(top_neg_admin)\n",
    "print()\n",
    "print(\"Top anti-indicative trigrams (highly central)\")\n",
    "print_top_pos(top_neg_central)"
   ]
  },
  {
   "cell_type": "code",
   "execution_count": 131,
   "metadata": {},
   "outputs": [
    {
     "name": "stdout",
     "output_type": "stream",
     "text": [
      "NNP NNP NNP  KLD: -0.001651809956463843 freq: 0.017511379605941662 count: 358284\n",
      "instance             rel. freq.\n",
      "[ [ WP               0.044448\n",
      "[ [ Wikipedia        0.040635\n",
      "[ [ User             0.039536\n",
      "< \\/font >           0.014890\n",
      "] ] <                0.012066\n",
      "\n",
      "IN  DT  NNP  KLD: -0.0005821594907861032 freq: 0.003026138672957425 count: 61915\n",
      "instance             rel. freq.\n",
      "on the [             0.035403\n",
      "at the [             0.025955\n",
      "of the [             0.024291\n",
      "in the [             0.022127\n",
      "for the [            0.008269\n",
      "\n",
      "NN  IN  DT   KLD: -0.0004659622837395458 freq: 0.008467469827933604 count: 173245\n",
      "instance             rel. freq.\n",
      "part of the          0.012635\n",
      "look at the          0.010049\n",
      "top of the           0.005149\n",
      "article on the       0.005016\n",
      "end of the           0.004733\n",
      "\n",
      "DT  NNP NNP  KLD: -0.00045851082751109694 freq: 0.00188875236821072 count: 38644\n",
      "instance             rel. freq.\n",
      "the [ [              0.389401\n",
      "The [ [              0.006883\n",
      "the Arbitration Committee 0.004399\n",
      "the United Kingdom   0.004089\n",
      "the Main Page        0.003985\n",
      "\n",
      "NNP NNP NN   KLD: -0.0002932459541662096 freq: 0.0026356218677094263 count: 53925\n",
      "instance             rel. freq.\n",
      "[ User talk          0.111637\n",
      "[ [ Talk             0.064942\n",
      "] ] article          0.057024\n",
      "> ] ]                0.033102\n",
      "[ Wikipedia talk     0.028132\n",
      "\n",
      "NN  NN  NN   KLD: -0.00028608374835630983 freq: 0.00158611406306734 count: 32452\n",
      "instance             rel. freq.\n",
      "talk page ]          0.032694\n",
      "< b >                0.030907\n",
      "article talk page    0.028812\n",
      "< span style=\\       0.021355\n",
      "page ] ]             0.019136\n",
      "\n",
      "NN  IN  NNP  KLD: -0.0002794303547490264 freq: 0.002826383706368117 count: 57828\n",
      "instance             rel. freq.\n",
      "look at [            0.015633\n",
      "discussion at [      0.013142\n",
      "violation of [       0.004168\n",
      "conformance with Wikipedia 0.003493\n",
      "note on [            0.002905\n",
      "\n",
      "NNP ,   NNP  KLD: -0.00026695039716942426 freq: 0.0011090872771824256 count: 22692\n",
      "instance             rel. freq.\n",
      "] , [                0.207959\n",
      "> , [                0.006831\n",
      "] , \\                0.004848\n",
      "Best , <             0.002732\n",
      "Regards , <          0.002688\n",
      "\n",
      "DT  NNP NN   KLD: -0.0002532779692771846 freq: 0.0015258992064884245 count: 31220\n",
      "instance             rel. freq.\n",
      "any Wikipedia page   0.014958\n",
      "the Talk page        0.009994\n",
      "a Wikipedia article  0.006310\n",
      "the Wikipedia article 0.005509\n",
      "the GA review        0.005189\n",
      "\n",
      "NNP IN  NNP  KLD: -0.0002467470943616104 freq: 0.0009236040136134452 count: 18897\n",
      "instance             rel. freq.\n",
      "Manual of Style      0.021220\n",
      "Register of Historic 0.008308\n",
      "] of [               0.006774\n",
      "] for [              0.005186\n",
      "] on [               0.004921\n",
      "\n",
      "JJ  NN  IN   KLD: -0.0002387135910615494 freq: 0.004518655779572961 count: 92452\n",
      "instance             rel. freq.\n",
      "Good luck with       0.004305\n",
      "] ] from             0.003353\n",
      "large number of      0.003288\n",
      "[ List of            0.002704\n",
      "vast majority of     0.002466\n",
      "\n",
      "NNP NNP ''   KLD: -0.00023710546938931676 freq: 0.000631864988516411 count: 12928\n",
      "instance             rel. freq.\n",
      "] ] ''               0.106513\n",
      "] \\ ''               0.081296\n",
      "New Roman\\ ''        0.043007\n",
      "Kristen ITC\\ ''      0.020653\n",
      "Lucida Calligraphy\\ '' 0.015934\n",
      "\n",
      "DT  NN  IN   KLD: -0.00021990033574099366 freq: 0.010473035107851797 count: 214279\n",
      "instance             rel. freq.\n",
      "a lot of             0.024701\n",
      "a look at            0.017986\n",
      "a couple of          0.012045\n",
      "the fact that        0.009964\n",
      "a list of            0.008092\n",
      "\n",
      ".   PRP VBD  KLD: -0.00021257057184801778 freq: 0.0016280005339180952 count: 33309\n",
      "instance             rel. freq.\n",
      ". I was              0.142364\n",
      ". I did              0.082380\n",
      ". It was             0.065027\n",
      ". I had              0.043472\n",
      ". I thought          0.032754\n",
      "\n",
      "NN  NNP NN   KLD: -0.00021240816268725449 freq: 0.0006518062721886492 count: 13336\n",
      "instance             rel. freq.\n",
      "] [ http             0.050240\n",
      "% D0 %               0.037942\n",
      "> < font             0.037193\n",
      "% C3 %               0.036218\n",
      "> < sup              0.019121\n",
      "\n",
      "NN  ''  NN   KLD: -0.00020503006122331288 freq: 0.0026623079973296273 count: 54471\n",
      "instance             rel. freq.\n",
      "style=\\ '' color     0.045143\n",
      "style=\\ '' border:1px 0.039489\n",
      "color=\\ '' green\\    0.032843\n",
      "style=\\ '' background 0.022599\n",
      "|style=\\ '' vertical-align 0.021351\n",
      "\n",
      "NNP NN  NN   KLD: -0.00019832488982324953 freq: 0.0009568394864005089 count: 19577\n",
      "instance             rel. freq.\n",
      "< sup >              0.040762\n",
      "< span style=\\       0.032589\n",
      "< font color=\\       0.030699\n",
      "< br >               0.012361\n",
      "< font face=\\        0.009450\n",
      "\n",
      "MD  PRP VB   KLD: -0.00019395014865393237 freq: 0.0007948165565635733 count: 16262\n",
      "instance             rel. freq.\n",
      "Can you please       0.037757\n",
      "could you please     0.035727\n",
      "Would you be         0.030624\n",
      "Would you mind       0.030132\n",
      "would you mind       0.020293\n",
      "\n",
      "NN  .   PRP  KLD: -0.00018226224980441553 freq: 0.0033108884736301205 count: 67741\n",
      "instance             rel. freq.\n",
      "article . I          0.034115\n",
      "page . I             0.031930\n",
      "] . I                0.013611\n",
      "time . I             0.010850\n",
      "problem . I          0.008710\n",
      "\n",
      "NN  CC  NN   KLD: -0.00017531880811265206 freq: 0.002312455770550507 count: 47313\n",
      "instance             rel. freq.\n",
      "sa=X & oi=book_result 0.003466\n",
      "oi=book_result & ct=result 0.003339\n",
      "deletion or \\        0.002748\n",
      "copy and paste       0.002684\n",
      "time and effort      0.002684\n",
      "\n"
     ]
    }
   ],
   "source": [
    "print_top_instances(top_neg_admin, top_neg_instances_admin, trigram_freq, trigram_counts)"
   ]
  },
  {
   "cell_type": "code",
   "execution_count": 125,
   "metadata": {},
   "outputs": [
    {
     "name": "stdout",
     "output_type": "stream",
     "text": [
      "NNP NNP NNP  KLD: -0.0067488391135532904 freq: 0.017511379605941662 count: 358284\n",
      "instance             rel. freq.\n",
      "[ [ WP               0.044448\n",
      "[ [ Wikipedia        0.040635\n",
      "[ [ User             0.039536\n",
      "< \\/font >           0.014890\n",
      "] ] <                0.012066\n",
      "\n",
      "NNP NNP NN   KLD: -0.001048698914744547 freq: 0.0026356218677094263 count: 53925\n",
      "instance             rel. freq.\n",
      "[ User talk          0.111637\n",
      "[ [ Talk             0.064942\n",
      "] ] article          0.057024\n",
      "> ] ]                0.033102\n",
      "[ Wikipedia talk     0.028132\n",
      "\n",
      "NN  NNP NNP  KLD: -0.0010279029825061787 freq: 0.00246006037028129 count: 50333\n",
      "instance             rel. freq.\n",
      "deletion ] ]         0.037629\n",
      "article [ [          0.026484\n",
      "page ] ]             0.025252\n",
      "> [ [                0.024338\n",
      "b > <                0.017881\n",
      "\n",
      "NN  ''  NN   KLD: -0.0009852507643142276 freq: 0.0026623079973296273 count: 54471\n",
      "instance             rel. freq.\n",
      "style=\\ '' color     0.045143\n",
      "style=\\ '' border:1px 0.039489\n",
      "color=\\ '' green\\    0.032843\n",
      "style=\\ '' background 0.022599\n",
      "|style=\\ '' vertical-align 0.021351\n",
      "\n",
      "NNP NNP :    KLD: -0.0009782440157252617 freq: 0.002995493612019941 count: 61288\n",
      "instance             rel. freq.\n",
      "[ WP :               0.295294\n",
      "[ User :             0.230665\n",
      "[ Wikipedia :        0.218526\n",
      "[ Special :          0.034689\n",
      "] ] -                0.021162\n",
      "\n",
      ":   NNP NNP  KLD: -0.0009780192944600279 freq: 0.0027750642263292685 count: 56778\n",
      "instance             rel. freq.\n",
      ": RS ]               0.008930\n",
      ": V ]                0.007397\n",
      ": Monotype Corsiva   0.007256\n",
      ": BLP ]              0.007168\n",
      ": Consensus|consensus ] 0.006270\n",
      "\n",
      "NNP NNP .    KLD: -0.0008460132383101815 freq: 0.0024353781441673675 count: 49828\n",
      "instance             rel. freq.\n",
      "] ] .                0.621197\n",
      "] ] ?                0.057558\n",
      "\\/nowiki > .         0.007325\n",
      "] Hello !            0.002930\n",
      "\\/span > .           0.002087\n",
      "\n",
      "NNP :   NNP  KLD: -0.0008138437377173761 freq: 0.0028204208715445554 count: 57706\n",
      "instance             rel. freq.\n",
      "Wikipedia : Criteria 0.012962\n",
      "WP : CSD             0.009982\n",
      "WP : RS              0.009652\n",
      "Wikipedia : Media    0.009514\n",
      "WP : V               0.008595\n",
      "\n",
      "NN  :   NN   KLD: -0.0007932675203312467 freq: 0.0028150934207595703 count: 57597\n",
      "instance             rel. freq.\n",
      "http : \\/\\/en.wikipedia.org\\/w\\/index.php 0.297151\n",
      "[ : Category         0.059864\n",
      "[ : File             0.036669\n",
      "[ : Image            0.026911\n",
      "http : \\/\\/en.wikipedia.org\\/wiki\\/Wikipedia 0.026182\n",
      "\n",
      "IN  NNP NNP  KLD: -0.0007764990594324602 freq: 0.0031896278736526134 count: 65260\n",
      "instance             rel. freq.\n",
      "at [ [               0.195801\n",
      "of [ [               0.087757\n",
      "on [ [               0.075192\n",
      "in [ [               0.043181\n",
      "for [ [              0.035489\n",
      "\n",
      ":   NN  :    KLD: -0.0006961875523991643 freq: 0.0014793695445865353 count: 30268\n",
      "instance             rel. freq.\n",
      ": Category :         0.130534\n",
      "-- Template :        0.112958\n",
      ": File :             0.092210\n",
      "; color :            0.057090\n",
      ": Image :            0.056727\n",
      "\n",
      "JJ  NNP NNP  KLD: -0.0006415066320105608 freq: 0.00198269145452945 count: 40566\n",
      "instance             rel. freq.\n",
      "[ [ User             0.106345\n",
      "small > <            0.052187\n",
      "[ [ WP               0.042104\n",
      "< \\/nowiki >         0.024158\n",
      "< \\/font >           0.011487\n",
      "\n",
      "IN  DT  NNP  KLD: -0.0006312408803038905 freq: 0.003026138672957425 count: 61915\n",
      "instance             rel. freq.\n",
      "on the [             0.035403\n",
      "at the [             0.025955\n",
      "of the [             0.024291\n",
      "in the [             0.022127\n",
      "for the [            0.008269\n",
      "\n",
      "DT  NNP NNP  KLD: -0.0006269905381967112 freq: 0.00188875236821072 count: 38644\n",
      "instance             rel. freq.\n",
      "the [ [              0.389401\n",
      "The [ [              0.006883\n",
      "the Arbitration Committee 0.004399\n",
      "the United Kingdom   0.004089\n",
      "the Main Page        0.003985\n",
      "\n",
      "NN  IN  NNP  KLD: -0.0005606871663188412 freq: 0.002826383706368117 count: 57828\n",
      "instance             rel. freq.\n",
      "look at [            0.015633\n",
      "discussion at [      0.013142\n",
      "violation of [       0.004168\n",
      "conformance with Wikipedia 0.003493\n",
      "note on [            0.002905\n",
      "\n",
      "NNP NNP ,    KLD: -0.000552907193450903 freq: 0.002007227053557547 count: 41068\n",
      "instance             rel. freq.\n",
      "] ] ,                0.533432\n",
      "\\/span > ,           0.006234\n",
      "\\/nowiki > ,         0.004651\n",
      "Mediation Committee , 0.002191\n",
      "Arbitration Committee , 0.001924\n",
      "\n",
      "JJ  NN  ''   KLD: -0.0005247158908825362 freq: 0.0011231634774216527 count: 22980\n",
      "instance             rel. freq.\n",
      "span style=\\ ''      0.173281\n",
      "font face=\\ ''       0.130766\n",
      "font color=\\ ''      0.103003\n",
      "font style=\\ ''      0.028590\n",
      "] \\ ''               0.027415\n",
      "\n",
      "NN  :   NNP  KLD: -0.0005206651072822492 freq: 0.0017097206964180518 count: 34981\n",
      "instance             rel. freq.\n",
      "wikipedia : Criteria 0.013779\n",
      "Category : Wikipedia 0.008147\n",
      "Image : Information.svg|25px 0.005975\n",
      "nbsp ; ThinkBlue     0.004574\n",
      "talk : Did           0.004345\n",
      "\n",
      "JJ  NN  NN   KLD: -0.0004960472963207176 freq: 0.0020587420363774958 count: 42122\n",
      "instance             rel. freq.\n",
      "< font color=\\       0.030293\n",
      "< span style=\\       0.027587\n",
      "< font face=\\        0.018708\n",
      "user talk page       0.007003\n",
      "fair use rationale   0.007003\n",
      "\n",
      "''  NN  ''   KLD: -0.0004812963882963262 freq: 0.0020648514982868826 count: 42247\n",
      "instance             rel. freq.\n",
      "'' > '               0.066253\n",
      "'' green\\ ''         0.042962\n",
      "'' color=\\ ''        0.039316\n",
      "'' \\ ''              0.028854\n",
      "'' blue\\ ''          0.022084\n",
      "\n"
     ]
    }
   ],
   "source": [
    "print_top_instances(top_neg_central, top_neg_instances_central, trigram_freq, trigram_counts)"
   ]
  },
  {
   "cell_type": "code",
   "execution_count": null,
   "metadata": {},
   "outputs": [],
   "source": []
  },
  {
   "cell_type": "code",
   "execution_count": null,
   "metadata": {},
   "outputs": [],
   "source": []
  },
  {
   "cell_type": "code",
   "execution_count": null,
   "metadata": {},
   "outputs": [],
   "source": []
  },
  {
   "cell_type": "code",
   "execution_count": 37,
   "metadata": {},
   "outputs": [
    {
     "data": {
      "application/vnd.jupyter.widget-view+json": {
       "model_id": "f176a48221d94e9495f611969343d3b6",
       "version_major": 2,
       "version_minor": 0
      },
      "text/plain": [
       "HBox(children=(IntProgress(value=0, max=354449), HTML(value='')))"
      ]
     },
     "metadata": {},
     "output_type": "display_data"
    },
    {
     "name": "stdout",
     "output_type": "stream",
     "text": [
      "\n"
     ]
    }
   ],
   "source": [
    "pos_fourgrams = df.pos_tags.progress_apply(lambda x: Counter(list(get_ngrams(4, x))))\n",
    "df['pos_fourgrams'] = pos_fourgrams"
   ]
  },
  {
   "cell_type": "code",
   "execution_count": 38,
   "metadata": {},
   "outputs": [],
   "source": [
    "# fourgrams_counts = Counter()\n",
    "# for c in tqdm(df.pos_fourgrams):\n",
    "#     fourgrams_counts += c\n",
    "with open('fourgram_counts.pickle', 'rb') as f:\n",
    "    fourgram_counts = pickle.load(f)"
   ]
  },
  {
   "cell_type": "code",
   "execution_count": 39,
   "metadata": {},
   "outputs": [
    {
     "data": {
      "application/vnd.jupyter.widget-view+json": {
       "model_id": "36ce1d588f314f679a6a69bdecf60c75",
       "version_major": 2,
       "version_minor": 0
      },
      "text/plain": [
       "HBox(children=(IntProgress(value=0, max=111589), HTML(value='')))"
      ]
     },
     "metadata": {},
     "output_type": "display_data"
    },
    {
     "name": "stdout",
     "output_type": "stream",
     "text": [
      "\n"
     ]
    },
    {
     "data": {
      "application/vnd.jupyter.widget-view+json": {
       "model_id": "f0c32893bc064644b7690e494ca9f7da",
       "version_major": 2,
       "version_minor": 0
      },
      "text/plain": [
       "HBox(children=(IntProgress(value=0, max=37858), HTML(value='')))"
      ]
     },
     "metadata": {},
     "output_type": "display_data"
    },
    {
     "name": "stdout",
     "output_type": "stream",
     "text": [
      "\n"
     ]
    }
   ],
   "source": [
    "fourgram_counts_admin = Counter()\n",
    "for c in tqdm(df[df.admin].pos_fourgrams):\n",
    "    fourgram_counts_admin += c\n",
    "    \n",
    "fourgram_counts_central = Counter()\n",
    "for c in tqdm(df[df.highly_central].pos_fourgrams):\n",
    "    fourgram_counts_central += c"
   ]
  },
  {
   "cell_type": "code",
   "execution_count": 40,
   "metadata": {},
   "outputs": [],
   "source": [
    "fourgram_freq = count_to_freq(fourgram_counts)\n",
    "fourgram_freq_admin = count_to_freq(fourgram_counts_admin)\n",
    "fourgram_freq_central = count_to_freq(fourgram_counts_central)"
   ]
  },
  {
   "cell_type": "code",
   "execution_count": 41,
   "metadata": {},
   "outputs": [],
   "source": [
    "admin_diverg4 = KLD(fourgram_freq_admin, fourgram_freq)\n",
    "central_diverg4 = KLD(fourgram_freq_central, fourgram_freq)"
   ]
  },
  {
   "cell_type": "code",
   "execution_count": 42,
   "metadata": {},
   "outputs": [],
   "source": [
    "pos_admin_diverg4 = {k:v for (k,v) in admin_diverg4.items() if v >= 0}\n",
    "neg_admin_diverg4 = {k:v for (k,v) in admin_diverg4.items() if v < 0}\n",
    "\n",
    "pos_central_diverg4 = {k:v for (k,v) in central_diverg4.items() if v >= 0}\n",
    "neg_central_diverg4 = {k:v for (k,v) in central_diverg4.items() if v < 0}\n",
    "\n",
    "top_pos_admin4 = sorted(pos_admin_diverg4.items(), key=lambda x: x[1], reverse=True)[:20]\n",
    "top_neg_admin4 = sorted(neg_admin_diverg4.items(), key=lambda x: x[1], reverse=False)[:20]\n",
    "\n",
    "top_pos_central4 = sorted(pos_central_diverg4.items(), key=lambda x: x[1], reverse=True)[:20]\n",
    "top_neg_central4 = sorted(neg_central_diverg4.items(), key=lambda x: x[1], reverse=False)[:20]"
   ]
  },
  {
   "cell_type": "code",
   "execution_count": 170,
   "metadata": {},
   "outputs": [
    {
     "data": {
      "application/vnd.jupyter.widget-view+json": {
       "model_id": "3e28bcc102aa4fb9b90d3a4114978caf",
       "version_major": 2,
       "version_minor": 0
      },
      "text/plain": [
       "HBox(children=(IntProgress(value=0, max=354449), HTML(value='')))"
      ]
     },
     "metadata": {},
     "output_type": "display_data"
    },
    {
     "data": {
      "application/vnd.jupyter.widget-view+json": {
       "model_id": "2eb8fd88018f40748fff3b591a81abdc",
       "version_major": 2,
       "version_minor": 0
      },
      "text/plain": [
       "HBox(children=(IntProgress(value=0, max=354449), HTML(value='')))"
      ]
     },
     "metadata": {},
     "output_type": "display_data"
    },
    {
     "data": {
      "application/vnd.jupyter.widget-view+json": {
       "model_id": "43623b8e46164d158ab3c4b1ae1d97ff",
       "version_major": 2,
       "version_minor": 0
      },
      "text/plain": [
       "HBox(children=(IntProgress(value=0, max=354449), HTML(value='')))"
      ]
     },
     "metadata": {},
     "output_type": "display_data"
    },
    {
     "data": {
      "application/vnd.jupyter.widget-view+json": {
       "model_id": "0173a2b39e174d37ab641dfc5a185812",
       "version_major": 2,
       "version_minor": 0
      },
      "text/plain": [
       "HBox(children=(IntProgress(value=0, max=354449), HTML(value='')))"
      ]
     },
     "metadata": {},
     "output_type": "display_data"
    }
   ],
   "source": [
    "top_pos_instances_admin4 = get_top_instances(top_pos_admin4, ngram_row='pos_fourgrams')\n",
    "top_neg_instances_admin4 = get_top_instances(top_neg_admin4, ngram_row='pos_fourgrams')\n",
    "top_pos_instances_central4 = get_top_instances(top_pos_central4, ngram_row='pos_fourgrams')\n",
    "top_neg_instances_central4 = get_top_instances(top_neg_central4, ngram_row='pos_fourgrams')"
   ]
  },
  {
   "cell_type": "code",
   "execution_count": 176,
   "metadata": {},
   "outputs": [
    {
     "name": "stdout",
     "output_type": "stream",
     "text": [
      "Admin KLD\t 0.05295665257277906\n",
      "Central KLD\t 0.15517900441686655\n"
     ]
    }
   ],
   "source": [
    "admin_diverg4 = KLD(fourgram_freq_admin, fourgram_freq)\n",
    "central_diverg4 = KLD(fourgram_freq_central, fourgram_freq)\n",
    "print(\"Admin KLD\\t\", sum(admin_diverg4.values()))\n",
    "print(\"Central KLD\\t\", sum(central_diverg4.values()))"
   ]
  },
  {
   "cell_type": "code",
   "execution_count": 152,
   "metadata": {},
   "outputs": [
    {
     "name": "stdout",
     "output_type": "stream",
     "text": [
      "Top indicative trigrams (admins)\n",
      "   n-gram    KLD weight\n",
      "NNP NNP NNP :    0.000928\n",
      ":   NNP NNP NNP  0.000646\n",
      "NNP :   NNP NNP  0.000613\n",
      "NNP NNP :   NNP  0.000576\n",
      "NN  ''  RB  :    0.000318\n",
      ":   CC  ''  NN   0.000303\n",
      "IN  NNP NNP NNP  0.000298\n",
      "JJ  JJ  NNP :    0.000269\n",
      "JJ  NNP :   NNP  0.000261\n",
      "IN  DT  NN  ,    0.000257\n",
      ",   PRP MD  VB   0.000249\n",
      "''  RB  :   NNP  0.000248\n",
      "NN  :   CC  ''   0.000234\n",
      ":   NN  :   CC   0.000232\n",
      "PRP MD  RB  VB   0.000206\n",
      "DT  NN  ,   CC   0.000204\n",
      "JJ  NN  ''  RB   0.000199\n",
      "#   CD  :   NN   0.000197\n",
      "VBD #   CD  :    0.000194\n",
      "DT  NN  .   :    0.000192\n",
      "\n",
      "Top indicative trigrams (highly central)\n",
      "   n-gram    KLD weight\n",
      ".   ''  ''  VBZ  0.000691\n",
      "NN  NN  ''  #    0.000658\n",
      "''  ''  VBZ NN   0.000625\n",
      "''  VBZ NN  NN   0.000606\n",
      "VBZ NN  NN  ''   0.000594\n",
      "IN  DT  NN  ,    0.000556\n",
      ",   CC  NN  :    0.000515\n",
      "NN  .   :   )    0.000495\n",
      ".   NNP ,   CC   0.000441\n",
      "NNP ,   CC  NN   0.000435\n",
      "NNS IN  DT  NN   0.000386\n",
      "PRP VBP JJ  .    0.000369\n",
      ".   :   )   PRP  0.000368\n",
      ".   PRP VBP RB   0.000343\n",
      "JJ  .   :   )    0.000342\n",
      ",   CC  PRP VBP  0.000325\n",
      "DT  NN  ,   CC   0.000302\n",
      ".   :   ''  ''   0.000302\n",
      "PRP VBP RB  VB   0.000301\n",
      ".   CC  NN  :    0.000300\n"
     ]
    }
   ],
   "source": [
    "print(\"Top indicative trigrams (admins)\")\n",
    "print_top_pos(top_pos_admin4)\n",
    "print()\n",
    "print(\"Top indicative trigrams (highly central)\")\n",
    "print_top_pos(top_pos_central4)"
   ]
  },
  {
   "cell_type": "code",
   "execution_count": 172,
   "metadata": {},
   "outputs": [
    {
     "name": "stdout",
     "output_type": "stream",
     "text": [
      "NNP NNP NNP :    KLD: 0.0009275431459103214 freq: 0.0024572175894019242 count: 49420\n",
      "instance             rel. freq.\n",
      "[ [ WP :             0.322197\n",
      "[ [ Wikipedia :      0.270538\n",
      "[ [ User :           0.188810\n",
      "[ [ Special :        0.041279\n",
      "[ [ User_talk :      0.024727\n",
      "\n",
      ":   NNP NNP NNP  KLD: 0.000646103013974396 freq: 0.002209755591375753 count: 44443\n",
      "instance             rel. freq.\n",
      ": RS ] ]             0.010778\n",
      ": V ] ]              0.009045\n",
      ": BLP ] ]            0.008753\n",
      ": Consensus|consensus ] ] 0.007988\n",
      ": NPOV ] ]           0.006885\n",
      "\n",
      "NNP :   NNP NNP  KLD: 0.0006128775825352614 freq: 0.0019410129553838994 count: 39038\n",
      "instance             rel. freq.\n",
      "WP : RS ]            0.012680\n",
      "WP : V ]             0.010631\n",
      "WP : BLP ]           0.010093\n",
      "Wikipedia : Consensus|consensus ] 0.008966\n",
      "WP : NPOV ]          0.008223\n",
      "\n",
      "NNP NNP :   NNP  KLD: 0.0005763059619276268 freq: 0.0018547965389528404 count: 37304\n",
      "instance             rel. freq.\n",
      "[ Wikipedia : Media  0.012706\n",
      "[ WP : CSD           0.010160\n",
      "[ WP : RS            0.008873\n",
      "[ WP : V             0.008444\n",
      "[ WP : BLP           0.007104\n",
      "\n",
      "NN  ''  RB  :    KLD: 0.00031764315332991213 freq: 0.00017561498433362193 count: 3532\n",
      "instance             rel. freq.\n",
      "style=\\ '' font-family : 0.978199\n",
      "\\ '' font-family :   0.012741\n",
      "\\xfc\\ '' indifferently ; 0.000566\n",
      "guy\\ '' here ;       0.000283\n",
      "warring\\ '' too ...  0.000283\n",
      "\n",
      ":   CC  ''  NN   KLD: 0.00030273939510463537 freq: 0.000252235225233427 count: 5073\n",
      "instance             rel. freq.\n",
      "; \\ '' >             0.828504\n",
      "; \\ '' |             0.147250\n",
      "; \\ '' size=\\        0.007294\n",
      "; \\ '' color=\\       0.004337\n",
      "; \\ '' class=\\       0.002563\n",
      "\n",
      "IN  NNP NNP NNP  KLD: 0.0002981440505153761 freq: 0.00214954331900089 count: 43232\n",
      "instance             rel. freq.\n",
      "at [ [ Wikipedia     0.087921\n",
      "at [ [ WP            0.052392\n",
      "of [ [ WP            0.033517\n",
      "at [ [ User          0.027503\n",
      "per [ [ WP           0.016030\n",
      "\n",
      "JJ  JJ  NNP :    KLD: 0.0002689160595328653 freq: 0.0005841236794879362 count: 11748\n",
      "instance             rel. freq.\n",
      "[ [ Wikipedia :      0.615339\n",
      "[ [ WP :             0.369595\n",
      "[ [ WT :             0.004341\n",
      "[ [ MOS :            0.004341\n",
      "[ [ MediaWiki :      0.000766\n",
      "\n",
      "JJ  NNP :   NNP  KLD: 0.00026088363462143456 freq: 0.000676903283328972 count: 13614\n",
      "instance             rel. freq.\n",
      "[ Wikipedia : Criteria 0.035111\n",
      "[ Wikipedia : Consensus|consensus 0.024827\n",
      "[ Wikipedia : Blocking 0.018584\n",
      "[ Wikipedia : WikiProject 0.009549\n",
      "[ WP : CSD           0.009329\n",
      "\n",
      "IN  DT  NN  ,    KLD: 0.0002569984863857871 freq: 0.0017294496036456318 count: 34783\n",
      "instance             rel. freq.\n",
      "By the way ,         0.047868\n",
      "In any case ,        0.020039\n",
      "in the article ,     0.019550\n",
      "of the article ,     0.018486\n",
      "at the moment ,      0.012190\n",
      "\n",
      ",   PRP MD  VB   KLD: 0.00024891352689017257 freq: 0.0012619219429182685 count: 25380\n",
      "instance             rel. freq.\n",
      ", it would be        0.031324\n",
      ", I 'd like          0.018991\n",
      ", I 'd be            0.017415\n",
      ", it will be         0.016667\n",
      ", I would like       0.015248\n",
      "\n",
      "''  RB  :   NNP  KLD: 0.000247969714008671 freq: 0.00011709322992799537 count: 2355\n",
      "instance             rel. freq.\n",
      "'' font-family : Monotype 0.174947\n",
      "'' font-family : Verdana 0.125265\n",
      "'' font-family : Verdana\\ 0.123992\n",
      "'' font-family : Bradley 0.122718\n",
      "'' font-family : Times 0.116348\n",
      "\n",
      "NN  :   CC  ''   KLD: 0.00023401485819896168 freq: 0.00023329147975463026 count: 4692\n",
      "instance             rel. freq.\n",
      "padding:1px ; \\ ''   0.322890\n",
      "gray ; \\ ''          0.197357\n",
      "tahoma ; \\ ''        0.102089\n",
      "green ; \\ ''         0.037511\n",
      "% ; \\ ''             0.036658\n",
      "\n",
      ":   NN  :   CC   KLD: 0.00023184043812687783 freq: 0.00016189195611276134 count: 3256\n",
      "instance             rel. freq.\n",
      "; padding:1px ; \\    0.465295\n",
      ": tahoma ; \\         0.147113\n",
      ": cream ; \\          0.048833\n",
      ": nowrap ; \\         0.046376\n",
      ": green ; \\          0.046069\n",
      "\n",
      "PRP MD  RB  VB   KLD: 0.0002055409643662483 freq: 0.0018519624352985322 count: 37247\n",
      "instance             rel. freq.\n",
      "I ca n't find        0.017371\n",
      "I ca n't see         0.011276\n",
      "I wo n't be          0.010041\n",
      "I could n't find     0.009075\n",
      "it ca n't be         0.007571\n",
      "\n",
      "DT  NN  ,   CC   KLD: 0.00020387486115402997 freq: 0.0008097581072642601 count: 16286\n",
      "instance             rel. freq.\n",
      "the article , and    0.035982\n",
      "the article , but    0.027263\n",
      "the page , and       0.010807\n",
      "the moment , but     0.008105\n",
      "a while , but        0.006263\n",
      "\n",
      "JJ  NN  ''  RB   KLD: 0.0001994370270549668 freq: 0.00011470661632436743 count: 2307\n",
      "instance             rel. freq.\n",
      "span style=\\ '' font-family 0.695709\n",
      "font style=\\ '' font-family 0.177287\n",
      "style= \\ '' font-family 0.001734\n",
      "blue-linked entry.\\ '' Secondly 0.001300\n",
      "full days.\\ '' Also  0.001300\n",
      "\n",
      "#   CD  :   NN   KLD: 0.00019713075211679688 freq: 9.993944465191962e-05 count: 2010\n",
      "instance             rel. freq.\n",
      "# 228B22 ; padding:1px 0.152239\n",
      "# 0000ff ; padding:1px 0.125373\n",
      "# 000000 ; padding:1px 0.119403\n",
      "# 800080 ; \\         0.060697\n",
      "# 808 ; padding:1px  0.060697\n",
      "\n",
      "VBD #   CD  :    KLD: 0.00019360394429230888 freq: 5.345020049791721e-05 count: 1075\n",
      "instance             rel. freq.\n",
      "solid # 228B22 ;     0.284651\n",
      "solid # 0000ff ;     0.234419\n",
      "solid # 000000 ;     0.228837\n",
      "solid # 808 ;        0.113488\n",
      "solid # 100 ;        0.016744\n",
      "\n",
      "DT  NN  .   :    KLD: 0.00019186421990718668 freq: 0.0003932443123144439 count: 7909\n",
      "instance             rel. freq.\n",
      "the article . --     0.037931\n",
      "the future . --      0.008851\n",
      "this helps . --      0.007713\n",
      "the article . -      0.006322\n",
      "the project . --     0.005690\n",
      "\n"
     ]
    }
   ],
   "source": [
    "print_top_instances(top_pos_admin4, top_pos_instances_admin4, fourgram_freq, fourgram_counts)"
   ]
  },
  {
   "cell_type": "code",
   "execution_count": 173,
   "metadata": {},
   "outputs": [
    {
     "name": "stdout",
     "output_type": "stream",
     "text": [
      ".   ''  ''  VBZ  KLD: 0.0006908220035745305 freq: 9.33762572419428e-05 count: 1878\n",
      "instance             rel. freq.\n",
      ". ' '' <             0.668797\n",
      "! ' '' <             0.111821\n",
      "? ' '' <             0.073482\n",
      ". ' '' [             0.065495\n",
      "! ' '' [             0.013312\n",
      "\n",
      "NN  NN  ''  #    KLD: 0.0006578125837332128 freq: 9.606119754602423e-05 count: 1932\n",
      "instance             rel. freq.\n",
      "font color=\\ '' #    0.958075\n",
      "color =\\ '' #        0.040373\n",
      "| bgcolor=\\ '' #     0.001553\n",
      "\n",
      "''  ''  VBZ NN   KLD: 0.0006250993273154904 freq: 0.00010396685510804175 count: 2091\n",
      "instance             rel. freq.\n",
      "' '' < font          0.879005\n",
      "'' '' < font         0.044476\n",
      "'' '' < span         0.011000\n",
      "' '' [ [             0.010521\n",
      "' '' [ tk            0.010043\n",
      "\n",
      "''  VBZ NN  NN   KLD: 0.0006062589885314171 freq: 0.00010481211409265997 count: 2108\n",
      "instance             rel. freq.\n",
      "'' < font color=\\    0.728178\n",
      "'' < font face=\\     0.188330\n",
      "'' < span style=\\    0.044118\n",
      "'' < font style=\\    0.019450\n",
      "'' [ tk ]            0.009962\n",
      "\n",
      "VBZ NN  NN  ''   KLD: 0.0005935685306863378 freq: 0.00010779538109719489 count: 2168\n",
      "instance             rel. freq.\n",
      "< font color=\\ ''    0.708026\n",
      "< font face=\\ ''     0.183118\n",
      "< span style=\\ ''    0.043819\n",
      "font color =\\ ''     0.020756\n",
      "< font style=\\ ''    0.018911\n",
      "\n",
      "IN  DT  NN  ,    KLD: 0.000556045043995413 freq: 0.0017294496036456318 count: 34783\n",
      "instance             rel. freq.\n",
      "By the way ,         0.047868\n",
      "In any case ,        0.020039\n",
      "in the article ,     0.019550\n",
      "of the article ,     0.018486\n",
      "at the moment ,      0.012190\n",
      "\n",
      ",   CC  NN  :    KLD: 0.000514981958536004 freq: 3.430757055215151e-05 count: 690\n",
      "instance             rel. freq.\n",
      ", & mdash ;          0.746377\n",
      ", & ndash ;          0.121739\n",
      ", & nbsp ;           0.031884\n",
      ", and http :         0.007246\n",
      ", & lt ;             0.005797\n",
      "\n",
      "NN  .   :   )    KLD: 0.000495480443952978 freq: 0.0001430476528674491 count: 2877\n",
      "instance             rel. freq.\n",
      "time . : )           0.020855\n",
      "page . : )           0.020160\n",
      "] . : )              0.016336\n",
      "problem . : )        0.015641\n",
      "article . : )        0.014599\n",
      "\n",
      ".   NNP ,   CC   KLD: 0.000440753375512657 freq: 4.0274104561221336e-05 count: 810\n",
      "instance             rel. freq.\n",
      ". Regards , &        0.340741\n",
      ". Sorry , but        0.082716\n",
      "! Regards , &        0.082716\n",
      ". Cheers , &         0.059259\n",
      ". Thanks , &         0.044444\n",
      "\n",
      "NNP ,   CC  NN   KLD: 0.0004345495927908419 freq: 4.996972232595981e-05 count: 1005\n",
      "instance             rel. freq.\n",
      "Regards , & mdash    0.380100\n",
      "Cheers , & mdash     0.029851\n",
      "Thanks , & mdash     0.028856\n",
      "Cheers , & ndash     0.020896\n",
      "Best , & mdash       0.012935\n",
      "\n",
      "NNS IN  DT  NN   KLD: 0.0003861357974085387 freq: 0.0014539946168935748 count: 29243\n",
      "instance             rel. freq.\n",
      "Thanks for the note  0.014123\n",
      "questions about the permission 0.012105\n",
      "Thanks for the help  0.009301\n",
      "Thanks for the heads-up 0.007831\n",
      "opinions on the matter 0.007147\n",
      "\n",
      "PRP VBP JJ  .    KLD: 0.00036861024122688624 freq: 0.00021032032381971142 count: 4230\n",
      "instance             rel. freq.\n",
      "You 're welcome .    0.155319\n",
      "You 're welcome !    0.077778\n",
      "you 're right .      0.033806\n",
      "I 'm afraid .        0.033333\n",
      "you see fit .        0.028132\n",
      "\n",
      ".   :   )   PRP  KLD: 0.0003678813712129383 freq: 4.743394537210513e-05 count: 954\n",
      "instance             rel. freq.\n",
      ". : ) I              0.539832\n",
      "! : ) I              0.116352\n",
      ". : ) It             0.078616\n",
      ". : ) You            0.070231\n",
      ". ; ) I              0.042977\n",
      "\n",
      ".   PRP VBP RB   KLD: 0.0003430918889809297 freq: 0.0012728605886015633 count: 25600\n",
      "instance             rel. freq.\n",
      ". I do n't           0.231016\n",
      ". I 'm not           0.113555\n",
      ". I am not           0.038164\n",
      ". I do not           0.034648\n",
      "? I do n't           0.026914\n",
      "\n",
      "JJ  .   :   )    KLD: 0.00034202569851270875 freq: 4.6737849737713654e-05 count: 940\n",
      "instance             rel. freq.\n",
      "welcome . : )        0.192553\n",
      "welcome ! : )        0.047872\n",
      "good . : )           0.029787\n",
      "fine . : )           0.027660\n",
      "much ! : )           0.022340\n",
      "\n",
      ",   CC  PRP VBP  KLD: 0.0003245357953644874 freq: 0.0010119241679382427 count: 20352\n",
      "instance             rel. freq.\n",
      ", but I 'm           0.101513\n",
      ", but I do           0.097189\n",
      ", and I 'm           0.062500\n",
      ", but I think        0.058569\n",
      ", and I do           0.039750\n",
      "\n",
      "DT  NN  ,   CC   KLD: 0.00030211088757451564 freq: 0.0008097581072642601 count: 16286\n",
      "instance             rel. freq.\n",
      "the article , and    0.035982\n",
      "the article , but    0.027263\n",
      "the page , and       0.010807\n",
      "the moment , but     0.008105\n",
      "a while , but        0.006263\n",
      "\n",
      ".   :   ''  ''   KLD: 0.00030165339448369623 freq: 8.402868729440008e-05 count: 1690\n",
      "instance             rel. freq.\n",
      ". -- ' ''            0.639053\n",
      ". - '' '             0.149704\n",
      "? -- ' ''            0.097633\n",
      "! -- ' ''            0.059763\n",
      "! - '' '             0.017751\n",
      "\n",
      "PRP VBP RB  VB   KLD: 0.0003006149515823413 freq: 0.0016036054571710006 count: 32252\n",
      "instance             rel. freq.\n",
      "I do n't know        0.145169\n",
      "I do n't think       0.145107\n",
      "I do n't see         0.058570\n",
      "I do n't have        0.056214\n",
      "I do n't want        0.036432\n",
      "\n",
      ".   CC  NN  :    KLD: 0.0003003132191356455 freq: 0.00028311203873036334 count: 5694\n",
      "instance             rel. freq.\n",
      ". & mdash ;          0.478047\n",
      ". & nbsp ;           0.131893\n",
      "? & mdash ;          0.090797\n",
      ". & ndash ;          0.086934\n",
      "! & mdash ;          0.060414\n",
      "\n"
     ]
    }
   ],
   "source": [
    "print_top_instances(top_pos_central4, top_pos_instances_central4, fourgram_freq, fourgram_counts)"
   ]
  },
  {
   "cell_type": "code",
   "execution_count": 175,
   "metadata": {},
   "outputs": [
    {
     "name": "stdout",
     "output_type": "stream",
     "text": [
      "Top anti-indicative trigrams (admins)\n",
      "   n-gram    KLD weight\n",
      "NNP NNP NNP NNP  -0.001838\n",
      "IN  DT  NNP NNP  -0.000263\n",
      "NN  IN  DT  NNP  -0.000232\n",
      "DT  NNP NNP NNP  -0.000178\n",
      "JJ  NNP NNP NNP  -0.000156\n",
      "IN  DT  NNP NN   -0.000155\n",
      "DT  NN  IN  DT   -0.000149\n",
      "NN  NN  NN  NN   -0.000147\n",
      "IN  DT  NN  IN   -0.000143\n",
      "NNP NNP IN  NNP  -0.000121\n",
      "JJ  NN  IN  DT   -0.000118\n",
      "NNP NNP ,   NNP  -0.000116\n",
      "NN  CC  NN  CC   -0.000115\n",
      "DT  NNP NNP NN   -0.000112\n",
      "NNP ,   NNP NNP  -0.000112\n",
      "NN  ''  NN  ''   -0.000110\n",
      "DT  JJ  NN  IN   -0.000106\n",
      "NNP IN  NNP NNP  -0.000103\n",
      "NN  NNP NN  NNP  -0.000101\n",
      "NNP NNP NNP (    -0.000100\n",
      "\n",
      "Top anti-indicative trigrams (highly central)\n",
      "   n-gram    KLD weight\n",
      "NNP NNP NNP NNP  -0.003494\n",
      "NNP NNP NNP :    -0.000788\n",
      ":   NNP NNP NNP  -0.000659\n",
      "NNP :   NNP NNP  -0.000580\n",
      "NNP NNP :   NNP  -0.000569\n",
      "NNP NNP NNP NN   -0.000523\n",
      "NNP NNP NNP .    -0.000460\n",
      "IN  NNP NNP NNP  -0.000423\n",
      "NN  :   NN  :    -0.000404\n",
      "NN  NNP NNP NNP  -0.000397\n",
      "IN  DT  NNP NNP  -0.000378\n",
      "DT  NNP NNP NNP  -0.000375\n",
      "NN  ''  NN  ''   -0.000365\n",
      "NN  IN  NNP NNP  -0.000362\n",
      "JJ  NNP NNP NNP  -0.000320\n",
      "NN  :   NNP NNP  -0.000314\n",
      "NN  IN  DT  NNP  -0.000300\n",
      "NNP NNP NNP ,    -0.000273\n",
      "NNP VBD NN  ''   -0.000266\n",
      "NNP NNP VBD NN   -0.000261\n"
     ]
    }
   ],
   "source": [
    "print(\"Top anti-indicative trigrams (admins)\")\n",
    "print_top_pos(top_neg_admin4)\n",
    "print()\n",
    "print(\"Top anti-indicative trigrams (highly central)\")\n",
    "print_top_pos(top_neg_central4)"
   ]
  },
  {
   "cell_type": "code",
   "execution_count": null,
   "metadata": {},
   "outputs": [],
   "source": [
    "print_top_instances(top_neg_admin4, top_neg_instances_admin4, fourgram_freq, fourgram_counts)"
   ]
  }
 ],
 "metadata": {
  "kernelspec": {
   "display_name": "lasn-env",
   "language": "python",
   "name": "lasn-env"
  },
  "language_info": {
   "codemirror_mode": {
    "name": "ipython",
    "version": 3
   },
   "file_extension": ".py",
   "mimetype": "text/x-python",
   "name": "python",
   "nbconvert_exporter": "python",
   "pygments_lexer": "ipython3",
   "version": "3.7.0"
  }
 },
 "nbformat": 4,
 "nbformat_minor": 2
}
