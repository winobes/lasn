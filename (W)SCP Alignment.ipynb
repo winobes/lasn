{
 "cells": [
  {
   "cell_type": "code",
   "execution_count": 1,
   "metadata": {},
   "outputs": [
    {
     "data": {
      "application/vnd.jupyter.widget-view+json": {
       "model_id": "370a3c99daa34e0cbff3c3e13906c606",
       "version_major": 2,
       "version_minor": 0
      },
      "text/plain": [
       "HBox(children=(IntProgress(value=1, bar_style='info', max=1), HTML(value='')))"
      ]
     },
     "metadata": {},
     "output_type": "display_data"
    },
    {
     "name": "stdout",
     "output_type": "stream",
     "text": [
      "\n"
     ]
    },
    {
     "name": "stderr",
     "output_type": "stream",
     "text": [
      "/Users/xnobwi/ShareFile/Personal Folders/Research/LASN/lasn/data/corpus.py:18: UserWarning: Posts are already tokenized. Skipping tokenization.\n",
      "  warnings.warn(\"Posts are already tokenized. Skipping tokenization.\")\n",
      "/Users/xnobwi/ShareFile/Personal Folders/Research/LASN/lasn/data/corpus.py:64: UserWarning: All marker columns already exist. Skipping marker detection.\n",
      "  warnings.warn(\"All marker columns already exist. Skipping marker detection.\")\n",
      "/Users/xnobwi/ShareFile/Personal Folders/Research/LASN/lasn/data/wiki.py:68: UserWarning: /Users/xnobwi/ShareFile/Personal Folders/Research/LASN/lasn/data/wiki/posts_df.pickle already exists. Not overwriting.\n",
      "  warnings.warn(\"{} already exists. Not overwriting.\".format(filename))\n",
      "/Users/xnobwi/ShareFile/Personal Folders/Research/LASN/lasn/data/wiki.py:131: UserWarning: /Users/xnobwi/ShareFile/Personal Folders/Research/LASN/lasn/data/wiki/users_df.pickle already exists. Not overwriting.\n",
      "  warnings.warn(\"{} already exists. Not overwriting.\".format(filename))\n"
     ]
    }
   ],
   "source": [
    "from data import wiki\n",
    "from data import corpus\n",
    "import alignment\n",
    "\n",
    "import nltk\n",
    "import pandas as pd\n",
    "import numpy as np\n",
    "import pickle\n",
    "\n",
    "from tqdm import tqdm_notebook as tqdm\n",
    "from IPython.display import display, clear_output\n",
    "\n",
    "import matplotlib.pyplot as plt\n",
    "import scipy.stats as stats\n",
    "\n",
    "%matplotlib inline\n",
    "\n",
    "tqdm().pandas()\n",
    "\n",
    "markers = alignment.load_markers()\n",
    "markers_list = ['quantifiers', 'impersonal_pronouns','adverbs', \n",
    "    'articles', 'auxiliary_verbs', 'conjunctions',  \n",
    "    'personal_pronouns', 'prepositions']\n",
    "\n",
    "posts = wiki.load_posts()\n",
    "posts = corpus.tokenize_posts(posts, lower_case=True, overwrite=False)\n",
    "posts = corpus.detect_markers(posts, markers, overwrite=False)\n",
    "\n",
    "pairs = corpus.get_reply_pairs(posts)\n",
    "users = wiki.load_users(posts=posts)\n",
    "\n",
    "wiki.save_posts(posts, overwrite=False)\n",
    "wiki.save_users(users, overwrite=False)"
   ]
  },
  {
   "cell_type": "markdown",
   "metadata": {},
   "source": [
    "# Subtractive Conditional Probability (SCP)"
   ]
  },
  {
   "cell_type": "markdown",
   "metadata": {},
   "source": [
    "Echoes of Power: given a set of exchanges $(u_a, u_b) \\in U_{(A,b)}$ of user $b$ replying to users in group $A$, we define the coordination of $b$ _towards_ $A$ as:\n",
    "$$\n",
    "C^m(b,A) = P[\\mathcal{E}_m(u_b) \\mid \\mathcal{E}_m(u_a)] - P[\\mathcal{E}_m(u_b)]\n",
    "$$\n",
    "\n",
    "where $\\mathcal{E}_m(u)$ means is $\\mathtt{true}$ iff utterance $u$ exhibits marker $m$.\n",
    "\n",
    "We estimate the probabilities as follows:\n",
    "$$\n",
    "\\begin{align*}\n",
    "P[\\mathcal{E}_m(u_b)] &\\approx \\frac{|\\{\\mathcal{E}_m(u_b) \\mid (u_a, u_b) \\in {U_{(A,b)}}\\}|}{|U_{A,b}|}\\\\\n",
    "P[\\mathcal{E}_m(u_b) \\mid \\mathcal{E}_m(u_a)] &\\approx \\frac{|\\{\\mathcal{E}_m(u_a)\\land\\mathcal{E}_m(u_b) \\mid (u_a, u_b) \\in {U_{(A,b)}}\\}|}{|\\{\\mathcal{E}_m(u_a) \\mid (u_a, u_b) \\in {U_{(A,b)}}\\}|}\n",
    "\\end{align*}\n",
    "$$"
   ]
  },
  {
   "cell_type": "code",
   "execution_count": 2,
   "metadata": {},
   "outputs": [
    {
     "name": "stdout",
     "output_type": "stream",
     "text": [
      "Threshold centrality: 0.8344793851197967\n"
     ]
    }
   ],
   "source": [
    "posts['length'] = posts.tokens.apply(len)\n",
    "\n",
    "# binarize centrality\n",
    "threshold = users.centrality.mean() + users.centrality.std()\n",
    "users['highly_central'] = (users['centrality'] > threshold)\n",
    "print(\"Threshold centrality: {}\".format(threshold))\n",
    "\n",
    "# combine posts and user info\n",
    "df = posts.merge(users, left_on='user', right_index=True)\n",
    "# merge posts into reply pairs\n",
    "df = df.merge(df, left_index=True, right_on='reply_to', suffixes=('_a', '_b'))"
   ]
  },
  {
   "cell_type": "code",
   "execution_count": 3,
   "metadata": {},
   "outputs": [],
   "source": [
    "from alignment import scp, plot_scp"
   ]
  },
  {
   "cell_type": "markdown",
   "metadata": {},
   "source": [
    "Compute SCP, comparing admin/non-admin targes and high-centrality/not targets."
   ]
  },
  {
   "cell_type": "code",
   "execution_count": 4,
   "metadata": {},
   "outputs": [],
   "source": [
    "admin_scp = scp(df, 'admin')\n",
    "central_scp = scp(df, 'highly_central')"
   ]
  },
  {
   "cell_type": "code",
   "execution_count": 5,
   "metadata": {},
   "outputs": [
    {
     "data": {
      "image/png": "[encoded data removed]",
      "text/plain": [
       "<Figure size 720x360 with 2 Axes>"
      ]
     },
     "metadata": {
      "needs_background": "light"
     },
     "output_type": "display_data"
    }
   ],
   "source": [
    "data = (admin_scp, central_scp)\n",
    "labels = (['admin', 'non-admin'], ['central', 'non-central'])\n",
    "colors = (['violet', 'darkviolet'], ['palegreen', 'darkgreen'])\n",
    "\n",
    "fig, axs = plt.subplots(nrows=1, ncols=2, sharex=True, sharey=True, figsize=(10,5))\n",
    "\n",
    "for ax, d, l, c in zip(axs, data, labels, colors):\n",
    "    plot_scp(d, l, ax, c)\n",
    "        \n"
   ]
  },
  {
   "cell_type": "markdown",
   "metadata": {},
   "source": [
    "# Word-based SCP (WSCP)"
   ]
  },
  {
   "cell_type": "markdown",
   "metadata": {},
   "source": [
    "Word-based SCP is similar to SCP, but instead of\n",
    "comparing the probability of $u_b$ exhibiting $m$,\n",
    "we compare the probability that a given word $w$ in\n",
    "$u_b$ is in $m$ (the set of words constituting the marker).\n",
    "\n",
    "Coordination of user $b$ towards group $A$ is defined:\n",
    "$$\n",
    "C^m(b,A) = P[w_b \\in m \\mid \\mathcal{E}_m(u_a)] - P[w_b\\in m]\n",
    "$$\n",
    "\n",
    "Where $P[w_b \\in m \\mid \\mathcal{E}_m(u_a)]$ is estimated by the frequency of $m$ tokens over all posts in $\\{(u_a,u_b)\\in U_{(a,b)}\\mid \\mathcal{E}_m(u_a)\\}$\n",
    "\n",
    "And $P[w_b \\in m]$ is estimated by the frequency of $m$ tokens in all posts by $b$ (not just those in $U_{a,b}$)."
   ]
  },
  {
   "cell_type": "code",
   "execution_count": 6,
   "metadata": {},
   "outputs": [],
   "source": [
    "from alignment import wscp"
   ]
  },
  {
   "cell_type": "code",
   "execution_count": 7,
   "metadata": {},
   "outputs": [],
   "source": [
    "admin_wscp = wscp(posts, df, 'admin')\n",
    "central_wscp = wscp(posts, df, 'highly_central')"
   ]
  },
  {
   "cell_type": "code",
   "execution_count": 8,
   "metadata": {},
   "outputs": [
    {
     "data": {
      "image/png": "[encoded data removed]",
      "text/plain": [
       "<Figure size 720x360 with 2 Axes>"
      ]
     },
     "metadata": {
      "needs_background": "light"
     },
     "output_type": "display_data"
    }
   ],
   "source": [
    "data = (admin_wscp, central_wscp)\n",
    "labels = (['admin', 'non-admin'], ['central', 'non-central'])\n",
    "colors = (['violet', 'darkviolet'], ['palegreen', 'darkgreen'])\n",
    "groups = [True, False]\n",
    "title = 'Coordination Towards Group'\n",
    "items = ['agg1', 'agg2', 'agg3'] + markers_list\n",
    "\n",
    "fig, axs = plt.subplots(nrows=1, ncols=2, sharex=True, sharey=True, figsize=(10,5))\n",
    "ind = np.arange(len(items))\n",
    "width = 0.35\n",
    "\n",
    "for ax, d, l, c in zip(axs, data, labels, colors):\n",
    "    p = []\n",
    "    for i, group in enumerate(groups):\n",
    "        values = [d.mean(level=0).loc[group].loc[m] * 100 for m in items]\n",
    "        p.append(ax.bar(ind+i*width, list(values), width=width, color=c[i]))\n",
    "    ax.legend((p[i][0] for i in range(len(p))), l)\n",
    "    ax.set_title(title)\n",
    "    ax.set_xticklabels(items)\n",
    "    ax.set_xticks(ind+width)\n",
    "    for tick in ax.get_xticklabels():\n",
    "        tick.set_rotation(90)"
   ]
  },
  {
   "cell_type": "markdown",
   "metadata": {},
   "source": [
    "# Correlation with centrality\n",
    "\n",
    "How much does a user's centrality correlate with their degree of style coordination with different groups?\n"
   ]
  },
  {
   "cell_type": "markdown",
   "metadata": {},
   "source": [
    "## SCP"
   ]
  },
  {
   "cell_type": "code",
   "execution_count": 9,
   "metadata": {},
   "outputs": [
    {
     "name": "stdout",
     "output_type": "stream",
     "text": [
      "Correlation between SCP coordination given & centrality\n",
      "Coordination given to admins\n",
      "                    r        p-value\n",
      "quantifiers         0.04149  0.00022\n",
      "impersonal_pronouns 0.02912  0.00973\n",
      "adverbs             0.04793  0.00001\n",
      "articles            0.02445  0.02813\n",
      "auxiliary_verbs     0.03248  0.01055\n",
      "conjunctions        0.05119  0.00001\n",
      "personal_pronouns   0.03419  0.00209\n",
      "prepositions        0.05226  0.00000\n",
      "agg1                0.07086  0.00000\n",
      "agg2                0.06943  0.00000\n",
      "agg3                0.07659  0.00000\n",
      "\n",
      "Coordination given to non-admins\n",
      "                    r        p-value\n",
      "quantifiers         0.03076  0.00046\n",
      "impersonal_pronouns 0.03901  0.00001\n",
      "adverbs             0.02228  0.00995\n",
      "articles            0.01411  0.10582\n",
      "auxiliary_verbs     0.05493  0.00000\n",
      "conjunctions        0.05165  0.00000\n",
      "personal_pronouns   0.02888  0.00089\n",
      "prepositions        0.03777  0.00001\n",
      "agg1                0.07804  0.00000\n",
      "agg2                0.06405  0.00000\n",
      "agg3                0.06963  0.00000\n",
      "\n"
     ]
    }
   ],
   "source": [
    "print(\"Correlation between SCP coordination given & centrality\")\n",
    "for admin in(True, False):\n",
    "    print(\"Coordination given to {}admins\".format('' if admin else \"non-\"))\n",
    "    print(20*\" \" +\"{:6}   {:6}\".format(\"r\", \"p-value\"))\n",
    "    a = admin_scp.loc[admin]\n",
    "    a['centrality'] = users['centrality']\n",
    "    for m in markers_list + ['agg1', 'agg2', 'agg3']:\n",
    "        b = a[['centrality', m]].dropna()\n",
    "        r, p_value = stats.pearsonr(b['centrality'], b[m])\n",
    "        print(\"{:20}{:.5f}  {:.5f}\".format(m,r, p_value))\n",
    "    print()"
   ]
  },
  {
   "cell_type": "code",
   "execution_count": 10,
   "metadata": {},
   "outputs": [
    {
     "name": "stdout",
     "output_type": "stream",
     "text": [
      "Correlation between SCP coordination given & centrality\n",
      "Coordination given to central users\n",
      "                    r        p-value\n",
      "quantifiers         0.04170  0.00008\n",
      "impersonal_pronouns 0.04045  0.00015\n",
      "adverbs             0.04306  0.00003\n",
      "articles            0.02741  0.00914\n",
      "auxiliary_verbs     0.03553  0.00297\n",
      "conjunctions        0.05774  0.00000\n",
      "personal_pronouns   0.01922  0.06567\n",
      "prepositions        0.03926  0.00018\n",
      "agg1                0.06628  0.00000\n",
      "agg2                0.06868  0.00000\n",
      "agg3                0.07640  0.00000\n",
      "\n",
      "Coordination given to non-central users\n",
      "                    r        p-value\n",
      "quantifiers         0.03258  0.00029\n",
      "impersonal_pronouns 0.03157  0.00049\n",
      "adverbs             0.02064  0.01985\n",
      "articles            0.01403  0.11658\n",
      "auxiliary_verbs     0.05734  0.00000\n",
      "conjunctions        0.05696  0.00000\n",
      "personal_pronouns   0.02970  0.00087\n",
      "prepositions        0.04418  0.00000\n",
      "agg1                0.08008  0.00000\n",
      "agg2                0.06725  0.00000\n",
      "agg3                0.07267  0.00000\n",
      "\n"
     ]
    }
   ],
   "source": [
    "print(\"Correlation between SCP coordination given & centrality\")\n",
    "for central in(True, False):\n",
    "    print(\"Coordination given to {}central users\".format('' if central else \"non-\"))\n",
    "    print(20*\" \" +\"{:6}   {:6}\".format(\"r\", \"p-value\"))\n",
    "    a = central_scp.loc[central]\n",
    "    a['centrality'] = users['centrality']\n",
    "    for m in markers_list + ['agg1', 'agg2', 'agg3']:\n",
    "        b = a[['centrality', m]].dropna()\n",
    "        r, p_value = stats.pearsonr(b['centrality'], b[m])\n",
    "        print(\"{:20}{:.5f}  {:.5f}\".format(m,r, p_value))\n",
    "    print()"
   ]
  },
  {
   "cell_type": "markdown",
   "metadata": {},
   "source": [
    "## WSCP"
   ]
  },
  {
   "cell_type": "code",
   "execution_count": 11,
   "metadata": {},
   "outputs": [
    {
     "name": "stdout",
     "output_type": "stream",
     "text": [
      "Correlation between WSCP coordination given & centrality\n",
      "Coordination given to admins\n",
      "                    r        p-value\n",
      "quantifiers         0.02156  0.05464\n",
      "impersonal_pronouns 0.02444  0.03001\n",
      "adverbs             0.02674  0.01514\n",
      "articles            0.02937  0.00836\n",
      "auxiliary_verbs     0.03178  0.01234\n",
      "conjunctions        0.00482  0.67519\n",
      "personal_pronouns   0.00223  0.84093\n",
      "prepositions        0.05382  0.00000\n",
      "agg1                0.05792  0.00001\n",
      "agg2                0.05354  0.00000\n",
      "agg3                0.05000  0.00000\n",
      "\n",
      "Coordination given to non-admins\n",
      "                    r        p-value\n",
      "quantifiers         0.01078  0.21968\n",
      "impersonal_pronouns 0.01704  0.05373\n",
      "adverbs             0.01663  0.05445\n",
      "articles            0.02455  0.00489\n",
      "auxiliary_verbs     0.02017  0.03926\n",
      "conjunctions        -0.00404  0.65260\n",
      "personal_pronouns   0.01129  0.19436\n",
      "prepositions        0.00392  0.65319\n",
      "agg1                0.04369  0.00002\n",
      "agg2                0.02754  0.00124\n",
      "agg3                0.02035  0.01702\n",
      "\n"
     ]
    }
   ],
   "source": [
    "print(\"Correlation between WSCP coordination given & centrality\")\n",
    "for admin in(True, False):\n",
    "    print(\"Coordination given to {}admins\".format('' if admin else \"non-\"))\n",
    "    print(20*\" \" +\"{:6}   {:6}\".format(\"r\", \"p-value\"))\n",
    "    a = admin_wscp.loc[admin]\n",
    "    a['centrality'] = users['centrality']\n",
    "    for m in markers_list + ['agg1', 'agg2', 'agg3']:\n",
    "        b = a[['centrality', m]].dropna()\n",
    "        r, p_value = stats.pearsonr(b['centrality'], b[m])\n",
    "        print(\"{:20}{:.5f}  {:.5f}\".format(m,r, p_value))\n",
    "    print()"
   ]
  },
  {
   "cell_type": "code",
   "execution_count": 12,
   "metadata": {},
   "outputs": [
    {
     "name": "stdout",
     "output_type": "stream",
     "text": [
      "Correlation between WSCP coordination given & centrality\n",
      "Coordination given to central users\n",
      "                    r        p-value\n",
      "quantifiers         0.01576  0.13654\n",
      "impersonal_pronouns 0.02980  0.00514\n",
      "adverbs             0.02758  0.00803\n",
      "articles            0.05379  0.00000\n",
      "auxiliary_verbs     0.03598  0.00263\n",
      "conjunctions        0.01137  0.29476\n",
      "personal_pronouns   -0.01440  0.16792\n",
      "prepositions        0.05710  0.00000\n",
      "agg1                0.06067  0.00000\n",
      "agg2                0.05830  0.00000\n",
      "agg3                0.05574  0.00000\n",
      "\n",
      "Coordination given to non-central users\n",
      "                    r        p-value\n",
      "quantifiers         0.00899  0.31800\n",
      "impersonal_pronouns 0.00801  0.37608\n",
      "adverbs             0.00855  0.33489\n",
      "articles            0.02218  0.01312\n",
      "auxiliary_verbs     0.02791  0.00536\n",
      "conjunctions        -0.01095  0.23462\n",
      "personal_pronouns   0.00893  0.31712\n",
      "prepositions        0.00171  0.84814\n",
      "agg1                0.03764  0.00030\n",
      "agg2                0.02036  0.01996\n",
      "agg3                0.01243  0.15538\n",
      "\n"
     ]
    }
   ],
   "source": [
    "print(\"Correlation between WSCP coordination given & centrality\")\n",
    "for central in(True, False):\n",
    "    print(\"Coordination given to {}central users\".format('' if central else \"non-\"))\n",
    "    print(20*\" \" +\"{:6}   {:6}\".format(\"r\", \"p-value\"))\n",
    "    a = central_wscp.loc[central]\n",
    "    a['centrality'] = users['centrality']\n",
    "    for m in markers_list + ['agg1', 'agg2', 'agg3']:\n",
    "        b = a[['centrality', m]].dropna()\n",
    "        r, p_value = stats.pearsonr(b['centrality'], b[m])\n",
    "        print(\"{:20}{:.5f}  {:.5f}\".format(m,r, p_value))\n",
    "    print()"
   ]
  },
  {
   "cell_type": "markdown",
   "metadata": {},
   "source": [
    "# Investigating WSCP\n",
    "\n",
    "We want to take a closer look at WSCP since it seems to display some strange behavior.\n",
    "- how does WSCP compare directly to SCP when we take \"all users\" as targets?\n",
    "- how can we explain some of the \"unexpected\" WSCP results:\n",
    "  - negative coordination for articles, auxiliary verbs, conjunctions, and prepositions\n",
    "  - inverted power effects for articles and prepositions"
   ]
  },
  {
   "cell_type": "code",
   "execution_count": 13,
   "metadata": {},
   "outputs": [],
   "source": [
    "df['all_users_a'] = pd.Series([True]*len(df), df.index)"
   ]
  },
  {
   "cell_type": "code",
   "execution_count": 14,
   "metadata": {},
   "outputs": [],
   "source": [
    "scp_all = scp(df, 'all_users')\n",
    "wscp_all = wscp(posts, df, 'all_users')"
   ]
  },
  {
   "cell_type": "code",
   "execution_count": 15,
   "metadata": {},
   "outputs": [
    {
     "data": {
      "image/png": "[encoded data removed]",
      "text/plain": [
       "<Figure size 720x360 with 1 Axes>"
      ]
     },
     "metadata": {
      "needs_background": "light"
     },
     "output_type": "display_data"
    }
   ],
   "source": [
    "data = (scp_all, wscp_all)\n",
    "labels = ['scp', 'wscp']\n",
    "colors = ['violet', 'palegreen']\n",
    "title = 'SCP vs. WSCP Coordination'\n",
    "items = ['agg1', 'agg2', 'agg3'] + markers_list\n",
    "\n",
    "fig, ax = plt.subplots(nrows=1, ncols=1, sharex=True, sharey=True, figsize=(10,5))\n",
    "ind = np.arange(len(items))\n",
    "width = 0.35\n",
    "    \n",
    "p = []\n",
    "for i, d in enumerate(data):\n",
    "    values = [d.mean(level=0).loc[True].loc[m] * 100 for m in items]\n",
    "    p.append(ax.bar(ind+i*width, list(values), width=width, color=c[i]))\n",
    "ax.legend((p[i][0] for i in range(len(p))), labels)\n",
    "ax.set_title(title)\n",
    "ax.set_xticklabels(items)\n",
    "ax.set_xticks(ind+width)\n",
    "for tick in ax.get_xticklabels():\n",
    "    tick.set_rotation(90)"
   ]
  },
  {
   "cell_type": "markdown",
   "metadata": {},
   "source": [
    "Measured with WSCP, articles, auxillary verbs, conjunctions, and prepositions exhibit negative coordination i.e., presence of a marker `m` from one of those categories in `post_a` makes it **less likely** (than `user_b`'s baseline) that any given word in `post_b`'s utterance exhibits `m`.\n",
    "\n",
    "Nevertheless, the post-level SCP measure for these markers is positive (especially so for auxiliary verbs and conjnuctions. That means that presence of `m` in `post_a` makes it **more likely** (than than `user_b`'s baseline) that `post_b` contains at least one marker in `m`.\n",
    "\n",
    "*Note that although the baselines for SCP and WSCP are defined slightly differently, they are the same when considering `groupA = 'all_users'`.*\n",
    "\n",
    "Unless I am mistaken, the only explaination for the discrepancy is posts where: \n",
    "1. `post_a` exhibits `m` **and**\n",
    "2. `post_b` exhibits `m` **but**\n",
    "3. `post_b` exhibits *fewer* `m`-tokens than would be predicted by `b`'s baseline frequency.\n",
    "\n",
    "Let's look for some posts like that."
   ]
  },
  {
   "cell_type": "markdown",
   "metadata": {},
   "source": [
    "### Auxiliary Verbs"
   ]
  },
  {
   "cell_type": "markdown",
   "metadata": {},
   "source": [
    "These are the auxiliary verbs we have as markers"
   ]
  },
  {
   "cell_type": "code",
   "execution_count": 16,
   "metadata": {},
   "outputs": [
    {
     "name": "stdout",
     "output_type": "stream",
     "text": [
      "be; is; are; were; was; been; am; being; have; has; was; were; would; will; do; can; could; dare; does; did; had; having; may; might; must; need; ought; shall; should; 'll; 'd\n"
     ]
    }
   ],
   "source": [
    "print('; '.join([mi for m in markers['auxiliary_verbs'] for mi in m]))"
   ]
  },
  {
   "cell_type": "code",
   "execution_count": 17,
   "metadata": {},
   "outputs": [],
   "source": [
    "if 'baseline_b' in df:\n",
    "    df = df.drop('baseline_b', 1) # temp column for this analysis"
   ]
  },
  {
   "cell_type": "code",
   "execution_count": 18,
   "metadata": {},
   "outputs": [],
   "source": [
    "def base_prob_m(m):\n",
    "    base_m_count = posts.groupby('user')[m].sum()\n",
    "    base_word_count = posts.groupby('user')['length'].sum()\n",
    "    base_prob = base_m_count / base_word_count\n",
    "    return base_prob\n",
    "\n",
    "m = 'auxiliary_verbs'\n",
    "ma_bin = df[m+'_a'] > 0 # condition 1\n",
    "mb_bin = df[m+'_b'] > 0 # condition 2\n",
    "\n",
    "baselines = base_prob_m(m)\n",
    "baselines.name = 'baseline_b'\n",
    "baselines.index.name = 'user_b'\n",
    "df = df.join(baselines, on='user_b')\n",
    "mb_freq = df[m+'_b'] / df['length_b']\n",
    "mb_cond = mb_freq < df['baseline_b'] # condition_3"
   ]
  },
  {
   "cell_type": "code",
   "execution_count": 19,
   "metadata": {},
   "outputs": [
    {
     "name": "stdout",
     "output_type": "stream",
     "text": [
      "157536\n",
      "68795\n"
     ]
    }
   ],
   "source": [
    "print(len(df[ma_bin & mb_bin]))\n",
    "print(len(df[ma_bin & mb_bin & mb_cond]))"
   ]
  },
  {
   "cell_type": "markdown",
   "metadata": {},
   "source": [
    "Almost half (%47) of the reply pairs where `post_a` and `post_b` exhibited `m` also have fewer `m`-tokens than expected."
   ]
  },
  {
   "cell_type": "code",
   "execution_count": 20,
   "metadata": {},
   "outputs": [
    {
     "name": "stdout",
     "output_type": "stream",
     "text": [
      "224836\n",
      "122176\n"
     ]
    }
   ],
   "source": [
    "print(len(df))\n",
    "print(len(df[mb_cond]))"
   ]
  },
  {
   "cell_type": "markdown",
   "metadata": {},
   "source": [
    "To compare, %54 of all reply pairs have fewer `m`-tokens than expected. Why is it not exactly %50? Must have something to do with shorter messages tending not to contain auxillary verbs...\n",
    "\n",
    "Regardless, it does seem that when `a` and `b` both use `m`, more postss have `m` than would be expected from the baseline."
   ]
  },
  {
   "cell_type": "markdown",
   "metadata": {},
   "source": [
    "WSCP is an average of the observed frequency of `m`-tokens when `post_a` uses `m` minus `user_b`'s baseline frequency. Thus the posts from this group (satisfying conditions 1,2 and 3) that contribute the most to negative alignment are those where the `m`-frequency is much lower than the baseline "
   ]
  },
  {
   "cell_type": "code",
   "execution_count": 21,
   "metadata": {},
   "outputs": [],
   "source": [
    "df['wscp_contribution'] = mb_freq - df['baseline_b'] \n",
    "df_all3 = df[ma_bin & mb_bin & mb_cond]\n",
    "df_all3 = df_all3.sort_values('wscp_contribution')"
   ]
  },
  {
   "cell_type": "code",
   "execution_count": 22,
   "metadata": {},
   "outputs": [
    {
     "name": "stdout",
     "output_type": "stream",
     "text": [
      "\n",
      "====== Post a: ======= (109 tokens, 8 auxiliary verbs)\n",
      "(after multipled edit conflicts)I checked your behaviour and your contributions myself at the time, as did numerous other admins who reviewed your edits and the block and it was subject of extensive discussion on and off-site so your suggestion that I should have checked with others is silly. You violated Wikipedia's policies and were blocked rightly for it; you've been given a second chance and instead of being productive you come here to moan about a comment I made more than six months ago, that I still stand by, and to pursue your now year-old vendetta against Nick? \n",
      "\n",
      "====== Post b: ======= (43 tokens, 1 auxiliary verbs)\n",
      "I am not trying to spamming all the administrators and editors who participated in the discussion more than six months ago. I just posted messages on your talk page and the talk page of [[User:Philippe\\u200e]]. \n",
      "======================\n",
      "user_b: RS1900\n",
      "user_b baseline:   0.11224489795918367\n",
      "post_b frequency:  0.023255813953488372\n",
      "WSCP Contribution: -0.0889890840056953 (frequency - baseline)\n",
      "======================\n",
      "\n",
      "\n",
      "====== Post a: ======= (35 tokens, 1 auxiliary verbs)\n",
      "The fox, and events, are real and unstaged. For the full sequence see [[:Commons:Category:Files by User:Oosoom from en.wikipedia\\/Fox and rabbit]].  \n",
      "\n",
      "====== Post b: ======= (70 tokens, 1 auxiliary verbs)\n",
      "Okay, I'm sorry for suspecting you. It just seemed odd to me. The eyes of the fox look empty (the fox looks much more ''alive'' in [[:Image:Urban fox 381.jpg]] ;-) ) and I wondered why he would pull the chain. And the rabbit looks so unimpressed. Thank you for clarification. --\n",
      "======================\n",
      "user_b: Slomox\n",
      "user_b baseline:   0.10047846889952153\n",
      "post_b frequency:  0.014285714285714285\n",
      "WSCP Contribution: -0.08619275461380724 (frequency - baseline)\n",
      "======================\n",
      "\n",
      "\n",
      "====== Post a: ======= (3 tokens, 2 auxiliary verbs)\n",
      "Will do. \n",
      "\n",
      "====== Post b: ======= (34 tokens, 1 auxiliary verbs)\n",
      "Done. ''[[Eriksson's Copper]]'' was already done. The term ''Erikssonia'' needs a disambiguation page as the name also refers to a fungus genus. \n",
      "======================\n",
      "user_b: Dger\n",
      "user_b baseline:   0.11470588235294117\n",
      "post_b frequency:  0.029411764705882353\n",
      "WSCP Contribution: -0.08529411764705883 (frequency - baseline)\n",
      "======================\n",
      "\n",
      "\n",
      "====== Post a: ======= (55 tokens, 9 auxiliary verbs)\n",
      "I have been talking on this page. You haven't. In fact you are falsely accusing me of something you are doing yourself. With my revert I added an extra comment that seemed to be the underlying the point cuddlyopedia was having issue with. You are just reverting without compromise. \n",
      "\n",
      "====== Post b: ======= (30 tokens, 1 auxiliary verbs)\n",
      "Just understood your complaint. I'm sorry I don't know how to revert the introduction without the whole article reverting. I hope it's ok now. \n",
      "======================\n",
      "user_b: 192.17.229.43\n",
      "user_b baseline:   0.11764705882352941\n",
      "post_b frequency:  0.03333333333333333\n",
      "WSCP Contribution: -0.08431372549019608 (frequency - baseline)\n",
      "======================\n",
      "\n",
      "\n",
      "====== Post a: ======= (315 tokens, 30 auxiliary verbs)\n",
      "OK, here's some more thoughts. If I wielded the Block button and the decision were mine, nothing short of a commitment to stop using all automated tools, and to only work manually, would stay my hand. I'd need you to stop using STiki completely, because I don't think you should be using it until after a lengthy time spent dealing with vandalism manually. That means looking over the recent changes list, looking at diffs, reverting using \\\"Undo\\\", and manually pasting warnings into user talk pages - and doing no other administrative work at all, no SPI, no UAA, no AIV, no nothing. Until you have demonstrated competence at identifying vandalism and an ability to do this one thing, you should not be attempting anything else, and you should definitely not be using any automated tools. Secondly, I'd want to see an end to your constantly broken promises - you made all kinds of promises six months ago before your block, and broke every one. And since you've been back, you have made more and gone on to break all of those too. ONE transgression would lead to an instant block. I have reasonable experience with young teenagers, and one thing I have learned is that if you don't come down hard on them when they repeatedly break promises to behave, they will just carry on taking the piss, as you have been doing - just toothlessly repeating \\\"If you do that again you'll be grounded\\\" gets nowhere. But as I say, the decision is not mine - that's just the way I'd deal with it if it were. -- \n",
      "\n",
      "====== Post b: ======= (59 tokens, 1 auxiliary verbs)\n",
      "I'm not deliberately trying to piss off anyone as I'm not like that.I believe i've not done anything wrong using STiki since you gave me the advice,e.g. if you're not sure leave it. it just seems like everyone is watching me in particular and it makes me feel under pressure.\n",
      "======================\n",
      "user_b: Gobbleswoggler\n",
      "user_b baseline:   0.10098176718092566\n",
      "post_b frequency:  0.01694915254237288\n",
      "WSCP Contribution: -0.08403261463855279 (frequency - baseline)\n",
      "======================\n",
      "\n",
      "\n",
      "====== Post a: ======= (315 tokens, 30 auxiliary verbs)\n",
      "OK, here's some more thoughts. If I wielded the Block button and the decision were mine, nothing short of a commitment to stop using all automated tools, and to only work manually, would stay my hand. I'd need you to stop using STiki completely, because I don't think you should be using it until after a lengthy time spent dealing with vandalism manually. That means looking over the recent changes list, looking at diffs, reverting using \\\"Undo\\\", and manually pasting warnings into user talk pages - and doing no other administrative work at all, no SPI, no UAA, no AIV, no nothing. Until you have demonstrated competence at identifying vandalism and an ability to do this one thing, you should not be attempting anything else, and you should definitely not be using any automated tools. Secondly, I'd want to see an end to your constantly broken promises - you made all kinds of promises six months ago before your block, and broke every one. And since you've been back, you have made more and gone on to break all of those too. ONE transgression would lead to an instant block. I have reasonable experience with young teenagers, and one thing I have learned is that if you don't come down hard on them when they repeatedly break promises to behave, they will just carry on taking the piss, as you have been doing - just toothlessly repeating \\\"If you do that again you'll be grounded\\\" gets nowhere. But as I say, the decision is not mine - that's just the way I'd deal with it if it were. -- \n",
      "\n",
      "====== Post b: ======= (59 tokens, 1 auxiliary verbs)\n",
      "I'm not deliberately trying to piss off anyone as I'm not like that.I believe i've not done anything wrong using STiki since you gave me the advice,e.g. if you're not sure leave it. it just seems like everyone is watching me in particular and it makes me feel under pressure.\n",
      "======================\n",
      "user_b: Gobbleswoggler\n",
      "user_b baseline:   0.10098176718092566\n",
      "post_b frequency:  0.01694915254237288\n",
      "WSCP Contribution: -0.08403261463855279 (frequency - baseline)\n",
      "======================\n",
      "\n",
      "\n",
      "====== Post a: ======= (76 tokens, 8 auxiliary verbs)\n",
      "Excuse me. ''\\\"Doesn't indicate importance or significance of a group\\/company\\/etc.\\\"'' I hadn't finished writing these pages yet and you assume that they are not important or significant? These pages are extremely important and significant. If you had let me finish the pages it would've been relevant. I see you haven't deleted the Andorran Football League pages, so why delete the VSL's? \n",
      "\n",
      "====== Post b: ======= (39 tokens, 1 auxiliary verbs)\n",
      "It's all coming back like a d\\xe9j\\xe0 vu! No, seriously... VSL actually stands for '''\\\"V\\\" Superstar League''' as if to say it is the Fifth version of it. \n",
      "======================\n",
      "user_b: Celticfan383\n",
      "user_b baseline:   0.10740740740740741\n",
      "post_b frequency:  0.02564102564102564\n",
      "WSCP Contribution: -0.08176638176638176 (frequency - baseline)\n",
      "======================\n",
      "\n",
      "\n",
      "====== Post a: ======= (51 tokens, 4 auxiliary verbs)\n",
      "Could you list any other proposals you might be comfortable with as well? I agree that tieing it to the controversy was important, just trying to gauge the opinions on a few versions from a few people. Thanks, --[[Special:Contributions\\/68.78.0.78|68.78.0.78]] (\n",
      "\n",
      "====== Post b: ======= (64 tokens, 1 auxiliary verbs)\n",
      "I think that alleged Nazi fits the bill nicley. That i sentialy whhat its allbout people alledgin that he olcts Nazi kit, not Nazi era kit. The Nazi era\\/period ect came about becasue of lack of real evidance for any real wrong doing (at least that is what I suspect), beyond the fact he collected WW2 kit.\n",
      "======================\n",
      "user_b: Slatersteven\n",
      "user_b baseline:   0.09594198856505369\n",
      "post_b frequency:  0.015625\n",
      "WSCP Contribution: -0.08031698856505369 (frequency - baseline)\n",
      "======================\n",
      "\n",
      "\n",
      "====== Post a: ======= (53 tokens, 1 auxiliary verbs)\n",
      "As to policy, Instantnood has an added feature to his probation\\/blocks that he can't edit categories or change categories.  As soon as I pointed that out to his latest showing and revert warring on categories, he disappeared again and Privacy re-appeared and re-applied all of Instantnoods category changes. \n",
      "\n",
      "====== Post b: ======= (58 tokens, 1 auxiliary verbs)\n",
      "I think it's obvious that Privacy is ''sympathetic'' to Instantnood.  It's not a violation of policy for him to take over making the edits his friend can't make.  Actually, I think Privacy got interested in massive category reorganization after he noticed me trying to fix ROC\\/Taiwan related categories.  --\n",
      "======================\n",
      "user_b: Ideogram\n",
      "user_b baseline:   0.09582309582309582\n",
      "post_b frequency:  0.017241379310344827\n",
      "WSCP Contribution: -0.078581716512751 (frequency - baseline)\n",
      "======================\n",
      "\n",
      "\n",
      "====== Post a: ======= (9 tokens, 1 auxiliary verbs)\n",
      "Your little welcome script is not working. - \n",
      "\n",
      "====== Post b: ======= (18 tokens, 1 auxiliary verbs)\n",
      "I just forgot to refresh my browser's cache. Does it work for cologne blue? - \n",
      "======================\n",
      "user_b: Patricknoddy\n",
      "user_b baseline:   0.13333333333333333\n",
      "post_b frequency:  0.05555555555555555\n",
      "WSCP Contribution: -0.07777777777777778 (frequency - baseline)\n",
      "======================\n",
      "\n",
      "\n",
      "====== Post a: ======= (31 tokens, 3 auxiliary verbs)\n",
      "I'll add the ref to what should really be the main site for this discussion, [[Talk:Women in the Russian and Soviet military]] Cheers \n",
      "\n",
      "====== Post b: ======= (16 tokens, 1 auxiliary verbs)\n",
      "I found this site which has some info on the Russian Army.  http:\\/\\/www.mongabay.com\\/reference\\/new_profiles\\/300.html \n",
      "======================\n",
      "user_b: Mercenary2k\n",
      "user_b baseline:   0.14\n",
      "post_b frequency:  0.0625\n",
      "WSCP Contribution: -0.07750000000000001 (frequency - baseline)\n",
      "======================\n",
      "\n",
      "\n",
      "====== Post a: ======= (57 tokens, 3 auxiliary verbs)\n",
      "It's a pity that you seem to find it difficult to be even-handed in your criticism, or even recognise the need for it. I see no warning on Giano's page for his personal attack on Mattisse, for instance. Or is it your view that two wrongs make a right? --\n",
      "\n",
      "====== Post b: ======= (134 tokens, 1 auxiliary verbs)\n",
      "[[User:Giano II|Giano]] actually blanked most of [[Buckingham Palace]][http:\\/\\/en.wikipedia.org\\/w\\/index.php?title=Buckingham_Palace&diff=241613380&oldid=241435694] to \\\"prove\\\" something to me, as he said on the talk page[http:\\/\\/en.wikipedia.org\\/w\\/index.php?title=Talk:Buckingham_Palace&diff=241614533&oldid=241596261] in response to a comment I made about references. [[User:Risker]] had to revert the article[http:\\/\\/en.wikipedia.org\\/w\\/index.php?title=Buckingham_Palace&diff=next&oldid=241613380] with the suggestion on the talk page that Giano allow others to edit the article to prevent charges of [[WP:OWN]].[http:\\/\\/en.wikipedia.org\\/w\\/index.php?title=Talk:Buckingham_Palace&diff=241616357&oldid=241614533] &mdash;\n",
      "======================\n",
      "user_b: Mattisse\n",
      "user_b baseline:   0.08481847413947477\n",
      "post_b frequency:  0.007462686567164179\n",
      "WSCP Contribution: -0.0773557875723106 (frequency - baseline)\n",
      "======================\n",
      "\n",
      "\n",
      "====== Post a: ======= (34 tokens, 2 auxiliary verbs)\n",
      "Umm no i didnt catch that one, send me the link to the page and i'll take a look at it see if i can't do something with it. --\n",
      "\n",
      "====== Post b: ======= (50 tokens, 1 auxiliary verbs)\n",
      "Thanks, but I screamed with facts and the person who put it there said he made a mistake and it's back.  He missed the fact that the page he used as the copyright source was in fact a copy of the las vegas, nevada page. \n",
      "======================\n",
      "user_b: Vegaswikian\n",
      "user_b baseline:   0.09720502388112506\n",
      "post_b frequency:  0.02\n",
      "WSCP Contribution: -0.07720502388112506 (frequency - baseline)\n",
      "======================\n",
      "\n",
      "\n",
      "====== Post a: ======= (11 tokens, 1 auxiliary verbs)\n",
      "Sorry??? Which comment are you referring to? \n",
      "\n",
      "====== Post b: ======= (51 tokens, 1 auxiliary verbs)\n",
      "This one[[http:\\/\\/en.wikipedia.org\\/w\\/index.php?title=Talk:United_States_and_state_terrorism&diff=405387554&oldid=405387300]] Wher you alter the message of an Edd wiht whome you are in serious dispute. Its not actualy altering what they say but its ot a good idea all, the same.\n",
      "======================\n",
      "user_b: Slatersteven\n",
      "user_b baseline:   0.09594198856505369\n",
      "post_b frequency:  0.0196078431372549\n",
      "WSCP Contribution: -0.07633414542779879 (frequency - baseline)\n",
      "======================\n",
      "\n",
      "\n",
      "====== Post a: ======= (78 tokens, 5 auxiliary verbs)\n",
      "Hey, I was just looking over the list of members on the Podcasting group and wanted to see if you were still active in the project. If so, it looks like the project could use a little jump-start. In particular, I think notability requirements and assessment guidelines could be added\\/updated. Please check out the page if you're still interested and move your name to the 2011 active list. Thanks! \n",
      "\n",
      "====== Post b: ======= (48 tokens, 1 auxiliary verbs)\n",
      "Thanks. I'm not that active here at the moment, as there are too many exciting things going on elsewhere - for example the imminent launch of the frame accurate [[Clesh]] Cloud video editing service as an app for Android tablets. \n",
      "======================\n",
      "user_b: Stephen B Streater\n",
      "user_b baseline:   0.09653465346534654\n",
      "post_b frequency:  0.020833333333333332\n",
      "WSCP Contribution: -0.07570132013201321 (frequency - baseline)\n",
      "======================\n",
      "\n",
      "\n",
      "====== Post a: ======= (21 tokens, 6 auxiliary verbs)\n",
      "should YIII, be VIII?  I would change it myself but I don't know what it should be. \n",
      "\n",
      "====== Post b: ======= (34 tokens, 3 auxiliary verbs)\n",
      "Ok, I'm guessing that the Y should be a V, since that's the only roman numberal it looks like, will try to find out in the mean time. \n",
      "======================\n",
      "user_b: Number 0\n",
      "user_b baseline:   0.16363636363636364\n",
      "post_b frequency:  0.08823529411764706\n",
      "WSCP Contribution: -0.07540106951871657 (frequency - baseline)\n",
      "======================\n",
      "\n",
      "\n",
      "====== Post a: ======= (28 tokens, 2 auxiliary verbs)\n",
      "i am checking the show changes box THEN adding information where it is needed as with [[centrebus|centrebus]]if you want to take a look \n",
      "\n",
      "====== Post b: ======= (25 tokens, 1 auxiliary verbs)\n",
      "Good. And also when you reply on the talk pages use one more of : than the last one which will indent it more \n",
      "======================\n",
      "user_b: Msalmon\n",
      "user_b baseline:   0.11506849315068493\n",
      "post_b frequency:  0.04\n",
      "WSCP Contribution: -0.07506849315068492 (frequency - baseline)\n",
      "======================\n",
      "\n",
      "\n",
      "====== Post a: ======= (36 tokens, 3 auxiliary verbs)\n",
      "A document with no stated author is \\\"anonymous\\\".  And one that doesn't state the source of the material it contains is \\\"unsourced\\\".  Please learn some English.  \n",
      "\n",
      "====== Post b: ======= (39 tokens, 1 auxiliary verbs)\n",
      "The source is clearly stated in the document with the name of the reviewer, who he works for. And you're the one throwing personal insults as me. And you're threatening ME on this site\n",
      "======================\n",
      "user_b: Tallicfan20\n",
      "user_b baseline:   0.10034602076124567\n",
      "post_b frequency:  0.02564102564102564\n",
      "WSCP Contribution: -0.07470499512022002 (frequency - baseline)\n",
      "======================\n",
      "\n",
      "\n",
      "====== Post a: ======= (20 tokens, 3 auxiliary verbs)\n",
      "Those movies have been confirmed by the source, which just happens to be a Disney Channel press release.\n",
      "\n",
      "====== Post b: ======= (84 tokens, 3 auxiliary verbs)\n",
      "If you want to believe what you want to believe, then fine. But their are the sources right there infront of your eyes. Why dont you believe them? They are from official press releases from Disney Channel. I even gave you one that said \\\"Twitches Too\\\" was in production, but you dont want to believe me? Whatever. Look at the date of the source for \\\"High School Musical 2\\\".\n",
      "======================\n",
      "user_b: LAUGH90\n",
      "user_b baseline:   0.10996563573883161\n",
      "post_b frequency:  0.03571428571428571\n",
      "WSCP Contribution: -0.0742513500245459 (frequency - baseline)\n",
      "======================\n",
      "\n",
      "\n",
      "====== Post a: ======= (61 tokens, 7 auxiliary verbs)\n",
      "I was wondering how his name would be transliterated into Hebrew. I only read the English version and I thought you'd probably know. ;) Please respond on my talk page if you don't mind, as my watchlist is full of talk pages already and I don't check it often. ;\\/ Thanks, \n",
      "\n",
      "====== Post b: ======= (45 tokens, 1 auxiliary verbs)\n",
      "Thanks, I figured as much (due to the he interwiki) but for some reason it seemed to make more sense to me to be transliterated as: \\u05e1\\u05d9\\u05e8\\u05d9\\u05d5\\u05e1 \\u05d1\\u05dc\\u05d0\\u05e7. Then again, you probably know better. ;) Thanks, \n",
      "======================\n",
      "user_b: Yonatan\n",
      "user_b baseline:   0.09642857142857143\n",
      "post_b frequency:  0.022222222222222223\n",
      "WSCP Contribution: -0.0742063492063492 (frequency - baseline)\n",
      "======================\n",
      "\n"
     ]
    }
   ],
   "source": [
    "for i, row in df_all3.head(20).iterrows():\n",
    "    print()\n",
    "    print(\"====== Post a: ======= ({} tokens, {} auxiliary verbs)\".format(row.length_a, row.auxiliary_verbs_a))\n",
    "    print(row.clean_text_a)\n",
    "    print()\n",
    "    print(\"====== Post b: ======= ({} tokens, {} auxiliary verbs)\".format(row.length_b, row.auxiliary_verbs_b))\n",
    "    print(row.clean_text_b)\n",
    "    print(\"======================\")\n",
    "    print(\"user_b: {}\".format(row.user_b))\n",
    "    print(\"user_b baseline:   {}\".format(row.baseline_b))\n",
    "    print(\"post_b frequency:  {}\".format(row.auxiliary_verbs_b / row.length_b))\n",
    "    print(\"WSCP Contribution: {} (frequency - baseline)\".format(row.wscp_contribution))\n",
    "\n",
    "    print(\"======================\")\n",
    "    print()"
   ]
  },
  {
   "cell_type": "markdown",
   "metadata": {},
   "source": [
    "It seems that the negative WSCP contribution of these posts may be explained by exceptionally high `user_b` baselines for auxiliary verbs, rather than low `post_b` frequencies."
   ]
  },
  {
   "cell_type": "code",
   "execution_count": 23,
   "metadata": {},
   "outputs": [
    {
     "name": "stdout",
     "output_type": "stream",
     "text": [
      "count    224836.000000\n",
      "mean          0.065823\n",
      "std           0.014059\n",
      "min           0.000000\n",
      "25%           0.058594\n",
      "50%           0.066118\n",
      "75%           0.073620\n",
      "max           0.333333\n",
      "Name: baseline_b, dtype: float64\n",
      "count    68795.000000\n",
      "mean         0.067495\n",
      "std          0.012397\n",
      "min          0.007391\n",
      "25%          0.060364\n",
      "50%          0.067233\n",
      "75%          0.074723\n",
      "max          0.205882\n",
      "Name: baseline_b, dtype: float64\n"
     ]
    },
    {
     "data": {
      "image/png": "[encoded data removed]",
      "text/plain": [
       "<Figure size 720x360 with 2 Axes>"
      ]
     },
     "metadata": {
      "needs_background": "light"
     },
     "output_type": "display_data"
    }
   ],
   "source": [
    "fig, (ax1, ax2) = plt.subplots(nrows=1, ncols=2, sharex=True, sharey=True, figsize=(10,5))\n",
    "ax1.set_title = \"user_b baselines (Aux. Verbs)\"\n",
    "ax2.set_title = \"post_b baselines in negative WSCP pairs\"\n",
    "df.baseline_b.hist(ax=ax1, density=True)\n",
    "df_all3.baseline_b.hist(ax=ax2, density=True)\n",
    "print(df.baseline_b.describe())\n",
    "print(df_all3.baseline_b.describe())"
   ]
  },
  {
   "cell_type": "code",
   "execution_count": 24,
   "metadata": {},
   "outputs": [
    {
     "data": {
      "text/plain": [
       "<matplotlib.axes._subplots.AxesSubplot at 0x16801fba8>"
      ]
     },
     "execution_count": 24,
     "metadata": {},
     "output_type": "execute_result"
    },
    {
     "data": {
      "image/png": "[encoded data removed]",
      "text/plain": [
       "<Figure size 432x288 with 1 Axes>"
      ]
     },
     "metadata": {
      "needs_background": "light"
     },
     "output_type": "display_data"
    }
   ],
   "source": [
    "df_all3.plot.scatter('wscp_contribution', 'baseline_b')"
   ]
  },
  {
   "cell_type": "markdown",
   "metadata": {},
   "source": [
    "Let's look more closely the users who appear most often in the negative WSCP-contributing posts.\n",
    "\n",
    "Although the statistics of user baselines in negative WSCP-contributing posts aren't too much different overall, it seems the baseline aux rates are much higher in the top negative contributing posts."
   ]
  },
  {
   "cell_type": "code",
   "execution_count": 25,
   "metadata": {},
   "outputs": [
    {
     "data": {
      "text/plain": [
       "user_b         baseline_b\n",
       "Mattisse       0.084818      35\n",
       "MONGO          0.084387      27\n",
       "Carcharoth     0.077177      16\n",
       "Vegaswikian    0.097205      13\n",
       "Awadewit       0.082732      11\n",
       "Mike Christie  0.074143       8\n",
       "Tango          0.089159       7\n",
       "The JPS        0.076975       6\n",
       "Kungfuadam     0.081027       6\n",
       "Kumioko        0.079307       6\n",
       "dtype: int64"
      ]
     },
     "execution_count": 25,
     "metadata": {},
     "output_type": "execute_result"
    }
   ],
   "source": [
    "df_all3.head(1000).groupby(['user_b', 'baseline_b']).size().sort_values(ascending=False).head(10)"
   ]
  },
  {
   "cell_type": "code",
   "execution_count": 35,
   "metadata": {},
   "outputs": [
    {
     "data": {
      "text/plain": [
       "83914"
      ]
     },
     "execution_count": 35,
     "metadata": {},
     "output_type": "execute_result"
    }
   ],
   "source": [
    "len(df_all3)"
   ]
  },
  {
   "cell_type": "code",
   "execution_count": 38,
   "metadata": {},
   "outputs": [
    {
     "data": {
      "text/plain": [
       "count    11396.000000\n",
       "mean         7.363461\n",
       "std         22.886673\n",
       "min          1.000000\n",
       "25%          1.000000\n",
       "50%          2.000000\n",
       "75%          6.000000\n",
       "max        777.000000\n",
       "Name: user_b, dtype: float64"
      ]
     },
     "execution_count": 38,
     "metadata": {},
     "output_type": "execute_result"
    }
   ],
   "source": [
    "df_all3.user_b.value_counts().describe()"
   ]
  },
  {
   "cell_type": "markdown",
   "metadata": {},
   "source": [
    "First, a sanity check."
   ]
  },
  {
   "cell_type": "code",
   "execution_count": 26,
   "metadata": {},
   "outputs": [
    {
     "name": "stdout",
     "output_type": "stream",
     "text": [
      "Used 2198 aux verbs out of 22612 tokens in 326 posts\n",
      "Baseline aux verb usage is 0.09720502388112506\n",
      "Previously computed: 0.09720502388112506\n"
     ]
    }
   ],
   "source": [
    "u_posts = posts[posts.user == 'Vegaswikian']\n",
    "total_posts = len(u_posts)\n",
    "total_tokens = u_posts.length.sum()\n",
    "total_m_tokens = u_posts.auxiliary_verbs.sum()\n",
    "print(\"Used {} aux verbs out of {} tokens in {} posts\".format(total_m_tokens, total_tokens, total_posts))\n",
    "print(\"Baseline aux verb usage is {}\".format(total_m_tokens / total_tokens))\n",
    "print(\"Previously computed: {}\".format(baselines['Vegaswikian']))"
   ]
  },
  {
   "cell_type": "code",
   "execution_count": 27,
   "metadata": {},
   "outputs": [
    {
     "name": "stdout",
     "output_type": "stream",
     "text": [
      "Tokens: 7, Aux verbs: 2, Rate: 0.2857142857142857\n",
      "OK. Will do.  &mdash;\n",
      "\n",
      "Tokens: 8, Aux verbs: 2, Rate: 0.25\n",
      "Will do! Regards, &mdash;\n",
      "\n",
      "Tokens: 20, Aux verbs: 5, Rate: 0.25\n",
      "I will be blocked for quoting my plan? How can that be?  I do not understand.   \\u2014\n",
      "\n",
      "Tokens: 21, Aux verbs: 5, Rate: 0.23809523809523808\n",
      "I have not been having a good experience on Wikipedia and have been losing interest. Sincerely, &ndash;\n",
      "\n",
      "Tokens: 21, Aux verbs: 5, Rate: 0.23809523809523808\n",
      "I am not clear whether there is more that I should do. Is there? Regards, &mdash;\n",
      "\n",
      "Tokens: 13, Aux verbs: 3, Rate: 0.23076923076923078\n",
      "O.K. Do that. I will try to do it quickly.  \n",
      "\n",
      "Tokens: 13, Aux verbs: 3, Rate: 0.23076923076923078\n",
      "O.K. It would be nice if we could work this out.  \n",
      "\n",
      "Tokens: 18, Aux verbs: 4, Rate: 0.2222222222222222\n",
      "Probably I would have to do quite a bit of alteration in wording. Is that O.K?  \n",
      "\n",
      "Tokens: 23, Aux verbs: 5, Rate: 0.21739130434782608\n",
      "I think I would be starting trouble if I did that. Could you do it with my permission? &mdash;\n",
      "\n",
      "Tokens: 14, Aux verbs: 3, Rate: 0.21428571428571427\n",
      "How am I stalking?  You are not being specific enough. Sincerely,  \n",
      "\n",
      "Tokens: 19, Aux verbs: 4, Rate: 0.21052631578947367\n",
      "I certainly will be willing to help you. I was being oversensitive. Sorry!  &mdash;\n",
      "\n",
      "Tokens: 34, Aux verbs: 7, Rate: 0.20588235294117646\n",
      "Yes. Thank you! If that is possible, it would be wonderful and save me infinite future grief. I would be very grateful to you if that could be accomplished. \n",
      "\n",
      "Tokens: 5, Aux verbs: 1, Rate: 0.2\n",
      "Do what you want. \n",
      "\n",
      "Tokens: 10, Aux verbs: 2, Rate: 0.2\n",
      "Of course, I will do as you say.  \n",
      "\n",
      "Tokens: 10, Aux verbs: 2, Rate: 0.2\n",
      "Doesn't matter. It's been deleted.  --\n",
      "\n",
      "Tokens: 20, Aux verbs: 4, Rate: 0.2\n",
      "I do not have Word documents. I only have notepad and that does not hold wiki markup.  \\u2014\n",
      "\n",
      "Tokens: 10, Aux verbs: 2, Rate: 0.2\n",
      "Thanks. This has been completed. Regards, \\u2014\n",
      "\n",
      "Tokens: 10, Aux verbs: 2, Rate: 0.2\n",
      "OK. Do you have any suggestions?  &mdash;\n",
      "\n",
      "Tokens: 10, Aux verbs: 2, Rate: 0.2\n",
      "Do you have an email address that always works?  \n",
      "\n",
      "Tokens: 15, Aux verbs: 3, Rate: 0.2\n",
      "I do not have Word document and Notepad does not save wiki formatting.  \\u2014\n",
      "\n",
      "Tokens: 5, Aux verbs: 1, Rate: 0.2\n",
      "What are you thinking?   \n",
      "\n",
      "Tokens: 26, Aux verbs: 5, Rate: 0.19230769230769232\n",
      "Suddenly I can no longer edit as I have been blocked for no reason. I do not understand what has happened. &mdash;\n",
      "\n",
      "Tokens: 21, Aux verbs: 4, Rate: 0.19047619047619047\n",
      "Thanks! I have had new interests all along and would prefer to have this matter dropped.  &mdash;\n",
      "\n",
      "Tokens: 16, Aux verbs: 3, Rate: 0.1875\n",
      "I have decided to do nothing as all I got before was beat up. --\n",
      "\n",
      "Tokens: 11, Aux verbs: 2, Rate: 0.18181818181818182\n",
      "Cyborg Ninja's message has been forwarded to W.marsh. --\n",
      "\n",
      "Tokens: 55, Aux verbs: 10, Rate: 0.18181818181818182\n",
      "I am so sorry to say that I cannot do it. The subject is not one with which I am familiar nor am an expert. It would take me weeks to do and I would not be confident in the results. I apologize to you. Regards, &mdash;\n",
      "\n",
      "Tokens: 11, Aux verbs: 2, Rate: 0.18181818181818182\n",
      "Certainly I will, as much as I am able.  \n",
      "\n",
      "Tokens: 33, Aux verbs: 6, Rate: 0.18181818181818182\n",
      "On what basis are you accused of being my sockpuppet. Indeed, this is getting very nasty.  Well, you should be cleared as you are not. Regards,  \\u2014\n",
      "\n",
      "Tokens: 17, Aux verbs: 3, Rate: 0.17647058823529413\n",
      "Sorry! That page has been vandalized a lot and I didn't look closely enough.  \n",
      "\n",
      "Tokens: 68, Aux verbs: 12, Rate: 0.17647058823529413\n",
      "You apparently have been following me around. I did not know you were currently editing the Motorcycle Diaries, as frankly, I have not been paying attention to what you do. Anyway, regardless of where I have been editing, I still am permitted to edit Che Guevara article. Where do you get the idea that I am not? &ndash;\n",
      "\n",
      "Tokens: 17, Aux verbs: 3, Rate: 0.17647058823529413\n",
      "I am sorry but I am unable to do any copy editing anymore. Regards,  \\u2014\n",
      "\n",
      "Tokens: 57, Aux verbs: 10, Rate: 0.17543859649122806\n",
      "I feel it would be unfair to the others if you did that. This article is not about me. All I did was nominate for FAR. The rest was the work of others. You should not penalize those good editors, as much as they have been through,  because of me. \n",
      "\n",
      "Tokens: 40, Aux verbs: 7, Rate: 0.175\n",
      "I would be willing if the information remains confidential and at no point is released in any way that can be identified with me. Your project sounds like it could be  quite interesting. Regards, &mdash;\n",
      "\n",
      "Tokens: 23, Aux verbs: 4, Rate: 0.17391304347826086\n",
      "Sounds like you should be writing this article! I am just trying to figure out what is there. &ndash;\n",
      "\n",
      "Tokens: 23, Aux verbs: 4, Rate: 0.17391304347826086\n",
      "Yes, that would be wonderful. But what is the status of the picture. Is it PD? &ndash;\n",
      "\n",
      "Tokens: 23, Aux verbs: 4, Rate: 0.17391304347826086\n",
      "It is the relaxing part that is hard. That is why it is hard to concentrate.  Thanks for your words. \n",
      "\n",
      "Tokens: 23, Aux verbs: 4, Rate: 0.17391304347826086\n",
      "OK. I have been adding it after. Are there other licenses I should know about besides those two? Regards, \\u2014\n",
      "\n",
      "Tokens: 35, Aux verbs: 6, Rate: 0.17142857142857143\n",
      "Well, I don't understand what is going on. If the article can be referenced, will it be allowed out of the sandbox? What's the deal?  &mdash;\n",
      "\n",
      "Tokens: 35, Aux verbs: 6, Rate: 0.17142857142857143\n",
      "I have no intention of edit warring. I do not engage in those. That is the first revert I have ever reverted. I don't intend to do it again. --\n",
      "\n",
      "Tokens: 6, Aux verbs: 1, Rate: 0.16666666666666666\n",
      "I have ordered the book.  \n",
      "\n"
     ]
    }
   ],
   "source": [
    "u_posts = posts[posts.user == 'Mattisse']\n",
    "top_aux_rates = (u_posts.auxiliary_verbs / u_posts.length).sort_values(ascending=False).head(40)\n",
    "\n",
    "for i in top_aux_rates.index:\n",
    "    post = posts.loc[i]\n",
    "    print(\"Tokens: {}, Aux verbs: {}, Rate: {}\".format(post.length, post.auxiliary_verbs, post.auxiliary_verbs / post.length))\n",
    "    print(post.clean_text)\n",
    "    print()"
   ]
  },
  {
   "cell_type": "code",
   "execution_count": 28,
   "metadata": {},
   "outputs": [
    {
     "name": "stdout",
     "output_type": "stream",
     "text": [
      "Tokens: 3, Aux verbs: 1, Rate: 0.3333333333333333\n",
      "Be patient.--\n",
      "\n",
      "Tokens: 6, Aux verbs: 2, Rate: 0.3333333333333333\n",
      "What did Rjensen do?--\n",
      "\n",
      "Tokens: 7, Aux verbs: 2, Rate: 0.2857142857142857\n",
      "What else would it be?--\n",
      "\n",
      "Tokens: 7, Aux verbs: 2, Rate: 0.2857142857142857\n",
      "Yeech...that should be interesting.--\n",
      "\n",
      "Tokens: 7, Aux verbs: 2, Rate: 0.2857142857142857\n",
      "Sure, that would be fine.--\n",
      "\n",
      "Tokens: 12, Aux verbs: 3, Rate: 0.25\n",
      "It fails notability and may be considered to be advertising anyway.--\n",
      "\n",
      "Tokens: 12, Aux verbs: 3, Rate: 0.25\n",
      "Should the article be protected until the issues are resolved?--\n",
      "\n",
      "Tokens: 16, Aux verbs: 4, Rate: 0.25\n",
      "He's had recent disputes with you...a neutral admin should have been requested.--\n",
      "\n",
      "Tokens: 8, Aux verbs: 2, Rate: 0.25\n",
      "Sure..I'll help as I have time.--\n",
      "\n",
      "Tokens: 9, Aux verbs: 2, Rate: 0.2222222222222222\n",
      "Trust me...it is being worked on.--\n",
      "\n",
      "Tokens: 9, Aux verbs: 2, Rate: 0.2222222222222222\n",
      "Then he shouldn't be messing with it.--\n",
      "\n",
      "Tokens: 9, Aux verbs: 2, Rate: 0.2222222222222222\n",
      "yes..I would believe that is a fair definition--\n",
      "\n",
      "Tokens: 23, Aux verbs: 5, Rate: 0.21739130434782608\n",
      "He was being disruptive. He was responding to every single comment and numerous admins made it clear he was being disruptive.--\n",
      "\n",
      "Tokens: 23, Aux verbs: 5, Rate: 0.21739130434782608\n",
      "Done...BTW I don't have rollback so I had to do the standard revert...is he blocked yet?--\n",
      "\n",
      "Tokens: 14, Aux verbs: 3, Rate: 0.21428571428571427\n",
      "I'll do that...does [[Bigfoot]] count?--\n",
      "\n",
      "Tokens: 28, Aux verbs: 6, Rate: 0.21428571428571427\n",
      "He should have been blocked long ago...it is the only way he'll start to see that we are supposedly here to write an encyclopedia.--\n",
      "\n",
      "Tokens: 14, Aux verbs: 3, Rate: 0.21428571428571427\n",
      "Those links are all to articles...what userpages does he have?--\n",
      "\n",
      "Tokens: 34, Aux verbs: 7, Rate: 0.20588235294117646\n",
      "The point is, if he is gone, then there is no need to post anything to his userpage anyway. If he was vandalizing, then be happy he has left.--\n",
      "\n",
      "Tokens: 30, Aux verbs: 6, Rate: 0.2\n",
      "That will be great..but I will have to do a ref check and update in force on 12\\/4...and will complete it before it gets on the mainpage.--\n",
      "\n",
      "Tokens: 5, Aux verbs: 1, Rate: 0.2\n",
      "Yep...will do.--\n",
      "\n",
      "Tokens: 5, Aux verbs: 1, Rate: 0.2\n",
      "Time will tell...--\n",
      "\n",
      "Tokens: 5, Aux verbs: 1, Rate: 0.2\n",
      "Sure you do...--\n",
      "\n",
      "Tokens: 5, Aux verbs: 1, Rate: 0.2\n",
      "I am autoblocked...--\n",
      "\n",
      "Tokens: 5, Aux verbs: 1, Rate: 0.2\n",
      "It was way overdue.--\n",
      "\n",
      "Tokens: 10, Aux verbs: 2, Rate: 0.2\n",
      "Where is he asking it to be unprotected?--\n",
      "\n",
      "Tokens: 35, Aux verbs: 7, Rate: 0.2\n",
      "I haven't determined it yet, but I suspect it might be likely. Initial edits don't indicate this is a new editor and there is no doubt SixOfDiamonds has an agenda.--\n",
      "\n",
      "Tokens: 15, Aux verbs: 3, Rate: 0.2\n",
      "I will also add a statement that I would like to have added afterwards.--\n",
      "\n",
      "Tokens: 10, Aux verbs: 2, Rate: 0.2\n",
      "Your admin tools should have taken away long ago.--\n",
      "\n",
      "Tokens: 10, Aux verbs: 2, Rate: 0.2\n",
      "I'll see what I can come up with.--\n",
      "\n",
      "Tokens: 36, Aux verbs: 7, Rate: 0.19444444444444445\n",
      "I saw that, but I didn't think he should have. I didn't see the closure as being a bad action, personally...but that doesn't mean I am right.--\n",
      "\n",
      "Tokens: 21, Aux verbs: 4, Rate: 0.19047619047619047\n",
      "The article is protected and no consensus to add the template or rationale to do so has been adequately demonstrated.--\n",
      "\n",
      "Tokens: 21, Aux verbs: 4, Rate: 0.19047619047619047\n",
      "I don't think mediation is very active these days....it may be a long wait for a mediator.--\n",
      "\n",
      "Tokens: 37, Aux verbs: 7, Rate: 0.1891891891891892\n",
      "Once the Afd is concluded, maybe we can ask oversight to have the edit striken, since we can then protect the Afd, which we can't do while it is still being discussed.--\n",
      "\n",
      "Tokens: 11, Aux verbs: 2, Rate: 0.18181818181818182\n",
      "Great news...I'm sure you'll do well.--\n",
      "\n",
      "Tokens: 11, Aux verbs: 2, Rate: 0.18181818181818182\n",
      "I have no idea what article you are referring to.--\n",
      "\n",
      "Tokens: 11, Aux verbs: 2, Rate: 0.18181818181818182\n",
      "CyclePat, do what you think you need to do.--\n",
      "\n",
      "Tokens: 33, Aux verbs: 6, Rate: 0.18181818181818182\n",
      "He would have faired better had he not told us we were on an acid trip...once he did that, the rest of the coment just looked to be disruption.--\n",
      "\n",
      "Tokens: 11, Aux verbs: 2, Rate: 0.18181818181818182\n",
      "I have examined your request and your request is denied.--\n",
      "\n",
      "Tokens: 22, Aux verbs: 4, Rate: 0.18181818181818182\n",
      "You can file...it has been a long time...but you can file a request for comment I believe.--\n",
      "\n",
      "Tokens: 39, Aux verbs: 7, Rate: 0.1794871794871795\n",
      "The COINTELPRO stuff is something I have little knowledge of, but I can find someone who does know about it and see what we can do...looks like the 209 IP is likely the subject?--\n",
      "\n"
     ]
    }
   ],
   "source": [
    "u_posts = posts[posts.user == 'MONGO']\n",
    "top_aux_rates = (u_posts.auxiliary_verbs / u_posts.length).sort_values(ascending=False).head(40)\n",
    "\n",
    "for i in top_aux_rates.index:\n",
    "    post = posts.loc[i]\n",
    "    print(\"Tokens: {}, Aux verbs: {}, Rate: {}\".format(post.length, post.auxiliary_verbs, post.auxiliary_verbs / post.length))\n",
    "    print(post.clean_text)\n",
    "    print()"
   ]
  },
  {
   "cell_type": "code",
   "execution_count": 29,
   "metadata": {},
   "outputs": [
    {
     "name": "stdout",
     "output_type": "stream",
     "text": [
      "Tokens: 8, Aux verbs: 3, Rate: 0.375\n",
      "I'll see what I can do. \n",
      "\n",
      "Tokens: 8, Aux verbs: 3, Rate: 0.375\n",
      "I'll see what I can do. \n",
      "\n",
      "Tokens: 7, Aux verbs: 2, Rate: 0.2857142857142857\n",
      "Seems to have been sorted now. \n",
      "\n",
      "Tokens: 30, Aux verbs: 8, Rate: 0.26666666666666666\n",
      "This has been resolved now. I am sorry this was not resolved to your satisfaction. I do hope you will take the advice that has been given. \n",
      "\n",
      "Tokens: 4, Aux verbs: 1, Rate: 0.25\n",
      "Will reply there. \n",
      "\n",
      "Tokens: 4, Aux verbs: 1, Rate: 0.25\n",
      "Is this possible? \n",
      "\n",
      "Tokens: 8, Aux verbs: 2, Rate: 0.25\n",
      "Thanks. I'll have a look. \n",
      "\n",
      "Tokens: 12, Aux verbs: 3, Rate: 0.25\n",
      "Did so. Though I see there have been subsequent developments... \n",
      "\n",
      "Tokens: 9, Aux verbs: 2, Rate: 0.2222222222222222\n",
      "Are you sure you have the right person? \n",
      "\n",
      "Tokens: 9, Aux verbs: 2, Rate: 0.2222222222222222\n",
      "I will be looking at this tomorrow night. \n",
      "\n",
      "Tokens: 23, Aux verbs: 5, Rate: 0.21739130434782608\n",
      "No problem. It's good that you can apologise. You'd be surprised how many people don't do that. \n",
      "\n",
      "Tokens: 46, Aux verbs: 10, Rate: 0.21739130434782608\n",
      "Heh. Actually, I shouldn't have assumed Bishzilla is prehistoric. She might not have the detailed backstory that Godzilla has, but is clearly getting there, and the support cast is growing. Have options been taken out on a film? \n",
      "\n",
      "Tokens: 14, Aux verbs: 3, Rate: 0.21428571428571427\n",
      "That should be fine, though be careful to describe the edits accurately. \n",
      "\n",
      "Tokens: 20, Aux verbs: 4, Rate: 0.2\n",
      "I'm having difficulty seeing what is going on here. I'll need to check the contribs lists. \n",
      "\n",
      "Tokens: 5, Aux verbs: 1, Rate: 0.2\n",
      "This was addressed elsewhere. \n",
      "\n",
      "Tokens: 20, Aux verbs: 4, Rate: 0.2\n",
      "\\\"Redirecting is blanking\\\" would be more accurate. Or maybe \\\"redirecting is redirecting\\\"? \n",
      "\n",
      "Tokens: 10, Aux verbs: 2, Rate: 0.2\n",
      "I'll be returning to that amendment this weekend. \n",
      "\n",
      "Tokens: 15, Aux verbs: 3, Rate: 0.2\n",
      "Would you mind starting the discussion? I need to do something else now. \n",
      "\n",
      "Tokens: 70, Aux verbs: 14, Rate: 0.2\n",
      "I suspect it may have been wrongly tagged. But part of the problem is that I cannot be sure because I cannot see the picture any more because it has been deleted. That is what I was really asking when I said \\\"can you help\\\" - what did the picture look like?? I have vague memories, but nothing certain. \n",
      "\n",
      "Tokens: 45, Aux verbs: 9, Rate: 0.2\n",
      "Sorry. I was joking. She wasn't married, was she? having said that, I do see a glimmer of hope here. Turrill was her mother's maiden name, wasn't it? Has that been discussed before? \n",
      "\n",
      "Tokens: 30, Aux verbs: 6, Rate: 0.2\n",
      "Should have said I was leaving one computer. Now I guess I have an even longer AN thread to read. I'll go and have a look. \n",
      "\n",
      "Tokens: 5, Aux verbs: 1, Rate: 0.2\n",
      "It did, thanks. \n",
      "\n",
      "Tokens: 5, Aux verbs: 1, Rate: 0.2\n",
      "Thanks. Will look. \n",
      "\n",
      "Tokens: 15, Aux verbs: 3, Rate: 0.2\n",
      "Have a look at the changes. Do you think they will break anything? \n",
      "\n",
      "Tokens: 10, Aux verbs: 2, Rate: 0.2\n",
      "Another McCarthy-era article. I'll have a look. \n",
      "\n",
      "Tokens: 30, Aux verbs: 6, Rate: 0.2\n",
      "Please do. Don't know of any bots, but I can help if the number is a bit more than can be done manually by one person. \n",
      "\n",
      "Tokens: 15, Aux verbs: 3, Rate: 0.2\n",
      "A number should be possible. I'll ask the arbitrator handling the applications. \n",
      "\n",
      "Tokens: 105, Aux verbs: 20, Rate: 0.19047619047619047\n",
      "Despite what has been said in ''The Signpost'' and elsewhere, the Law\\/undertow matter is not related to the Law\\/Sandstein\\/CoM matter at all (apart from Law being involved in both). The timing was coincidental there. I will ask others to review the edits you have pointed out. One thing that does need clarifying is who can report such matters. The presumption is that others will report them so that those restricted from interactions don't feel obliged to do so, but if no reporting is being done, then that may have to be reconsidered. \n",
      "\n",
      "Tokens: 21, Aux verbs: 4, Rate: 0.19047619047619047\n",
      "There must be an easier way than that to display colour samples if all you have is the hexadecimal code? \n",
      "\n",
      "Tokens: 21, Aux verbs: 4, Rate: 0.19047619047619047\n",
      "It would be better to seek mediation and\\/or get others to help. Arbitration should only be a last resort. \n",
      "\n",
      "Tokens: 21, Aux verbs: 4, Rate: 0.19047619047619047\n",
      "Now, if humans were nocturnal, we would be arguing over whether the sky is black... :-) \n",
      "\n",
      "Tokens: 16, Aux verbs: 3, Rate: 0.1875\n",
      "Thanks! The infobox will have to wait until the articles are a bit bigger! \n",
      "\n",
      "Tokens: 22, Aux verbs: 4, Rate: 0.18181818181818182\n",
      "I'll do that. Learning how to deal with stress on Wikipedia is difficult. Don't worry about it. \n",
      "\n",
      "Tokens: 22, Aux verbs: 4, Rate: 0.18181818181818182\n",
      "That is probably an autoblock. Someone should be able to fix it soon if enough people are watching this page. \n",
      "\n",
      "Tokens: 11, Aux verbs: 2, Rate: 0.18181818181818182\n",
      "Thanks for the note. Will have a quick look. \n",
      "\n",
      "Tokens: 17, Aux verbs: 3, Rate: 0.17647058823529413\n",
      "As long as they are helpful and focused comments, volume should never be a problem. \n",
      "\n",
      "Tokens: 17, Aux verbs: 3, Rate: 0.17647058823529413\n",
      "As far as I can tell, both of these e-mails have been dealt with now. \n",
      "\n",
      "Tokens: 17, Aux verbs: 3, Rate: 0.17647058823529413\n",
      "I have. Should there be an e-mail from you? I can't see one. \n",
      "\n",
      "Tokens: 17, Aux verbs: 3, Rate: 0.17647058823529413\n",
      "That would be clearer and still short enough to be easily understandable. Go for it. \n",
      "\n",
      "Tokens: 17, Aux verbs: 3, Rate: 0.17647058823529413\n",
      "A motion was proposed and passed, so I think this has been dealt with now. \n",
      "\n"
     ]
    }
   ],
   "source": [
    "u_posts = posts[posts.user == 'Carcharoth']\n",
    "top_aux_rates = (u_posts.auxiliary_verbs / u_posts.length).sort_values(ascending=False).head(40)\n",
    "\n",
    "for i in top_aux_rates.index:\n",
    "    post = posts.loc[i]\n",
    "    print(\"Tokens: {}, Aux verbs: {}, Rate: {}\".format(post.length, post.auxiliary_verbs, post.auxiliary_verbs / post.length))\n",
    "    print(post.clean_text)\n",
    "    print()"
   ]
  },
  {
   "cell_type": "markdown",
   "metadata": {},
   "source": [
    "### Prepositions\n",
    "\n",
    "Let's look at some examples for prepositions too, since they have the most dramatic negative WSCP."
   ]
  },
  {
   "cell_type": "code",
   "execution_count": 30,
   "metadata": {},
   "outputs": [
    {
     "name": "stdout",
     "output_type": "stream",
     "text": [
      "of; in; to; for; with; on; by; at; from; as; into; about; like; after; between; through; over; against; under; without; within; during; before; towards; around; upon; including; among; across; off; behind; since; rather; than; until; according; to; up; to; despite; near; above; per; along; away; from; throughout; outside; round; beyond; worth; down; on; to; up; due; to; inside; plus\n"
     ]
    }
   ],
   "source": [
    "print('; '.join([mi for m in markers['prepositions'] for mi in m]))"
   ]
  },
  {
   "cell_type": "code",
   "execution_count": 31,
   "metadata": {},
   "outputs": [],
   "source": [
    "if 'baseline_b' in df:\n",
    "    df = df.drop('baseline_b', 1) # temp column for this analysis\n",
    "\n",
    "m = 'prepositions'\n",
    "ma_bin = df[m+'_a'] > 0 # condition 1\n",
    "mb_bin = df[m+'_b'] > 0 # condition 2\n",
    "\n",
    "baselines = base_prob_m(m)\n",
    "baselines.name = 'baseline_b'\n",
    "baselines.index.name = 'user_b'\n",
    "df = df.join(baselines, on='user_b')\n",
    "mb_freq = df[m+'_b'] / df['length_b']\n",
    "mb_cond = mb_freq < df['baseline_b'] # condition_3\n",
    "\n",
    "df_all3 = df[ma_bin & mb_bin & mb_cond]"
   ]
  },
  {
   "cell_type": "code",
   "execution_count": 32,
   "metadata": {},
   "outputs": [
    {
     "data": {
      "text/plain": [
       "user_b          baseline_b\n",
       "Moonriddengirl  0.101059      48\n",
       "SandyGeorgia    0.099460      36\n",
       "AnonEMouse      0.089617      31\n",
       "Cirt            0.090209      29\n",
       "Awadewit        0.101764      23\n",
       "Leahtwosaints   0.098004      23\n",
       "CactusWriter    0.088127      19\n",
       "Montanabw       0.103857      18\n",
       "Suede67         0.081334      17\n",
       "HJ Mitchell     0.100240      17\n",
       "dtype: int64"
      ]
     },
     "execution_count": 32,
     "metadata": {},
     "output_type": "execute_result"
    }
   ],
   "source": [
    "df_all3.head(1000).groupby(['user_b', 'baseline_b']).size().sort_values(ascending=False).head(10)"
   ]
  },
  {
   "cell_type": "code",
   "execution_count": 33,
   "metadata": {},
   "outputs": [
    {
     "name": "stdout",
     "output_type": "stream",
     "text": [
      "Used 13632 prepositions out of 130156 tokens in 1648 posts\n",
      "Baseline aux verb usage is 0.10473585543501644\n",
      "Previously computed: 0.1092782593313285\n"
     ]
    }
   ],
   "source": [
    "u_posts = posts[posts.user == 'Carcharoth']\n",
    "total_posts = len(u_posts)\n",
    "total_tokens = u_posts.length.sum()\n",
    "total_m_tokens = u_posts[m].sum()\n",
    "print(\"Used {} {} out of {} tokens in {} posts\".format(total_m_tokens, m, total_tokens, total_posts))\n",
    "print(\"Baseline aux verb usage is {}\".format(total_m_tokens / total_tokens))\n",
    "print(\"Previously computed: {}\".format(baselines['Vegaswikian']))"
   ]
  },
  {
   "cell_type": "code",
   "execution_count": 34,
   "metadata": {},
   "outputs": [
    {
     "name": "stdout",
     "output_type": "stream",
     "text": [
      "Tokens: 9, Aux verbs: 3, Rate: 0.3333333333333333\n",
      "Er, up to you, I suppose. \n",
      "\n",
      "Tokens: 11, Aux verbs: 3, Rate: 0.2727272727272727\n",
      "Is this a response to Jehochman in the section above? \n",
      "\n",
      "Tokens: 50, Aux verbs: 13, Rate: 0.26\n",
      "And thanks for this as well. With some of the opinions flying around, I was kind of hesitant to ask, but the responses from both of you have (in a good way) restored some of my faith in things around here. :-) \n",
      "\n",
      "Tokens: 4, Aux verbs: 1, Rate: 0.25\n",
      "Commented over there. \n",
      "\n",
      "Tokens: 12, Aux verbs: 3, Rate: 0.25\n",
      "Give me a day or two to get round to this. \n",
      "\n",
      "Tokens: 4, Aux verbs: 1, Rate: 0.25\n",
      "Replied over there. \n",
      "\n",
      "Tokens: 4, Aux verbs: 1, Rate: 0.25\n",
      "replied over there. \n",
      "\n",
      "Tokens: 4, Aux verbs: 1, Rate: 0.25\n",
      "Replied over there. \n",
      "\n",
      "Tokens: 4, Aux verbs: 1, Rate: 0.25\n",
      "Commented over there. \n",
      "\n",
      "Tokens: 4, Aux verbs: 1, Rate: 0.25\n",
      "Replied over there. \n",
      "\n",
      "Tokens: 24, Aux verbs: 6, Rate: 0.25\n",
      "As I said, I have to move on to deal with other things now, but I hope this addresses your concerns. \n",
      "\n",
      "Tokens: 17, Aux verbs: 4, Rate: 0.23529411764705882\n",
      "As far as I can tell, both of these e-mails have been dealt with now. \n",
      "\n",
      "Tokens: 17, Aux verbs: 4, Rate: 0.23529411764705882\n",
      "No need to apologise. it is a bit difficult to keep up with everything though. \n",
      "\n",
      "Tokens: 40, Aux verbs: 9, Rate: 0.225\n",
      "I've also formalised my suggestions above in an evidence section at [[Wikipedia:Requests for arbitration\\/IRC\\/Evidence#Suggested additions to the timeline]]. Feel free to add stuff in from there as you wish. \n",
      "\n",
      "Tokens: 9, Aux verbs: 2, Rate: 0.2222222222222222\n",
      "Thanks. Good luck to you as well. \n",
      "\n",
      "Tokens: 18, Aux verbs: 4, Rate: 0.2222222222222222\n",
      "Apologies for not finding the time to review this. Hope others managed to get to it. \n",
      "\n",
      "Tokens: 18, Aux verbs: 4, Rate: 0.2222222222222222\n",
      "Thanks! And to everyone else as well. Apologies for not having time to reply individually. \n",
      "\n",
      "Tokens: 9, Aux verbs: 2, Rate: 0.2222222222222222\n",
      "Note to self: deal with this tomorrow. \n",
      "\n",
      "Tokens: 9, Aux verbs: 2, Rate: 0.2222222222222222\n",
      "Waiting to see what others have to say. \n",
      "\n",
      "Tokens: 18, Aux verbs: 4, Rate: 0.2222222222222222\n",
      "Thanks for that. I appreciate you dealing with that before or just after starting a wikibreak. \n",
      "\n",
      "Tokens: 18, Aux verbs: 4, Rate: 0.2222222222222222\n",
      "Sorry for cluttering my submissions page with notes - thanks for moving them to the talk page! \n",
      "\n",
      "Tokens: 114, Aux verbs: 25, Rate: 0.21929824561403508\n",
      "Shell warned Polargeo about some comments and told him to stop - please look for those as well. I haven't managed to catch up yet with all that's been said on that page, and I'm even less likely to get caught up on reading that page if I have to deal with this as well. Hence my advice to you to take this somewhere else. We are not going to get distracted from the main points of the case and spend lots of time on this, so please don't try and force us to arbitrate between you two in the middle of a case. \n",
      "\n",
      "Tokens: 14, Aux verbs: 3, Rate: 0.21428571428571427\n",
      "Will try to find some time for that at some point. Thanks. \n",
      "\n",
      "Tokens: 14, Aux verbs: 3, Rate: 0.21428571428571427\n",
      "Thanks, both of you, good to see the article up there. \n",
      "\n",
      "Tokens: 47, Aux verbs: 10, Rate: 0.2127659574468085\n",
      "OK. Thanks for clearing that up. Please realise that those who only use on-wiki channels of communication need to be told things like this, as there is no way of leaving people to find out for themselves (as is sometimes done on-wiki). \n",
      "\n",
      "Tokens: 19, Aux verbs: 4, Rate: 0.21052631578947367\n",
      "OK. Good luck with the article editing (I want to get back to that as well...) \n",
      "\n",
      "Tokens: 79, Aux verbs: 16, Rate: 0.20253164556962025\n",
      "We seem to have come full circle here to the matter of recusals on a different case. For the record, I'm recused on anything to do with the Matthew Hoffman case because I was a party to the original case, and as a consequence have been leaving that matter entirely for other arbitrators and clerks to deal with. See also my comments made at the time of the ArbCom election in December 2008. \n",
      "\n",
      "Tokens: 5, Aux verbs: 1, Rate: 0.2\n",
      "Replied to this earlier. \n",
      "\n",
      "Tokens: 5, Aux verbs: 1, Rate: 0.2\n",
      "Thanks for the suggestions. \n",
      "\n",
      "Tokens: 25, Aux verbs: 5, Rate: 0.2\n",
      "As others have said, take it to deletion review, or ask for a version that you can work on in your userspace. \n",
      "\n",
      "Tokens: 15, Aux verbs: 3, Rate: 0.2\n",
      "OK. No rush. I'll carry on on other bits of the article. \n",
      "\n",
      "Tokens: 10, Aux verbs: 2, Rate: 0.2\n",
      "I've asked for more details on this finding. \n",
      "\n",
      "Tokens: 20, Aux verbs: 4, Rate: 0.2\n",
      "Thanks. I'd be happy for you just to edit in what I suggested on the talk page. \n",
      "\n",
      "Tokens: 5, Aux verbs: 1, Rate: 0.2\n",
      "I replied over there. \n",
      "\n",
      "Tokens: 62, Aux verbs: 12, Rate: 0.1935483870967742\n",
      "\\\"clear the air\\\" is agreeing to move on from any disagreements that arose during the case. See [[wikt:clear the air|the wiktionary definition]]. But you are right, you need to ask the mediator, as it is up to them as to what to do once the case has concluded. \n",
      "\n",
      "Tokens: 57, Aux verbs: 11, Rate: 0.19298245614035087\n",
      "OK. I'll take a look at those subcategories. Could you give me until midnight on Sunday? You could post another notice at the other page to warn others as well, and then we can all move on to the next lot (there are lots more to deal with, right)? \n",
      "\n",
      "Tokens: 52, Aux verbs: 10, Rate: 0.19230769230769232\n",
      "My post above was a helpful hint about following DYK as a whole, not about the nomination process. Would you mind posting your post under a new heading, as it seems to have little to do with what I was saying and seems to be changing the subject? \n",
      "\n",
      "Tokens: 21, Aux verbs: 4, Rate: 0.19047619047619047\n",
      "I'll keep this in mind, but you really need to talk this through with Tony, not me. \n",
      "\n",
      "Tokens: 58, Aux verbs: 11, Rate: 0.1896551724137931\n",
      "Thanks! I won't have time until after the weekend to have a proper look at the tools, but I'd like to thank everyone who supported my RfA. I won't be dropping off thank-you notes to everyone, but I may respond to a few of the comments on individual talk pages. \n",
      "\n",
      "Tokens: 37, Aux verbs: 7, Rate: 0.1891891891891892\n",
      "I put archive tags on that page because the original thread link was archived. If you want to carry on discussing this please contribute to the new thread I am about to start on AN. \n",
      "\n"
     ]
    }
   ],
   "source": [
    "u_posts = posts[posts.user == 'Carcharoth']\n",
    "top_aux_rates = (u_posts[m] / u_posts.length).sort_values(ascending=False).head(40)\n",
    "\n",
    "for i in top_aux_rates.index:\n",
    "    post = posts.loc[i]\n",
    "    print(\"Tokens: {}, Aux verbs: {}, Rate: {}\".format(post.length, post[m], post[m] / post.length))\n",
    "    print(post.clean_text)\n",
    "    print()"
   ]
  },
  {
   "cell_type": "markdown",
   "metadata": {},
   "source": [
    "Based on these posts, it seems that the high auxiliary verb and preposition rates are a real phenomenon, perhaps indicitive of a particular speech style, but not created by some artificat."
   ]
  },
  {
   "cell_type": "code",
   "execution_count": null,
   "metadata": {},
   "outputs": [],
   "source": []
  },
  {
   "cell_type": "code",
   "execution_count": null,
   "metadata": {},
   "outputs": [],
   "source": []
  }
 ],
 "metadata": {
  "kernelspec": {
   "display_name": "lasn",
   "language": "python",
   "name": "lasn"
  },
  "language_info": {
   "codemirror_mode": {
    "name": "ipython",
    "version": 3
   },
   "file_extension": ".py",
   "mimetype": "text/x-python",
   "name": "python",
   "nbconvert_exporter": "python",
   "pygments_lexer": "ipython3",
   "version": "3.7.0"
  }
 },
 "nbformat": 4,
 "nbformat_minor": 2
}
