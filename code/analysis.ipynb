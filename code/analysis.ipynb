{
 "cells": [
  {
   "cell_type": "markdown",
   "metadata": {},
   "source": [
    "# Analysis\n",
    "\n",
    "## Setup"
   ]
  },
  {
   "cell_type": "code",
   "execution_count": 35,
   "metadata": {
    "scrolled": true
   },
   "outputs": [
    {
     "data": {
      "text/html": [
       "<table>\n",
       "<thead><tr><th scope=col>user_id</th><th scope=col>edit_count</th><th scope=col>gender</th><th scope=col>admin_ascention</th><th scope=col>admin</th><th scope=col>eigen_central</th><th scope=col>eigen_central_bin</th><th scope=col>community</th><th scope=col>coord_given_all</th><th scope=col>coord_received_all</th><th scope=col>coord_given_ingroup</th><th scope=col>coord_received_ingroup</th><th scope=col>post_count</th><th scope=col>italics_freq</th><th scope=col>bold_freq</th><th scope=col>link_freq</th><th scope=col>function_words_freq</th><th scope=col>avg_length_tokens</th></tr></thead>\n",
       "<tbody>\n",
       "\t<tr><td>K-F.U.N 2       </td><td> 165            </td><td>male            </td><td>                </td><td>False           </td><td>3.761916e-07    </td><td>False           </td><td>0               </td><td>       NaN      </td><td>    NaN         </td><td>NA              </td><td>NA              </td><td>1               </td><td>NA              </td><td>NA              </td><td>       NA       </td><td>      NA        </td><td>1.000000        </td></tr>\n",
       "\t<tr><td>JFreeman        </td><td>9270            </td><td>unknown         </td><td>                </td><td>False           </td><td>1.671275e-03    </td><td>False           </td><td>1               </td><td>       NaN      </td><td>0.00000         </td><td>NA              </td><td>NA              </td><td>1               </td><td>NA              </td><td>NA              </td><td>       NA       </td><td>28.00000        </td><td>4.000000        </td></tr>\n",
       "\t<tr><td>Extcetc         </td><td>  27            </td><td>unknown         </td><td>                </td><td>False           </td><td>4.017304e-06    </td><td>False           </td><td>2               </td><td>       NaN      </td><td>0.00000         </td><td>NA              </td><td>NA              </td><td>1               </td><td>NA              </td><td>NA              </td><td>       NA       </td><td> 4.00000        </td><td>2.000000        </td></tr>\n",
       "\t<tr><td>Merteselle      </td><td> 295            </td><td>unknown         </td><td>                </td><td>False           </td><td>4.261994e-08    </td><td>False           </td><td>3               </td><td>       NaN      </td><td>0.00000         </td><td>NA              </td><td>NA              </td><td>1               </td><td>NA              </td><td>NA              </td><td>       NA       </td><td> 2.00000        </td><td>2.000000        </td></tr>\n",
       "\t<tr><td>The Sunshine Man</td><td>   0            </td><td>unknown         </td><td>                </td><td>False           </td><td>6.056635e-07    </td><td>False           </td><td>9               </td><td>0.00000000      </td><td>0.00000         </td><td>NA              </td><td>NA              </td><td>3               </td><td>NA              </td><td>NA              </td><td>       NA       </td><td>27.33333        </td><td>3.333333        </td></tr>\n",
       "\t<tr><td>Kuebie          </td><td>1607            </td><td>unknown         </td><td>                </td><td>False           </td><td>5.176361e-05    </td><td>False           </td><td>5               </td><td>0.08333333      </td><td>0.11875         </td><td>NA              </td><td>NA              </td><td>9               </td><td>NA              </td><td>NA              </td><td>0.1111111       </td><td>23.77778        </td><td>4.000000        </td></tr>\n",
       "</tbody>\n",
       "</table>\n"
      ],
      "text/latex": [
       "\\begin{tabular}{r|llllllllllllllllll}\n",
       " user\\_id & edit\\_count & gender & admin\\_ascention & admin & eigen\\_central & eigen\\_central\\_bin & community & coord\\_given\\_all & coord\\_received\\_all & coord\\_given\\_ingroup & coord\\_received\\_ingroup & post\\_count & italics\\_freq & bold\\_freq & link\\_freq & function\\_words\\_freq & avg\\_length\\_tokens\\\\\n",
       "\\hline\n",
       "\t K-F.U.N 2        &  165             & male             &                  & False            & 3.761916e-07     & False            & 0                &        NaN       &     NaN          & NA               & NA               & 1                & NA               & NA               &        NA        &       NA         & 1.000000        \\\\\n",
       "\t JFreeman         & 9270             & unknown          &                  & False            & 1.671275e-03     & False            & 1                &        NaN       & 0.00000          & NA               & NA               & 1                & NA               & NA               &        NA        & 28.00000         & 4.000000        \\\\\n",
       "\t Extcetc          &   27             & unknown          &                  & False            & 4.017304e-06     & False            & 2                &        NaN       & 0.00000          & NA               & NA               & 1                & NA               & NA               &        NA        &  4.00000         & 2.000000        \\\\\n",
       "\t Merteselle       &  295             & unknown          &                  & False            & 4.261994e-08     & False            & 3                &        NaN       & 0.00000          & NA               & NA               & 1                & NA               & NA               &        NA        &  2.00000         & 2.000000        \\\\\n",
       "\t The Sunshine Man &    0             & unknown          &                  & False            & 6.056635e-07     & False            & 9                & 0.00000000       & 0.00000          & NA               & NA               & 3                & NA               & NA               &        NA        & 27.33333         & 3.333333        \\\\\n",
       "\t Kuebie           & 1607             & unknown          &                  & False            & 5.176361e-05     & False            & 5                & 0.08333333       & 0.11875          & NA               & NA               & 9                & NA               & NA               & 0.1111111        & 23.77778         & 4.000000        \\\\\n",
       "\\end{tabular}\n"
      ],
      "text/markdown": [
       "\n",
       "user_id | edit_count | gender | admin_ascention | admin | eigen_central | eigen_central_bin | community | coord_given_all | coord_received_all | coord_given_ingroup | coord_received_ingroup | post_count | italics_freq | bold_freq | link_freq | function_words_freq | avg_length_tokens | \n",
       "|---|---|---|---|---|---|\n",
       "| K-F.U.N 2        |  165             | male             |                  | False            | 3.761916e-07     | False            | 0                |        NaN       |     NaN          | NA               | NA               | 1                | NA               | NA               |        NA        |       NA         | 1.000000         | \n",
       "| JFreeman         | 9270             | unknown          |                  | False            | 1.671275e-03     | False            | 1                |        NaN       | 0.00000          | NA               | NA               | 1                | NA               | NA               |        NA        | 28.00000         | 4.000000         | \n",
       "| Extcetc          |   27             | unknown          |                  | False            | 4.017304e-06     | False            | 2                |        NaN       | 0.00000          | NA               | NA               | 1                | NA               | NA               |        NA        |  4.00000         | 2.000000         | \n",
       "| Merteselle       |  295             | unknown          |                  | False            | 4.261994e-08     | False            | 3                |        NaN       | 0.00000          | NA               | NA               | 1                | NA               | NA               |        NA        |  2.00000         | 2.000000         | \n",
       "| The Sunshine Man |    0             | unknown          |                  | False            | 6.056635e-07     | False            | 9                | 0.00000000       | 0.00000          | NA               | NA               | 3                | NA               | NA               |        NA        | 27.33333         | 3.333333         | \n",
       "| Kuebie           | 1607             | unknown          |                  | False            | 5.176361e-05     | False            | 5                | 0.08333333       | 0.11875          | NA               | NA               | 9                | NA               | NA               | 0.1111111        | 23.77778         | 4.000000         | \n",
       "\n",
       "\n"
      ],
      "text/plain": [
       "  user_id          edit_count gender  admin_ascention admin eigen_central\n",
       "1 K-F.U.N 2         165       male                    False 3.761916e-07 \n",
       "2 JFreeman         9270       unknown                 False 1.671275e-03 \n",
       "3 Extcetc            27       unknown                 False 4.017304e-06 \n",
       "4 Merteselle        295       unknown                 False 4.261994e-08 \n",
       "5 The Sunshine Man    0       unknown                 False 6.056635e-07 \n",
       "6 Kuebie           1607       unknown                 False 5.176361e-05 \n",
       "  eigen_central_bin community coord_given_all coord_received_all\n",
       "1 False             0                NaN          NaN           \n",
       "2 False             1                NaN      0.00000           \n",
       "3 False             2                NaN      0.00000           \n",
       "4 False             3                NaN      0.00000           \n",
       "5 False             9         0.00000000      0.00000           \n",
       "6 False             5         0.08333333      0.11875           \n",
       "  coord_given_ingroup coord_received_ingroup post_count italics_freq bold_freq\n",
       "1 NA                  NA                     1          NA           NA       \n",
       "2 NA                  NA                     1          NA           NA       \n",
       "3 NA                  NA                     1          NA           NA       \n",
       "4 NA                  NA                     1          NA           NA       \n",
       "5 NA                  NA                     3          NA           NA       \n",
       "6 NA                  NA                     9          NA           NA       \n",
       "  link_freq function_words_freq avg_length_tokens\n",
       "1        NA       NA            1.000000         \n",
       "2        NA 28.00000            4.000000         \n",
       "3        NA  4.00000            2.000000         \n",
       "4        NA  2.00000            2.000000         \n",
       "5        NA 27.33333            3.333333         \n",
       "6 0.1111111 23.77778            4.000000         "
      ]
     },
     "metadata": {},
     "output_type": "display_data"
    }
   ],
   "source": [
    "d = read.csv(\"../data/wiki/user_data.csv\", header = TRUE)\n",
    "library(lsr)\n",
    "head(d)"
   ]
  },
  {
   "cell_type": "code",
   "execution_count": 36,
   "metadata": {},
   "outputs": [],
   "source": [
    "# d <- subset(d, eigen_central < 0.6) # eliminates 2 outliers\n",
    "d.admin <- subset(d, admin == \"True\")\n",
    "d.nonadmin <- subset(d, admin == \"False\")\n",
    "d.higheigen <- subset(d, eigen_central_bin == \"True\")\n",
    "d.loweigen <- subset(d, eigen_central_bin == \"False\")"
   ]
  },
  {
   "cell_type": "code",
   "execution_count": 44,
   "metadata": {},
   "outputs": [],
   "source": [
    "d.higheigen.admin <- subset(d, eigen_central_bin == \"True\" & admin == \"True\")\n",
    "d.higheigen.nonadmin <- subset(d, eigen_central_bin == \"True\" & admin == \"False\")\n",
    "d.loweigen.admin <- subset(d, eigen_central_bin == \"False\" & admin == \"True\")\n",
    "d.loweigen.nonadmin <- subset(d, eigen_central_bin == \"False\" & admin == \"False\")\n",
    "\n",
    "# nrow(d.loweigen.admin) # 1703\n",
    "# nrow(d.higheigen.admin) # 77\n",
    "# nrow(d.higheigen.nonadmin) # 120\n",
    "# nrow(d.loweigen.nonadmin) # 20197"
   ]
  },
  {
   "cell_type": "markdown",
   "metadata": {},
   "source": [
    "## Replicating *Centre Stage* results\n",
    "\n",
    "Relationship between power (adminship & centrality) and coordination."
   ]
  },
  {
   "cell_type": "code",
   "execution_count": 38,
   "metadata": {},
   "outputs": [
    {
     "data": {
      "text/plain": [
       "\n",
       "\tSpearman's rank correlation rho\n",
       "\n",
       "data:  d$eigen_central and d$coord_received_all\n",
       "S = 8.921e+11, p-value < 2.2e-16\n",
       "alternative hypothesis: true rho is greater than 0\n",
       "sample estimates:\n",
       "      rho \n",
       "0.1898093 \n"
      ]
     },
     "metadata": {},
     "output_type": "display_data"
    }
   ],
   "source": [
    "# Coordination received vs. eigenvector centrality\n",
    "cor.test(d$eigen_central, d$coord_received_all, alternative=\"greater\", method=\"spearman\", exact = FALSE)"
   ]
  },
  {
   "cell_type": "code",
   "execution_count": 48,
   "metadata": {},
   "outputs": [
    {
     "data": {
      "text/plain": [
       "\n",
       "\tWelch Two Sample t-test\n",
       "\n",
       "data:  d.loweigen$coord_received_all and d.higheigen$coord_received_all\n",
       "t = -6.0555, df = 216.1, p-value = 6.128e-09\n",
       "alternative hypothesis: true difference in means is not equal to 0\n",
       "95 percent confidence interval:\n",
       " -0.018467269 -0.009397584\n",
       "sample estimates:\n",
       " mean of x  mean of y \n",
       "0.00776210 0.02169453 \n"
      ]
     },
     "metadata": {},
     "output_type": "display_data"
    },
    {
     "data": {
      "text/html": [
       "0.199386542198027"
      ],
      "text/latex": [
       "0.199386542198027"
      ],
      "text/markdown": [
       "0.199386542198027"
      ],
      "text/plain": [
       "[1] 0.1993865"
      ]
     },
     "metadata": {},
     "output_type": "display_data"
    },
    {
     "data": {
      "text/plain": [
       "\n",
       "\tWelch Two Sample t-test\n",
       "\n",
       "data:  d.nonadmin$coord_received_all and d.admin$coord_received_all\n",
       "t = -8.6984, df = 2157.4, p-value < 2.2e-16\n",
       "alternative hypothesis: true difference in means is not equal to 0\n",
       "95 percent confidence interval:\n",
       " -0.01729538 -0.01093159\n",
       "sample estimates:\n",
       " mean of x  mean of y \n",
       "0.00487270 0.01898618 \n"
      ]
     },
     "metadata": {},
     "output_type": "display_data"
    },
    {
     "data": {
      "text/html": [
       "0.203840167824799"
      ],
      "text/latex": [
       "0.203840167824799"
      ],
      "text/markdown": [
       "0.203840167824799"
      ],
      "text/plain": [
       "[1] 0.2038402"
      ]
     },
     "metadata": {},
     "output_type": "display_data"
    },
    {
     "data": {
      "text/plain": [
       "\n",
       "\tWelch Two Sample t-test\n",
       "\n",
       "data:  d.higheigen$coord_received_all and d.admin$coord_received_all\n",
       "t = 0.99532, df = 412.59, p-value = 0.3202\n",
       "alternative hypothesis: true difference in means is not equal to 0\n",
       "95 percent confidence interval:\n",
       " -0.002640557  0.008057243\n",
       "sample estimates:\n",
       " mean of x  mean of y \n",
       "0.02169453 0.01898618 \n"
      ]
     },
     "metadata": {},
     "output_type": "display_data"
    },
    {
     "data": {
      "text/html": [
       "0.0435780622896359"
      ],
      "text/latex": [
       "0.0435780622896359"
      ],
      "text/markdown": [
       "0.0435780622896359"
      ],
      "text/plain": [
       "[1] 0.04357806"
      ]
     },
     "metadata": {},
     "output_type": "display_data"
    }
   ],
   "source": [
    "# Do highgly central and non-central users receive different amounts of coordination? YES\n",
    "t.test(d.loweigen$coord_received_all, d.higheigen$coord_received_all)\n",
    "cohensD(d.loweigen$coord_received_all, d.higheigen$coord_received_all)\n",
    "# Do admins and non-admins receive different amounts of coordination? YES\n",
    "t.test(d.nonadmin$coord_received_all, d.admin$coord_received_all)\n",
    "cohensD(d.nonadmin$coord_received_all, d.admin$coord_received_all)\n",
    "# Do hihgly central users and admins receive different amounts of coordination? NO\n",
    "t.test(d.higheigen$coord_received_all, d.admin$coord_received_all)\n",
    "cohensD(d.higheigen$coord_received_all, d.admin$coord_received_all)"
   ]
  },
  {
   "cell_type": "code",
   "execution_count": 47,
   "metadata": {},
   "outputs": [
    {
     "data": {
      "text/plain": [
       "\n",
       "\tWelch Two Sample t-test\n",
       "\n",
       "data:  d.higheigen.admin$coord_received_all and d.higheigen.nonadmin$coord_received_all\n",
       "t = 0.41469, df = 193.98, p-value = 0.6788\n",
       "alternative hypothesis: true difference in means is not equal to 0\n",
       "95 percent confidence interval:\n",
       " -0.006545371  0.010030609\n",
       "sample estimates:\n",
       " mean of x  mean of y \n",
       "0.02275255 0.02100993 \n"
      ]
     },
     "metadata": {},
     "output_type": "display_data"
    },
    {
     "data": {
      "text/html": [
       "0.0553863413416038"
      ],
      "text/latex": [
       "0.0553863413416038"
      ],
      "text/markdown": [
       "0.0553863413416038"
      ],
      "text/plain": [
       "[1] 0.05538634"
      ]
     },
     "metadata": {},
     "output_type": "display_data"
    },
    {
     "data": {
      "text/plain": [
       "\n",
       "\tWelch Two Sample t-test\n",
       "\n",
       "data:  d.loweigen.admin$coord_received_all and d.loweigen.nonadmin$coord_received_all\n",
       "t = 7.273, df = 2052.8, p-value = 4.977e-13\n",
       "alternative hypothesis: true difference in means is not equal to 0\n",
       "95 percent confidence interval:\n",
       " 0.009080248 0.015785003\n",
       "sample estimates:\n",
       "  mean of x   mean of y \n",
       "0.019080557 0.006647931 \n"
      ]
     },
     "metadata": {},
     "output_type": "display_data"
    },
    {
     "data": {
      "text/html": [
       "0.177404439606899"
      ],
      "text/latex": [
       "0.177404439606899"
      ],
      "text/markdown": [
       "0.177404439606899"
      ],
      "text/plain": [
       "[1] 0.1774044"
      ]
     },
     "metadata": {},
     "output_type": "display_data"
    }
   ],
   "source": [
    "# This is what we had tested in Centre Stage:\n",
    "# among highy central, do admins receive more coordination? NO\n",
    "t.test(d.higheigen.admin$coord_received_all, d.higheigen.nonadmin$coord_received_all)\n",
    "cohensD(d.higheigen.admin$coord_received_all, d.higheigen.nonadmin$coord_received_all)\n",
    "# among non-central users, do admins receive more coordination? YES\n",
    "t.test(d.loweigen.admin$coord_received_all, d.loweigen.nonadmin$coord_received_all)\n",
    "cohensD(d.loweigen.admin$coord_received_all, d.loweigen.nonadmin$coord_received_all)"
   ]
  },
  {
   "cell_type": "code",
   "execution_count": 49,
   "metadata": {},
   "outputs": [
    {
     "data": {
      "text/plain": [
       "\n",
       "\tWelch Two Sample t-test\n",
       "\n",
       "data:  d.loweigen.admin$coord_received_all and d.higheigen.admin$coord_received_all\n",
       "t = -1.1941, df = 144.79, p-value = 0.2344\n",
       "alternative hypothesis: true difference in means is not equal to 0\n",
       "95 percent confidence interval:\n",
       " -0.009750026  0.002406049\n",
       "sample estimates:\n",
       " mean of x  mean of y \n",
       "0.01908056 0.02275255 \n"
      ]
     },
     "metadata": {},
     "output_type": "display_data"
    },
    {
     "data": {
      "text/html": [
       "0.0566225068692292"
      ],
      "text/latex": [
       "0.0566225068692292"
      ],
      "text/markdown": [
       "0.0566225068692292"
      ],
      "text/plain": [
       "[1] 0.05662251"
      ]
     },
     "metadata": {},
     "output_type": "display_data"
    },
    {
     "data": {
      "text/plain": [
       "\n",
       "\tWelch Two Sample t-test\n",
       "\n",
       "data:  d.loweigen.nonadmin$coord_received_all and d.higheigen.nonadmin$coord_received_all\n",
       "t = -4.306, df = 124.49, p-value = 3.336e-05\n",
       "alternative hypothesis: true difference in means is not equal to 0\n",
       "95 percent confidence interval:\n",
       " -0.020963288 -0.007760703\n",
       "sample estimates:\n",
       "  mean of x   mean of y \n",
       "0.006647931 0.021009926 \n"
      ]
     },
     "metadata": {},
     "output_type": "display_data"
    },
    {
     "data": {
      "text/html": [
       "0.204365657205421"
      ],
      "text/latex": [
       "0.204365657205421"
      ],
      "text/markdown": [
       "0.204365657205421"
      ],
      "text/plain": [
       "[1] 0.2043657"
      ]
     },
     "metadata": {},
     "output_type": "display_data"
    }
   ],
   "source": [
    "# We had not tested this counterpart, however: \n",
    "# among admins, do highly central users receive more coordination? NO\n",
    "t.test(d.loweigen.admin$coord_received_all, d.higheigen.admin$coord_received_all)\n",
    "cohensD(d.loweigen.admin$coord_received_all, d.higheigen.admin$coord_received_all)\n",
    "# among non-admins, do highly central users receive more coordination? YES\n",
    "t.test(d.loweigen.nonadmin$coord_received_all, d.higheigen.nonadmin$coord_received_all)\n",
    "cohensD(d.loweigen.nonadmin$coord_received_all, d.higheigen.nonadmin$coord_received_all)"
   ]
  },
  {
   "cell_type": "markdown",
   "metadata": {},
   "source": [
    "-  Weak positive correlation between coordination received and centrality: r = 1.9 p < 0.001\n",
    "-  More coordination received by highly central than low central (p < 0.001, d=0.2)\n",
    "-  More coodination received by admins than non-admins (p < 0.001, d=0.18)\n",
    "-  The amount of coordination received by admins vs highly central users is not significantly different.\n",
    "-  Among highly central users, there is no significant effect of adminship\n",
    "-  Among admins, there is no significant effect of centrality\n"
   ]
  },
  {
   "cell_type": "markdown",
   "metadata": {},
   "source": [
    "## Ingroup / outgroup coordination"
   ]
  },
  {
   "cell_type": "code",
   "execution_count": 53,
   "metadata": {},
   "outputs": [
    {
     "data": {
      "text/plain": [
       "\n",
       "\tWelch Two Sample t-test\n",
       "\n",
       "data:  d$coord_given_all and d$coord_given_ingroup\n",
       "t = -1.0902, df = 343.58, p-value = 0.2764\n",
       "alternative hypothesis: true difference in means is not equal to 0\n",
       "95 percent confidence interval:\n",
       " -0.01283783  0.00368176\n",
       "sample estimates:\n",
       "  mean of x   mean of y \n",
       "0.005561945 0.010139981 \n"
      ]
     },
     "metadata": {},
     "output_type": "display_data"
    },
    {
     "data": {
      "text/plain": [
       "\n",
       "\tWelch Two Sample t-test\n",
       "\n",
       "data:  d.higheigen$coord_given_all and d.higheigen$coord_given_ingroup\n",
       "t = 1.671, df = 2.0825, p-value = 0.2317\n",
       "alternative hypothesis: true difference in means is not equal to 0\n",
       "95 percent confidence interval:\n",
       " -0.03706352  0.08716706\n",
       "sample estimates:\n",
       "   mean of x    mean of y \n",
       " 0.017393882 -0.007657888 \n"
      ]
     },
     "metadata": {},
     "output_type": "display_data"
    },
    {
     "data": {
      "text/plain": [
       "\n",
       "\tWelch Two Sample t-test\n",
       "\n",
       "data:  d.loweigen$coord_given_all and d.loweigen$coord_given_ingroup\n",
       "t = -0.5777, df = 341.98, p-value = 0.5638\n",
       "alternative hypothesis: true difference in means is not equal to 0\n",
       "95 percent confidence interval:\n",
       " -0.010788400  0.005889869\n",
       "sample estimates:\n",
       "  mean of x   mean of y \n",
       "0.007852026 0.010301291 \n"
      ]
     },
     "metadata": {},
     "output_type": "display_data"
    },
    {
     "data": {
      "text/plain": [
       "\n",
       "\tWelch Two Sample t-test\n",
       "\n",
       "data:  d.admin$coord_given_all and d.admin$coord_given_ingroup\n",
       "t = -0.5154, df = 42.738, p-value = 0.6089\n",
       "alternative hypothesis: true difference in means is not equal to 0\n",
       "95 percent confidence interval:\n",
       " -0.02208988  0.01309850\n",
       "sample estimates:\n",
       " mean of x  mean of y \n",
       "0.01726510 0.02176079 \n"
      ]
     },
     "metadata": {},
     "output_type": "display_data"
    },
    {
     "data": {
      "text/plain": [
       "\n",
       "\tWelch Two Sample t-test\n",
       "\n",
       "data:  d.nonadmin$coord_given_all and d.nonadmin$coord_given_ingroup\n",
       "t = -0.94124, df = 299.89, p-value = 0.3473\n",
       "alternative hypothesis: true difference in means is not equal to 0\n",
       "95 percent confidence interval:\n",
       " -0.013476155  0.004755876\n",
       "sample estimates:\n",
       "  mean of x   mean of y \n",
       "0.004108355 0.008468495 \n"
      ]
     },
     "metadata": {},
     "output_type": "display_data"
    }
   ],
   "source": [
    "# Is there more coordination towards users in own sub-group? NO\n",
    "t.test(d$coord_given_all, d$coord_given_ingroup)\n",
    "t.test(d.higheigen$coord_given_all, d.higheigen$coord_given_ingroup)\n",
    "t.test(d.loweigen$coord_given_all, d.loweigen$coord_given_ingroup)\n",
    "t.test(d.admin$coord_given_all, d.admin$coord_given_ingroup)\n",
    "t.test(d.nonadmin$coord_given_all, d.nonadmin$coord_given_ingroup)"
   ]
  },
  {
   "cell_type": "code",
   "execution_count": 55,
   "metadata": {},
   "outputs": [
    {
     "data": {
      "text/plain": [
       "\n",
       "\tWelch Two Sample t-test\n",
       "\n",
       "data:  d$coord_received_all and d$coord_received_ingroup\n",
       "t = 0.90586, df = 542.45, p-value = 0.3654\n",
       "alternative hypothesis: true difference in means is not equal to 0\n",
       "95 percent confidence interval:\n",
       " -0.002468075  0.006692489\n",
       "sample estimates:\n",
       "  mean of x   mean of y \n",
       "0.006075535 0.003963327 \n"
      ]
     },
     "metadata": {},
     "output_type": "display_data"
    },
    {
     "data": {
      "text/plain": [
       "\n",
       "\tWelch Two Sample t-test\n",
       "\n",
       "data:  d.higheigen$coord_received_all and d.higheigen$coord_received_ingroup\n",
       "t = 1.0836, df = 2.2538, p-value = 0.3807\n",
       "alternative hypothesis: true difference in means is not equal to 0\n",
       "95 percent confidence interval:\n",
       " -0.02594280  0.04611883\n",
       "sample estimates:\n",
       " mean of x  mean of y \n",
       "0.02169453 0.01160651 \n"
      ]
     },
     "metadata": {},
     "output_type": "display_data"
    },
    {
     "data": {
      "text/plain": [
       "\n",
       "\tWelch Two Sample t-test\n",
       "\n",
       "data:  d.loweigen$coord_received_all and d.loweigen$coord_received_ingroup\n",
       "t = 1.6351, df = 544.98, p-value = 0.1026\n",
       "alternative hypothesis: true difference in means is not equal to 0\n",
       "95 percent confidence interval:\n",
       " -0.0007741044  0.0084642945\n",
       "sample estimates:\n",
       "  mean of x   mean of y \n",
       "0.007762100 0.003917005 \n"
      ]
     },
     "metadata": {},
     "output_type": "display_data"
    },
    {
     "data": {
      "text/plain": [
       "\n",
       "\tWelch Two Sample t-test\n",
       "\n",
       "data:  d.admin$coord_received_all and d.admin$coord_received_ingroup\n",
       "t = 0.38208, df = 48.467, p-value = 0.7041\n",
       "alternative hypothesis: true difference in means is not equal to 0\n",
       "95 percent confidence interval:\n",
       " -0.01314462  0.01931425\n",
       "sample estimates:\n",
       " mean of x  mean of y \n",
       "0.01898618 0.01590136 \n"
      ]
     },
     "metadata": {},
     "output_type": "display_data"
    },
    {
     "data": {
      "text/plain": [
       "\n",
       "\tWelch Two Sample t-test\n",
       "\n",
       "data:  d.nonadmin$coord_received_all and d.nonadmin$coord_received_ingroup\n",
       "t = 0.87442, df = 492.94, p-value = 0.3823\n",
       "alternative hypothesis: true difference in means is not equal to 0\n",
       "95 percent confidence interval:\n",
       " -0.002648931  0.006897543\n",
       "sample estimates:\n",
       "  mean of x   mean of y \n",
       "0.004872700 0.002748394 \n"
      ]
     },
     "metadata": {},
     "output_type": "display_data"
    }
   ],
   "source": [
    "# Is there more correlation received by users within own sub-group? NO\n",
    "t.test(d$coord_received_all, d$coord_received_ingroup)\n",
    "t.test(d.higheigen$coord_received_all, d.higheigen$coord_received_ingroup)\n",
    "t.test(d.loweigen$coord_received_all, d.loweigen$coord_received_ingroup)\n",
    "t.test(d.admin$coord_received_all, d.admin$coord_received_ingroup)\n",
    "t.test(d.nonadmin$coord_received_all, d.nonadmin$coord_received_ingroup)"
   ]
  },
  {
   "cell_type": "markdown",
   "metadata": {},
   "source": [
    "# Social power & linguistic style"
   ]
  },
  {
   "cell_type": "code",
   "execution_count": 60,
   "metadata": {},
   "outputs": [
    {
     "data": {
      "text/plain": [
       "\n",
       "\tSpearman's rank correlation rho\n",
       "\n",
       "data:  d$eigen_central and d$avg_length_tokens\n",
       "S = 1.5664e+12, p-value < 2.2e-16\n",
       "alternative hypothesis: true rho is greater than 0\n",
       "sample estimates:\n",
       "      rho \n",
       "0.1289431 \n"
      ]
     },
     "metadata": {},
     "output_type": "display_data"
    },
    {
     "data": {
      "text/plain": [
       "\n",
       "\tSpearman's rank correlation rho\n",
       "\n",
       "data:  d$eigen_central and d$italics_freq\n",
       "S = 7.5475e+10, p-value < 2.2e-16\n",
       "alternative hypothesis: true rho is less than 0\n",
       "sample estimates:\n",
       "       rho \n",
       "-0.4922603 \n"
      ]
     },
     "metadata": {},
     "output_type": "display_data"
    },
    {
     "data": {
      "text/plain": [
       "\n",
       "\tSpearman's rank correlation rho\n",
       "\n",
       "data:  d$eigen_central and d$bold_freq\n",
       "S = 10070000, p-value < 2.2e-16\n",
       "alternative hypothesis: true rho is less than 0\n",
       "sample estimates:\n",
       "       rho \n",
       "-0.6660672 \n"
      ]
     },
     "metadata": {},
     "output_type": "display_data"
    },
    {
     "data": {
      "text/plain": [
       "\n",
       "\tSpearman's rank correlation rho\n",
       "\n",
       "data:  d$eigen_central and d$link_freq\n",
       "S = 130800000, p-value < 2.2e-16\n",
       "alternative hypothesis: true rho is less than 0\n",
       "sample estimates:\n",
       "       rho \n",
       "-0.7123572 \n"
      ]
     },
     "metadata": {},
     "output_type": "display_data"
    }
   ],
   "source": [
    "# Correlation between centrality and linguistic style features\n",
    "cor.test(d$eigen_central, d$avg_length_tokens, alternative=\"greater\", method=\"spearman\", exact = FALSE)\n",
    "cor.test(d$eigen_central, d$italics_freq, alternative=\"less\", method=\"spearman\", exact = FALSE)\n",
    "cor.test(d$eigen_central, d$bold_freq, alternative=\"less\", method=\"spearman\", exact = FALSE)\n",
    "cor.test(d$eigen_central, d$link_freq, alternative=\"less\", method=\"spearman\", exact = FALSE)\n",
    "\n",
    "## Slight positive correlation with post length\n",
    "## Clear negative correlations for italics, bold and links"
   ]
  },
  {
   "cell_type": "code",
   "execution_count": 56,
   "metadata": {},
   "outputs": [
    {
     "data": {
      "text/plain": [
       "\n",
       "\tWelch Two Sample t-test\n",
       "\n",
       "data:  d.admin$avg_length_tokens and d.nonadmin$avg_length_tokens\n",
       "t = 5.7325, df = 2998.1, p-value = 1.088e-08\n",
       "alternative hypothesis: true difference in means is not equal to 0\n",
       "95 percent confidence interval:\n",
       " 0.09953836 0.20302950\n",
       "sample estimates:\n",
       "mean of x mean of y \n",
       " 3.228846  3.077562 \n"
      ]
     },
     "metadata": {},
     "output_type": "display_data"
    },
    {
     "name": "stdout",
     "output_type": "stream",
     "text": [
      "effect size (Cohen's d):  0.0801157"
     ]
    },
    {
     "data": {
      "text/plain": [
       "\n",
       "\tWelch Two Sample t-test\n",
       "\n",
       "data:  d.higheigen$avg_length_tokens and d.loweigen$avg_length_tokens\n",
       "t = 3.6608, df = 206.98, p-value = 0.0003192\n",
       "alternative hypothesis: true difference in means is not equal to 0\n",
       "95 percent confidence interval:\n",
       " 0.1299045 0.4331084\n",
       "sample estimates:\n",
       "mean of x mean of y \n",
       " 3.366401  3.084895 \n"
      ]
     },
     "metadata": {},
     "output_type": "display_data"
    },
    {
     "name": "stdout",
     "output_type": "stream",
     "text": [
      "Effect size (Cohen's d):  0.1513009"
     ]
    },
    {
     "data": {
      "text/plain": [
       "\n",
       "\tSpearman's rank correlation rho\n",
       "\n",
       "data:  d$eigen_central and d$avg_length_tokens\n",
       "S = 1.5664e+12, p-value < 2.2e-16\n",
       "alternative hypothesis: true rho is greater than 0\n",
       "sample estimates:\n",
       "      rho \n",
       "0.1289431 \n"
      ]
     },
     "metadata": {},
     "output_type": "display_data"
    }
   ],
   "source": [
    "# Length of posts: \n",
    "t.test(d.admin$avg_length_tokens, d.nonadmin$avg_length_tokens)\n",
    "cat(\"effect size (Cohen's d): \", cohensD(d.admin$avg_length_tokens, d.nonadmin$avg_length_tokens))\n",
    "t.test(d.higheigen$avg_length_tokens, d.loweigen$avg_length_tokens)\n",
    "cat(\"Effect size (Cohen's d): \", cohensD(d.higheigen$avg_length_tokens, d.loweigen$avg_length_tokens))"
   ]
  },
  {
   "cell_type": "code",
   "execution_count": 21,
   "metadata": {},
   "outputs": [
    {
     "data": {
      "text/plain": [
       "\n",
       "\tWelch Two Sample t-test\n",
       "\n",
       "data:  d.admin$italics_freq and d.nonadmin$italics_freq\n",
       "t = -27.07, df = 3130.7, p-value < 2.2e-16\n",
       "alternative hypothesis: true difference in means is not equal to 0\n",
       "95 percent confidence interval:\n",
       " -0.1722308 -0.1489658\n",
       "sample estimates:\n",
       "mean of x mean of y \n",
       "0.1459422 0.3065405 \n"
      ]
     },
     "metadata": {},
     "output_type": "display_data"
    },
    {
     "name": "stdout",
     "output_type": "stream",
     "text": [
      "effect size (Cohen's d):  0.5889673"
     ]
    },
    {
     "data": {
      "text/plain": [
       "\n",
       "\tWelch Two Sample t-test\n",
       "\n",
       "data:  d.higheigen$italics_freq and d.loweigen$italics_freq\n",
       "t = -15.736, df = 226.93, p-value < 2.2e-16\n",
       "alternative hypothesis: true difference in means is not equal to 0\n",
       "95 percent confidence interval:\n",
       " -0.1691757 -0.1315231\n",
       "sample estimates:\n",
       "mean of x mean of y \n",
       "0.1132400 0.2635894 \n"
      ]
     },
     "metadata": {},
     "output_type": "display_data"
    },
    {
     "name": "stdout",
     "output_type": "stream",
     "text": [
      "effect size (Cohen's d):  0.5627454"
     ]
    }
   ],
   "source": [
    "# Use of italics\n",
    "t.test(d.admin$italics_freq, d.nonadmin$italics_freq)\n",
    "cat(\"effect size (Cohen's d): \", cohensD(d.admin$italics_freq, d.nonadmin$italics_freq))\n",
    "t.test(d.higheigen$italics_freq, d.loweigen$italics_freq)\n",
    "cat(\"effect size (Cohen's d): \", cohensD(d.higheigen$italics_freq, d.loweigen$italics_freq))"
   ]
  },
  {
   "cell_type": "code",
   "execution_count": 18,
   "metadata": {},
   "outputs": [
    {
     "data": {
      "text/plain": [
       "\n",
       "\tWelch Two Sample t-test\n",
       "\n",
       "data:  d.admin$bold_freq and d.nonadmin$bold_freq\n",
       "t = -2.7144, df = 168.98, p-value = 0.007329\n",
       "alternative hypothesis: true difference in means is not equal to 0\n",
       "95 percent confidence interval:\n",
       " -0.13496216 -0.02130944\n",
       "sample estimates:\n",
       "mean of x mean of y \n",
       "0.1026712 0.1808070 \n"
      ]
     },
     "metadata": {},
     "output_type": "display_data"
    },
    {
     "name": "stdout",
     "output_type": "stream",
     "text": [
      "effect size (Cohen's d):  0.3002008"
     ]
    },
    {
     "data": {
      "text/plain": [
       "\n",
       "\tWelch Two Sample t-test\n",
       "\n",
       "data:  d.higheigen$bold_freq and d.loweigen$bold_freq\n",
       "t = -9.3721, df = 301.14, p-value < 2.2e-16\n",
       "alternative hypothesis: true difference in means is not equal to 0\n",
       "95 percent confidence interval:\n",
       " -0.1809507 -0.1181483\n",
       "sample estimates:\n",
       " mean of x  mean of y \n",
       "0.01554881 0.16509832 \n"
      ]
     },
     "metadata": {},
     "output_type": "display_data"
    },
    {
     "name": "stdout",
     "output_type": "stream",
     "text": [
      "effect size (Cohen's d):  0.5863562"
     ]
    }
   ],
   "source": [
    "# Use of boldface\n",
    "t.test(d.admin$bold_freq, d.nonadmin$bold_freq)\n",
    "cat(\"effect size (Cohen's d): \", cohensD(d.admin$bold_freq, d.nonadmin$bold_freq))\n",
    "t.test(d.higheigen$bold_freq, d.loweigen$bold_freq)\n",
    "cat(\"effect size (Cohen's d): \", cohensD(d.higheigen$bold_freq, d.loweigen$bold_freq))"
   ]
  },
  {
   "cell_type": "code",
   "execution_count": 22,
   "metadata": {},
   "outputs": [
    {
     "data": {
      "text/plain": [
       "\n",
       "\tWelch Two Sample t-test\n",
       "\n",
       "data:  d.admin$link_freq and d.nonadmin$link_freq\n",
       "t = -9.6584, df = 800, p-value < 2.2e-16\n",
       "alternative hypothesis: true difference in means is not equal to 0\n",
       "95 percent confidence interval:\n",
       " -0.12999727 -0.08608217\n",
       "sample estimates:\n",
       " mean of x  mean of y \n",
       "0.03408172 0.14212144 \n"
      ]
     },
     "metadata": {},
     "output_type": "display_data"
    },
    {
     "name": "stdout",
     "output_type": "stream",
     "text": [
      "effect size (Cohen's d):  0.5239327"
     ]
    },
    {
     "data": {
      "text/plain": [
       "\n",
       "\tWelch Two Sample t-test\n",
       "\n",
       "data:  d.higheigen$link_freq and d.loweigen$link_freq\n",
       "t = -10.81, df = 697.03, p-value < 2.2e-16\n",
       "alternative hypothesis: true difference in means is not equal to 0\n",
       "95 percent confidence interval:\n",
       " -0.10907081 -0.07554059\n",
       "sample estimates:\n",
       " mean of x  mean of y \n",
       "0.01707753 0.10938323 \n"
      ]
     },
     "metadata": {},
     "output_type": "display_data"
    },
    {
     "name": "stdout",
     "output_type": "stream",
     "text": [
      "effect size (Cohen's d):  0.4594793"
     ]
    }
   ],
   "source": [
    "# Use of links\n",
    "t.test(d.admin$link_freq, d.nonadmin$link_freq)\n",
    "cat(\"effect size (Cohen's d): \", cohensD(d.admin$link_freq, d.nonadmin$link_freq))\n",
    "t.test(d.higheigen$link_freq, d.loweigen$link_freq)\n",
    "cat(\"effect size (Cohen's d): \", cohensD(d.higheigen$link_freq, d.loweigen$link_freq))"
   ]
  },
  {
   "cell_type": "markdown",
   "metadata": {},
   "source": [
    "### Interim summary\n",
    " \n",
    "-  admins and highly-central users tend to post longer messages (p < 0.001, but low effect size: 0.08 and 0.15 for admins and highly central, respectively). There is a weak positive correlation between centrality and post length\n",
    "-  admins and highly-central users use significantly fewer italics, boldface, and URLs in their posts than non-admins and non-highly-central users (p < 0.001, strong effect size of around 0.5 in all cases). There are clear negative correlations between centrality and use of italics, boldface, and links.\n"
   ]
  },
  {
   "cell_type": "code",
   "execution_count": 25,
   "metadata": {},
   "outputs": [
    {
     "data": {
      "text/plain": [
       "\n",
       "\tWelch Two Sample t-test\n",
       "\n",
       "data:  d.admin$avg_length_tokens and d.higheigen$avg_length_tokens\n",
       "t = -1.7337, df = 234.37, p-value = 0.08429\n",
       "alternative hypothesis: true difference in means is not equal to 0\n",
       "95 percent confidence interval:\n",
       " -0.29387110  0.01876064\n",
       "sample estimates:\n",
       "mean of x mean of y \n",
       " 3.228846  3.366401 \n"
      ]
     },
     "metadata": {},
     "output_type": "display_data"
    },
    {
     "name": "stdout",
     "output_type": "stream",
     "text": [
      "effect size (Cohen's d):  0.1375377"
     ]
    }
   ],
   "source": [
    "# Is there a difference in the length of posts by admins and highly central users?\n",
    "t.test(d.admin$avg_length_tokens, d.higheigen$avg_length_tokens)\n",
    "cat(\"effect size (Cohen's d): \", cohensD(d.admin$avg_length_tokens, d.higheigen$avg_length_tokens))"
   ]
  },
  {
   "cell_type": "code",
   "execution_count": 20,
   "metadata": {},
   "outputs": [
    {
     "data": {
      "text/plain": [
       "\n",
       "\tWelch Two Sample t-test\n",
       "\n",
       "data:  d.admin$link_freq and d.higheigen$link_freq\n",
       "t = 2.5976, df = 264.74, p-value = 0.009914\n",
       "alternative hypothesis: true difference in means is not equal to 0\n",
       "95 percent confidence interval:\n",
       " 0.004115007 0.029893377\n",
       "sample estimates:\n",
       " mean of x  mean of y \n",
       "0.03408172 0.01707753 \n"
      ]
     },
     "metadata": {},
     "output_type": "display_data"
    },
    {
     "name": "stdout",
     "output_type": "stream",
     "text": [
      "effect size (Cohen's d):  0.2322502"
     ]
    }
   ],
   "source": [
    "# Is there a difference in the freq of use of links by admins and highly central users?\n",
    "t.test(d.admin$link_freq, d.higheigen$link_freq)\n",
    "cat(\"effect size (Cohen's d): \", cohensD(d.admin$link_freq, d.higheigen$link_freq))"
   ]
  },
  {
   "cell_type": "code",
   "execution_count": 23,
   "metadata": {},
   "outputs": [
    {
     "data": {
      "text/plain": [
       "\n",
       "\tWelch Two Sample t-test\n",
       "\n",
       "data:  d.admin$italics_freq and d.higheigen$italics_freq\n",
       "t = 3.2498, df = 276.65, p-value = 0.001298\n",
       "alternative hypothesis: true difference in means is not equal to 0\n",
       "95 percent confidence interval:\n",
       " 0.01289283 0.05251158\n",
       "sample estimates:\n",
       "mean of x mean of y \n",
       "0.1459422 0.1132400 \n"
      ]
     },
     "metadata": {},
     "output_type": "display_data"
    },
    {
     "name": "stdout",
     "output_type": "stream",
     "text": [
      "effect size (Cohen's d):  0.2088582"
     ]
    }
   ],
   "source": [
    "# Is there a difference in the freq of use of italics by admins and highly central users?\n",
    "t.test(d.admin$italics_freq, d.higheigen$italics_freq)\n",
    "cat(\"effect size (Cohen's d): \", cohensD(d.admin$italics_freq, d.higheigen$italics_freq))"
   ]
  },
  {
   "cell_type": "code",
   "execution_count": 24,
   "metadata": {},
   "outputs": [
    {
     "data": {
      "text/plain": [
       "\n",
       "\tWelch Two Sample t-test\n",
       "\n",
       "data:  d.admin$bold_freq and d.higheigen$bold_freq\n",
       "t = 3.6533, df = 85.41, p-value = 0.0004458\n",
       "alternative hypothesis: true difference in means is not equal to 0\n",
       "95 percent confidence interval:\n",
       " 0.03971077 0.13453396\n",
       "sample estimates:\n",
       " mean of x  mean of y \n",
       "0.10267118 0.01554881 \n"
      ]
     },
     "metadata": {},
     "output_type": "display_data"
    },
    {
     "name": "stdout",
     "output_type": "stream",
     "text": [
      "effect size (Cohen's d):  0.4748779"
     ]
    }
   ],
   "source": [
    "# Is there a difference in the freq of use of boldface by admins and highly central users?\n",
    "t.test(d.admin$bold_freq, d.higheigen$bold_freq)\n",
    "cat(\"effect size (Cohen's d): \", cohensD(d.admin$bold_freq, d.higheigen$bold_freq))"
   ]
  },
  {
   "cell_type": "code",
   "execution_count": 27,
   "metadata": {},
   "outputs": [
    {
     "data": {
      "text/plain": [
       "\n",
       "\tWelch Two Sample t-test\n",
       "\n",
       "data:  d.higheigen.admin$avg_length_tokens and d.higheigen.nonadmin$avg_length_tokens\n",
       "t = -0.26241, df = 176.22, p-value = 0.7933\n",
       "alternative hypothesis: true difference in means is not equal to 0\n",
       "95 percent confidence interval:\n",
       " -0.3391544  0.2595465\n",
       "sample estimates:\n",
       "mean of x mean of y \n",
       " 3.342155  3.381959 \n"
      ]
     },
     "metadata": {},
     "output_type": "display_data"
    },
    {
     "name": "stdout",
     "output_type": "stream",
     "text": [
      "effect size (Cohen's d):  0.03729621"
     ]
    }
   ],
   "source": [
    "# Admins vs non-admins within the class of highly central users\n",
    "\n",
    "# post length: \n",
    "t.test(d.higheigen.admin$avg_length_tokens, d.higheigen.nonadmin$avg_length_tokens)\n",
    "cat(\"effect size (Cohen's d): \", cohensD(d.higheigen.admin$avg_length_tokens, d.higheigen.nonadmin$avg_length_tokens))\n",
    "# itlaics\n",
    "t.test(d.higheigen.admin$italics_freq, d.higheigen.nonadmin$italics_freq)\n",
    "cat(\"effect size (Cohen's d): \", cohensD(d.higheigen.admin$italics_freq, d.higheigen.nonadmin$italics_freq))\n",
    "# boldface\n",
    "t.test(d.higheigen.admin$bold_freq, d.higheigen.nonadmin$bold_freq)\n",
    "cat(\"effect size (Cohen's d): \", cohensD(d.higheigen.admin$bold_freq, d.higheigen.nonadmin$bold_freq))\n",
    "# links\n",
    "t.test(d.higheigen.admin$link_freq, d.higheigen.nonadmin$link_freq)\n",
    "cat(\"effect size (Cohen's d): \", cohensD(d.higheigen.admin$link_freq, d.higheigen.nonadmin$link_freq))"
   ]
  },
  {
   "cell_type": "code",
   "execution_count": 32,
   "metadata": {},
   "outputs": [
    {
     "data": {
      "text/plain": [
       "\n",
       "\tWelch Two Sample t-test\n",
       "\n",
       "data:  d.loweigen.admin$avg_length_tokens and d.loweigen.nonadmin$avg_length_tokens\n",
       "t = 5.7818, df = 2988.5, p-value = 8.156e-09\n",
       "alternative hypothesis: true difference in means is not equal to 0\n",
       "95 percent confidence interval:\n",
       " 0.1036142 0.2099539\n",
       "sample estimates:\n",
       "mean of x mean of y \n",
       " 3.229487  3.072703 \n"
      ]
     },
     "metadata": {},
     "output_type": "display_data"
    },
    {
     "name": "stdout",
     "output_type": "stream",
     "text": [
      "effect size (Cohen's d):  0.08403338"
     ]
    }
   ],
   "source": [
    "# Admins vs non-admins within the class of low centrality users\n",
    "\n",
    "# post length: \n",
    "t.test(d.loweigen.admin$avg_length_tokens, d.loweigen.nonadmin$avg_length_tokens)\n",
    "cat(\"effect size (Cohen's d): \", cohensD(d.loweigen.admin$avg_length_tokens, d.loweigen.nonadmin$avg_length_tokens))\n",
    "# italics\n",
    "t.test(d.loweigen.admin$italics_freq, d.loweigen.nonadmin$italics_freq)\n",
    "cat(\"effect size (Cohen's d): \", cohensD(d.loweigen.admin$italics_freq, d.loweigen.nonadmin$italics_freq))\n",
    "# boldface\n",
    "t.test(d.loweigen.admin$bold_freq, d.loweigen.nonadmin$bold_freq)\n",
    "cat(\"effect size (Cohen's d): \", cohensD(d.loweigen.admin$bold_freq, d.loweigen.nonadmin$bold_freq))\n",
    "# links\n",
    "t.test(d.loweigen.admin$link_freq, d.loweigen.nonadmin$link_freq)\n",
    "cat(\"effect size (Cohen's d): \", cohensD(d.loweigen.admin$link_freq, d.loweigen.nonadmin$link_freq))"
   ]
  },
  {
   "cell_type": "code",
   "execution_count": 61,
   "metadata": {},
   "outputs": [
    {
     "data": {
      "text/plain": [
       "\n",
       "\tWelch Two Sample t-test\n",
       "\n",
       "data:  d.higheigen.admin$avg_length_tokens and d.loweigen.admin$avg_length_tokens\n",
       "t = 0.98129, df = 82.786, p-value = 0.3293\n",
       "alternative hypothesis: true difference in means is not equal to 0\n",
       "95 percent confidence interval:\n",
       " -0.1157054  0.3410419\n",
       "sample estimates:\n",
       "mean of x mean of y \n",
       " 3.342155  3.229487 \n"
      ]
     },
     "metadata": {},
     "output_type": "display_data"
    },
    {
     "name": "stdout",
     "output_type": "stream",
     "text": [
      "effect size (Cohen's d):  0.03729621"
     ]
    },
    {
     "data": {
      "text/plain": [
       "\n",
       "\tWelch Two Sample t-test\n",
       "\n",
       "data:  d.higheigen.admin$italics_freq and d.loweigen.admin$italics_freq\n",
       "t = -2.0873, df = 88.439, p-value = 0.03974\n",
       "alternative hypothesis: true difference in means is not equal to 0\n",
       "95 percent confidence interval:\n",
       " -0.063129062 -0.001551849\n",
       "sample estimates:\n",
       "mean of x mean of y \n",
       "0.1110705 0.1434109 \n"
      ]
     },
     "metadata": {},
     "output_type": "display_data"
    },
    {
     "name": "stdout",
     "output_type": "stream",
     "text": [
      "effect size (Cohen's d):  0.03174539"
     ]
    },
    {
     "data": {
      "text/plain": [
       "\n",
       "\tWelch Two Sample t-test\n",
       "\n",
       "data:  d.higheigen.admin$bold_freq and d.loweigen.admin$bold_freq\n",
       "t = -4.026, df = 70.428, p-value = 0.0001412\n",
       "alternative hypothesis: true difference in means is not equal to 0\n",
       "95 percent confidence interval:\n",
       " -0.15698771 -0.05298237\n",
       "sample estimates:\n",
       "  mean of x   mean of y \n",
       "0.009799795 0.114784834 \n"
      ]
     },
     "metadata": {},
     "output_type": "display_data"
    },
    {
     "name": "stdout",
     "output_type": "stream",
     "text": [
      "effect size (Cohen's d):  0.4063322"
     ]
    },
    {
     "data": {
      "text/plain": [
       "\n",
       "\tWelch Two Sample t-test\n",
       "\n",
       "data:  d.higheigen.admin$link_freq and d.loweigen.admin$link_freq\n",
       "t = -2.7284, df = 92.302, p-value = 0.007621\n",
       "alternative hypothesis: true difference in means is not equal to 0\n",
       "95 percent confidence interval:\n",
       " -0.040629229 -0.006397743\n",
       "sample estimates:\n",
       " mean of x  mean of y \n",
       "0.01332803 0.03684152 \n"
      ]
     },
     "metadata": {},
     "output_type": "display_data"
    },
    {
     "name": "stdout",
     "output_type": "stream",
     "text": [
      "effect size (Cohen's d):  0.247536"
     ]
    }
   ],
   "source": [
    "# High vs. low centrality with the class of admins\n",
    "\n",
    "# post length: \n",
    "t.test(d.higheigen.admin$avg_length_tokens, d.loweigen.admin$avg_length_tokens)\n",
    "cat(\"effect size (Cohen's d): \", cohensD(d.higheigen.admin$avg_length_tokens, d.higheigen.nonadmin$avg_length_tokens))\n",
    "# itlaics\n",
    "t.test(d.higheigen.admin$italics_freq, d.loweigen.admin$italics_freq)\n",
    "cat(\"effect size (Cohen's d): \", cohensD(d.higheigen.admin$italics_freq, d.higheigen.nonadmin$italics_freq))\n",
    "# boldface\n",
    "t.test(d.higheigen.admin$bold_freq, d.loweigen.admin$bold_freq)\n",
    "cat(\"effect size (Cohen's d): \", cohensD(d.higheigen.admin$bold_freq, d.higheigen.nonadmin$bold_freq))\n",
    "# links\n",
    "t.test(d.higheigen.admin$link_freq, d.loweigen.admin$link_freq)\n",
    "cat(\"effect size (Cohen's d): \", cohensD(d.higheigen.admin$link_freq, d.higheigen.nonadmin$link_freq))"
   ]
  },
  {
   "cell_type": "code",
   "execution_count": 62,
   "metadata": {},
   "outputs": [
    {
     "data": {
      "text/plain": [
       "\n",
       "\tWelch Two Sample t-test\n",
       "\n",
       "data:  d.loweigen.nonadmin$avg_length_tokens and d.higheigen.nonadmin$avg_length_tokens\n",
       "t = -3.0094, df = 123.23, p-value = 0.003175\n",
       "alternative hypothesis: true difference in means is not equal to 0\n",
       "95 percent confidence interval:\n",
       " -0.5126681 -0.1058444\n",
       "sample estimates:\n",
       "mean of x mean of y \n",
       " 3.072703  3.381959 \n"
      ]
     },
     "metadata": {},
     "output_type": "display_data"
    },
    {
     "name": "stdout",
     "output_type": "stream",
     "text": [
      "effect size (Cohen's d):  0.08403338"
     ]
    },
    {
     "data": {
      "text/plain": [
       "\n",
       "\tWelch Two Sample t-test\n",
       "\n",
       "data:  d.loweigen.nonadmin$italics_freq and d.higheigen.nonadmin$italics_freq\n",
       "t = 14.807, df = 125.25, p-value < 2.2e-16\n",
       "alternative hypothesis: true difference in means is not equal to 0\n",
       "95 percent confidence interval:\n",
       " 0.1509379 0.1975128\n",
       "sample estimates:\n",
       "mean of x mean of y \n",
       "0.2890764 0.1148510 \n"
      ]
     },
     "metadata": {},
     "output_type": "display_data"
    },
    {
     "name": "stdout",
     "output_type": "stream",
     "text": [
      "effect size (Cohen's d):  0.5511166"
     ]
    },
    {
     "data": {
      "text/plain": [
       "\n",
       "\tWelch Two Sample t-test\n",
       "\n",
       "data:  d.loweigen.nonadmin$bold_freq and d.higheigen.nonadmin$bold_freq\n",
       "t = 7.8707, df = 120.05, p-value = 1.745e-12\n",
       "alternative hypothesis: true difference in means is not equal to 0\n",
       "95 percent confidence interval:\n",
       " 0.1191460 0.1992367\n",
       "sample estimates:\n",
       " mean of x  mean of y \n",
       "0.17944390 0.02025255 \n"
      ]
     },
     "metadata": {},
     "output_type": "display_data"
    },
    {
     "name": "stdout",
     "output_type": "stream",
     "text": [
      "effect size (Cohen's d):  0.2470612"
     ]
    },
    {
     "data": {
      "text/plain": [
       "\n",
       "\tWelch Two Sample t-test\n",
       "\n",
       "data:  d.loweigen.nonadmin$link_freq and d.higheigen.nonadmin$link_freq\n",
       "t = 10.574, df = 502.7, p-value < 2.2e-16\n",
       "alternative hypothesis: true difference in means is not equal to 0\n",
       "95 percent confidence interval:\n",
       " 0.09410137 0.13704891\n",
       "sample estimates:\n",
       " mean of x  mean of y \n",
       "0.13540965 0.01983451 \n"
      ]
     },
     "metadata": {},
     "output_type": "display_data"
    },
    {
     "name": "stdout",
     "output_type": "stream",
     "text": [
      "effect size (Cohen's d):  0.4823341"
     ]
    }
   ],
   "source": [
    "# High vs. low centrality with the class of non-admins\n",
    "\n",
    "# post length: \n",
    "t.test(d.loweigen.nonadmin$avg_length_tokens, d.higheigen.nonadmin$avg_length_tokens)\n",
    "cat(\"effect size (Cohen's d): \", cohensD(d.loweigen.admin$avg_length_tokens, d.loweigen.nonadmin$avg_length_tokens))\n",
    "# italics\n",
    "t.test(d.loweigen.nonadmin$italics_freq, d.higheigen.nonadmin$italics_freq)\n",
    "cat(\"effect size (Cohen's d): \", cohensD(d.loweigen.admin$italics_freq, d.loweigen.nonadmin$italics_freq))\n",
    "# boldface\n",
    "t.test(d.loweigen.nonadmin$bold_freq, d.higheigen.nonadmin$bold_freq)\n",
    "cat(\"effect size (Cohen's d): \", cohensD(d.loweigen.admin$bold_freq, d.loweigen.nonadmin$bold_freq))\n",
    "# links\n",
    "t.test(d.loweigen.nonadmin$link_freq, d.higheigen.nonadmin$link_freq)\n",
    "cat(\"effect size (Cohen's d): \", cohensD(d.loweigen.admin$link_freq, d.loweigen.nonadmin$link_freq))"
   ]
  },
  {
   "cell_type": "markdown",
   "metadata": {},
   "source": [
    "### Interim summary\n",
    "\n",
    "-  the posts of highly-central users are not significantly longer than those of admins\n",
    "-  but highly-central users use fewer URLs, italics, and boldface than admins (p < 0.001, effect size between 0.2 and 0.4)\n",
    "-  within the class of users with low centrality, the effect of adminship is present (admins use fewer italics, boldface, and links: p < 0.05, with effects between 0.2 and 0.5)\n",
    "-  similarly, among non-admins the effect of centrality is present.\n",
    "-  However, while within the class of highly-central users, adminship does not have an effect (p > 0.05 for all linguistic style features: length, italics, bold, links), among admins, highly-central users use significantly fewer italics, boldface, and links\n"
   ]
  },
  {
   "cell_type": "code",
   "execution_count": 4,
   "metadata": {},
   "outputs": [
    {
     "data": {
      "text/html": [
       "<table>\n",
       "<thead><tr><th scope=col>post_id</th><th scope=col>len</th><th scope=col>ppl</th><th scope=col>align</th></tr></thead>\n",
       "<tbody>\n",
       "\t<tr><td>133333   </td><td> 97      </td><td>119.50681</td><td>False    </td></tr>\n",
       "\t<tr><td> 84731   </td><td> 21      </td><td>124.71792</td><td>False    </td></tr>\n",
       "\t<tr><td>322884   </td><td>108      </td><td>101.49397</td><td>False    </td></tr>\n",
       "\t<tr><td>571787   </td><td>  8      </td><td> 72.47687</td><td>False    </td></tr>\n",
       "\t<tr><td>447384   </td><td> 90      </td><td>186.39669</td><td>False    </td></tr>\n",
       "\t<tr><td>233202   </td><td>  4      </td><td> 31.89114</td><td>False    </td></tr>\n",
       "</tbody>\n",
       "</table>\n"
      ],
      "text/latex": [
       "\\begin{tabular}{r|llll}\n",
       " post\\_id & len & ppl & align\\\\\n",
       "\\hline\n",
       "\t 133333    &  97       & 119.50681 & False    \\\\\n",
       "\t  84731    &  21       & 124.71792 & False    \\\\\n",
       "\t 322884    & 108       & 101.49397 & False    \\\\\n",
       "\t 571787    &   8       &  72.47687 & False    \\\\\n",
       "\t 447384    &  90       & 186.39669 & False    \\\\\n",
       "\t 233202    &   4       &  31.89114 & False    \\\\\n",
       "\\end{tabular}\n"
      ],
      "text/markdown": [
       "\n",
       "post_id | len | ppl | align | \n",
       "|---|---|---|---|---|---|\n",
       "| 133333    |  97       | 119.50681 | False     | \n",
       "|  84731    |  21       | 124.71792 | False     | \n",
       "| 322884    | 108       | 101.49397 | False     | \n",
       "| 571787    |   8       |  72.47687 | False     | \n",
       "| 447384    |  90       | 186.39669 | False     | \n",
       "| 233202    |   4       |  31.89114 | False     | \n",
       "\n",
       "\n"
      ],
      "text/plain": [
       "  post_id len ppl       align\n",
       "1 133333   97 119.50681 False\n",
       "2  84731   21 124.71792 False\n",
       "3 322884  108 101.49397 False\n",
       "4 571787    8  72.47687 False\n",
       "5 447384   90 186.39669 False\n",
       "6 233202    4  31.89114 False"
      ]
     },
     "metadata": {},
     "output_type": "display_data"
    }
   ],
   "source": [
    "d = read.csv(\"../data/wiki/post_data.csv\", header = TRUE)\n",
    "library(lsr)\n",
    "head(d)"
   ]
  },
  {
   "cell_type": "code",
   "execution_count": 3,
   "metadata": {},
   "outputs": [
    {
     "data": {
      "image/png": "[encoded data removed]",
      "text/plain": [
       "plot without title"
      ]
     },
     "metadata": {},
     "output_type": "display_data"
    }
   ],
   "source": [
    "plot(d$len, d$ppl, ylim=c(0,500), xlim=c(0,500))"
   ]
  },
  {
   "cell_type": "code",
   "execution_count": 10,
   "metadata": {},
   "outputs": [],
   "source": [
    "d.alignedto <- subset(d, align == \"True\")\n",
    "d.notalignedto <- subset(d, align == \"False\")"
   ]
  },
  {
   "cell_type": "code",
   "execution_count": 11,
   "metadata": {},
   "outputs": [
    {
     "ename": "ERROR",
     "evalue": "Error in t.test.default(d.alignedto$ppl, d.notalignedto$ppl): not enough 'x' observations\n",
     "output_type": "error",
     "traceback": [
      "Error in t.test.default(d.alignedto$ppl, d.notalignedto$ppl): not enough 'x' observations\nTraceback:\n",
      "1. t.test(d.alignedto$ppl, d.notalignedto$ppl)",
      "2. t.test.default(d.alignedto$ppl, d.notalignedto$ppl)",
      "3. stop(\"not enough 'x' observations\")"
     ]
    }
   ],
   "source": [
    "t.test(d.alignedto$ppl, d.notalignedto$ppl)\n",
    "cohensD(d.alignedto$ppl, d.notalignedto$ppl)"
   ]
  },
  {
   "cell_type": "code",
   "execution_count": 12,
   "metadata": {},
   "outputs": [
    {
     "data": {
      "text/html": [
       "<table>\n",
       "<thead><tr><th scope=col>post_id</th><th scope=col>len</th><th scope=col>ppl</th><th scope=col>align</th></tr></thead>\n",
       "<tbody>\n",
       "\t<tr><td>133333   </td><td> 97      </td><td>119.50681</td><td>False    </td></tr>\n",
       "\t<tr><td> 84731   </td><td> 21      </td><td>124.71792</td><td>False    </td></tr>\n",
       "\t<tr><td>322884   </td><td>108      </td><td>101.49397</td><td>False    </td></tr>\n",
       "\t<tr><td>571787   </td><td>  8      </td><td> 72.47687</td><td>False    </td></tr>\n",
       "\t<tr><td>447384   </td><td> 90      </td><td>186.39669</td><td>False    </td></tr>\n",
       "\t<tr><td>233202   </td><td>  4      </td><td> 31.89114</td><td>False    </td></tr>\n",
       "</tbody>\n",
       "</table>\n"
      ],
      "text/latex": [
       "\\begin{tabular}{r|llll}\n",
       " post\\_id & len & ppl & align\\\\\n",
       "\\hline\n",
       "\t 133333    &  97       & 119.50681 & False    \\\\\n",
       "\t  84731    &  21       & 124.71792 & False    \\\\\n",
       "\t 322884    & 108       & 101.49397 & False    \\\\\n",
       "\t 571787    &   8       &  72.47687 & False    \\\\\n",
       "\t 447384    &  90       & 186.39669 & False    \\\\\n",
       "\t 233202    &   4       &  31.89114 & False    \\\\\n",
       "\\end{tabular}\n"
      ],
      "text/markdown": [
       "\n",
       "post_id | len | ppl | align | \n",
       "|---|---|---|---|---|---|\n",
       "| 133333    |  97       | 119.50681 | False     | \n",
       "|  84731    |  21       | 124.71792 | False     | \n",
       "| 322884    | 108       | 101.49397 | False     | \n",
       "| 571787    |   8       |  72.47687 | False     | \n",
       "| 447384    |  90       | 186.39669 | False     | \n",
       "| 233202    |   4       |  31.89114 | False     | \n",
       "\n",
       "\n"
      ],
      "text/plain": [
       "  post_id len ppl       align\n",
       "1 133333   97 119.50681 False\n",
       "2  84731   21 124.71792 False\n",
       "3 322884  108 101.49397 False\n",
       "4 571787    8  72.47687 False\n",
       "5 447384   90 186.39669 False\n",
       "6 233202    4  31.89114 False"
      ]
     },
     "metadata": {},
     "output_type": "display_data"
    }
   ],
   "source": [
    "head(d.notalignedto)"
   ]
  },
  {
   "cell_type": "code",
   "execution_count": null,
   "metadata": {},
   "outputs": [],
   "source": []
  }
 ],
 "metadata": {
  "kernelspec": {
   "display_name": "R",
   "language": "R",
   "name": "ir"
  },
  "language_info": {
   "codemirror_mode": "r",
   "file_extension": ".r",
   "mimetype": "text/x-r-source",
   "name": "R",
   "pygments_lexer": "r",
   "version": "3.2.3"
  }
 },
 "nbformat": 4,
 "nbformat_minor": 2
}
