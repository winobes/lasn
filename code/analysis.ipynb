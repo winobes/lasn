{
 "cells": [
  {
   "cell_type": "markdown",
   "metadata": {},
   "source": [
    "# Analysis\n",
    "\n",
    "## Setup"
   ]
  },
  {
   "cell_type": "code",
   "execution_count": null,
   "metadata": {
    "scrolled": true
   },
   "outputs": [],
   "source": [
    "d = read.csv(\"../data/wiki/user_data.csv\", header = TRUE)\n",
    "library(lsr)\n",
    "head(d)"
   ]
  },
  {
   "cell_type": "code",
   "execution_count": null,
   "metadata": {},
   "outputs": [],
   "source": [
    "# d <- subset(d, eigen_central < 0.6) # eliminates 2 outliers\n",
    "d.admin <- subset(d, admin == \"True\")\n",
    "d.nonadmin <- subset(d, admin == \"False\")\n",
    "d.higheigen <- subset(d, eigen_central_bin == \"True\")\n",
    "d.loweigen <- subset(d, eigen_central_bin == \"False\")"
   ]
  },
  {
   "cell_type": "code",
   "execution_count": null,
   "metadata": {},
   "outputs": [],
   "source": [
    "d.higheigen.admin <- subset(d, eigen_central_bin == \"True\" & admin == \"True\")\n",
    "d.higheigen.nonadmin <- subset(d, eigen_central_bin == \"True\" & admin == \"False\")\n",
    "d.loweigen.admin <- subset(d, eigen_central_bin == \"False\" & admin == \"True\")\n",
    "d.loweigen.nonadmin <- subset(d, eigen_central_bin == \"False\" & admin == \"False\")\n",
    "\n",
    "# nrow(d.loweigen.admin) # 1703\n",
    "# nrow(d.higheigen.admin) # 77\n",
    "# nrow(d.higheigen.nonadmin) # 120\n",
    "# nrow(d.loweigen.nonadmin) # 20197"
   ]
  },
  {
   "cell_type": "markdown",
   "metadata": {},
   "source": [
    "## Replicating *Centre Stage* results\n",
    "\n",
    "Relationship between power (adminship & centrality) and coordination."
   ]
  },
  {
   "cell_type": "code",
   "execution_count": null,
   "metadata": {},
   "outputs": [],
   "source": [
    "# Coordination received vs. eigenvector centrality\n",
    "cor.test(d$eigen_central, d$coord_received_all, alternative=\"greater\", method=\"spearman\", exact = FALSE)"
   ]
  },
  {
   "cell_type": "code",
   "execution_count": null,
   "metadata": {},
   "outputs": [],
   "source": [
    "# Do highgly central and non-central users receive different amounts of coordination? YES\n",
    "t.test(d.loweigen$coord_received_all, d.higheigen$coord_received_all)\n",
    "cohensD(d.loweigen$coord_received_all, d.higheigen$coord_received_all)\n",
    "# Do admins and non-admins receive different amounts of coordination? YES\n",
    "t.test(d.nonadmin$coord_received_all, d.admin$coord_received_all)\n",
    "cohensD(d.nonadmin$coord_received_all, d.admin$coord_received_all)\n",
    "# Do hihgly central users and admins receive different amounts of coordination? NO\n",
    "t.test(d.higheigen$coord_received_all, d.admin$coord_received_all)\n",
    "cohensD(d.higheigen$coord_received_all, d.admin$coord_received_all)"
   ]
  },
  {
   "cell_type": "code",
   "execution_count": null,
   "metadata": {},
   "outputs": [],
   "source": [
    "# This is what we had tested in Centre Stage:\n",
    "# among highy central, do admins receive more coordination? NO\n",
    "t.test(d.higheigen.admin$coord_received_all, d.higheigen.nonadmin$coord_received_all)\n",
    "cohensD(d.higheigen.admin$coord_received_all, d.higheigen.nonadmin$coord_received_all)\n",
    "# among non-central users, do admins receive more coordination? YES\n",
    "t.test(d.loweigen.admin$coord_received_all, d.loweigen.nonadmin$coord_received_all)\n",
    "cohensD(d.loweigen.admin$coord_received_all, d.loweigen.nonadmin$coord_received_all)"
   ]
  },
  {
   "cell_type": "code",
   "execution_count": null,
   "metadata": {},
   "outputs": [],
   "source": [
    "# We had not tested this counterpart, however: \n",
    "# among admins, do highly central users receive more coordination? NO\n",
    "t.test(d.loweigen.admin$coord_received_all, d.higheigen.admin$coord_received_all)\n",
    "cohensD(d.loweigen.admin$coord_received_all, d.higheigen.admin$coord_received_all)\n",
    "# among non-admins, do highly central users receive more coordination? YES\n",
    "t.test(d.loweigen.nonadmin$coord_received_all, d.higheigen.nonadmin$coord_received_all)\n",
    "cohensD(d.loweigen.nonadmin$coord_received_all, d.higheigen.nonadmin$coord_received_all)"
   ]
  },
  {
   "cell_type": "markdown",
   "metadata": {},
   "source": [
    "-  Weak positive correlation between coordination received and centrality: r = 1.9 p < 0.001\n",
    "-  More coordination received by highly central than low central (p < 0.001, d=0.2)\n",
    "-  More coodination received by admins than non-admins (p < 0.001, d=0.18)\n",
    "-  The amount of coordination received by admins vs highly central users is not significantly different.\n",
    "-  Among highly central users, there is no significant effect of adminship\n",
    "-  Among admins, there is no significant effect of centrality\n"
   ]
  },
  {
   "cell_type": "markdown",
   "metadata": {},
   "source": [
    "## Ingroup / outgroup coordination"
   ]
  },
  {
   "cell_type": "code",
   "execution_count": null,
   "metadata": {},
   "outputs": [],
   "source": [
    "# Is there more coordination towards users in own sub-group? NO\n",
    "t.test(d$coord_given_all, d$coord_given_ingroup)\n",
    "t.test(d.higheigen$coord_given_all, d.higheigen$coord_given_ingroup)\n",
    "t.test(d.loweigen$coord_given_all, d.loweigen$coord_given_ingroup)\n",
    "t.test(d.admin$coord_given_all, d.admin$coord_given_ingroup)\n",
    "t.test(d.nonadmin$coord_given_all, d.nonadmin$coord_given_ingroup)"
   ]
  },
  {
   "cell_type": "code",
   "execution_count": null,
   "metadata": {},
   "outputs": [],
   "source": [
    "# Is there more correlation received by users within own sub-group? NO\n",
    "t.test(d$coord_received_all, d$coord_received_ingroup)\n",
    "t.test(d.higheigen$coord_received_all, d.higheigen$coord_received_ingroup)\n",
    "t.test(d.loweigen$coord_received_all, d.loweigen$coord_received_ingroup)\n",
    "t.test(d.admin$coord_received_all, d.admin$coord_received_ingroup)\n",
    "t.test(d.nonadmin$coord_received_all, d.nonadmin$coord_received_ingroup)"
   ]
  },
  {
   "cell_type": "markdown",
   "metadata": {},
   "source": [
    "# Social power & linguistic style"
   ]
  },
  {
   "cell_type": "code",
   "execution_count": null,
   "metadata": {},
   "outputs": [],
   "source": [
    "# Correlation between centrality and linguistic style features\n",
    "cor.test(d$eigen_central, d$avg_length_tokens, alternative=\"greater\", method=\"spearman\", exact = FALSE)\n",
    "cor.test(d$eigen_central, d$italics_freq, alternative=\"less\", method=\"spearman\", exact = FALSE)\n",
    "cor.test(d$eigen_central, d$bold_freq, alternative=\"less\", method=\"spearman\", exact = FALSE)\n",
    "cor.test(d$eigen_central, d$link_freq, alternative=\"less\", method=\"spearman\", exact = FALSE)\n",
    "\n",
    "## Slight positive correlation with post length\n",
    "## Clear negative correlations for italics, bold and links"
   ]
  },
  {
   "cell_type": "code",
   "execution_count": null,
   "metadata": {},
   "outputs": [],
   "source": [
    "# Length of posts: \n",
    "t.test(d.admin$avg_length_tokens, d.nonadmin$avg_length_tokens)\n",
    "cat(\"effect size (Cohen's d): \", cohensD(d.admin$avg_length_tokens, d.nonadmin$avg_length_tokens))\n",
    "t.test(d.higheigen$avg_length_tokens, d.loweigen$avg_length_tokens)\n",
    "cat(\"Effect size (Cohen's d): \", cohensD(d.higheigen$avg_length_tokens, d.loweigen$avg_length_tokens))"
   ]
  },
  {
   "cell_type": "code",
   "execution_count": null,
   "metadata": {},
   "outputs": [],
   "source": [
    "# Use of italics\n",
    "t.test(d.admin$italics_freq, d.nonadmin$italics_freq)\n",
    "cat(\"effect size (Cohen's d): \", cohensD(d.admin$italics_freq, d.nonadmin$italics_freq))\n",
    "t.test(d.higheigen$italics_freq, d.loweigen$italics_freq)\n",
    "cat(\"effect size (Cohen's d): \", cohensD(d.higheigen$italics_freq, d.loweigen$italics_freq))"
   ]
  },
  {
   "cell_type": "code",
   "execution_count": null,
   "metadata": {},
   "outputs": [],
   "source": [
    "# Use of boldface\n",
    "t.test(d.admin$bold_freq, d.nonadmin$bold_freq)\n",
    "cat(\"effect size (Cohen's d): \", cohensD(d.admin$bold_freq, d.nonadmin$bold_freq))\n",
    "t.test(d.higheigen$bold_freq, d.loweigen$bold_freq)\n",
    "cat(\"effect size (Cohen's d): \", cohensD(d.higheigen$bold_freq, d.loweigen$bold_freq))"
   ]
  },
  {
   "cell_type": "code",
   "execution_count": null,
   "metadata": {},
   "outputs": [],
   "source": [
    "# Use of links\n",
    "t.test(d.admin$link_freq, d.nonadmin$link_freq)\n",
    "cat(\"effect size (Cohen's d): \", cohensD(d.admin$link_freq, d.nonadmin$link_freq))\n",
    "t.test(d.higheigen$link_freq, d.loweigen$link_freq)\n",
    "cat(\"effect size (Cohen's d): \", cohensD(d.higheigen$link_freq, d.loweigen$link_freq))"
   ]
  },
  {
   "cell_type": "markdown",
   "metadata": {},
   "source": [
    "### Interim summary\n",
    " \n",
    "-  admins and highly-central users tend to post longer messages (p < 0.001, but low effect size: 0.08 and 0.15 for admins and highly central, respectively). There is a weak positive correlation between centrality and post length\n",
    "-  admins and highly-central users use significantly fewer italics, boldface, and URLs in their posts than non-admins and non-highly-central users (p < 0.001, strong effect size of around 0.5 in all cases). There are clear negative correlations between centrality and use of italics, boldface, and links.\n"
   ]
  },
  {
   "cell_type": "code",
   "execution_count": null,
   "metadata": {},
   "outputs": [],
   "source": [
    "# Is there a difference in the length of posts by admins and highly central users?\n",
    "t.test(d.admin$avg_length_tokens, d.higheigen$avg_length_tokens)\n",
    "cat(\"effect size (Cohen's d): \", cohensD(d.admin$avg_length_tokens, d.higheigen$avg_length_tokens))"
   ]
  },
  {
   "cell_type": "code",
   "execution_count": null,
   "metadata": {},
   "outputs": [],
   "source": [
    "# Is there a difference in the freq of use of links by admins and highly central users?\n",
    "t.test(d.admin$link_freq, d.higheigen$link_freq)\n",
    "cat(\"effect size (Cohen's d): \", cohensD(d.admin$link_freq, d.higheigen$link_freq))"
   ]
  },
  {
   "cell_type": "code",
   "execution_count": null,
   "metadata": {},
   "outputs": [],
   "source": [
    "# Is there a difference in the freq of use of italics by admins and highly central users?\n",
    "t.test(d.admin$italics_freq, d.higheigen$italics_freq)\n",
    "cat(\"effect size (Cohen's d): \", cohensD(d.admin$italics_freq, d.higheigen$italics_freq))"
   ]
  },
  {
   "cell_type": "code",
   "execution_count": null,
   "metadata": {},
   "outputs": [],
   "source": [
    "# Is there a difference in the freq of use of boldface by admins and highly central users?\n",
    "t.test(d.admin$bold_freq, d.higheigen$bold_freq)\n",
    "cat(\"effect size (Cohen's d): \", cohensD(d.admin$bold_freq, d.higheigen$bold_freq))"
   ]
  },
  {
   "cell_type": "code",
   "execution_count": null,
   "metadata": {},
   "outputs": [],
   "source": [
    "# Admins vs non-admins within the class of highly central users\n",
    "\n",
    "# post length: \n",
    "t.test(d.higheigen.admin$avg_length_tokens, d.higheigen.nonadmin$avg_length_tokens)\n",
    "cat(\"effect size (Cohen's d): \", cohensD(d.higheigen.admin$avg_length_tokens, d.higheigen.nonadmin$avg_length_tokens))\n",
    "# itlaics\n",
    "t.test(d.higheigen.admin$italics_freq, d.higheigen.nonadmin$italics_freq)\n",
    "cat(\"effect size (Cohen's d): \", cohensD(d.higheigen.admin$italics_freq, d.higheigen.nonadmin$italics_freq))\n",
    "# boldface\n",
    "t.test(d.higheigen.admin$bold_freq, d.higheigen.nonadmin$bold_freq)\n",
    "cat(\"effect size (Cohen's d): \", cohensD(d.higheigen.admin$bold_freq, d.higheigen.nonadmin$bold_freq))\n",
    "# links\n",
    "t.test(d.higheigen.admin$link_freq, d.higheigen.nonadmin$link_freq)\n",
    "cat(\"effect size (Cohen's d): \", cohensD(d.higheigen.admin$link_freq, d.higheigen.nonadmin$link_freq))"
   ]
  },
  {
   "cell_type": "code",
   "execution_count": null,
   "metadata": {},
   "outputs": [],
   "source": [
    "# Admins vs non-admins within the class of low centrality users\n",
    "\n",
    "# post length: \n",
    "t.test(d.loweigen.admin$avg_length_tokens, d.loweigen.nonadmin$avg_length_tokens)\n",
    "cat(\"effect size (Cohen's d): \", cohensD(d.loweigen.admin$avg_length_tokens, d.loweigen.nonadmin$avg_length_tokens))\n",
    "# italics\n",
    "t.test(d.loweigen.admin$italics_freq, d.loweigen.nonadmin$italics_freq)\n",
    "cat(\"effect size (Cohen's d): \", cohensD(d.loweigen.admin$italics_freq, d.loweigen.nonadmin$italics_freq))\n",
    "# boldface\n",
    "t.test(d.loweigen.admin$bold_freq, d.loweigen.nonadmin$bold_freq)\n",
    "cat(\"effect size (Cohen's d): \", cohensD(d.loweigen.admin$bold_freq, d.loweigen.nonadmin$bold_freq))\n",
    "# links\n",
    "t.test(d.loweigen.admin$link_freq, d.loweigen.nonadmin$link_freq)\n",
    "cat(\"effect size (Cohen's d): \", cohensD(d.loweigen.admin$link_freq, d.loweigen.nonadmin$link_freq))"
   ]
  },
  {
   "cell_type": "code",
   "execution_count": null,
   "metadata": {},
   "outputs": [],
   "source": [
    "# High vs. low centrality with the class of admins\n",
    "\n",
    "# post length: \n",
    "t.test(d.higheigen.admin$avg_length_tokens, d.loweigen.admin$avg_length_tokens)\n",
    "cat(\"effect size (Cohen's d): \", cohensD(d.higheigen.admin$avg_length_tokens, d.higheigen.nonadmin$avg_length_tokens))\n",
    "# itlaics\n",
    "t.test(d.higheigen.admin$italics_freq, d.loweigen.admin$italics_freq)\n",
    "cat(\"effect size (Cohen's d): \", cohensD(d.higheigen.admin$italics_freq, d.higheigen.nonadmin$italics_freq))\n",
    "# boldface\n",
    "t.test(d.higheigen.admin$bold_freq, d.loweigen.admin$bold_freq)\n",
    "cat(\"effect size (Cohen's d): \", cohensD(d.higheigen.admin$bold_freq, d.higheigen.nonadmin$bold_freq))\n",
    "# links\n",
    "t.test(d.higheigen.admin$link_freq, d.loweigen.admin$link_freq)\n",
    "cat(\"effect size (Cohen's d): \", cohensD(d.higheigen.admin$link_freq, d.higheigen.nonadmin$link_freq))"
   ]
  },
  {
   "cell_type": "code",
   "execution_count": null,
   "metadata": {},
   "outputs": [],
   "source": [
    "# High vs. low centrality with the class of non-admins\n",
    "\n",
    "# post length: \n",
    "t.test(d.loweigen.nonadmin$avg_length_tokens, d.higheigen.nonadmin$avg_length_tokens)\n",
    "cat(\"effect size (Cohen's d): \", cohensD(d.loweigen.admin$avg_length_tokens, d.loweigen.nonadmin$avg_length_tokens))\n",
    "# italics\n",
    "t.test(d.loweigen.nonadmin$italics_freq, d.higheigen.nonadmin$italics_freq)\n",
    "cat(\"effect size (Cohen's d): \", cohensD(d.loweigen.admin$italics_freq, d.loweigen.nonadmin$italics_freq))\n",
    "# boldface\n",
    "t.test(d.loweigen.nonadmin$bold_freq, d.higheigen.nonadmin$bold_freq)\n",
    "cat(\"effect size (Cohen's d): \", cohensD(d.loweigen.admin$bold_freq, d.loweigen.nonadmin$bold_freq))\n",
    "# links\n",
    "t.test(d.loweigen.nonadmin$link_freq, d.higheigen.nonadmin$link_freq)\n",
    "cat(\"effect size (Cohen's d): \", cohensD(d.loweigen.admin$link_freq, d.loweigen.nonadmin$link_freq))"
   ]
  },
  {
   "cell_type": "markdown",
   "metadata": {},
   "source": [
    "### Interim summary\n",
    "\n",
    "-  the posts of highly-central users are not significantly longer than those of admins\n",
    "-  but highly-central users use fewer URLs, italics, and boldface than admins (p < 0.001, effect size between 0.2 and 0.4)\n",
    "-  within the class of users with low centrality, the effect of adminship is present (admins use fewer italics, boldface, and links: p < 0.05, with effects between 0.2 and 0.5)\n",
    "-  similarly, among non-admins the effect of centrality is present.\n",
    "-  However, while within the class of highly-central users, adminship does not have an effect (p > 0.05 for all linguistic style features: length, italics, bold, links), among admins, highly-central users use significantly fewer italics, boldface, and links\n"
   ]
  },
  {
   "cell_type": "code",
   "execution_count": null,
   "metadata": {},
   "outputs": [],
   "source": [
    "d = read.csv(\"../data/wiki/post_data.csv\", header = TRUE)\n",
    "library(lsr)\n",
    "head(d)"
   ]
  },
  {
   "cell_type": "code",
   "execution_count": null,
   "metadata": {
    "scrolled": true
   },
   "outputs": [],
   "source": [
    "plot(d$len, d$ppl, ylim=c(0,500), xlim=c(0,500))"
   ]
  },
  {
   "cell_type": "code",
   "execution_count": null,
   "metadata": {},
   "outputs": [],
   "source": [
    "d.alignedto <- subset(d, align == \"True\")\n",
    "d.notalignedto <- subset(d, align == \"False\")"
   ]
  },
  {
   "cell_type": "code",
   "execution_count": null,
   "metadata": {},
   "outputs": [],
   "source": [
    "t.test(d.alignedto$ppl, d.notalignedto$ppl)\n",
    "cohensD(d.alignedto$ppl, d.notalignedto$ppl)"
   ]
  },
  {
   "cell_type": "code",
   "execution_count": null,
   "metadata": {},
   "outputs": [],
   "source": [
    "head(d.notalignedto)"
   ]
  },
  {
   "cell_type": "code",
   "execution_count": null,
   "metadata": {},
   "outputs": [],
   "source": []
  }
 ],
 "metadata": {
  "kernelspec": {
   "display_name": "R",
   "language": "R",
   "name": "ir"
  },
  "language_info": {
   "codemirror_mode": "r",
   "file_extension": ".r",
   "mimetype": "text/x-r-source",
   "name": "R",
   "pygments_lexer": "r",
   "version": "3.2.3"
  }
 },
 "nbformat": 4,
 "nbformat_minor": 2
}
