{
 "cells": [
  {
   "cell_type": "markdown",
   "metadata": {},
   "source": [
    "# Analysis\n",
    "\n",
    "## Setup"
   ]
  },
  {
   "cell_type": "code",
   "execution_count": 114,
   "metadata": {
    "scrolled": true
   },
   "outputs": [
    {
     "data": {
      "text/html": [
       "<table>\n",
       "<thead><tr><th scope=col>user_b</th><th scope=col>edit_count</th><th scope=col>gender</th><th scope=col>numerical_id</th><th scope=col>admin_ascension</th><th scope=col>admin</th><th scope=col>bold_freq</th><th scope=col>italics_freq</th><th scope=col>links_freq</th><th scope=col>adverbs_freq</th><th scope=col>⋯</th><th scope=col>coord_received_conjunctions</th><th scope=col>coord_received_impersonal_pronouns</th><th scope=col>coord_received_personal_pronouns</th><th scope=col>coord_received_prepositions</th><th scope=col>coord_received_quantifiers</th><th scope=col>coord_received_aggrigate</th><th scope=col>ingroup_coord_given_aggrigate</th><th scope=col>outgroup_coord_given_aggrigate</th><th scope=col>ingroup_coord_received_aggrigate</th><th scope=col>outgroup_coord_received_aggrigate</th></tr></thead>\n",
       "<tbody>\n",
       "\t<tr><td>!!             </td><td> 1540          </td><td>unknown        </td><td>  126234       </td><td>               </td><td>False          </td><td>0.00000000     </td><td>0.00000000     </td><td>0.5000000      </td><td>0.5000000      </td><td>⋯              </td><td> 0.00000000    </td><td> 0.000000000   </td><td>0.00000000     </td><td>0.00000000     </td><td>0.00000000     </td><td>0.00000000     </td><td>          NA   </td><td>0.000000000    </td><td>        NA     </td><td>0.00000000     </td></tr>\n",
       "\t<tr><td>$1LENCE D00600D</td><td>12254          </td><td>unknown        </td><td>12827524       </td><td>               </td><td>False          </td><td>0.11111111     </td><td>0.11111111     </td><td>0.3333333      </td><td>0.9444444      </td><td>⋯              </td><td> 0.00000000    </td><td> 0.088888889   </td><td>0.00000000     </td><td>0.00000000     </td><td>0.06666667     </td><td>0.01944444     </td><td>-0.016666667   </td><td>0.000000000    </td><td>0.00000000     </td><td>0.06250000     </td></tr>\n",
       "\t<tr><td>(aeropagitica) </td><td>25131          </td><td>unknown        </td><td>  111640       </td><td>2006-03-06     </td><td>True           </td><td>0.04832215     </td><td>0.10738255     </td><td>0.4389262      </td><td>0.8859060      </td><td>⋯              </td><td> 0.01699688    </td><td> 0.031767393   </td><td>0.03347447     </td><td>0.03614227     </td><td>0.01444719     </td><td>0.02496307     </td><td> 0.002148791   </td><td>0.003512231    </td><td>0.01470972     </td><td>0.02171690     </td></tr>\n",
       "\t<tr><td>*Paul*         </td><td> 3626          </td><td>unknown        </td><td>  133835       </td><td>               </td><td>False          </td><td>0.00000000     </td><td>0.00000000     </td><td>0.0000000      </td><td>1.0000000      </td><td>⋯              </td><td> 0.00000000    </td><td> 0.000000000   </td><td>0.00000000     </td><td>0.00000000     </td><td>        NA     </td><td>0.00000000     </td><td>          NA   </td><td>0.000000000    </td><td>        NA     </td><td>0.00000000     </td></tr>\n",
       "\t<tr><td>*Ulla*         </td><td>  587          </td><td>unknown        </td><td> 1109504       </td><td>               </td><td>False          </td><td>0.00000000     </td><td>0.00000000     </td><td>0.0000000      </td><td>1.0000000      </td><td>⋯              </td><td> 0.00000000    </td><td> 0.000000000   </td><td>0.00000000     </td><td>0.00000000     </td><td>0.00000000     </td><td>0.00000000     </td><td>          NA   </td><td>0.000000000    </td><td>        NA     </td><td>0.00000000     </td></tr>\n",
       "\t<tr><td>-5-            </td><td>72715          </td><td>unknown        </td><td>  933783       </td><td>               </td><td>False          </td><td>0.00000000     </td><td>0.05263158     </td><td>0.2105263      </td><td>0.9473684      </td><td>⋯              </td><td>-0.05769231    </td><td>-0.009615385   </td><td>0.05357143     </td><td>0.05357143     </td><td>0.18750000     </td><td>0.02298535     </td><td>-0.007440476   </td><td>0.000000000    </td><td>0.03139881     </td><td>0.04166667     </td></tr>\n",
       "</tbody>\n",
       "</table>\n"
      ],
      "text/latex": [
       "\\begin{tabular}{r|lllllllllllllllllllllllllllllllllllllllllllll}\n",
       " user\\_b & edit\\_count & gender & numerical\\_id & admin\\_ascension & admin & bold\\_freq & italics\\_freq & links\\_freq & adverbs\\_freq & ⋯ & coord\\_received\\_conjunctions & coord\\_received\\_impersonal\\_pronouns & coord\\_received\\_personal\\_pronouns & coord\\_received\\_prepositions & coord\\_received\\_quantifiers & coord\\_received\\_aggrigate & ingroup\\_coord\\_given\\_aggrigate & outgroup\\_coord\\_given\\_aggrigate & ingroup\\_coord\\_received\\_aggrigate & outgroup\\_coord\\_received\\_aggrigate\\\\\n",
       "\\hline\n",
       "\t !!              &  1540           & unknown         &   126234        &                 & False           & 0.00000000      & 0.00000000      & 0.5000000       & 0.5000000       & ⋯               &  0.00000000     &  0.000000000    & 0.00000000      & 0.00000000      & 0.00000000      & 0.00000000      &           NA    & 0.000000000     &         NA      & 0.00000000     \\\\\n",
       "\t \\$1LENCE D00600D & 12254             & unknown           & 12827524          &                   & False             & 0.11111111        & 0.11111111        & 0.3333333         & 0.9444444         & ⋯                 &  0.00000000       &  0.088888889      & 0.00000000        & 0.00000000        & 0.06666667        & 0.01944444        & -0.016666667      & 0.000000000       & 0.00000000        & 0.06250000       \\\\\n",
       "\t (aeropagitica)  & 25131           & unknown         &   111640        & 2006-03-06      & True            & 0.04832215      & 0.10738255      & 0.4389262       & 0.8859060       & ⋯               &  0.01699688     &  0.031767393    & 0.03347447      & 0.03614227      & 0.01444719      & 0.02496307      &  0.002148791    & 0.003512231     & 0.01470972      & 0.02171690     \\\\\n",
       "\t *Paul*          &  3626           & unknown         &   133835        &                 & False           & 0.00000000      & 0.00000000      & 0.0000000       & 1.0000000       & ⋯               &  0.00000000     &  0.000000000    & 0.00000000      & 0.00000000      &         NA      & 0.00000000      &           NA    & 0.000000000     &         NA      & 0.00000000     \\\\\n",
       "\t *Ulla*          &   587           & unknown         &  1109504        &                 & False           & 0.00000000      & 0.00000000      & 0.0000000       & 1.0000000       & ⋯               &  0.00000000     &  0.000000000    & 0.00000000      & 0.00000000      & 0.00000000      & 0.00000000      &           NA    & 0.000000000     &         NA      & 0.00000000     \\\\\n",
       "\t -5-             & 72715           & unknown         &   933783        &                 & False           & 0.00000000      & 0.05263158      & 0.2105263       & 0.9473684       & ⋯               & -0.05769231     & -0.009615385    & 0.05357143      & 0.05357143      & 0.18750000      & 0.02298535      & -0.007440476    & 0.000000000     & 0.03139881      & 0.04166667     \\\\\n",
       "\\end{tabular}\n"
      ],
      "text/markdown": [
       "\n",
       "user_b | edit_count | gender | numerical_id | admin_ascension | admin | bold_freq | italics_freq | links_freq | adverbs_freq | ⋯ | coord_received_conjunctions | coord_received_impersonal_pronouns | coord_received_personal_pronouns | coord_received_prepositions | coord_received_quantifiers | coord_received_aggrigate | ingroup_coord_given_aggrigate | outgroup_coord_given_aggrigate | ingroup_coord_received_aggrigate | outgroup_coord_received_aggrigate | \n",
       "|---|---|---|---|---|---|\n",
       "| !!              |  1540           | unknown         |   126234        |                 | False           | 0.00000000      | 0.00000000      | 0.5000000       | 0.5000000       | ⋯               |  0.00000000     |  0.000000000    | 0.00000000      | 0.00000000      | 0.00000000      | 0.00000000      |           NA    | 0.000000000     |         NA      | 0.00000000      | \n",
       "| $1LENCE D00600D | 12254           | unknown         | 12827524        |                 | False           | 0.11111111      | 0.11111111      | 0.3333333       | 0.9444444       | ⋯               |  0.00000000     |  0.088888889    | 0.00000000      | 0.00000000      | 0.06666667      | 0.01944444      | -0.016666667    | 0.000000000     | 0.00000000      | 0.06250000      | \n",
       "| (aeropagitica)  | 25131           | unknown         |   111640        | 2006-03-06      | True            | 0.04832215      | 0.10738255      | 0.4389262       | 0.8859060       | ⋯               |  0.01699688     |  0.031767393    | 0.03347447      | 0.03614227      | 0.01444719      | 0.02496307      |  0.002148791    | 0.003512231     | 0.01470972      | 0.02171690      | \n",
       "| *Paul*          |  3626           | unknown         |   133835        |                 | False           | 0.00000000      | 0.00000000      | 0.0000000       | 1.0000000       | ⋯               |  0.00000000     |  0.000000000    | 0.00000000      | 0.00000000      |         NA      | 0.00000000      |           NA    | 0.000000000     |         NA      | 0.00000000      | \n",
       "| *Ulla*          |   587           | unknown         |  1109504        |                 | False           | 0.00000000      | 0.00000000      | 0.0000000       | 1.0000000       | ⋯               |  0.00000000     |  0.000000000    | 0.00000000      | 0.00000000      | 0.00000000      | 0.00000000      |           NA    | 0.000000000     |         NA      | 0.00000000      | \n",
       "| -5-             | 72715           | unknown         |   933783        |                 | False           | 0.00000000      | 0.05263158      | 0.2105263       | 0.9473684       | ⋯               | -0.05769231     | -0.009615385    | 0.05357143      | 0.05357143      | 0.18750000      | 0.02298535      | -0.007440476    | 0.000000000     | 0.03139881      | 0.04166667      | \n",
       "\n",
       "\n"
      ],
      "text/plain": [
       "  user_b          edit_count gender  numerical_id admin_ascension admin\n",
       "1 !!               1540      unknown   126234                     False\n",
       "2 $1LENCE D00600D 12254      unknown 12827524                     False\n",
       "3 (aeropagitica)  25131      unknown   111640     2006-03-06      True \n",
       "4 *Paul*           3626      unknown   133835                     False\n",
       "5 *Ulla*            587      unknown  1109504                     False\n",
       "6 -5-             72715      unknown   933783                     False\n",
       "  bold_freq  italics_freq links_freq adverbs_freq ⋯ coord_received_conjunctions\n",
       "1 0.00000000 0.00000000   0.5000000  0.5000000    ⋯  0.00000000                \n",
       "2 0.11111111 0.11111111   0.3333333  0.9444444    ⋯  0.00000000                \n",
       "3 0.04832215 0.10738255   0.4389262  0.8859060    ⋯  0.01699688                \n",
       "4 0.00000000 0.00000000   0.0000000  1.0000000    ⋯  0.00000000                \n",
       "5 0.00000000 0.00000000   0.0000000  1.0000000    ⋯  0.00000000                \n",
       "6 0.00000000 0.05263158   0.2105263  0.9473684    ⋯ -0.05769231                \n",
       "  coord_received_impersonal_pronouns coord_received_personal_pronouns\n",
       "1  0.000000000                       0.00000000                      \n",
       "2  0.088888889                       0.00000000                      \n",
       "3  0.031767393                       0.03347447                      \n",
       "4  0.000000000                       0.00000000                      \n",
       "5  0.000000000                       0.00000000                      \n",
       "6 -0.009615385                       0.05357143                      \n",
       "  coord_received_prepositions coord_received_quantifiers\n",
       "1 0.00000000                  0.00000000                \n",
       "2 0.00000000                  0.06666667                \n",
       "3 0.03614227                  0.01444719                \n",
       "4 0.00000000                          NA                \n",
       "5 0.00000000                  0.00000000                \n",
       "6 0.05357143                  0.18750000                \n",
       "  coord_received_aggrigate ingroup_coord_given_aggrigate\n",
       "1 0.00000000                         NA                 \n",
       "2 0.01944444               -0.016666667                 \n",
       "3 0.02496307                0.002148791                 \n",
       "4 0.00000000                         NA                 \n",
       "5 0.00000000                         NA                 \n",
       "6 0.02298535               -0.007440476                 \n",
       "  outgroup_coord_given_aggrigate ingroup_coord_received_aggrigate\n",
       "1 0.000000000                            NA                      \n",
       "2 0.000000000                    0.00000000                      \n",
       "3 0.003512231                    0.01470972                      \n",
       "4 0.000000000                            NA                      \n",
       "5 0.000000000                            NA                      \n",
       "6 0.000000000                    0.03139881                      \n",
       "  outgroup_coord_received_aggrigate\n",
       "1 0.00000000                       \n",
       "2 0.06250000                       \n",
       "3 0.02171690                       \n",
       "4 0.00000000                       \n",
       "5 0.00000000                       \n",
       "6 0.04166667                       "
      ]
     },
     "metadata": {},
     "output_type": "display_data"
    }
   ],
   "source": [
    "d = read.csv(\"../data/wiki/users.csv\", header = TRUE)\n",
    "library(lsr)\n",
    "head(d)"
   ]
  },
  {
   "cell_type": "code",
   "execution_count": 115,
   "metadata": {},
   "outputs": [],
   "source": [
    "# d <- subset(d, eigen_central < 0.6) # eliminates 2 outliers\n",
    "d.admin <- subset(d, admin == \"True\")\n",
    "d.nonadmin <- subset(d, admin == \"False\")\n",
    "d.higheigen <- subset(d, eigen_central_bin == \"True\")\n",
    "d.loweigen <- subset(d, eigen_central_bin == \"False\")"
   ]
  },
  {
   "cell_type": "code",
   "execution_count": 116,
   "metadata": {},
   "outputs": [],
   "source": [
    "d.higheigen.admin <- subset(d, eigen_central_bin == \"True\" & admin == \"True\")\n",
    "d.higheigen.nonadmin <- subset(d, eigen_central_bin == \"True\" & admin == \"False\")\n",
    "d.loweigen.admin <- subset(d, eigen_central_bin == \"False\" & admin == \"True\")\n",
    "d.loweigen.nonadmin <- subset(d, eigen_central_bin == \"False\" & admin == \"False\")\n",
    "\n",
    "# nrow(d.loweigen.admin) # 1703\n",
    "# nrow(d.higheigen.admin) # 77\n",
    "# nrow(d.higheigen.nonadmin) # 120\n",
    "# nrow(d.loweigen.nonadmin) # 20197"
   ]
  },
  {
   "cell_type": "markdown",
   "metadata": {},
   "source": [
    "## Replicating *Centre Stage* results\n",
    "\n",
    "Relationship between power (adminship & centrality) and coordination."
   ]
  },
  {
   "cell_type": "code",
   "execution_count": 117,
   "metadata": {},
   "outputs": [
    {
     "data": {
      "text/html": [
       "<ol class=list-inline>\n",
       "\t<li>'user_b'</li>\n",
       "\t<li>'edit_count'</li>\n",
       "\t<li>'gender'</li>\n",
       "\t<li>'numerical_id'</li>\n",
       "\t<li>'admin_ascension'</li>\n",
       "\t<li>'admin'</li>\n",
       "\t<li>'bold_freq'</li>\n",
       "\t<li>'italics_freq'</li>\n",
       "\t<li>'links_freq'</li>\n",
       "\t<li>'adverbs_freq'</li>\n",
       "\t<li>'articles_freq'</li>\n",
       "\t<li>'auxiliary_verbs_freq'</li>\n",
       "\t<li>'conjunctions_freq'</li>\n",
       "\t<li>'impersonal_pronouns_freq'</li>\n",
       "\t<li>'personal_pronouns_freq'</li>\n",
       "\t<li>'prepositions_freq'</li>\n",
       "\t<li>'quantifiers_freq'</li>\n",
       "\t<li>'length_avg'</li>\n",
       "\t<li>'ppl_rnn_avg'</li>\n",
       "\t<li>'ppl_kenlm_avg'</li>\n",
       "\t<li>'eigen_central'</li>\n",
       "\t<li>'eigen_central_bin'</li>\n",
       "\t<li>'community'</li>\n",
       "\t<li>'coord_given_adverbs'</li>\n",
       "\t<li>'coord_given_articles'</li>\n",
       "\t<li>'coord_given_auxiliary_verbs'</li>\n",
       "\t<li>'coord_given_conjunctions'</li>\n",
       "\t<li>'coord_given_impersonal_pronouns'</li>\n",
       "\t<li>'coord_given_personal_pronouns'</li>\n",
       "\t<li>'coord_given_prepositions'</li>\n",
       "\t<li>'coord_given_quantifiers'</li>\n",
       "\t<li>'coord_given_aggrigate'</li>\n",
       "\t<li>'coord_received_adverbs'</li>\n",
       "\t<li>'coord_received_articles'</li>\n",
       "\t<li>'coord_received_auxiliary_verbs'</li>\n",
       "\t<li>'coord_received_conjunctions'</li>\n",
       "\t<li>'coord_received_impersonal_pronouns'</li>\n",
       "\t<li>'coord_received_personal_pronouns'</li>\n",
       "\t<li>'coord_received_prepositions'</li>\n",
       "\t<li>'coord_received_quantifiers'</li>\n",
       "\t<li>'coord_received_aggrigate'</li>\n",
       "\t<li>'ingroup_coord_given_aggrigate'</li>\n",
       "\t<li>'outgroup_coord_given_aggrigate'</li>\n",
       "\t<li>'ingroup_coord_received_aggrigate'</li>\n",
       "\t<li>'outgroup_coord_received_aggrigate'</li>\n",
       "</ol>\n"
      ],
      "text/latex": [
       "\\begin{enumerate*}\n",
       "\\item 'user\\_b'\n",
       "\\item 'edit\\_count'\n",
       "\\item 'gender'\n",
       "\\item 'numerical\\_id'\n",
       "\\item 'admin\\_ascension'\n",
       "\\item 'admin'\n",
       "\\item 'bold\\_freq'\n",
       "\\item 'italics\\_freq'\n",
       "\\item 'links\\_freq'\n",
       "\\item 'adverbs\\_freq'\n",
       "\\item 'articles\\_freq'\n",
       "\\item 'auxiliary\\_verbs\\_freq'\n",
       "\\item 'conjunctions\\_freq'\n",
       "\\item 'impersonal\\_pronouns\\_freq'\n",
       "\\item 'personal\\_pronouns\\_freq'\n",
       "\\item 'prepositions\\_freq'\n",
       "\\item 'quantifiers\\_freq'\n",
       "\\item 'length\\_avg'\n",
       "\\item 'ppl\\_rnn\\_avg'\n",
       "\\item 'ppl\\_kenlm\\_avg'\n",
       "\\item 'eigen\\_central'\n",
       "\\item 'eigen\\_central\\_bin'\n",
       "\\item 'community'\n",
       "\\item 'coord\\_given\\_adverbs'\n",
       "\\item 'coord\\_given\\_articles'\n",
       "\\item 'coord\\_given\\_auxiliary\\_verbs'\n",
       "\\item 'coord\\_given\\_conjunctions'\n",
       "\\item 'coord\\_given\\_impersonal\\_pronouns'\n",
       "\\item 'coord\\_given\\_personal\\_pronouns'\n",
       "\\item 'coord\\_given\\_prepositions'\n",
       "\\item 'coord\\_given\\_quantifiers'\n",
       "\\item 'coord\\_given\\_aggrigate'\n",
       "\\item 'coord\\_received\\_adverbs'\n",
       "\\item 'coord\\_received\\_articles'\n",
       "\\item 'coord\\_received\\_auxiliary\\_verbs'\n",
       "\\item 'coord\\_received\\_conjunctions'\n",
       "\\item 'coord\\_received\\_impersonal\\_pronouns'\n",
       "\\item 'coord\\_received\\_personal\\_pronouns'\n",
       "\\item 'coord\\_received\\_prepositions'\n",
       "\\item 'coord\\_received\\_quantifiers'\n",
       "\\item 'coord\\_received\\_aggrigate'\n",
       "\\item 'ingroup\\_coord\\_given\\_aggrigate'\n",
       "\\item 'outgroup\\_coord\\_given\\_aggrigate'\n",
       "\\item 'ingroup\\_coord\\_received\\_aggrigate'\n",
       "\\item 'outgroup\\_coord\\_received\\_aggrigate'\n",
       "\\end{enumerate*}\n"
      ],
      "text/markdown": [
       "1. 'user_b'\n",
       "2. 'edit_count'\n",
       "3. 'gender'\n",
       "4. 'numerical_id'\n",
       "5. 'admin_ascension'\n",
       "6. 'admin'\n",
       "7. 'bold_freq'\n",
       "8. 'italics_freq'\n",
       "9. 'links_freq'\n",
       "10. 'adverbs_freq'\n",
       "11. 'articles_freq'\n",
       "12. 'auxiliary_verbs_freq'\n",
       "13. 'conjunctions_freq'\n",
       "14. 'impersonal_pronouns_freq'\n",
       "15. 'personal_pronouns_freq'\n",
       "16. 'prepositions_freq'\n",
       "17. 'quantifiers_freq'\n",
       "18. 'length_avg'\n",
       "19. 'ppl_rnn_avg'\n",
       "20. 'ppl_kenlm_avg'\n",
       "21. 'eigen_central'\n",
       "22. 'eigen_central_bin'\n",
       "23. 'community'\n",
       "24. 'coord_given_adverbs'\n",
       "25. 'coord_given_articles'\n",
       "26. 'coord_given_auxiliary_verbs'\n",
       "27. 'coord_given_conjunctions'\n",
       "28. 'coord_given_impersonal_pronouns'\n",
       "29. 'coord_given_personal_pronouns'\n",
       "30. 'coord_given_prepositions'\n",
       "31. 'coord_given_quantifiers'\n",
       "32. 'coord_given_aggrigate'\n",
       "33. 'coord_received_adverbs'\n",
       "34. 'coord_received_articles'\n",
       "35. 'coord_received_auxiliary_verbs'\n",
       "36. 'coord_received_conjunctions'\n",
       "37. 'coord_received_impersonal_pronouns'\n",
       "38. 'coord_received_personal_pronouns'\n",
       "39. 'coord_received_prepositions'\n",
       "40. 'coord_received_quantifiers'\n",
       "41. 'coord_received_aggrigate'\n",
       "42. 'ingroup_coord_given_aggrigate'\n",
       "43. 'outgroup_coord_given_aggrigate'\n",
       "44. 'ingroup_coord_received_aggrigate'\n",
       "45. 'outgroup_coord_received_aggrigate'\n",
       "\n",
       "\n"
      ],
      "text/plain": [
       " [1] \"user_b\"                             \"edit_count\"                        \n",
       " [3] \"gender\"                             \"numerical_id\"                      \n",
       " [5] \"admin_ascension\"                    \"admin\"                             \n",
       " [7] \"bold_freq\"                          \"italics_freq\"                      \n",
       " [9] \"links_freq\"                         \"adverbs_freq\"                      \n",
       "[11] \"articles_freq\"                      \"auxiliary_verbs_freq\"              \n",
       "[13] \"conjunctions_freq\"                  \"impersonal_pronouns_freq\"          \n",
       "[15] \"personal_pronouns_freq\"             \"prepositions_freq\"                 \n",
       "[17] \"quantifiers_freq\"                   \"length_avg\"                        \n",
       "[19] \"ppl_rnn_avg\"                        \"ppl_kenlm_avg\"                     \n",
       "[21] \"eigen_central\"                      \"eigen_central_bin\"                 \n",
       "[23] \"community\"                          \"coord_given_adverbs\"               \n",
       "[25] \"coord_given_articles\"               \"coord_given_auxiliary_verbs\"       \n",
       "[27] \"coord_given_conjunctions\"           \"coord_given_impersonal_pronouns\"   \n",
       "[29] \"coord_given_personal_pronouns\"      \"coord_given_prepositions\"          \n",
       "[31] \"coord_given_quantifiers\"            \"coord_given_aggrigate\"             \n",
       "[33] \"coord_received_adverbs\"             \"coord_received_articles\"           \n",
       "[35] \"coord_received_auxiliary_verbs\"     \"coord_received_conjunctions\"       \n",
       "[37] \"coord_received_impersonal_pronouns\" \"coord_received_personal_pronouns\"  \n",
       "[39] \"coord_received_prepositions\"        \"coord_received_quantifiers\"        \n",
       "[41] \"coord_received_aggrigate\"           \"ingroup_coord_given_aggrigate\"     \n",
       "[43] \"outgroup_coord_given_aggrigate\"     \"ingroup_coord_received_aggrigate\"  \n",
       "[45] \"outgroup_coord_received_aggrigate\" "
      ]
     },
     "metadata": {},
     "output_type": "display_data"
    }
   ],
   "source": [
    "colnames(d)"
   ]
  },
  {
   "cell_type": "code",
   "execution_count": 118,
   "metadata": {},
   "outputs": [
    {
     "data": {
      "text/plain": [
       "\n",
       "\tSpearman's rank correlation rho\n",
       "\n",
       "data:  d$eigen_central and d$coord_received_aggrigate\n",
       "S = 3.0923e+10, p-value = 8.97e-14\n",
       "alternative hypothesis: true rho is greater than 0\n",
       "sample estimates:\n",
       "       rho \n",
       "0.09567864 \n"
      ]
     },
     "metadata": {},
     "output_type": "display_data"
    }
   ],
   "source": [
    "# Coordination received vs. eigenvector centrality\n",
    "cor.test(d$eigen_central, d$coord_received_aggrigate, alternative=\"greater\", method=\"spearman\", exact = FALSE)"
   ]
  },
  {
   "cell_type": "code",
   "execution_count": 119,
   "metadata": {},
   "outputs": [
    {
     "data": {
      "text/plain": [
       "\n",
       "\tWelch Two Sample t-test\n",
       "\n",
       "data:  d.loweigen$coord_received_aggrigate and d.higheigen$coord_received_aggrigate\n",
       "t = -8.5238, df = 1938.9, p-value < 2.2e-16\n",
       "alternative hypothesis: true difference in means is not equal to 0\n",
       "95 percent confidence interval:\n",
       " -0.011920124 -0.007460871\n",
       "sample estimates:\n",
       " mean of x  mean of y \n",
       "0.01005470 0.01974519 \n"
      ]
     },
     "metadata": {},
     "output_type": "display_data"
    },
    {
     "data": {
      "text/html": [
       "0.163141562056152"
      ],
      "text/latex": [
       "0.163141562056152"
      ],
      "text/markdown": [
       "0.163141562056152"
      ],
      "text/plain": [
       "[1] 0.1631416"
      ]
     },
     "metadata": {},
     "output_type": "display_data"
    },
    {
     "data": {
      "text/plain": [
       "\n",
       "\tWelch Two Sample t-test\n",
       "\n",
       "data:  d.nonadmin$coord_received_aggrigate and d.admin$coord_received_aggrigate\n",
       "t = -5.5177, df = 2200.7, p-value = 3.838e-08\n",
       "alternative hypothesis: true difference in means is not equal to 0\n",
       "95 percent confidence interval:\n",
       " -0.012416377 -0.005904846\n",
       "sample estimates:\n",
       "  mean of x   mean of y \n",
       "0.009235295 0.018395906 \n"
      ]
     },
     "metadata": {},
     "output_type": "display_data"
    },
    {
     "data": {
      "text/html": [
       "0.154329750887635"
      ],
      "text/latex": [
       "0.154329750887635"
      ],
      "text/markdown": [
       "0.154329750887635"
      ],
      "text/plain": [
       "[1] 0.1543298"
      ]
     },
     "metadata": {},
     "output_type": "display_data"
    },
    {
     "data": {
      "text/plain": [
       "\n",
       "\tWelch Two Sample t-test\n",
       "\n",
       "data:  d.higheigen$coord_received_aggrigate and d.admin$coord_received_aggrigate\n",
       "t = 0.79139, df = 2005.5, p-value = 0.4288\n",
       "alternative hypothesis: true difference in means is not equal to 0\n",
       "95 percent confidence interval:\n",
       " -0.001994379  0.004692954\n",
       "sample estimates:\n",
       " mean of x  mean of y \n",
       "0.01974519 0.01839591 \n"
      ]
     },
     "metadata": {},
     "output_type": "display_data"
    },
    {
     "data": {
      "text/html": [
       "0.0288579196402428"
      ],
      "text/latex": [
       "0.0288579196402428"
      ],
      "text/markdown": [
       "0.0288579196402428"
      ],
      "text/plain": [
       "[1] 0.02885792"
      ]
     },
     "metadata": {},
     "output_type": "display_data"
    }
   ],
   "source": [
    "# Do highgly central and non-central users receive different amounts of coordination? YES\n",
    "t.test(d.loweigen$coord_received_aggrigate, d.higheigen$coord_received_aggrigate)\n",
    "cohensD(d.loweigen$coord_received_aggrigate, d.higheigen$coord_received_aggrigate)\n",
    "# Do admins and non-admins receive different amounts of coordination? YES\n",
    "t.test(d.nonadmin$coord_received_aggrigate, d.admin$coord_received_aggrigate)\n",
    "cohensD(d.nonadmin$coord_received_aggrigate, d.admin$coord_received_aggrigate)\n",
    "# Do hihgly central users and admins receive different amounts of coordination? NO\n",
    "t.test(d.higheigen$coord_received_aggrigate, d.admin$coord_received_aggrigate)\n",
    "cohensD(d.higheigen$coord_received_aggrigate, d.admin$coord_received_aggrigate)"
   ]
  },
  {
   "cell_type": "code",
   "execution_count": 120,
   "metadata": {},
   "outputs": [
    {
     "data": {
      "text/plain": [
       "\n",
       "\tWelch Two Sample t-test\n",
       "\n",
       "data:  d.higheigen.admin$coord_received_aggrigate and d.higheigen.nonadmin$coord_received_aggrigate\n",
       "t = 1.5078, df = 662.86, p-value = 0.1321\n",
       "alternative hypothesis: true difference in means is not equal to 0\n",
       "95 percent confidence interval:\n",
       " -0.0007833481  0.0059662902\n",
       "sample estimates:\n",
       " mean of x  mean of y \n",
       "0.02098863 0.01839716 \n"
      ]
     },
     "metadata": {},
     "output_type": "display_data"
    },
    {
     "data": {
      "text/html": [
       "0.116674522110411"
      ],
      "text/latex": [
       "0.116674522110411"
      ],
      "text/markdown": [
       "0.116674522110411"
      ],
      "text/plain": [
       "[1] 0.1166745"
      ]
     },
     "metadata": {},
     "output_type": "display_data"
    },
    {
     "data": {
      "text/plain": [
       "\n",
       "\tWelch Two Sample t-test\n",
       "\n",
       "data:  d.loweigen.admin$coord_received_aggrigate and d.loweigen.nonadmin$coord_received_aggrigate\n",
       "t = 4.2131, df = 1423, p-value = 2.677e-05\n",
       "alternative hypothesis: true difference in means is not equal to 0\n",
       "95 percent confidence interval:\n",
       " 0.004698343 0.012885440\n",
       "sample estimates:\n",
       "  mean of x   mean of y \n",
       "0.017525829 0.008733938 \n"
      ]
     },
     "metadata": {},
     "output_type": "display_data"
    },
    {
     "data": {
      "text/html": [
       "0.142387364662685"
      ],
      "text/latex": [
       "0.142387364662685"
      ],
      "text/markdown": [
       "0.142387364662685"
      ],
      "text/plain": [
       "[1] 0.1423874"
      ]
     },
     "metadata": {},
     "output_type": "display_data"
    }
   ],
   "source": [
    "# This is what we had tested in Centre Stage:\n",
    "# among highy central, do admins receive more coordination? NO\n",
    "t.test(d.higheigen.admin$coord_received_aggrigate, d.higheigen.nonadmin$coord_received_aggrigate)\n",
    "cohensD(d.higheigen.admin$coord_received_aggrigate, d.higheigen.nonadmin$coord_received_aggrigate)\n",
    "# among non-central users, do admins receive more coordination? YES\n",
    "t.test(d.loweigen.admin$coord_received_aggrigate, d.loweigen.nonadmin$coord_received_aggrigate)\n",
    "cohensD(d.loweigen.admin$coord_received_aggrigate, d.loweigen.nonadmin$coord_received_aggrigate)"
   ]
  },
  {
   "cell_type": "code",
   "execution_count": 121,
   "metadata": {},
   "outputs": [
    {
     "data": {
      "text/plain": [
       "\n",
       "\tWelch Two Sample t-test\n",
       "\n",
       "data:  d.loweigen.admin$coord_received_aggrigate and d.higheigen.admin$coord_received_aggrigate\n",
       "t = -1.5295, df = 1378, p-value = 0.1264\n",
       "alternative hypothesis: true difference in means is not equal to 0\n",
       "95 percent confidence interval:\n",
       " -0.0079041409  0.0009785302\n",
       "sample estimates:\n",
       " mean of x  mean of y \n",
       "0.01752583 0.02098863 \n"
      ]
     },
     "metadata": {},
     "output_type": "display_data"
    },
    {
     "data": {
      "text/html": [
       "0.0631939495760443"
      ],
      "text/latex": [
       "0.0631939495760443"
      ],
      "text/markdown": [
       "0.0631939495760443"
      ],
      "text/plain": [
       "[1] 0.06319395"
      ]
     },
     "metadata": {},
     "output_type": "display_data"
    },
    {
     "data": {
      "text/plain": [
       "\n",
       "\tWelch Two Sample t-test\n",
       "\n",
       "data:  d.loweigen.nonadmin$coord_received_aggrigate and d.higheigen.nonadmin$coord_received_aggrigate\n",
       "t = -6.5404, df = 641.83, p-value = 1.254e-10\n",
       "alternative hypothesis: true difference in means is not equal to 0\n",
       "95 percent confidence interval:\n",
       " -0.012564499 -0.006761953\n",
       "sample estimates:\n",
       "  mean of x   mean of y \n",
       "0.008733938 0.018397164 \n"
      ]
     },
     "metadata": {},
     "output_type": "display_data"
    },
    {
     "data": {
      "text/html": [
       "0.160259805273843"
      ],
      "text/latex": [
       "0.160259805273843"
      ],
      "text/markdown": [
       "0.160259805273843"
      ],
      "text/plain": [
       "[1] 0.1602598"
      ]
     },
     "metadata": {},
     "output_type": "display_data"
    }
   ],
   "source": [
    "# We had not tested this counterpart, however: \n",
    "# among admins, do highly central users receive more coordination? NO\n",
    "t.test(d.loweigen.admin$coord_received_aggrigate, d.higheigen.admin$coord_received_aggrigate)\n",
    "cohensD(d.loweigen.admin$coord_received_aggrigate, d.higheigen.admin$coord_received_aggrigate)\n",
    "# among non-admins, do highly central users receive more coordination? YES\n",
    "t.test(d.loweigen.nonadmin$coord_received_aggrigate, d.higheigen.nonadmin$coord_received_aggrigate)\n",
    "cohensD(d.loweigen.nonadmin$coord_received_aggrigate, d.higheigen.nonadmin$coord_received_aggrigate)"
   ]
  },
  {
   "cell_type": "markdown",
   "metadata": {},
   "source": [
    "-  Weak positive correlation between coordination received and centrality: r = 1.9 p < 0.001\n",
    "-  More coordination received by highly central than low central (p < 0.001, d=0.2)\n",
    "-  More coodination received by admins than non-admins (p < 0.001, d=0.18)\n",
    "-  The amount of coordination received by admins vs highly central users is not significantly different.\n",
    "-  Among highly central users, there is no significant effect of adminship\n",
    "-  Among admins, there is no significant effect of centrality\n"
   ]
  },
  {
   "cell_type": "markdown",
   "metadata": {},
   "source": [
    "## Ingroup / outgroup coordination"
   ]
  },
  {
   "cell_type": "code",
   "execution_count": 122,
   "metadata": {},
   "outputs": [
    {
     "data": {
      "text/plain": [
       "\n",
       "\tOne Sample t-test\n",
       "\n",
       "data:  d$coord_given_aggrigate\n",
       "t = 14.901, df = 7604, p-value < 2.2e-16\n",
       "alternative hypothesis: true mean is not equal to 0\n",
       "95 percent confidence interval:\n",
       " 0.009398286 0.012245641\n",
       "sample estimates:\n",
       " mean of x \n",
       "0.01082196 \n"
      ]
     },
     "metadata": {},
     "output_type": "display_data"
    },
    {
     "data": {
      "text/plain": [
       "\n",
       "\tOne Sample t-test\n",
       "\n",
       "data:  d.higheigen$coord_given_aggrigate\n",
       "t = 19.998, df = 669, p-value < 2.2e-16\n",
       "alternative hypothesis: true mean is not equal to 0\n",
       "95 percent confidence interval:\n",
       " 0.01769078 0.02154295\n",
       "sample estimates:\n",
       " mean of x \n",
       "0.01961687 \n"
      ]
     },
     "metadata": {},
     "output_type": "display_data"
    },
    {
     "data": {
      "text/plain": [
       "\n",
       "\tOne Sample t-test\n",
       "\n",
       "data:  d.loweigen$coord_given_aggrigate\n",
       "t = 12.623, df = 6934, p-value < 2.2e-16\n",
       "alternative hypothesis: true mean is not equal to 0\n",
       "95 percent confidence interval:\n",
       " 0.008423564 0.011520988\n",
       "sample estimates:\n",
       "  mean of x \n",
       "0.009972276 \n"
      ]
     },
     "metadata": {},
     "output_type": "display_data"
    },
    {
     "data": {
      "text/plain": [
       "\n",
       "\tOne Sample t-test\n",
       "\n",
       "data:  d.admin$coord_given_aggrigate\n",
       "t = 13.569, df = 1388, p-value < 2.2e-16\n",
       "alternative hypothesis: true mean is not equal to 0\n",
       "95 percent confidence interval:\n",
       " 0.01629887 0.02180808\n",
       "sample estimates:\n",
       " mean of x \n",
       "0.01905348 \n"
      ]
     },
     "metadata": {},
     "output_type": "display_data"
    },
    {
     "data": {
      "text/plain": [
       "\n",
       "\tOne Sample t-test\n",
       "\n",
       "data:  d.nonadmin$coord_given_aggrigate\n",
       "t = 10.828, df = 6215, p-value < 2.2e-16\n",
       "alternative hypothesis: true mean is not equal to 0\n",
       "95 percent confidence interval:\n",
       " 0.007356368 0.010608804\n",
       "sample estimates:\n",
       "  mean of x \n",
       "0.008982586 \n"
      ]
     },
     "metadata": {},
     "output_type": "display_data"
    }
   ],
   "source": [
    "# Is there more coordination towards users in own sub-group? NO\n",
    "t.test(d$coord_given_aggrigate, d$coord_given_ingroup)\n",
    "t.test(d.higheigen$coord_given_aggrigate, d.higheigen$coord_given_ingroup)\n",
    "t.test(d.loweigen$coord_given_aggrigate, d.loweigen$coord_given_ingroup)\n",
    "t.test(d.admin$coord_given_aggrigate, d.admin$coord_given_ingroup)\n",
    "t.test(d.nonadmin$coord_given_aggrigate, d.nonadmin$coord_given_ingroup)"
   ]
  },
  {
   "cell_type": "code",
   "execution_count": 123,
   "metadata": {},
   "outputs": [
    {
     "data": {
      "text/plain": [
       "\n",
       "\tOne Sample t-test\n",
       "\n",
       "data:  d$coord_received_aggrigate\n",
       "t = 15.968, df = 7571, p-value < 2.2e-16\n",
       "alternative hypothesis: true mean is not equal to 0\n",
       "95 percent confidence interval:\n",
       " 0.009571408 0.012250330\n",
       "sample estimates:\n",
       " mean of x \n",
       "0.01091087 \n"
      ]
     },
     "metadata": {},
     "output_type": "display_data"
    },
    {
     "data": {
      "text/plain": [
       "\n",
       "\tOne Sample t-test\n",
       "\n",
       "data:  d.higheigen$coord_received_aggrigate\n",
       "t = 22.972, df = 668, p-value < 2.2e-16\n",
       "alternative hypothesis: true mean is not equal to 0\n",
       "95 percent confidence interval:\n",
       " 0.01805745 0.02143294\n",
       "sample estimates:\n",
       " mean of x \n",
       "0.01974519 \n"
      ]
     },
     "metadata": {},
     "output_type": "display_data"
    },
    {
     "data": {
      "text/plain": [
       "\n",
       "\tOne Sample t-test\n",
       "\n",
       "data:  d.loweigen$coord_received_aggrigate\n",
       "t = 13.513, df = 6902, p-value < 2.2e-16\n",
       "alternative hypothesis: true mean is not equal to 0\n",
       "95 percent confidence interval:\n",
       " 0.008596062 0.011513329\n",
       "sample estimates:\n",
       "mean of x \n",
       "0.0100547 \n"
      ]
     },
     "metadata": {},
     "output_type": "display_data"
    },
    {
     "data": {
      "text/plain": [
       "\n",
       "\tOne Sample t-test\n",
       "\n",
       "data:  d.admin$coord_received_aggrigate\n",
       "t = 12.494, df = 1384, p-value < 2.2e-16\n",
       "alternative hypothesis: true mean is not equal to 0\n",
       "95 percent confidence interval:\n",
       " 0.01550747 0.02128434\n",
       "sample estimates:\n",
       " mean of x \n",
       "0.01839591 \n"
      ]
     },
     "metadata": {},
     "output_type": "display_data"
    },
    {
     "data": {
      "text/plain": [
       "\n",
       "\tOne Sample t-test\n",
       "\n",
       "data:  d.nonadmin$coord_received_aggrigate\n",
       "t = 12.041, df = 6186, p-value < 2.2e-16\n",
       "alternative hypothesis: true mean is not equal to 0\n",
       "95 percent confidence interval:\n",
       " 0.007731704 0.010738886\n",
       "sample estimates:\n",
       "  mean of x \n",
       "0.009235295 \n"
      ]
     },
     "metadata": {},
     "output_type": "display_data"
    }
   ],
   "source": [
    "# Is there more correlation received by users within own sub-group? NO\n",
    "t.test(d$coord_received_aggrigate, d$coord_received_ingroup)\n",
    "t.test(d.higheigen$coord_received_aggrigate, d.higheigen$coord_received_ingroup)\n",
    "t.test(d.loweigen$coord_received_aggrigate, d.loweigen$coord_received_ingroup)\n",
    "t.test(d.admin$coord_received_aggrigate, d.admin$coord_received_ingroup)\n",
    "t.test(d.nonadmin$coord_received_aggrigate, d.nonadmin$coord_received_ingroup)"
   ]
  },
  {
   "cell_type": "markdown",
   "metadata": {},
   "source": [
    "# Social power & linguistic style"
   ]
  },
  {
   "cell_type": "code",
   "execution_count": 124,
   "metadata": {},
   "outputs": [
    {
     "data": {
      "text/plain": [
       "\n",
       "\tSpearman's rank correlation rho\n",
       "\n",
       "data:  d$eigen_central and d$length_avg\n",
       "S = 3.3739e+10, p-value = 0.01633\n",
       "alternative hypothesis: true rho is greater than 0\n",
       "sample estimates:\n",
       "       rho \n",
       "0.02774773 \n"
      ]
     },
     "metadata": {},
     "output_type": "display_data"
    },
    {
     "data": {
      "text/plain": [
       "\n",
       "\tSpearman's rank correlation rho\n",
       "\n",
       "data:  d$eigen_central and d$italics_freq\n",
       "S = 2.9254e+10, p-value = 1\n",
       "alternative hypothesis: true rho is less than 0\n",
       "sample estimates:\n",
       "      rho \n",
       "0.1569934 \n"
      ]
     },
     "metadata": {},
     "output_type": "display_data"
    },
    {
     "data": {
      "text/plain": [
       "\n",
       "\tSpearman's rank correlation rho\n",
       "\n",
       "data:  d$eigen_central and d$bold_freq\n",
       "S = 2.6872e+10, p-value = 1\n",
       "alternative hypothesis: true rho is less than 0\n",
       "sample estimates:\n",
       "     rho \n",
       "0.225646 \n"
      ]
     },
     "metadata": {},
     "output_type": "display_data"
    },
    {
     "data": {
      "text/plain": [
       "\n",
       "\tSpearman's rank correlation rho\n",
       "\n",
       "data:  d$eigen_central and d$links_freq\n",
       "S = 3.2496e+10, p-value = 1\n",
       "alternative hypothesis: true rho is less than 0\n",
       "sample estimates:\n",
       "      rho \n",
       "0.0635551 \n"
      ]
     },
     "metadata": {},
     "output_type": "display_data"
    }
   ],
   "source": [
    "# Correlation between centrality and linguistic style features\n",
    "cor.test(d$eigen_central, d$length_avg, alternative=\"greater\", method=\"spearman\", exact = FALSE)\n",
    "cor.test(d$eigen_central, d$italics_freq, alternative=\"less\", method=\"spearman\", exact = FALSE)\n",
    "cor.test(d$eigen_central, d$bold_freq, alternative=\"less\", method=\"spearman\", exact = FALSE)\n",
    "cor.test(d$eigen_central, d$links_freq, alternative=\"less\", method=\"spearman\", exact = FALSE)\n",
    "\n",
    "## Slight positive correlation with post length\n",
    "## Clear negative correlations for italics, bold and links"
   ]
  },
  {
   "cell_type": "code",
   "execution_count": 125,
   "metadata": {},
   "outputs": [
    {
     "data": {
      "text/plain": [
       "\n",
       "\tWelch Two Sample t-test\n",
       "\n",
       "data:  d.admin$length_avg and d.nonadmin$length_avg\n",
       "t = -3.3297, df = 3103.3, p-value = 0.0008796\n",
       "alternative hypothesis: true difference in means is not equal to 0\n",
       "95 percent confidence interval:\n",
       " -3.5299002 -0.9134054\n",
       "sample estimates:\n",
       "mean of x mean of y \n",
       " 56.90851  59.13017 \n"
      ]
     },
     "metadata": {},
     "output_type": "display_data"
    },
    {
     "name": "stdout",
     "output_type": "stream",
     "text": [
      "effect size (Cohen's d):  0.07459893"
     ]
    },
    {
     "data": {
      "text/plain": [
       "\n",
       "\tWelch Two Sample t-test\n",
       "\n",
       "data:  d.higheigen$length_avg and d.loweigen$length_avg\n",
       "t = -0.58914, df = 1003.6, p-value = 0.5559\n",
       "alternative hypothesis: true difference in means is not equal to 0\n",
       "95 percent confidence interval:\n",
       " -2.154280  1.159422\n",
       "sample estimates:\n",
       "mean of x mean of y \n",
       " 58.27668  58.77411 \n"
      ]
     },
     "metadata": {},
     "output_type": "display_data"
    },
    {
     "name": "stdout",
     "output_type": "stream",
     "text": [
      "Effect size (Cohen's d):  0.01669608"
     ]
    }
   ],
   "source": [
    "# Length of posts: \n",
    "t.test(d.admin$length_avg, d.nonadmin$length_avg)\n",
    "cat(\"effect size (Cohen's d): \", cohensD(d.admin$length_avg, d.nonadmin$length_avg))\n",
    "t.test(d.higheigen$length_avg, d.loweigen$length_avg)\n",
    "cat(\"Effect size (Cohen's d): \", cohensD(d.higheigen$length_avg, d.loweigen$length_avg))"
   ]
  },
  {
   "cell_type": "code",
   "execution_count": 126,
   "metadata": {},
   "outputs": [
    {
     "data": {
      "text/plain": [
       "\n",
       "\tWelch Two Sample t-test\n",
       "\n",
       "data:  d.admin$italics_freq and d.nonadmin$italics_freq\n",
       "t = 1.3717, df = 2335.5, p-value = 0.1703\n",
       "alternative hypothesis: true difference in means is not equal to 0\n",
       "95 percent confidence interval:\n",
       " -0.002443147  0.013817821\n",
       "sample estimates:\n",
       " mean of x  mean of y \n",
       "0.10161206 0.09592472 \n"
      ]
     },
     "metadata": {},
     "output_type": "display_data"
    },
    {
     "name": "stdout",
     "output_type": "stream",
     "text": [
      "effect size (Cohen's d):  0.03635495"
     ]
    },
    {
     "data": {
      "text/plain": [
       "\n",
       "\tWelch Two Sample t-test\n",
       "\n",
       "data:  d.higheigen$italics_freq and d.loweigen$italics_freq\n",
       "t = 1.5732, df = 988.18, p-value = 0.116\n",
       "alternative hypothesis: true difference in means is not equal to 0\n",
       "95 percent confidence interval:\n",
       " -0.001755046  0.015943925\n",
       "sample estimates:\n",
       " mean of x  mean of y \n",
       "0.10342657 0.09633213 \n"
      ]
     },
     "metadata": {},
     "output_type": "display_data"
    },
    {
     "name": "stdout",
     "output_type": "stream",
     "text": [
      "effect size (Cohen's d):  0.04534879"
     ]
    }
   ],
   "source": [
    "# Use of italics\n",
    "t.test(d.admin$italics_freq, d.nonadmin$italics_freq)\n",
    "cat(\"effect size (Cohen's d): \", cohensD(d.admin$italics_freq, d.nonadmin$italics_freq))\n",
    "t.test(d.higheigen$italics_freq, d.loweigen$italics_freq)\n",
    "cat(\"effect size (Cohen's d): \", cohensD(d.higheigen$italics_freq, d.loweigen$italics_freq))"
   ]
  },
  {
   "cell_type": "code",
   "execution_count": 127,
   "metadata": {},
   "outputs": [
    {
     "data": {
      "text/plain": [
       "\n",
       "\tWelch Two Sample t-test\n",
       "\n",
       "data:  d.admin$bold_freq and d.nonadmin$bold_freq\n",
       "t = 0.22534, df = 2260.8, p-value = 0.8217\n",
       "alternative hypothesis: true difference in means is not equal to 0\n",
       "95 percent confidence interval:\n",
       " -0.004737976  0.005968254\n",
       "sample estimates:\n",
       " mean of x  mean of y \n",
       "0.03364267 0.03302753 \n"
      ]
     },
     "metadata": {},
     "output_type": "display_data"
    },
    {
     "name": "stdout",
     "output_type": "stream",
     "text": [
      "effect size (Cohen's d):  0.006119601"
     ]
    },
    {
     "data": {
      "text/plain": [
       "\n",
       "\tWelch Two Sample t-test\n",
       "\n",
       "data:  d.higheigen$bold_freq and d.loweigen$bold_freq\n",
       "t = -0.93276, df = 926.41, p-value = 0.3512\n",
       "alternative hypothesis: true difference in means is not equal to 0\n",
       "95 percent confidence interval:\n",
       " -0.009080540  0.003229678\n",
       "sample estimates:\n",
       " mean of x  mean of y \n",
       "0.03046595 0.03339138 \n"
      ]
     },
     "metadata": {},
     "output_type": "display_data"
    },
    {
     "name": "stdout",
     "output_type": "stream",
     "text": [
      "effect size (Cohen's d):  0.02910402"
     ]
    }
   ],
   "source": [
    "# Use of boldface\n",
    "t.test(d.admin$bold_freq, d.nonadmin$bold_freq)\n",
    "cat(\"effect size (Cohen's d): \", cohensD(d.admin$bold_freq, d.nonadmin$bold_freq))\n",
    "t.test(d.higheigen$bold_freq, d.loweigen$bold_freq)\n",
    "cat(\"effect size (Cohen's d): \", cohensD(d.higheigen$bold_freq, d.loweigen$bold_freq))"
   ]
  },
  {
   "cell_type": "code",
   "execution_count": 128,
   "metadata": {},
   "outputs": [
    {
     "data": {
      "text/plain": [
       "\n",
       "\tWelch Two Sample t-test\n",
       "\n",
       "data:  d.admin$links_freq and d.nonadmin$links_freq\n",
       "t = 8.4209, df = 2594.3, p-value < 2.2e-16\n",
       "alternative hypothesis: true difference in means is not equal to 0\n",
       "95 percent confidence interval:\n",
       " 0.03797060 0.06102175\n",
       "sample estimates:\n",
       "mean of x mean of y \n",
       "0.3501857 0.3006895 \n"
      ]
     },
     "metadata": {},
     "output_type": "display_data"
    },
    {
     "name": "stdout",
     "output_type": "stream",
     "text": [
      "effect size (Cohen's d):  0.2080462"
     ]
    },
    {
     "data": {
      "text/plain": [
       "\n",
       "\tWelch Two Sample t-test\n",
       "\n",
       "data:  d.higheigen$links_freq and d.loweigen$links_freq\n",
       "t = 0.71008, df = 996.39, p-value = 0.4778\n",
       "alternative hypothesis: true difference in means is not equal to 0\n",
       "95 percent confidence interval:\n",
       " -0.008536715  0.018217890\n",
       "sample estimates:\n",
       "mean of x mean of y \n",
       "0.3140032 0.3091626 \n"
      ]
     },
     "metadata": {},
     "output_type": "display_data"
    },
    {
     "name": "stdout",
     "output_type": "stream",
     "text": [
      "effect size (Cohen's d):  0.02028206"
     ]
    }
   ],
   "source": [
    "# Use of links\n",
    "t.test(d.admin$links_freq, d.nonadmin$links_freq)\n",
    "cat(\"effect size (Cohen's d): \", cohensD(d.admin$links_freq, d.nonadmin$links_freq))\n",
    "t.test(d.higheigen$links_freq, d.loweigen$links_freq)\n",
    "cat(\"effect size (Cohen's d): \", cohensD(d.higheigen$links_freq, d.loweigen$links_freq))"
   ]
  },
  {
   "cell_type": "markdown",
   "metadata": {},
   "source": [
    "### Interim summary\n",
    " \n",
    "-  admins and highly-central users tend to post longer messages (p < 0.001, but low effect size: 0.08 and 0.15 for admins and highly central, respectively). There is a weak positive correlation between centrality and post length\n",
    "-  admins and highly-central users use significantly fewer italics, boldface, and URLs in their posts than non-admins and non-highly-central users (p < 0.001, strong effect size of around 0.5 in all cases). There are clear negative correlations between centrality and use of italics, boldface, and links.\n"
   ]
  },
  {
   "cell_type": "code",
   "execution_count": 129,
   "metadata": {},
   "outputs": [
    {
     "data": {
      "text/plain": [
       "\n",
       "\tWelch Two Sample t-test\n",
       "\n",
       "data:  d.admin$length_avg and d.higheigen$length_avg\n",
       "t = -1.4674, df = 1340.1, p-value = 0.1425\n",
       "alternative hypothesis: true difference in means is not equal to 0\n",
       "95 percent confidence interval:\n",
       " -3.1972254  0.4608941\n",
       "sample estimates:\n",
       "mean of x mean of y \n",
       " 56.90851  58.27668 \n"
      ]
     },
     "metadata": {},
     "output_type": "display_data"
    },
    {
     "name": "stdout",
     "output_type": "stream",
     "text": [
      "effect size (Cohen's d):  0.06864017"
     ]
    }
   ],
   "source": [
    "# Is there a difference in the length of posts by admins and highly central users?\n",
    "t.test(d.admin$length_avg, d.higheigen$length_avg)\n",
    "cat(\"effect size (Cohen's d): \", cohensD(d.admin$length_avg, d.higheigen$length_avg))"
   ]
  },
  {
   "cell_type": "code",
   "execution_count": 130,
   "metadata": {},
   "outputs": [
    {
     "data": {
      "text/plain": [
       "\n",
       "\tWelch Two Sample t-test\n",
       "\n",
       "data:  d.admin$links_freq and d.higheigen$links_freq\n",
       "t = 4.5636, df = 1518.3, p-value = 5.432e-06\n",
       "alternative hypothesis: true difference in means is not equal to 0\n",
       "95 percent confidence interval:\n",
       " 0.02063067 0.05173428\n",
       "sample estimates:\n",
       "mean of x mean of y \n",
       "0.3501857 0.3140032 \n"
      ]
     },
     "metadata": {},
     "output_type": "display_data"
    },
    {
     "name": "stdout",
     "output_type": "stream",
     "text": [
      "effect size (Cohen's d):  0.2035221"
     ]
    }
   ],
   "source": [
    "# Is there a difference in the freq of use of links by admins and highly central users?\n",
    "t.test(d.admin$links_freq, d.higheigen$links_freq)\n",
    "cat(\"effect size (Cohen's d): \", cohensD(d.admin$links_freq, d.higheigen$links_freq))"
   ]
  },
  {
   "cell_type": "code",
   "execution_count": 131,
   "metadata": {},
   "outputs": [
    {
     "data": {
      "text/plain": [
       "\n",
       "\tWelch Two Sample t-test\n",
       "\n",
       "data:  d.admin$italics_freq and d.higheigen$italics_freq\n",
       "t = -0.33231, df = 1644.4, p-value = 0.7397\n",
       "alternative hypothesis: true difference in means is not equal to 0\n",
       "95 percent confidence interval:\n",
       " -0.01252436  0.00889534\n",
       "sample estimates:\n",
       "mean of x mean of y \n",
       "0.1016121 0.1034266 \n"
      ]
     },
     "metadata": {},
     "output_type": "display_data"
    },
    {
     "name": "stdout",
     "output_type": "stream",
     "text": [
      "effect size (Cohen's d):  0.01437005"
     ]
    }
   ],
   "source": [
    "# Is there a difference in the freq of use of italics by admins and highly central users?\n",
    "t.test(d.admin$italics_freq, d.higheigen$italics_freq)\n",
    "cat(\"effect size (Cohen's d): \", cohensD(d.admin$italics_freq, d.higheigen$italics_freq))"
   ]
  },
  {
   "cell_type": "code",
   "execution_count": 132,
   "metadata": {},
   "outputs": [
    {
     "data": {
      "text/plain": [
       "\n",
       "\tWelch Two Sample t-test\n",
       "\n",
       "data:  d.admin$bold_freq and d.higheigen$bold_freq\n",
       "t = 0.84495, df = 1557.9, p-value = 0.3983\n",
       "alternative hypothesis: true difference in means is not equal to 0\n",
       "95 percent confidence interval:\n",
       " -0.004197812  0.010551259\n",
       "sample estimates:\n",
       " mean of x  mean of y \n",
       "0.03364267 0.03046595 \n"
      ]
     },
     "metadata": {},
     "output_type": "display_data"
    },
    {
     "name": "stdout",
     "output_type": "stream",
     "text": [
      "effect size (Cohen's d):  0.03731258"
     ]
    }
   ],
   "source": [
    "# Is there a difference in the freq of use of boldface by admins and highly central users?\n",
    "t.test(d.admin$bold_freq, d.higheigen$bold_freq)\n",
    "cat(\"effect size (Cohen's d): \", cohensD(d.admin$bold_freq, d.higheigen$bold_freq))"
   ]
  },
  {
   "cell_type": "code",
   "execution_count": 133,
   "metadata": {},
   "outputs": [
    {
     "data": {
      "text/plain": [
       "\n",
       "\tWelch Two Sample t-test\n",
       "\n",
       "data:  d.higheigen.admin$length_avg and d.higheigen.nonadmin$length_avg\n",
       "t = -0.39855, df = 618.9, p-value = 0.6904\n",
       "alternative hypothesis: true difference in means is not equal to 0\n",
       "95 percent confidence interval:\n",
       " -3.635788  2.409004\n",
       "sample estimates:\n",
       "mean of x mean of y \n",
       " 57.98280  58.59619 \n"
      ]
     },
     "metadata": {},
     "output_type": "display_data"
    },
    {
     "name": "stdout",
     "output_type": "stream",
     "text": [
      "effect size (Cohen's d):  0.03108043"
     ]
    },
    {
     "data": {
      "text/plain": [
       "\n",
       "\tWelch Two Sample t-test\n",
       "\n",
       "data:  d.higheigen.admin$italics_freq and d.higheigen.nonadmin$italics_freq\n",
       "t = -0.41682, df = 636.99, p-value = 0.677\n",
       "alternative hypothesis: true difference in means is not equal to 0\n",
       "95 percent confidence interval:\n",
       " -0.01959518  0.01273312\n",
       "sample estimates:\n",
       "mean of x mean of y \n",
       "0.1017827 0.1052138 \n"
      ]
     },
     "metadata": {},
     "output_type": "display_data"
    },
    {
     "name": "stdout",
     "output_type": "stream",
     "text": [
      "effect size (Cohen's d):  0.03242069"
     ]
    },
    {
     "data": {
      "text/plain": [
       "\n",
       "\tWelch Two Sample t-test\n",
       "\n",
       "data:  d.higheigen.admin$bold_freq and d.higheigen.nonadmin$bold_freq\n",
       "t = -0.25766, df = 657.74, p-value = 0.7967\n",
       "alternative hypothesis: true difference in means is not equal to 0\n",
       "95 percent confidence interval:\n",
       " -0.012876720  0.009889355\n",
       "sample estimates:\n",
       " mean of x  mean of y \n",
       "0.02975032 0.03124400 \n"
      ]
     },
     "metadata": {},
     "output_type": "display_data"
    },
    {
     "name": "stdout",
     "output_type": "stream",
     "text": [
      "effect size (Cohen's d):  0.01996039"
     ]
    },
    {
     "data": {
      "text/plain": [
       "\n",
       "\tWelch Two Sample t-test\n",
       "\n",
       "data:  d.higheigen.admin$links_freq and d.higheigen.nonadmin$links_freq\n",
       "t = 1.9841, df = 659.12, p-value = 0.04766\n",
       "alternative hypothesis: true difference in means is not equal to 0\n",
       "95 percent confidence interval:\n",
       " 0.0002532451 0.0486648145\n",
       "sample estimates:\n",
       "mean of x mean of y \n",
       "0.3257217 0.3012626 \n"
      ]
     },
     "metadata": {},
     "output_type": "display_data"
    },
    {
     "name": "stdout",
     "output_type": "stream",
     "text": [
      "effect size (Cohen's d):  0.1536478"
     ]
    }
   ],
   "source": [
    "# Admins vs non-admins within the class of highly central users\n",
    "\n",
    "# post length: \n",
    "t.test(d.higheigen.admin$length_avg, d.higheigen.nonadmin$length_avg)\n",
    "cat(\"effect size (Cohen's d): \", cohensD(d.higheigen.admin$length_avg, d.higheigen.nonadmin$length_avg))\n",
    "# itlaics\n",
    "t.test(d.higheigen.admin$italics_freq, d.higheigen.nonadmin$italics_freq)\n",
    "cat(\"effect size (Cohen's d): \", cohensD(d.higheigen.admin$italics_freq, d.higheigen.nonadmin$italics_freq))\n",
    "# boldface\n",
    "t.test(d.higheigen.admin$bold_freq, d.higheigen.nonadmin$bold_freq)\n",
    "cat(\"effect size (Cohen's d): \", cohensD(d.higheigen.admin$bold_freq, d.higheigen.nonadmin$bold_freq))\n",
    "# links\n",
    "t.test(d.higheigen.admin$links_freq, d.higheigen.nonadmin$links_freq)\n",
    "cat(\"effect size (Cohen's d): \", cohensD(d.higheigen.admin$links_freq, d.higheigen.nonadmin$links_freq))"
   ]
  },
  {
   "cell_type": "code",
   "execution_count": 134,
   "metadata": {},
   "outputs": [
    {
     "data": {
      "text/plain": [
       "\n",
       "\tWelch Two Sample t-test\n",
       "\n",
       "data:  d.loweigen.admin$length_avg and d.loweigen.nonadmin$length_avg\n",
       "t = -3.4193, df = 2009.2, p-value = 0.0006404\n",
       "alternative hypothesis: true difference in means is not equal to 0\n",
       "95 percent confidence interval:\n",
       " -4.107374 -1.113139\n",
       "sample estimates:\n",
       "mean of x mean of y \n",
       " 56.54835  59.15861 \n"
      ]
     },
     "metadata": {},
     "output_type": "display_data"
    },
    {
     "name": "stdout",
     "output_type": "stream",
     "text": [
      "effect size (Cohen's d):  0.08540476"
     ]
    },
    {
     "data": {
      "text/plain": [
       "\n",
       "\tWelch Two Sample t-test\n",
       "\n",
       "data:  d.loweigen.admin$italics_freq and d.loweigen.nonadmin$italics_freq\n",
       "t = 1.233, df = 1528.3, p-value = 0.2178\n",
       "alternative hypothesis: true difference in means is not equal to 0\n",
       "95 percent confidence interval:\n",
       " -0.003619063  0.015868928\n",
       "sample estimates:\n",
       "mean of x mean of y \n",
       "0.1015548 0.0954299 \n"
      ]
     },
     "metadata": {},
     "output_type": "display_data"
    },
    {
     "name": "stdout",
     "output_type": "stream",
     "text": [
      "effect size (Cohen's d):  0.03818324"
     ]
    },
    {
     "data": {
      "text/plain": [
       "\n",
       "\tWelch Two Sample t-test\n",
       "\n",
       "data:  d.loweigen.admin$bold_freq and d.loweigen.nonadmin$bold_freq\n",
       "t = 0.56644, df = 1508.3, p-value = 0.5712\n",
       "alternative hypothesis: true difference in means is not equal to 0\n",
       "95 percent confidence interval:\n",
       " -0.004494983  0.008145105\n",
       "sample estimates:\n",
       " mean of x  mean of y \n",
       "0.03494760 0.03312254 \n"
      ]
     },
     "metadata": {},
     "output_type": "display_data"
    },
    {
     "name": "stdout",
     "output_type": "stream",
     "text": [
      "effect size (Cohen's d):  0.0177839"
     ]
    },
    {
     "data": {
      "text/plain": [
       "\n",
       "\tWelch Two Sample t-test\n",
       "\n",
       "data:  d.loweigen.admin$links_freq and d.loweigen.nonadmin$links_freq\n",
       "t = 8.4469, df = 1706.3, p-value < 2.2e-16\n",
       "alternative hypothesis: true difference in means is not equal to 0\n",
       "95 percent confidence interval:\n",
       " 0.04432395 0.07113283\n",
       "sample estimates:\n",
       "mean of x mean of y \n",
       "0.3583874 0.3006590 \n"
      ]
     },
     "metadata": {},
     "output_type": "display_data"
    },
    {
     "name": "stdout",
     "output_type": "stream",
     "text": [
      "effect size (Cohen's d):  0.2365974"
     ]
    }
   ],
   "source": [
    "# Admins vs non-admins within the class of low centrality users\n",
    "\n",
    "# post length: \n",
    "t.test(d.loweigen.admin$length_avg, d.loweigen.nonadmin$length_avg)\n",
    "cat(\"effect size (Cohen's d): \", cohensD(d.loweigen.admin$length_avg, d.loweigen.nonadmin$length_avg))\n",
    "# italics\n",
    "t.test(d.loweigen.admin$italics_freq, d.loweigen.nonadmin$italics_freq)\n",
    "cat(\"effect size (Cohen's d): \", cohensD(d.loweigen.admin$italics_freq, d.loweigen.nonadmin$italics_freq))\n",
    "# boldface\n",
    "t.test(d.loweigen.admin$bold_freq, d.loweigen.nonadmin$bold_freq)\n",
    "cat(\"effect size (Cohen's d): \", cohensD(d.loweigen.admin$bold_freq, d.loweigen.nonadmin$bold_freq))\n",
    "# links\n",
    "t.test(d.loweigen.admin$links_freq, d.loweigen.nonadmin$links_freq)\n",
    "cat(\"effect size (Cohen's d): \", cohensD(d.loweigen.admin$links_freq, d.loweigen.nonadmin$links_freq))"
   ]
  },
  {
   "cell_type": "code",
   "execution_count": 135,
   "metadata": {},
   "outputs": [
    {
     "data": {
      "text/plain": [
       "\n",
       "\tWelch Two Sample t-test\n",
       "\n",
       "data:  d.higheigen.admin$length_avg and d.loweigen.admin$length_avg\n",
       "t = 1.2514, df = 691.91, p-value = 0.2112\n",
       "alternative hypothesis: true difference in means is not equal to 0\n",
       "95 percent confidence interval:\n",
       " -0.8162097  3.6851026\n",
       "sample estimates:\n",
       "mean of x mean of y \n",
       " 57.98280  56.54835 \n"
      ]
     },
     "metadata": {},
     "output_type": "display_data"
    },
    {
     "name": "stdout",
     "output_type": "stream",
     "text": [
      "effect size (Cohen's d):  0.03108043"
     ]
    },
    {
     "data": {
      "text/plain": [
       "\n",
       "\tWelch Two Sample t-test\n",
       "\n",
       "data:  d.higheigen.admin$italics_freq and d.loweigen.admin$italics_freq\n",
       "t = 0.032861, df = 882.93, p-value = 0.9738\n",
       "alternative hypothesis: true difference in means is not equal to 0\n",
       "95 percent confidence interval:\n",
       " -0.01338454  0.01384037\n",
       "sample estimates:\n",
       "mean of x mean of y \n",
       "0.1017827 0.1015548 \n"
      ]
     },
     "metadata": {},
     "output_type": "display_data"
    },
    {
     "name": "stdout",
     "output_type": "stream",
     "text": [
      "effect size (Cohen's d):  0.03242069"
     ]
    },
    {
     "data": {
      "text/plain": [
       "\n",
       "\tWelch Two Sample t-test\n",
       "\n",
       "data:  d.higheigen.admin$bold_freq and d.loweigen.admin$bold_freq\n",
       "t = -1.0609, df = 764.48, p-value = 0.2891\n",
       "alternative hypothesis: true difference in means is not equal to 0\n",
       "95 percent confidence interval:\n",
       " -0.014814112  0.004419547\n",
       "sample estimates:\n",
       " mean of x  mean of y \n",
       "0.02975032 0.03494760 \n"
      ]
     },
     "metadata": {},
     "output_type": "display_data"
    },
    {
     "name": "stdout",
     "output_type": "stream",
     "text": [
      "effect size (Cohen's d):  0.01996039"
     ]
    },
    {
     "data": {
      "text/plain": [
       "\n",
       "\tWelch Two Sample t-test\n",
       "\n",
       "data:  d.higheigen.admin$links_freq and d.loweigen.admin$links_freq\n",
       "t = -3.1644, df = 733.29, p-value = 0.001618\n",
       "alternative hypothesis: true difference in means is not equal to 0\n",
       "95 percent confidence interval:\n",
       " -0.05293145 -0.01240000\n",
       "sample estimates:\n",
       "mean of x mean of y \n",
       "0.3257217 0.3583874 \n"
      ]
     },
     "metadata": {},
     "output_type": "display_data"
    },
    {
     "name": "stdout",
     "output_type": "stream",
     "text": [
      "effect size (Cohen's d):  0.1536478"
     ]
    }
   ],
   "source": [
    "# High vs. low centrality with the class of admins\n",
    "\n",
    "# post length: \n",
    "t.test(d.higheigen.admin$length_avg, d.loweigen.admin$length_avg)\n",
    "cat(\"effect size (Cohen's d): \", cohensD(d.higheigen.admin$length_avg, d.higheigen.nonadmin$length_avg))\n",
    "# itlaics\n",
    "t.test(d.higheigen.admin$italics_freq, d.loweigen.admin$italics_freq)\n",
    "cat(\"effect size (Cohen's d): \", cohensD(d.higheigen.admin$italics_freq, d.higheigen.nonadmin$italics_freq))\n",
    "# boldface\n",
    "t.test(d.higheigen.admin$bold_freq, d.loweigen.admin$bold_freq)\n",
    "cat(\"effect size (Cohen's d): \", cohensD(d.higheigen.admin$bold_freq, d.higheigen.nonadmin$bold_freq))\n",
    "# links\n",
    "t.test(d.higheigen.admin$links_freq, d.loweigen.admin$links_freq)\n",
    "cat(\"effect size (Cohen's d): \", cohensD(d.higheigen.admin$links_freq, d.higheigen.nonadmin$links_freq))"
   ]
  },
  {
   "cell_type": "code",
   "execution_count": 136,
   "metadata": {},
   "outputs": [
    {
     "data": {
      "text/plain": [
       "\n",
       "\tWelch Two Sample t-test\n",
       "\n",
       "data:  d.loweigen.nonadmin$length_avg and d.higheigen.nonadmin$length_avg\n",
       "t = 0.43952, df = 397.86, p-value = 0.6605\n",
       "alternative hypothesis: true difference in means is not equal to 0\n",
       "95 percent confidence interval:\n",
       " -1.953241  3.078078\n",
       "sample estimates:\n",
       "mean of x mean of y \n",
       " 59.15861  58.59619 \n"
      ]
     },
     "metadata": {},
     "output_type": "display_data"
    },
    {
     "name": "stdout",
     "output_type": "stream",
     "text": [
      "effect size (Cohen's d):  0.08540476"
     ]
    },
    {
     "data": {
      "text/plain": [
       "\n",
       "\tWelch Two Sample t-test\n",
       "\n",
       "data:  d.loweigen.nonadmin$italics_freq and d.higheigen.nonadmin$italics_freq\n",
       "t = -1.4695, df = 394.2, p-value = 0.1425\n",
       "alternative hypothesis: true difference in means is not equal to 0\n",
       "95 percent confidence interval:\n",
       " -0.022873651  0.003305897\n",
       "sample estimates:\n",
       "mean of x mean of y \n",
       "0.0954299 0.1052138 \n"
      ]
     },
     "metadata": {},
     "output_type": "display_data"
    },
    {
     "name": "stdout",
     "output_type": "stream",
     "text": [
      "effect size (Cohen's d):  0.03818324"
     ]
    },
    {
     "data": {
      "text/plain": [
       "\n",
       "\tWelch Two Sample t-test\n",
       "\n",
       "data:  d.loweigen.nonadmin$bold_freq and d.higheigen.nonadmin$bold_freq\n",
       "t = 0.42017, df = 385.99, p-value = 0.6746\n",
       "alternative hypothesis: true difference in means is not equal to 0\n",
       "95 percent confidence interval:\n",
       " -0.00691174  0.01066882\n",
       "sample estimates:\n",
       " mean of x  mean of y \n",
       "0.03312254 0.03124400 \n"
      ]
     },
     "metadata": {},
     "output_type": "display_data"
    },
    {
     "name": "stdout",
     "output_type": "stream",
     "text": [
      "effect size (Cohen's d):  0.0177839"
     ]
    },
    {
     "data": {
      "text/plain": [
       "\n",
       "\tWelch Two Sample t-test\n",
       "\n",
       "data:  d.loweigen.nonadmin$links_freq and d.higheigen.nonadmin$links_freq\n",
       "t = -0.062894, df = 407.33, p-value = 0.9499\n",
       "alternative hypothesis: true difference in means is not equal to 0\n",
       "95 percent confidence interval:\n",
       " -0.01947057  0.01826331\n",
       "sample estimates:\n",
       "mean of x mean of y \n",
       "0.3006590 0.3012626 \n"
      ]
     },
     "metadata": {},
     "output_type": "display_data"
    },
    {
     "name": "stdout",
     "output_type": "stream",
     "text": [
      "effect size (Cohen's d):  0.2365974"
     ]
    }
   ],
   "source": [
    "# High vs. low centrality with the class of non-admins\n",
    "\n",
    "# post length: \n",
    "t.test(d.loweigen.nonadmin$length_avg, d.higheigen.nonadmin$length_avg)\n",
    "cat(\"effect size (Cohen's d): \", cohensD(d.loweigen.admin$length_avg, d.loweigen.nonadmin$length_avg))\n",
    "# italics\n",
    "t.test(d.loweigen.nonadmin$italics_freq, d.higheigen.nonadmin$italics_freq)\n",
    "cat(\"effect size (Cohen's d): \", cohensD(d.loweigen.admin$italics_freq, d.loweigen.nonadmin$italics_freq))\n",
    "# boldface\n",
    "t.test(d.loweigen.nonadmin$bold_freq, d.higheigen.nonadmin$bold_freq)\n",
    "cat(\"effect size (Cohen's d): \", cohensD(d.loweigen.admin$bold_freq, d.loweigen.nonadmin$bold_freq))\n",
    "# links\n",
    "t.test(d.loweigen.nonadmin$links_freq, d.higheigen.nonadmin$links_freq)\n",
    "cat(\"effect size (Cohen's d): \", cohensD(d.loweigen.admin$links_freq, d.loweigen.nonadmin$links_freq))"
   ]
  },
  {
   "cell_type": "markdown",
   "metadata": {},
   "source": [
    "### Interim summary\n",
    "\n",
    "-  the posts of highly-central users are not significantly longer than those of admins\n",
    "-  but highly-central users use fewer URLs, italics, and boldface than admins (p < 0.001, effect size between 0.2 and 0.4)\n",
    "-  within the class of users with low centrality, the effect of adminship is present (admins use fewer italics, boldface, and links: p < 0.05, with effects between 0.2 and 0.5)\n",
    "-  similarly, among non-admins the effect of centrality is present.\n",
    "-  However, while within the class of highly-central users, adminship does not have an effect (p > 0.05 for all linguistic style features: length, italics, bold, links), among admins, highly-central users use significantly fewer italics, boldface, and links\n"
   ]
  },
  {
   "cell_type": "code",
   "execution_count": 138,
   "metadata": {},
   "outputs": [
    {
     "data": {
      "text/html": [
       "<table>\n",
       "<thead><tr><th scope=col>X</th><th scope=col>utterance_id</th><th scope=col>user</th><th scope=col>talkpage_user</th><th scope=col>conversation_root</th><th scope=col>reply_to</th><th scope=col>timestamp</th><th scope=col>timestamp_unixtime</th><th scope=col>clean_text</th><th scope=col>raw_text</th><th scope=col>⋯</th><th scope=col>articles</th><th scope=col>auxiliary_verbs</th><th scope=col>conjunctions</th><th scope=col>impersonal_pronouns</th><th scope=col>personal_pronouns</th><th scope=col>prepositions</th><th scope=col>quantifiers</th><th scope=col>length</th><th scope=col>ppl_rnn</th><th scope=col>ppl_kenlm</th></tr></thead>\n",
       "<tbody>\n",
       "\t<tr><td>524288                                                                                                                                                                                                                                                                                                                                                                                                                                                                                                                                                                                   </td><td>524288                                                                                                                                                                                                                                                                                                                                                                                                                                                                                                                                                                                   </td><td>Frightner                                                                                                                                                                                                                                                                                                                                                                                                                                                                                                                                                                                </td><td>AnonEMouse                                                                                                                                                                                                                                                                                                                                                                                                                                                                                                                                                                               </td><td>524288                                                                                                                                                                                                                                                                                                                                                                                                                                                                                                                                                                                   </td><td>initial_post                                                                                                                                                                                                                                                                                                                                                                                                                                                                                                                                                                             </td><td>2007-09-07 11:49:00                                                                                                                                                                                                                                                                                                                                                                                                                                                                                                                                                                      </td><td>1189190940                                                                                                                                                                                                                                                                                                                                                                                                                                                                                                                                                                               </td><td>You should look at all of the point on the template not just the last one, the template also says the image belonging to the republic of macedonia is in the public domain if it being used for \\\"information purposes\\\".                                                                                                                                                                                                                                                                                                                                                              </td><td>You should look at all of the point on the template not just the last one, the template also says the image belonging to the republic of macedonia is in the public domain if it being used for \"information purposes\". [[User:Frightner|Frightner]] 11:49, 7 September 2007 (UTC)                                                                                                                                                                                                                                                                                                       </td><td>⋯                                                                                                                                                                                                                                                                                                                                                                                                                                                                                                                                                                                        </td><td>True                                                                                                                                                                                                                                                                                                                                                                                                                                                                                                                                                                                     </td><td>True                                                                                                                                                                                                                                                                                                                                                                                                                                                                                                                                                                                     </td><td>True                                                                                                                                                                                                                                                                                                                                                                                                                                                                                                                                                                                     </td><td>True                                                                                                                                                                                                                                                                                                                                                                                                                                                                                                                                                                                     </td><td>True                                                                                                                                                                                                                                                                                                                                                                                                                                                                                                                                                                                     </td><td>True                                                                                                                                                                                                                                                                                                                                                                                                                                                                                                                                                                                     </td><td>True                                                                                                                                                                                                                                                                                                                                                                                                                                                                                                                                                                                     </td><td> 45                                                                                                                                                                                                                                                                                                                                                                                                                                                                                                                                                                                      </td><td> 65.29665                                                                                                                                                                                                                                                                                                                                                                                                                                                                                                                                                                                </td><td> 7.744181                                                                                                                                                                                                                                                                                                                                                                                                                                                                                                                                                                                </td></tr>\n",
       "\t<tr><td>524289                                                                                                                                                                                                                                                                                                                                                                                                                                                                                                                                                                                   </td><td>524289                                                                                                                                                                                                                                                                                                                                                                                                                                                                                                                                                                                   </td><td>Revizionist                                                                                                                                                                                                                                                                                                                                                                                                                                                                                                                                                                              </td><td>AnonEMouse                                                                                                                                                                                                                                                                                                                                                                                                                                                                                                                                                                               </td><td>524288                                                                                                                                                                                                                                                                                                                                                                                                                                                                                                                                                                                   </td><td>-1                                                                                                                                                                                                                                                                                                                                                                                                                                                                                                                                                                                       </td><td>2007-09-07 15:41:00                                                                                                                                                                                                                                                                                                                                                                                                                                                                                                                                                                      </td><td>1189204860                                                                                                                                                                                                                                                                                                                                                                                                                                                                                                                                                                               </td><td>Yes I agree. The law permits usage of documents, photographs and other materials for educational and informational purposes. There was a normative act issued by the government of the Republic of Macedonia that even allowed citizens to make photocopies or photograph rare archive materials.                                                                                                                                                                                                                                                                                        </td><td>:::Yes I agree. The law permits usage of documents, photographs and other materials for educational and informational purposes. There was a normative act issued by the government of the Republic of Macedonia that even allowed citizens to make photocopies or photograph rare archive materials. [[User:Revizionist|Revizionist]] 15:41, 07 September 2007 (UTC)                                                                                                                                                                                                                     </td><td>⋯                                                                                                                                                                                                                                                                                                                                                                                                                                                                                                                                                                                        </td><td>True                                                                                                                                                                                                                                                                                                                                                                                                                                                                                                                                                                                     </td><td>True                                                                                                                                                                                                                                                                                                                                                                                                                                                                                                                                                                                     </td><td>True                                                                                                                                                                                                                                                                                                                                                                                                                                                                                                                                                                                     </td><td>True                                                                                                                                                                                                                                                                                                                                                                                                                                                                                                                                                                                     </td><td>True                                                                                                                                                                                                                                                                                                                                                                                                                                                                                                                                                                                     </td><td>True                                                                                                                                                                                                                                                                                                                                                                                                                                                                                                                                                                                     </td><td>False                                                                                                                                                                                                                                                                                                                                                                                                                                                                                                                                                                                    </td><td> 48                                                                                                                                                                                                                                                                                                                                                                                                                                                                                                                                                                                      </td><td>431.09707                                                                                                                                                                                                                                                                                                                                                                                                                                                                                                                                                                                </td><td> 5.976208                                                                                                                                                                                                                                                                                                                                                                                                                                                                                                                                                                                </td></tr>\n",
       "\t<tr><td>     1                                                                                                                                                                                                                                                                                                                                                                                                                                                                                                                                                                                   </td><td>     1                                                                                                                                                                                                                                                                                                                                                                                                                                                                                                                                                                                   </td><td>Johannes003                                                                                                                                                                                                                                                                                                                                                                                                                                                                                                                                                                              </td><td>Vensatry                                                                                                                                                                                                                                                                                                                                                                                                                                                                                                                                                                                 </td><td>     1                                                                                                                                                                                                                                                                                                                                                                                                                                                                                                                                                                                   </td><td>initial_post                                                                                                                                                                                                                                                                                                                                                                                                                                                                                                                                                                             </td><td>2011-07-15 08:38:00                                                                                                                                                                                                                                                                                                                                                                                                                                                                                                                                                                      </td><td>1310744280                                                                                                                                                                                                                                                                                                                                                                                                                                                                                                                                                                               </td><td>Yes, that's good. Revathy's page looked very reliable, that's why we used that as a source.                                                                                                                                                                                                                                                                                                                                                                                                                                                                                              </td><td>Yes, that's good. Revathy's page looked very reliable, that's why we used that as a source. [[User:Johannes003|Johannes003]] ([[User talk:Johannes003|talk]]) 08:38, 15 July 2011 (UTC)                                                                                                                                                                                                                                                                                                                                                                                                  </td><td>⋯                                                                                                                                                                                                                                                                                                                                                                                                                                                                                                                                                                                        </td><td>True                                                                                                                                                                                                                                                                                                                                                                                                                                                                                                                                                                                     </td><td>False                                                                                                                                                                                                                                                                                                                                                                                                                                                                                                                                                                                    </td><td>True                                                                                                                                                                                                                                                                                                                                                                                                                                                                                                                                                                                     </td><td>True                                                                                                                                                                                                                                                                                                                                                                                                                                                                                                                                                                                     </td><td>True                                                                                                                                                                                                                                                                                                                                                                                                                                                                                                                                                                                     </td><td>True                                                                                                                                                                                                                                                                                                                                                                                                                                                                                                                                                                                     </td><td>False                                                                                                                                                                                                                                                                                                                                                                                                                                                                                                                                                                                    </td><td> 23                                                                                                                                                                                                                                                                                                                                                                                                                                                                                                                                                                                      </td><td>101.83064                                                                                                                                                                                                                                                                                                                                                                                                                                                                                                                                                                                </td><td> 8.853275                                                                                                                                                                                                                                                                                                                                                                                                                                                                                                                                                                                </td></tr>\n",
       "\t<tr><td>     2                                                                                                                                                                                                                                                                                                                                                                                                                                                                                                                                                                                   </td><td>     2                                                                                                                                                                                                                                                                                                                                                                                                                                                                                                                                                                                   </td><td>Johannes003                                                                                                                                                                                                                                                                                                                                                                                                                                                                                                                                                                              </td><td>Vensatry                                                                                                                                                                                                                                                                                                                                                                                                                                                                                                                                                                                 </td><td>     1                                                                                                                                                                                                                                                                                                                                                                                                                                                                                                                                                                                   </td><td>1                                                                                                                                                                                                                                                                                                                                                                                                                                                                                                                                                                                        </td><td>2011-07-15 09:15:00                                                                                                                                                                                                                                                                                                                                                                                                                                                                                                                                                                      </td><td>1310746500                                                                                                                                                                                                                                                                                                                                                                                                                                                                                                                                                                               </td><td>Nagma'a site, at least that filmography page, looks like taken from Wikipedia itself. I didn't remove it from time being, but I don't think it's true.                                                                                                                                                                                                                                                                                                                                                                                                                                   </td><td>: Nagma'a site, at least that filmography page, looks like taken from Wikipedia itself. I didn't remove it from time being, but I don't think it's true. [[User:Johannes003|Johannes003]] ([[User talk:Johannes003|talk]]) 09:15, 15 July 2011 (UTC)                                                                                                                                                                                                                                                                                                                                     </td><td>⋯                                                                                                                                                                                                                                                                                                                                                                                                                                                                                                                                                                                        </td><td>False                                                                                                                                                                                                                                                                                                                                                                                                                                                                                                                                                                                    </td><td>True                                                                                                                                                                                                                                                                                                                                                                                                                                                                                                                                                                                     </td><td>True                                                                                                                                                                                                                                                                                                                                                                                                                                                                                                                                                                                     </td><td>True                                                                                                                                                                                                                                                                                                                                                                                                                                                                                                                                                                                     </td><td>True                                                                                                                                                                                                                                                                                                                                                                                                                                                                                                                                                                                     </td><td>True                                                                                                                                                                                                                                                                                                                                                                                                                                                                                                                                                                                     </td><td>True                                                                                                                                                                                                                                                                                                                                                                                                                                                                                                                                                                                     </td><td> 34                                                                                                                                                                                                                                                                                                                                                                                                                                                                                                                                                                                      </td><td> 68.74611                                                                                                                                                                                                                                                                                                                                                                                                                                                                                                                                                                                </td><td>10.584133                                                                                                                                                                                                                                                                                                                                                                                                                                                                                                                                                                                </td></tr>\n",
       "\t<tr><td>     3                                                                                                                                                                                                                                                                                                                                                                                                                                                                                                                                                                                   </td><td>     3                                                                                                                                                                                                                                                                                                                                                                                                                                                                                                                                                                                   </td><td>Johannes003                                                                                                                                                                                                                                                                                                                                                                                                                                                                                                                                                                              </td><td>Vensatry                                                                                                                                                                                                                                                                                                                                                                                                                                                                                                                                                                                 </td><td>     1                                                                                                                                                                                                                                                                                                                                                                                                                                                                                                                                                                                   </td><td>2                                                                                                                                                                                                                                                                                                                                                                                                                                                                                                                                                                                        </td><td>2011-07-15 10:33:00                                                                                                                                                                                                                                                                                                                                                                                                                                                                                                                                                                      </td><td>1310751180                                                                                                                                                                                                                                                                                                                                                                                                                                                                                                                                                                               </td><td>I don't think there are many such official reliable sites left yet. The problem is most \\\"official sites\\\" are not really official, and often based on Wikipedia itself, and you don't know what to believe and what not. We used Madras Talkies' page, which is dead now. [http:\\/\\/kavithalayaa.com\\/ Kavithalayaa]'s site is there, also AVM Production's site might be useful perhaps, but I can't enter that. Generally official sites of production houses seem to be very reliable ones.                                                                                     </td><td>:: I don't think there are many such official reliable sites left yet. The problem is most \"official sites\" are not really official, and often based on Wikipedia itself, and you don't know what to believe and what not. We used Madras Talkies' page, which is dead now. [http://kavithalayaa.com/ Kavithalayaa]'s site is there, also AVM Production's site might be useful perhaps, but I can't enter that. Generally official sites of production houses seem to be very reliable ones. [[User:Johannes003|Johannes003]] ([[User talk:Johannes003|talk]]) 10:33, 15 July 2011 (UTC)</td><td>⋯                                                                                                                                                                                                                                                                                                                                                                                                                                                                                                                                                                                        </td><td>True                                                                                                                                                                                                                                                                                                                                                                                                                                                                                                                                                                                     </td><td>True                                                                                                                                                                                                                                                                                                                                                                                                                                                                                                                                                                                     </td><td>True                                                                                                                                                                                                                                                                                                                                                                                                                                                                                                                                                                                     </td><td>True                                                                                                                                                                                                                                                                                                                                                                                                                                                                                                                                                                                     </td><td>True                                                                                                                                                                                                                                                                                                                                                                                                                                                                                                                                                                                     </td><td>True                                                                                                                                                                                                                                                                                                                                                                                                                                                                                                                                                                                     </td><td>True                                                                                                                                                                                                                                                                                                                                                                                                                                                                                                                                                                                     </td><td>100                                                                                                                                                                                                                                                                                                                                                                                                                                                                                                                                                                                      </td><td>124.00673                                                                                                                                                                                                                                                                                                                                                                                                                                                                                                                                                                                </td><td> 6.098231                                                                                                                                                                                                                                                                                                                                                                                                                                                                                                                                                                                </td></tr>\n",
       "\t<tr><td><span style=white-space:pre-wrap>     4</span>                                                                                                                                                                                                                                                                                                                                                                                                                                                                                                                                                                                                                                   </td><td><span style=white-space:pre-wrap>     4</span>                                                                                                                                                                                                                                                                                                                                                                                                                                                                                                                                                                                                                                   </td><td>Michael-Billa                                                                                                                                                                                                                                                                                                                                                                                                                                                                                                                                                                                                                                                                    </td><td><span style=white-space:pre-wrap>Vensatry  </span>                                                                                                                                                                                                                                                                                                                                                                                                                                                                                                                                                                                                                               </td><td><span style=white-space:pre-wrap>     1</span>                                                                                                                                                                                                                                                                                                                                                                                                                                                                                                                                                                                                                                   </td><td><span style=white-space:pre-wrap>-1          </span>                                                                                                                                                                                                                                                                                                                                                                                                                                                                                                                                                                                                                             </td><td>2011-07-27 03:22:00                                                                                                                                                                                                                                                                                                                                                                                                                                                                                                                                                                                                                                                              </td><td>1311762120                                                                                                                                                                                                                                                                                                                                                                                                                                                                                                                                                                                                                                                                       </td><td><span style=white-space:pre-wrap>Most of the so called \\\"official sites\\\" are maintained by fans or cinema based web companies. Not sure how reliable are they. &lt;span style=\\\"color:green;font-size:small;;font-family:Segoe Print;\\\"&gt;-&lt;i&gt;B&lt;\\/i&gt;iLLa-&lt;\\/span&gt;                                                                                                                                                                                                                                                                   </span>                                                                                                            </td><td><span style=white-space:pre-wrap>:::: Most of the so called \"official sites\" are maintained by fans or cinema based web companies. Not sure how reliable are they. &lt;span style=\"color:green;font-size:small;;font-family:Segoe Print;\"&gt;-&lt;i&gt;B&lt;/i&gt;iLLa-&lt;/span&gt;[[User talk:Michael-Billa| &lt;span style=\"color:green;font-size:small;;font-family:Segoe Print;\"&gt;•&lt;sup&gt;talk&lt;/sup&gt;•&lt;/span&gt;]] 03:22, 27 July 2011 (UTC)                                                                                                                                                                                                           </span></td><td>⋯                                                                                                                                                                                                                                                                                                                                                                                                                                                                                                                                                                                                                                                                                </td><td>True                                                                                                                                                                                                                                                                                                                                                                                                                                                                                                                                                                                                                                                                             </td><td>True                                                                                                                                                                                                                                                                                                                                                                                                                                                                                                                                                                                                                                                                             </td><td>True                                                                                                                                                                                                                                                                                                                                                                                                                                                                                                                                                                                                                                                                             </td><td>True                                                                                                                                                                                                                                                                                                                                                                                                                                                                                                                                                                                                                                                                             </td><td>True                                                                                                                                                                                                                                                                                                                                                                                                                                                                                                                                                                                                                                                                             </td><td>True                                                                                                                                                                                                                                                                                                                                                                                                                                                                                                                                                                                                                                                                             </td><td>True                                                                                                                                                                                                                                                                                                                                                                                                                                                                                                                                                                                                                                                                             </td><td> 60                                                                                                                                                                                                                                                                                                                                                                                                                                                                                                                                                                                                                                                                              </td><td>535.35516                                                                                                                                                                                                                                                                                                                                                                                                                                                                                                                                                                                                                                                                        </td><td> 6.061554                                                                                                                                                                                                                                                                                                                                                                                                                                                                                                                                                                                                                                                                        </td></tr>\n",
       "</tbody>\n",
       "</table>\n"
      ],
      "text/latex": [
       "\\begin{tabular}{r|lllllllllllllllllllllllll}\n",
       " X & utterance\\_id & user & talkpage\\_user & conversation\\_root & reply\\_to & timestamp & timestamp\\_unixtime & clean\\_text & raw\\_text & ⋯ & articles & auxiliary\\_verbs & conjunctions & impersonal\\_pronouns & personal\\_pronouns & prepositions & quantifiers & length & ppl\\_rnn & ppl\\_kenlm\\\\\n",
       "\\hline\n",
       "\t 524288                                                                                                                                                                                                                                                                                                                                                                                                                                                                                                                                                                                                      & 524288                                                                                                                                                                                                                                                                                                                                                                                                                                                                                                                                                                                                      & Frightner                                                                                                                                                                                                                                                                                                                                                                                                                                                                                                                                                                                                   & AnonEMouse                                                                                                                                                                                                                                                                                                                                                                                                                                                                                                                                                                                                  & 524288                                                                                                                                                                                                                                                                                                                                                                                                                                                                                                                                                                                                      & initial\\_post                                                                                                                                                                                                                                                                                                                                                                                                                                                                                                                                                                                              & 2007-09-07 11:49:00                                                                                                                                                                                                                                                                                                                                                                                                                                                                                                                                                                                         & 1189190940                                                                                                                                                                                                                                                                                                                                                                                                                                                                                                                                                                                                  & You should look at all of the point on the template not just the last one, the template also says the image belonging to the republic of macedonia is in the public domain if it being used for \\textbackslash{}\"information purposes\\textbackslash{}\".                                                                                                                                                                                                                                                                                                                                                   & You should look at all of the point on the template not just the last one, the template also says the image belonging to the republic of macedonia is in the public domain if it being used for \"information purposes\". {[}{[}User:Frightner\\textbar{}Frightner{]}{]} 11:49, 7 September 2007 (UTC)                                                                                                                                                                                                                                                                                                        & ⋯                                                                                                                                                                                                                                                                                                                                                                                                                                                                                                                                                                                                           & True                                                                                                                                                                                                                                                                                                                                                                                                                                                                                                                                                                                                        & True                                                                                                                                                                                                                                                                                                                                                                                                                                                                                                                                                                                                        & True                                                                                                                                                                                                                                                                                                                                                                                                                                                                                                                                                                                                        & True                                                                                                                                                                                                                                                                                                                                                                                                                                                                                                                                                                                                        & True                                                                                                                                                                                                                                                                                                                                                                                                                                                                                                                                                                                                        & True                                                                                                                                                                                                                                                                                                                                                                                                                                                                                                                                                                                                        & True                                                                                                                                                                                                                                                                                                                                                                                                                                                                                                                                                                                                        &  45                                                                                                                                                                                                                                                                                                                                                                                                                                                                                                                                                                                                         &  65.29665                                                                                                                                                                                                                                                                                                                                                                                                                                                                                                                                                                                                   &  7.744181                                                                                                                                                                                                                                                                                                                                                                                                                                                                                                                                                                                                  \\\\\n",
       "\t 524289                                                                                                                                                                                                                                                                                                                                                                                                                                                                                                                                                                                                      & 524289                                                                                                                                                                                                                                                                                                                                                                                                                                                                                                                                                                                                      & Revizionist                                                                                                                                                                                                                                                                                                                                                                                                                                                                                                                                                                                                 & AnonEMouse                                                                                                                                                                                                                                                                                                                                                                                                                                                                                                                                                                                                  & 524288                                                                                                                                                                                                                                                                                                                                                                                                                                                                                                                                                                                                      & -1                                                                                                                                                                                                                                                                                                                                                                                                                                                                                                                                                                                                          & 2007-09-07 15:41:00                                                                                                                                                                                                                                                                                                                                                                                                                                                                                                                                                                                         & 1189204860                                                                                                                                                                                                                                                                                                                                                                                                                                                                                                                                                                                                  & Yes I agree. The law permits usage of documents, photographs and other materials for educational and informational purposes. There was a normative act issued by the government of the Republic of Macedonia that even allowed citizens to make photocopies or photograph rare archive materials.                                                                                                                                                                                                                                                                                                           & :::Yes I agree. The law permits usage of documents, photographs and other materials for educational and informational purposes. There was a normative act issued by the government of the Republic of Macedonia that even allowed citizens to make photocopies or photograph rare archive materials. {[}{[}User:Revizionist\\textbar{}Revizionist{]}{]} 15:41, 07 September 2007 (UTC)                                                                                                                                                                                                                      & ⋯                                                                                                                                                                                                                                                                                                                                                                                                                                                                                                                                                                                                           & True                                                                                                                                                                                                                                                                                                                                                                                                                                                                                                                                                                                                        & True                                                                                                                                                                                                                                                                                                                                                                                                                                                                                                                                                                                                        & True                                                                                                                                                                                                                                                                                                                                                                                                                                                                                                                                                                                                        & True                                                                                                                                                                                                                                                                                                                                                                                                                                                                                                                                                                                                        & True                                                                                                                                                                                                                                                                                                                                                                                                                                                                                                                                                                                                        & True                                                                                                                                                                                                                                                                                                                                                                                                                                                                                                                                                                                                        & False                                                                                                                                                                                                                                                                                                                                                                                                                                                                                                                                                                                                       &  48                                                                                                                                                                                                                                                                                                                                                                                                                                                                                                                                                                                                         & 431.09707                                                                                                                                                                                                                                                                                                                                                                                                                                                                                                                                                                                                   &  5.976208                                                                                                                                                                                                                                                                                                                                                                                                                                                                                                                                                                                                  \\\\\n",
       "\t      1                                                                                                                                                                                                                                                                                                                                                                                                                                                                                                                                                                                                                        &      1                                                                                                                                                                                                                                                                                                                                                                                                                                                                                                                                                                                                                        & Johannes003                                                                                                                                                                                                                                                                                                                                                                                                                                                                                                                                                                                                                   & Vensatry                                                                                                                                                                                                                                                                                                                                                                                                                                                                                                                                                                                                                      &      1                                                                                                                                                                                                                                                                                                                                                                                                                                                                                                                                                                                                                        & initial\\_post                                                                                                                                                                                                                                                                                                                                                                                                                                                                                                                                                                                                                & 2011-07-15 08:38:00                                                                                                                                                                                                                                                                                                                                                                                                                                                                                                                                                                                                           & 1310744280                                                                                                                                                                                                                                                                                                                                                                                                                                                                                                                                                                                                                    & Yes, that's good. Revathy's page looked very reliable, that's why we used that as a source.                                                                                                                                                                                                                                                                                                                                                                                                                                                                                                                                   & Yes, that's good. Revathy's page looked very reliable, that's why we used that as a source. {[}{[}User:Johannes003\\textbar{}Johannes003{]}{]} ({[}{[}User talk:Johannes003\\textbar{}talk{]}{]}) 08:38, 15 July 2011 (UTC)                                                                                                                                                                                                                                                                                                                                                                                                   & ⋯                                                                                                                                                                                                                                                                                                                                                                                                                                                                                                                                                                                                                             & True                                                                                                                                                                                                                                                                                                                                                                                                                                                                                                                                                                                                                          & False                                                                                                                                                                                                                                                                                                                                                                                                                                                                                                                                                                                                                         & True                                                                                                                                                                                                                                                                                                                                                                                                                                                                                                                                                                                                                          & True                                                                                                                                                                                                                                                                                                                                                                                                                                                                                                                                                                                                                          & True                                                                                                                                                                                                                                                                                                                                                                                                                                                                                                                                                                                                                          & True                                                                                                                                                                                                                                                                                                                                                                                                                                                                                                                                                                                                                          & False                                                                                                                                                                                                                                                                                                                                                                                                                                                                                                                                                                                                                         &  23                                                                                                                                                                                                                                                                                                                                                                                                                                                                                                                                                                                                                           & 101.83064                                                                                                                                                                                                                                                                                                                                                                                                                                                                                                                                                                                                                     &  8.853275                                                                                                                                                                                                                                                                                                                                                                                                                                                                                                                                                                                                                    \\\\\n",
       "\t      2                                                                                                                                                                                                                                                                                                                                                                                                                                                                                                                                                                                                                        &      2                                                                                                                                                                                                                                                                                                                                                                                                                                                                                                                                                                                                                        & Johannes003                                                                                                                                                                                                                                                                                                                                                                                                                                                                                                                                                                                                                   & Vensatry                                                                                                                                                                                                                                                                                                                                                                                                                                                                                                                                                                                                                      &      1                                                                                                                                                                                                                                                                                                                                                                                                                                                                                                                                                                                                                        & 1                                                                                                                                                                                                                                                                                                                                                                                                                                                                                                                                                                                                                             & 2011-07-15 09:15:00                                                                                                                                                                                                                                                                                                                                                                                                                                                                                                                                                                                                           & 1310746500                                                                                                                                                                                                                                                                                                                                                                                                                                                                                                                                                                                                                    & Nagma'a site, at least that filmography page, looks like taken from Wikipedia itself. I didn't remove it from time being, but I don't think it's true.                                                                                                                                                                                                                                                                                                                                                                                                                                                                        & : Nagma'a site, at least that filmography page, looks like taken from Wikipedia itself. I didn't remove it from time being, but I don't think it's true. {[}{[}User:Johannes003\\textbar{}Johannes003{]}{]} ({[}{[}User talk:Johannes003\\textbar{}talk{]}{]}) 09:15, 15 July 2011 (UTC)                                                                                                                                                                                                                                                                                                                                      & ⋯                                                                                                                                                                                                                                                                                                                                                                                                                                                                                                                                                                                                                             & False                                                                                                                                                                                                                                                                                                                                                                                                                                                                                                                                                                                                                         & True                                                                                                                                                                                                                                                                                                                                                                                                                                                                                                                                                                                                                          & True                                                                                                                                                                                                                                                                                                                                                                                                                                                                                                                                                                                                                          & True                                                                                                                                                                                                                                                                                                                                                                                                                                                                                                                                                                                                                          & True                                                                                                                                                                                                                                                                                                                                                                                                                                                                                                                                                                                                                          & True                                                                                                                                                                                                                                                                                                                                                                                                                                                                                                                                                                                                                          & True                                                                                                                                                                                                                                                                                                                                                                                                                                                                                                                                                                                                                          &  34                                                                                                                                                                                                                                                                                                                                                                                                                                                                                                                                                                                                                           &  68.74611                                                                                                                                                                                                                                                                                                                                                                                                                                                                                                                                                                                                                     & 10.584133                                                                                                                                                                                                                                                                                                                                                                                                                                                                                                                                                                                                                    \\\\\n",
       "\t      3                                                                                                                                                                                                                                                                                                                                                                                                                                                                                                                                                                                                                            &      3                                                                                                                                                                                                                                                                                                                                                                                                                                                                                                                                                                                                                            & Johannes003                                                                                                                                                                                                                                                                                                                                                                                                                                                                                                                                                                                                                       & Vensatry                                                                                                                                                                                                                                                                                                                                                                                                                                                                                                                                                                                                                          &      1                                                                                                                                                                                                                                                                                                                                                                                                                                                                                                                                                                                                                            & 2                                                                                                                                                                                                                                                                                                                                                                                                                                                                                                                                                                                                                                 & 2011-07-15 10:33:00                                                                                                                                                                                                                                                                                                                                                                                                                                                                                                                                                                                                               & 1310751180                                                                                                                                                                                                                                                                                                                                                                                                                                                                                                                                                                                                                        & I don't think there are many such official reliable sites left yet. The problem is most \\textbackslash{}\"official sites\\textbackslash{}\" are not really official, and often based on Wikipedia itself, and you don't know what to believe and what not. We used Madras Talkies' page, which is dead now. {[}http:\\textbackslash{}/\\textbackslash{}/kavithalayaa.com\\textbackslash{}/ Kavithalayaa{]}'s site is there, also AVM Production's site might be useful perhaps, but I can't enter that. Generally official sites of production houses seem to be very reliable ones.                                               & :: I don't think there are many such official reliable sites left yet. The problem is most \"official sites\" are not really official, and often based on Wikipedia itself, and you don't know what to believe and what not. We used Madras Talkies' page, which is dead now. {[}http://kavithalayaa.com/ Kavithalayaa{]}'s site is there, also AVM Production's site might be useful perhaps, but I can't enter that. Generally official sites of production houses seem to be very reliable ones. {[}{[}User:Johannes003\\textbar{}Johannes003{]}{]} ({[}{[}User talk:Johannes003\\textbar{}talk{]}{]}) 10:33, 15 July 2011 (UTC) & ⋯                                                                                                                                                                                                                                                                                                                                                                                                                                                                                                                                                                                                                                 & True                                                                                                                                                                                                                                                                                                                                                                                                                                                                                                                                                                                                                              & True                                                                                                                                                                                                                                                                                                                                                                                                                                                                                                                                                                                                                              & True                                                                                                                                                                                                                                                                                                                                                                                                                                                                                                                                                                                                                              & True                                                                                                                                                                                                                                                                                                                                                                                                                                                                                                                                                                                                                              & True                                                                                                                                                                                                                                                                                                                                                                                                                                                                                                                                                                                                                              & True                                                                                                                                                                                                                                                                                                                                                                                                                                                                                                                                                                                                                              & True                                                                                                                                                                                                                                                                                                                                                                                                                                                                                                                                                                                                                              & 100                                                                                                                                                                                                                                                                                                                                                                                                                                                                                                                                                                                                                               & 124.00673                                                                                                                                                                                                                                                                                                                                                                                                                                                                                                                                                                                                                         &  6.098231                                                                                                                                                                                                                                                                                                                                                                                                                                                                                                                                                                                                                        \\\\\n",
       "\t      4                                                                                                                                                                                                                                                                                                                                                                                                                                                                                                                                                                                                      &      4                                                                                                                                                                                                                                                                                                                                                                                                                                                                                                                                                                                                      & Michael-Billa                                                                                                                                                                                                                                                                                                                                                                                                                                                                                                                                                                                               & Vensatry                                                                                                                                                                                                                                                                                                                                                                                                                                                                                                                                                                                                    &      1                                                                                                                                                                                                                                                                                                                                                                                                                                                                                                                                                                                                      & -1                                                                                                                                                                                                                                                                                                                                                                                                                                                                                                                                                                                                          & 2011-07-27 03:22:00                                                                                                                                                                                                                                                                                                                                                                                                                                                                                                                                                                                         & 1311762120                                                                                                                                                                                                                                                                                                                                                                                                                                                                                                                                                                                                  & Most of the so called \\textbackslash{}\"official sites\\textbackslash{}\" are maintained by fans or cinema based web companies. Not sure how reliable are they. <span style=\\textbackslash{}\"color:green;font-size:small;;font-family:Segoe Print;\\textbackslash{}\">-<i>B<\\textbackslash{}/i>iLLa-<\\textbackslash{}/span>                                                                                                                                                                                                                                                                                & :::: Most of the so called \"official sites\" are maintained by fans or cinema based web companies. Not sure how reliable are they. <span style=\"color:green;font-size:small;;font-family:Segoe Print;\">-<i>B</i>iLLa-</span>{[}{[}User talk:Michael-Billa\\textbar{} <span style=\"color:green;font-size:small;;font-family:Segoe Print;\">•<sup>talk</sup>•</span>{]}{]} 03:22, 27 July 2011 (UTC)                                                                                                                                                                                                            & ⋯                                                                                                                                                                                                                                                                                                                                                                                                                                                                                                                                                                                                           & True                                                                                                                                                                                                                                                                                                                                                                                                                                                                                                                                                                                                        & True                                                                                                                                                                                                                                                                                                                                                                                                                                                                                                                                                                                                        & True                                                                                                                                                                                                                                                                                                                                                                                                                                                                                                                                                                                                        & True                                                                                                                                                                                                                                                                                                                                                                                                                                                                                                                                                                                                        & True                                                                                                                                                                                                                                                                                                                                                                                                                                                                                                                                                                                                        & True                                                                                                                                                                                                                                                                                                                                                                                                                                                                                                                                                                                                        & True                                                                                                                                                                                                                                                                                                                                                                                                                                                                                                                                                                                                        &  60                                                                                                                                                                                                                                                                                                                                                                                                                                                                                                                                                                                                         & 535.35516                                                                                                                                                                                                                                                                                                                                                                                                                                                                                                                                                                                                   &  6.061554                                                                                                                                                                                                                                                                                                                                                                                                                                                                                                                                                                                                  \\\\\n",
       "\\end{tabular}\n"
      ],
      "text/markdown": [
       "\n",
       "X | utterance_id | user | talkpage_user | conversation_root | reply_to | timestamp | timestamp_unixtime | clean_text | raw_text | ⋯ | articles | auxiliary_verbs | conjunctions | impersonal_pronouns | personal_pronouns | prepositions | quantifiers | length | ppl_rnn | ppl_kenlm | \n",
       "|---|---|---|---|---|---|\n",
       "| 524288                                                                                                                                                                                                                                                                                                                                                                                                                                                                                                                                                                                    | 524288                                                                                                                                                                                                                                                                                                                                                                                                                                                                                                                                                                                    | Frightner                                                                                                                                                                                                                                                                                                                                                                                                                                                                                                                                                                                 | AnonEMouse                                                                                                                                                                                                                                                                                                                                                                                                                                                                                                                                                                                | 524288                                                                                                                                                                                                                                                                                                                                                                                                                                                                                                                                                                                    | initial_post                                                                                                                                                                                                                                                                                                                                                                                                                                                                                                                                                                              | 2007-09-07 11:49:00                                                                                                                                                                                                                                                                                                                                                                                                                                                                                                                                                                       | 1189190940                                                                                                                                                                                                                                                                                                                                                                                                                                                                                                                                                                                | You should look at all of the point on the template not just the last one, the template also says the image belonging to the republic of macedonia is in the public domain if it being used for \\\"information purposes\\\".                                                                                                                                                                                                                                                                                                                                                               | You should look at all of the point on the template not just the last one, the template also says the image belonging to the republic of macedonia is in the public domain if it being used for \"information purposes\". [[User:Frightner|Frightner]] 11:49, 7 September 2007 (UTC)                                                                                                                                                                                                                                                                                                        | ⋯                                                                                                                                                                                                                                                                                                                                                                                                                                                                                                                                                                                         | True                                                                                                                                                                                                                                                                                                                                                                                                                                                                                                                                                                                      | True                                                                                                                                                                                                                                                                                                                                                                                                                                                                                                                                                                                      | True                                                                                                                                                                                                                                                                                                                                                                                                                                                                                                                                                                                      | True                                                                                                                                                                                                                                                                                                                                                                                                                                                                                                                                                                                      | True                                                                                                                                                                                                                                                                                                                                                                                                                                                                                                                                                                                      | True                                                                                                                                                                                                                                                                                                                                                                                                                                                                                                                                                                                      | True                                                                                                                                                                                                                                                                                                                                                                                                                                                                                                                                                                                      |  45                                                                                                                                                                                                                                                                                                                                                                                                                                                                                                                                                                                       |  65.29665                                                                                                                                                                                                                                                                                                                                                                                                                                                                                                                                                                                 |  7.744181                                                                                                                                                                                                                                                                                                                                                                                                                                                                                                                                                                                 | \n",
       "| 524289                                                                                                                                                                                                                                                                                                                                                                                                                                                                                                                                                                                    | 524289                                                                                                                                                                                                                                                                                                                                                                                                                                                                                                                                                                                    | Revizionist                                                                                                                                                                                                                                                                                                                                                                                                                                                                                                                                                                               | AnonEMouse                                                                                                                                                                                                                                                                                                                                                                                                                                                                                                                                                                                | 524288                                                                                                                                                                                                                                                                                                                                                                                                                                                                                                                                                                                    | -1                                                                                                                                                                                                                                                                                                                                                                                                                                                                                                                                                                                        | 2007-09-07 15:41:00                                                                                                                                                                                                                                                                                                                                                                                                                                                                                                                                                                       | 1189204860                                                                                                                                                                                                                                                                                                                                                                                                                                                                                                                                                                                | Yes I agree. The law permits usage of documents, photographs and other materials for educational and informational purposes. There was a normative act issued by the government of the Republic of Macedonia that even allowed citizens to make photocopies or photograph rare archive materials.                                                                                                                                                                                                                                                                                         | :::Yes I agree. The law permits usage of documents, photographs and other materials for educational and informational purposes. There was a normative act issued by the government of the Republic of Macedonia that even allowed citizens to make photocopies or photograph rare archive materials. [[User:Revizionist|Revizionist]] 15:41, 07 September 2007 (UTC)                                                                                                                                                                                                                      | ⋯                                                                                                                                                                                                                                                                                                                                                                                                                                                                                                                                                                                         | True                                                                                                                                                                                                                                                                                                                                                                                                                                                                                                                                                                                      | True                                                                                                                                                                                                                                                                                                                                                                                                                                                                                                                                                                                      | True                                                                                                                                                                                                                                                                                                                                                                                                                                                                                                                                                                                      | True                                                                                                                                                                                                                                                                                                                                                                                                                                                                                                                                                                                      | True                                                                                                                                                                                                                                                                                                                                                                                                                                                                                                                                                                                      | True                                                                                                                                                                                                                                                                                                                                                                                                                                                                                                                                                                                      | False                                                                                                                                                                                                                                                                                                                                                                                                                                                                                                                                                                                     |  48                                                                                                                                                                                                                                                                                                                                                                                                                                                                                                                                                                                       | 431.09707                                                                                                                                                                                                                                                                                                                                                                                                                                                                                                                                                                                 |  5.976208                                                                                                                                                                                                                                                                                                                                                                                                                                                                                                                                                                                 | \n",
       "|      1                                                                                                                                                                                                                                                                                                                                                                                                                                                                                                                                                                                    |      1                                                                                                                                                                                                                                                                                                                                                                                                                                                                                                                                                                                    | Johannes003                                                                                                                                                                                                                                                                                                                                                                                                                                                                                                                                                                               | Vensatry                                                                                                                                                                                                                                                                                                                                                                                                                                                                                                                                                                                  |      1                                                                                                                                                                                                                                                                                                                                                                                                                                                                                                                                                                                    | initial_post                                                                                                                                                                                                                                                                                                                                                                                                                                                                                                                                                                              | 2011-07-15 08:38:00                                                                                                                                                                                                                                                                                                                                                                                                                                                                                                                                                                       | 1310744280                                                                                                                                                                                                                                                                                                                                                                                                                                                                                                                                                                                | Yes, that's good. Revathy's page looked very reliable, that's why we used that as a source.                                                                                                                                                                                                                                                                                                                                                                                                                                                                                               | Yes, that's good. Revathy's page looked very reliable, that's why we used that as a source. [[User:Johannes003|Johannes003]] ([[User talk:Johannes003|talk]]) 08:38, 15 July 2011 (UTC)                                                                                                                                                                                                                                                                                                                                                                                                   | ⋯                                                                                                                                                                                                                                                                                                                                                                                                                                                                                                                                                                                         | True                                                                                                                                                                                                                                                                                                                                                                                                                                                                                                                                                                                      | False                                                                                                                                                                                                                                                                                                                                                                                                                                                                                                                                                                                     | True                                                                                                                                                                                                                                                                                                                                                                                                                                                                                                                                                                                      | True                                                                                                                                                                                                                                                                                                                                                                                                                                                                                                                                                                                      | True                                                                                                                                                                                                                                                                                                                                                                                                                                                                                                                                                                                      | True                                                                                                                                                                                                                                                                                                                                                                                                                                                                                                                                                                                      | False                                                                                                                                                                                                                                                                                                                                                                                                                                                                                                                                                                                     |  23                                                                                                                                                                                                                                                                                                                                                                                                                                                                                                                                                                                       | 101.83064                                                                                                                                                                                                                                                                                                                                                                                                                                                                                                                                                                                 |  8.853275                                                                                                                                                                                                                                                                                                                                                                                                                                                                                                                                                                                 | \n",
       "|      2                                                                                                                                                                                                                                                                                                                                                                                                                                                                                                                                                                                    |      2                                                                                                                                                                                                                                                                                                                                                                                                                                                                                                                                                                                    | Johannes003                                                                                                                                                                                                                                                                                                                                                                                                                                                                                                                                                                               | Vensatry                                                                                                                                                                                                                                                                                                                                                                                                                                                                                                                                                                                  |      1                                                                                                                                                                                                                                                                                                                                                                                                                                                                                                                                                                                    | 1                                                                                                                                                                                                                                                                                                                                                                                                                                                                                                                                                                                         | 2011-07-15 09:15:00                                                                                                                                                                                                                                                                                                                                                                                                                                                                                                                                                                       | 1310746500                                                                                                                                                                                                                                                                                                                                                                                                                                                                                                                                                                                | Nagma'a site, at least that filmography page, looks like taken from Wikipedia itself. I didn't remove it from time being, but I don't think it's true.                                                                                                                                                                                                                                                                                                                                                                                                                                    | : Nagma'a site, at least that filmography page, looks like taken from Wikipedia itself. I didn't remove it from time being, but I don't think it's true. [[User:Johannes003|Johannes003]] ([[User talk:Johannes003|talk]]) 09:15, 15 July 2011 (UTC)                                                                                                                                                                                                                                                                                                                                      | ⋯                                                                                                                                                                                                                                                                                                                                                                                                                                                                                                                                                                                         | False                                                                                                                                                                                                                                                                                                                                                                                                                                                                                                                                                                                     | True                                                                                                                                                                                                                                                                                                                                                                                                                                                                                                                                                                                      | True                                                                                                                                                                                                                                                                                                                                                                                                                                                                                                                                                                                      | True                                                                                                                                                                                                                                                                                                                                                                                                                                                                                                                                                                                      | True                                                                                                                                                                                                                                                                                                                                                                                                                                                                                                                                                                                      | True                                                                                                                                                                                                                                                                                                                                                                                                                                                                                                                                                                                      | True                                                                                                                                                                                                                                                                                                                                                                                                                                                                                                                                                                                      |  34                                                                                                                                                                                                                                                                                                                                                                                                                                                                                                                                                                                       |  68.74611                                                                                                                                                                                                                                                                                                                                                                                                                                                                                                                                                                                 | 10.584133                                                                                                                                                                                                                                                                                                                                                                                                                                                                                                                                                                                 | \n",
       "|      3                                                                                                                                                                                                                                                                                                                                                                                                                                                                                                                                                                                    |      3                                                                                                                                                                                                                                                                                                                                                                                                                                                                                                                                                                                    | Johannes003                                                                                                                                                                                                                                                                                                                                                                                                                                                                                                                                                                               | Vensatry                                                                                                                                                                                                                                                                                                                                                                                                                                                                                                                                                                                  |      1                                                                                                                                                                                                                                                                                                                                                                                                                                                                                                                                                                                    | 2                                                                                                                                                                                                                                                                                                                                                                                                                                                                                                                                                                                         | 2011-07-15 10:33:00                                                                                                                                                                                                                                                                                                                                                                                                                                                                                                                                                                       | 1310751180                                                                                                                                                                                                                                                                                                                                                                                                                                                                                                                                                                                | I don't think there are many such official reliable sites left yet. The problem is most \\\"official sites\\\" are not really official, and often based on Wikipedia itself, and you don't know what to believe and what not. We used Madras Talkies' page, which is dead now. [http:\\/\\/kavithalayaa.com\\/ Kavithalayaa]'s site is there, also AVM Production's site might be useful perhaps, but I can't enter that. Generally official sites of production houses seem to be very reliable ones.                                                                                      | :: I don't think there are many such official reliable sites left yet. The problem is most \"official sites\" are not really official, and often based on Wikipedia itself, and you don't know what to believe and what not. We used Madras Talkies' page, which is dead now. [http://kavithalayaa.com/ Kavithalayaa]'s site is there, also AVM Production's site might be useful perhaps, but I can't enter that. Generally official sites of production houses seem to be very reliable ones. [[User:Johannes003|Johannes003]] ([[User talk:Johannes003|talk]]) 10:33, 15 July 2011 (UTC) | ⋯                                                                                                                                                                                                                                                                                                                                                                                                                                                                                                                                                                                         | True                                                                                                                                                                                                                                                                                                                                                                                                                                                                                                                                                                                      | True                                                                                                                                                                                                                                                                                                                                                                                                                                                                                                                                                                                      | True                                                                                                                                                                                                                                                                                                                                                                                                                                                                                                                                                                                      | True                                                                                                                                                                                                                                                                                                                                                                                                                                                                                                                                                                                      | True                                                                                                                                                                                                                                                                                                                                                                                                                                                                                                                                                                                      | True                                                                                                                                                                                                                                                                                                                                                                                                                                                                                                                                                                                      | True                                                                                                                                                                                                                                                                                                                                                                                                                                                                                                                                                                                      | 100                                                                                                                                                                                                                                                                                                                                                                                                                                                                                                                                                                                       | 124.00673                                                                                                                                                                                                                                                                                                                                                                                                                                                                                                                                                                                 |  6.098231                                                                                                                                                                                                                                                                                                                                                                                                                                                                                                                                                                                 | \n",
       "|      4                                                                                                                                                                                                                                                                                                                                                                                                                                                                                                                                                                                    |      4                                                                                                                                                                                                                                                                                                                                                                                                                                                                                                                                                                                    | Michael-Billa                                                                                                                                                                                                                                                                                                                                                                                                                                                                                                                                                                             | Vensatry                                                                                                                                                                                                                                                                                                                                                                                                                                                                                                                                                                                  |      1                                                                                                                                                                                                                                                                                                                                                                                                                                                                                                                                                                                    | -1                                                                                                                                                                                                                                                                                                                                                                                                                                                                                                                                                                                        | 2011-07-27 03:22:00                                                                                                                                                                                                                                                                                                                                                                                                                                                                                                                                                                       | 1311762120                                                                                                                                                                                                                                                                                                                                                                                                                                                                                                                                                                                | Most of the so called \\\"official sites\\\" are maintained by fans or cinema based web companies. Not sure how reliable are they. <span style=\\\"color:green;font-size:small;;font-family:Segoe Print;\\\">-<i>B<\\/i>iLLa-<\\/span>                                                                                                                                                                                                                                                                                                                                                        | :::: Most of the so called \"official sites\" are maintained by fans or cinema based web companies. Not sure how reliable are they. <span style=\"color:green;font-size:small;;font-family:Segoe Print;\">-<i>B</i>iLLa-</span>[[User talk:Michael-Billa| <span style=\"color:green;font-size:small;;font-family:Segoe Print;\">•<sup>talk</sup>•</span>]] 03:22, 27 July 2011 (UTC)                                                                                                                                                                                                            | ⋯                                                                                                                                                                                                                                                                                                                                                                                                                                                                                                                                                                                         | True                                                                                                                                                                                                                                                                                                                                                                                                                                                                                                                                                                                      | True                                                                                                                                                                                                                                                                                                                                                                                                                                                                                                                                                                                      | True                                                                                                                                                                                                                                                                                                                                                                                                                                                                                                                                                                                      | True                                                                                                                                                                                                                                                                                                                                                                                                                                                                                                                                                                                      | True                                                                                                                                                                                                                                                                                                                                                                                                                                                                                                                                                                                      | True                                                                                                                                                                                                                                                                                                                                                                                                                                                                                                                                                                                      | True                                                                                                                                                                                                                                                                                                                                                                                                                                                                                                                                                                                      |  60                                                                                                                                                                                                                                                                                                                                                                                                                                                                                                                                                                                       | 535.35516                                                                                                                                                                                                                                                                                                                                                                                                                                                                                                                                                                                 |  6.061554                                                                                                                                                                                                                                                                                                                                                                                                                                                                                                                                                                                 | \n",
       "\n",
       "\n"
      ],
      "text/plain": [
       "  X      utterance_id user          talkpage_user conversation_root\n",
       "1 524288 524288       Frightner     AnonEMouse    524288           \n",
       "2 524289 524289       Revizionist   AnonEMouse    524288           \n",
       "3      1      1       Johannes003   Vensatry           1           \n",
       "4      2      2       Johannes003   Vensatry           1           \n",
       "5      3      3       Johannes003   Vensatry           1           \n",
       "6      4      4       Michael-Billa Vensatry           1           \n",
       "  reply_to     timestamp           timestamp_unixtime\n",
       "1 initial_post 2007-09-07 11:49:00 1189190940        \n",
       "2 -1           2007-09-07 15:41:00 1189204860        \n",
       "3 initial_post 2011-07-15 08:38:00 1310744280        \n",
       "4 1            2011-07-15 09:15:00 1310746500        \n",
       "5 2            2011-07-15 10:33:00 1310751180        \n",
       "6 -1           2011-07-27 03:22:00 1311762120        \n",
       "  clean_text                                                                                                                                                                                                                                                                                                                                                                                                                                                                                           \n",
       "1 You should look at all of the point on the template not just the last one, the template also says the image belonging to the republic of macedonia is in the public domain if it being used for \\\\\"information purposes\\\\\".                                                                                                                                                                                                                                                                          \n",
       "2 Yes I agree. The law permits usage of documents, photographs and other materials for educational and informational purposes. There was a normative act issued by the government of the Republic of Macedonia that even allowed citizens to make photocopies or photograph rare archive materials.                                                                                                                                                                                                    \n",
       "3 Yes, that's good. Revathy's page looked very reliable, that's why we used that as a source.                                                                                                                                                                                                                                                                                                                                                                                                          \n",
       "4 Nagma'a site, at least that filmography page, looks like taken from Wikipedia itself. I didn't remove it from time being, but I don't think it's true.                                                                                                                                                                                                                                                                                                                                               \n",
       "5 I don't think there are many such official reliable sites left yet. The problem is most \\\\\"official sites\\\\\" are not really official, and often based on Wikipedia itself, and you don't know what to believe and what not. We used Madras Talkies' page, which is dead now. [http:\\\\/\\\\/kavithalayaa.com\\\\/ Kavithalayaa]'s site is there, also AVM Production's site might be useful perhaps, but I can't enter that. Generally official sites of production houses seem to be very reliable ones. \n",
       "6 Most of the so called \\\\\"official sites\\\\\" are maintained by fans or cinema based web companies. Not sure how reliable are they. <span style=\\\\\"color:green;font-size:small;;font-family:Segoe Print;\\\\\">-<i>B<\\\\/i>iLLa-<\\\\/span>                                                                                                                                                                                                                                                                   \n",
       "  raw_text                                                                                                                                                                                                                                                                                                                                                                                                                                                                                                                                                                                 \n",
       "1 You should look at all of the point on the template not just the last one, the template also says the image belonging to the republic of macedonia is in the public domain if it being used for \"information purposes\". [[User:Frightner|Frightner]] 11:49, 7 September 2007 (UTC)                                                                                                                                                                                                                                                                                                       \n",
       "2 :::Yes I agree. The law permits usage of documents, photographs and other materials for educational and informational purposes. There was a normative act issued by the government of the Republic of Macedonia that even allowed citizens to make photocopies or photograph rare archive materials. [[User:Revizionist|Revizionist]] 15:41, 07 September 2007 (UTC)                                                                                                                                                                                                                     \n",
       "3 Yes, that's good. Revathy's page looked very reliable, that's why we used that as a source. [[User:Johannes003|Johannes003]] ([[User talk:Johannes003|talk]]) 08:38, 15 July 2011 (UTC)                                                                                                                                                                                                                                                                                                                                                                                                  \n",
       "4 : Nagma'a site, at least that filmography page, looks like taken from Wikipedia itself. I didn't remove it from time being, but I don't think it's true. [[User:Johannes003|Johannes003]] ([[User talk:Johannes003|talk]]) 09:15, 15 July 2011 (UTC)                                                                                                                                                                                                                                                                                                                                     \n",
       "5 :: I don't think there are many such official reliable sites left yet. The problem is most \"official sites\" are not really official, and often based on Wikipedia itself, and you don't know what to believe and what not. We used Madras Talkies' page, which is dead now. [http://kavithalayaa.com/ Kavithalayaa]'s site is there, also AVM Production's site might be useful perhaps, but I can't enter that. Generally official sites of production houses seem to be very reliable ones. [[User:Johannes003|Johannes003]] ([[User talk:Johannes003|talk]]) 10:33, 15 July 2011 (UTC)\n",
       "6 :::: Most of the so called \"official sites\" are maintained by fans or cinema based web companies. Not sure how reliable are they. <span style=\"color:green;font-size:small;;font-family:Segoe Print;\">-<i>B</i>iLLa-</span>[[User talk:Michael-Billa| <span style=\"color:green;font-size:small;;font-family:Segoe Print;\">•<sup>talk</sup>•</span>]] 03:22, 27 July 2011 (UTC)                                                                                                                                                                                                           \n",
       "  ⋯ articles auxiliary_verbs conjunctions impersonal_pronouns personal_pronouns\n",
       "1 ⋯ True     True            True         True                True             \n",
       "2 ⋯ True     True            True         True                True             \n",
       "3 ⋯ True     False           True         True                True             \n",
       "4 ⋯ False    True            True         True                True             \n",
       "5 ⋯ True     True            True         True                True             \n",
       "6 ⋯ True     True            True         True                True             \n",
       "  prepositions quantifiers length ppl_rnn   ppl_kenlm\n",
       "1 True         True         45     65.29665  7.744181\n",
       "2 True         False        48    431.09707  5.976208\n",
       "3 True         False        23    101.83064  8.853275\n",
       "4 True         True         34     68.74611 10.584133\n",
       "5 True         True        100    124.00673  6.098231\n",
       "6 True         True         60    535.35516  6.061554"
      ]
     },
     "metadata": {},
     "output_type": "display_data"
    }
   ],
   "source": [
    "d = read.csv(\"../data/wiki/posts.csv\", header = TRUE)\n",
    "library(lsr)\n",
    "head(d)"
   ]
  },
  {
   "cell_type": "code",
   "execution_count": null,
   "metadata": {
    "scrolled": true
   },
   "outputs": [],
   "source": [
    "plot(d$len, d$ppl, ylim=c(0,500), xlim=c(0,500))"
   ]
  },
  {
   "cell_type": "code",
   "execution_count": 139,
   "metadata": {},
   "outputs": [
    {
     "ename": "ERROR",
     "evalue": "Error in eval(expr, envir, enclos): object 'align' not found\n",
     "output_type": "error",
     "traceback": [
      "Error in eval(expr, envir, enclos): object 'align' not found\nTraceback:\n",
      "1. subset(d, align == \"True\")",
      "2. subset.data.frame(d, align == \"True\")",
      "3. eval(e, x, parent.frame())",
      "4. eval(expr, envir, enclos)"
     ]
    }
   ],
   "source": [
    "d.alignedto <- subset(d, align == \"True\")\n",
    "d.notalignedto <- subset(d, align == \"False\")"
   ]
  },
  {
   "cell_type": "code",
   "execution_count": null,
   "metadata": {},
   "outputs": [],
   "source": [
    "t.test(d.alignedto$ppl, d.notalignedto$ppl)\n",
    "cohensD(d.alignedto$ppl, d.notalignedto$ppl)"
   ]
  },
  {
   "cell_type": "code",
   "execution_count": null,
   "metadata": {},
   "outputs": [],
   "source": [
    "head(d.notalignedto)"
   ]
  },
  {
   "cell_type": "code",
   "execution_count": null,
   "metadata": {},
   "outputs": [],
   "source": [
    "# Is there a difference in the freq of use of boldface by admins and highly central users?\n",
    "t.test(d.admin$bold_freq, d.higheigen$bold_freq)\n",
    "cat(\"effect size (Cohen's d): \", cohensD(d.admin$bold_freq, d.higheigen$bold_freq))"
   ]
  }
 ],
 "metadata": {
  "kernelspec": {
   "display_name": "R",
   "language": "R",
   "name": "ir"
  },
  "language_info": {
   "codemirror_mode": "r",
   "file_extension": ".r",
   "mimetype": "text/x-r-source",
   "name": "R",
   "pygments_lexer": "r",
   "version": "3.2.3"
  }
 },
 "nbformat": 4,
 "nbformat_minor": 2
}
