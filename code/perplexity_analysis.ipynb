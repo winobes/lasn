{
 "cells": [
  {
   "cell_type": "markdown",
   "metadata": {},
   "source": [
    "# Analysis\n",
    "\n",
    "## Setup"
   ]
  },
  {
   "cell_type": "code",
   "execution_count": 15,
   "metadata": {
    "scrolled": true
   },
   "outputs": [
    {
     "data": {
      "text/html": [
       "<table>\n",
       "<thead><tr><th scope=col>user</th><th scope=col>edit_count</th><th scope=col>gender</th><th scope=col>numerical_id</th><th scope=col>admin_ascension</th><th scope=col>admin</th><th scope=col>coord_given_conjunctions</th><th scope=col>coord_given_articles</th><th scope=col>coord_given_prepositions</th><th scope=col>coord_given_adverbs</th><th scope=col>⋯</th><th scope=col>links</th><th scope=col>adverbs</th><th scope=col>articles</th><th scope=col>auxiliary_verbs</th><th scope=col>conjunctions</th><th scope=col>impersonal_pronouns</th><th scope=col>personal_pronouns</th><th scope=col>prepositions</th><th scope=col>quantifiers</th><th scope=col>perplexity</th></tr></thead>\n",
       "<tbody>\n",
       "\t<tr><td>Spidern       </td><td> 3835         </td><td>unknown       </td><td> 8121704      </td><td>              </td><td>False         </td><td>0.00000000    </td><td> 0.0000000    </td><td>0.000000000   </td><td>0.00000000    </td><td>⋯             </td><td>1.0000000     </td><td>0.8333333     </td><td>1.0000000     </td><td>1.0000000     </td><td>0.8333333     </td><td>1.0000000     </td><td>1.0000000     </td><td>0.8333333     </td><td>0.5000000     </td><td>166.250880    </td></tr>\n",
       "\t<tr><td>Politics rule </td><td> 3788         </td><td>unknown       </td><td> 4044194      </td><td>              </td><td>False         </td><td>0.01428571    </td><td>-0.1190476    </td><td>0.285714286   </td><td>0.07142857    </td><td>⋯             </td><td>0.0000000     </td><td>0.5454545     </td><td>0.1818182     </td><td>0.4090909     </td><td>0.4545455     </td><td>0.2272727     </td><td>0.5909091     </td><td>0.5909091     </td><td>0.1818182     </td><td>146.948879    </td></tr>\n",
       "\t<tr><td>Spiderr       </td><td>   26         </td><td>unknown       </td><td> 1190482      </td><td>              </td><td>False         </td><td>        NA    </td><td>        NA    </td><td>         NA   </td><td>        NA    </td><td>⋯             </td><td>1.0000000     </td><td>0.0000000     </td><td>1.0000000     </td><td>1.0000000     </td><td>1.0000000     </td><td>1.0000000     </td><td>1.0000000     </td><td>1.0000000     </td><td>1.0000000     </td><td> 86.968513    </td></tr>\n",
       "\t<tr><td>Dogears       </td><td>10174         </td><td>unknown       </td><td>  733091      </td><td>              </td><td>False         </td><td>        NA    </td><td>        NA    </td><td>         NA   </td><td>        NA    </td><td>⋯             </td><td>0.0000000     </td><td>0.0000000     </td><td>0.0000000     </td><td>0.0000000     </td><td>0.0000000     </td><td>0.0000000     </td><td>0.0000000     </td><td>0.0000000     </td><td>0.0000000     </td><td>  3.205881    </td></tr>\n",
       "\t<tr><td>Anonymous Paul</td><td>  347         </td><td>male          </td><td>12191401      </td><td>              </td><td>False         </td><td>        NA    </td><td>        NA    </td><td>         NA   </td><td>        NA    </td><td>⋯             </td><td>0.0000000     </td><td>0.5000000     </td><td>0.0000000     </td><td>0.0000000     </td><td>0.5000000     </td><td>0.0000000     </td><td>0.5000000     </td><td>0.5000000     </td><td>0.5000000     </td><td>326.737959    </td></tr>\n",
       "\t<tr><td>Woody         </td><td>29905         </td><td>male          </td><td> 1476994      </td><td>              </td><td>False         </td><td>0.03578947    </td><td> 0.0122807    </td><td>0.003634085   </td><td>0.03042362    </td><td>⋯             </td><td>0.4140127     </td><td>0.8980892     </td><td>0.8343949     </td><td>0.8471338     </td><td>0.8407643     </td><td>0.8535032     </td><td>0.9044586     </td><td>0.9299363     </td><td>0.5668790     </td><td>143.753417    </td></tr>\n",
       "</tbody>\n",
       "</table>\n"
      ],
      "text/latex": [
       "\\begin{tabular}{r|llllllllllllllllllllllllllllllllllllll}\n",
       " user & edit\\_count & gender & numerical\\_id & admin\\_ascension & admin & coord\\_given\\_conjunctions & coord\\_given\\_articles & coord\\_given\\_prepositions & coord\\_given\\_adverbs & ⋯ & links & adverbs & articles & auxiliary\\_verbs & conjunctions & impersonal\\_pronouns & personal\\_pronouns & prepositions & quantifiers & perplexity\\\\\n",
       "\\hline\n",
       "\t Spidern        &  3835          & unknown        &  8121704       &                & False          & 0.00000000     &  0.0000000     & 0.000000000    & 0.00000000     & ⋯              & 1.0000000      & 0.8333333      & 1.0000000      & 1.0000000      & 0.8333333      & 1.0000000      & 1.0000000      & 0.8333333      & 0.5000000      & 166.250880    \\\\\n",
       "\t Politics rule  &  3788          & unknown        &  4044194       &                & False          & 0.01428571     & -0.1190476     & 0.285714286    & 0.07142857     & ⋯              & 0.0000000      & 0.5454545      & 0.1818182      & 0.4090909      & 0.4545455      & 0.2272727      & 0.5909091      & 0.5909091      & 0.1818182      & 146.948879    \\\\\n",
       "\t Spiderr        &    26          & unknown        &  1190482       &                & False          &         NA     &         NA     &          NA    &         NA     & ⋯              & 1.0000000      & 0.0000000      & 1.0000000      & 1.0000000      & 1.0000000      & 1.0000000      & 1.0000000      & 1.0000000      & 1.0000000      &  86.968513    \\\\\n",
       "\t Dogears        & 10174          & unknown        &   733091       &                & False          &         NA     &         NA     &          NA    &         NA     & ⋯              & 0.0000000      & 0.0000000      & 0.0000000      & 0.0000000      & 0.0000000      & 0.0000000      & 0.0000000      & 0.0000000      & 0.0000000      &   3.205881    \\\\\n",
       "\t Anonymous Paul &   347          & male           & 12191401       &                & False          &         NA     &         NA     &          NA    &         NA     & ⋯              & 0.0000000      & 0.5000000      & 0.0000000      & 0.0000000      & 0.5000000      & 0.0000000      & 0.5000000      & 0.5000000      & 0.5000000      & 326.737959    \\\\\n",
       "\t Woody          & 29905          & male           &  1476994       &                & False          & 0.03578947     &  0.0122807     & 0.003634085    & 0.03042362     & ⋯              & 0.4140127      & 0.8980892      & 0.8343949      & 0.8471338      & 0.8407643      & 0.8535032      & 0.9044586      & 0.9299363      & 0.5668790      & 143.753417    \\\\\n",
       "\\end{tabular}\n"
      ],
      "text/markdown": [
       "\n",
       "user | edit_count | gender | numerical_id | admin_ascension | admin | coord_given_conjunctions | coord_given_articles | coord_given_prepositions | coord_given_adverbs | ⋯ | links | adverbs | articles | auxiliary_verbs | conjunctions | impersonal_pronouns | personal_pronouns | prepositions | quantifiers | perplexity | \n",
       "|---|---|---|---|---|---|\n",
       "| Spidern        |  3835          | unknown        |  8121704       |                | False          | 0.00000000     |  0.0000000     | 0.000000000    | 0.00000000     | ⋯              | 1.0000000      | 0.8333333      | 1.0000000      | 1.0000000      | 0.8333333      | 1.0000000      | 1.0000000      | 0.8333333      | 0.5000000      | 166.250880     | \n",
       "| Politics rule  |  3788          | unknown        |  4044194       |                | False          | 0.01428571     | -0.1190476     | 0.285714286    | 0.07142857     | ⋯              | 0.0000000      | 0.5454545      | 0.1818182      | 0.4090909      | 0.4545455      | 0.2272727      | 0.5909091      | 0.5909091      | 0.1818182      | 146.948879     | \n",
       "| Spiderr        |    26          | unknown        |  1190482       |                | False          |         NA     |         NA     |          NA    |         NA     | ⋯              | 1.0000000      | 0.0000000      | 1.0000000      | 1.0000000      | 1.0000000      | 1.0000000      | 1.0000000      | 1.0000000      | 1.0000000      |  86.968513     | \n",
       "| Dogears        | 10174          | unknown        |   733091       |                | False          |         NA     |         NA     |          NA    |         NA     | ⋯              | 0.0000000      | 0.0000000      | 0.0000000      | 0.0000000      | 0.0000000      | 0.0000000      | 0.0000000      | 0.0000000      | 0.0000000      |   3.205881     | \n",
       "| Anonymous Paul |   347          | male           | 12191401       |                | False          |         NA     |         NA     |          NA    |         NA     | ⋯              | 0.0000000      | 0.5000000      | 0.0000000      | 0.0000000      | 0.5000000      | 0.0000000      | 0.5000000      | 0.5000000      | 0.5000000      | 326.737959     | \n",
       "| Woody          | 29905          | male           |  1476994       |                | False          | 0.03578947     |  0.0122807     | 0.003634085    | 0.03042362     | ⋯              | 0.4140127      | 0.8980892      | 0.8343949      | 0.8471338      | 0.8407643      | 0.8535032      | 0.9044586      | 0.9299363      | 0.5668790      | 143.753417     | \n",
       "\n",
       "\n"
      ],
      "text/plain": [
       "  user           edit_count gender  numerical_id admin_ascension admin\n",
       "1 Spidern         3835      unknown  8121704                     False\n",
       "2 Politics rule   3788      unknown  4044194                     False\n",
       "3 Spiderr           26      unknown  1190482                     False\n",
       "4 Dogears        10174      unknown   733091                     False\n",
       "5 Anonymous Paul   347      male    12191401                     False\n",
       "6 Woody          29905      male     1476994                     False\n",
       "  coord_given_conjunctions coord_given_articles coord_given_prepositions\n",
       "1 0.00000000                0.0000000           0.000000000             \n",
       "2 0.01428571               -0.1190476           0.285714286             \n",
       "3         NA                       NA                    NA             \n",
       "4         NA                       NA                    NA             \n",
       "5         NA                       NA                    NA             \n",
       "6 0.03578947                0.0122807           0.003634085             \n",
       "  coord_given_adverbs ⋯ links     adverbs   articles  auxiliary_verbs\n",
       "1 0.00000000          ⋯ 1.0000000 0.8333333 1.0000000 1.0000000      \n",
       "2 0.07142857          ⋯ 0.0000000 0.5454545 0.1818182 0.4090909      \n",
       "3         NA          ⋯ 1.0000000 0.0000000 1.0000000 1.0000000      \n",
       "4         NA          ⋯ 0.0000000 0.0000000 0.0000000 0.0000000      \n",
       "5         NA          ⋯ 0.0000000 0.5000000 0.0000000 0.0000000      \n",
       "6 0.03042362          ⋯ 0.4140127 0.8980892 0.8343949 0.8471338      \n",
       "  conjunctions impersonal_pronouns personal_pronouns prepositions quantifiers\n",
       "1 0.8333333    1.0000000           1.0000000         0.8333333    0.5000000  \n",
       "2 0.4545455    0.2272727           0.5909091         0.5909091    0.1818182  \n",
       "3 1.0000000    1.0000000           1.0000000         1.0000000    1.0000000  \n",
       "4 0.0000000    0.0000000           0.0000000         0.0000000    0.0000000  \n",
       "5 0.5000000    0.0000000           0.5000000         0.5000000    0.5000000  \n",
       "6 0.8407643    0.8535032           0.9044586         0.9299363    0.5668790  \n",
       "  perplexity\n",
       "1 166.250880\n",
       "2 146.948879\n",
       "3  86.968513\n",
       "4   3.205881\n",
       "5 326.737959\n",
       "6 143.753417"
      ]
     },
     "metadata": {},
     "output_type": "display_data"
    }
   ],
   "source": [
    "d = read.csv(\"../data/wiki/users.csv\", header = TRUE)\n",
    "library(lsr)\n",
    "head(d)"
   ]
  },
  {
   "cell_type": "code",
   "execution_count": 16,
   "metadata": {},
   "outputs": [],
   "source": [
    "# d <- subset(d, eigen_central < 0.6) # eliminates 2 outliers\n",
    "d.admin <- subset(d, admin == \"True\")\n",
    "d.nonadmin <- subset(d, admin == \"False\")\n",
    "d.higheigen <- subset(d, eigen_central_bin == \"True\")\n",
    "d.loweigen <- subset(d, eigen_central_bin == \"False\")"
   ]
  },
  {
   "cell_type": "code",
   "execution_count": 17,
   "metadata": {},
   "outputs": [],
   "source": [
    "d.higheigen.admin <- subset(d, eigen_central_bin == \"True\" & admin == \"True\")\n",
    "d.higheigen.nonadmin <- subset(d, eigen_central_bin == \"True\" & admin == \"False\")\n",
    "d.loweigen.admin <- subset(d, eigen_central_bin == \"False\" & admin == \"True\")\n",
    "d.loweigen.nonadmin <- subset(d, eigen_central_bin == \"False\" & admin == \"False\")\n",
    "\n",
    "# nrow(d.loweigen.admin) # 1703\n",
    "# nrow(d.higheigen.admin) # 77\n",
    "# nrow(d.higheigen.nonadmin) # 120\n",
    "# nrow(d.loweigen.nonadmin) # 20197"
   ]
  },
  {
   "cell_type": "markdown",
   "metadata": {},
   "source": [
    "## Replicating *Centre Stage* results\n",
    "\n",
    "Relationship between power (adminship & centrality) and coordination."
   ]
  },
  {
   "cell_type": "code",
   "execution_count": 7,
   "metadata": {},
   "outputs": [
    {
     "data": {
      "text/plain": [
       "\n",
       "\tSpearman's rank correlation rho\n",
       "\n",
       "data:  d$eigen_central and d$agg_coord_received\n",
       "S = 9.8413e+11, p-value < 2.2e-16\n",
       "alternative hypothesis: true rho is greater than 0\n",
       "sample estimates:\n",
       "      rho \n",
       "0.2041492 \n"
      ]
     },
     "metadata": {},
     "output_type": "display_data"
    }
   ],
   "source": [
    "# Coordination received vs. eigenvector centrality\n",
    "cor.test(d$eigen_central, d$agg_coord_received, alternative=\"greater\", method=\"spearman\", exact = FALSE)"
   ]
  },
  {
   "cell_type": "code",
   "execution_count": 8,
   "metadata": {},
   "outputs": [
    {
     "data": {
      "text/plain": [
       "\n",
       "\tWelch Two Sample t-test\n",
       "\n",
       "data:  d.loweigen$agg_coord_received and d.higheigen$agg_coord_received\n",
       "t = -10.341, df = 3624.2, p-value < 2.2e-16\n",
       "alternative hypothesis: true difference in means is not equal to 0\n",
       "95 percent confidence interval:\n",
       " -0.014351262 -0.009776555\n",
       "sample estimates:\n",
       " mean of x  mean of y \n",
       "0.00465327 0.01671718 \n"
      ]
     },
     "metadata": {},
     "output_type": "display_data"
    },
    {
     "data": {
      "text/html": [
       "0.188671252308597"
      ],
      "text/latex": [
       "0.188671252308597"
      ],
      "text/markdown": [
       "0.188671252308597"
      ],
      "text/plain": [
       "[1] 0.1886713"
      ]
     },
     "metadata": {},
     "output_type": "display_data"
    },
    {
     "data": {
      "text/plain": [
       "\n",
       "\tWelch Two Sample t-test\n",
       "\n",
       "data:  d.nonadmin$agg_coord_received and d.admin$agg_coord_received\n",
       "t = -8.3159, df = 2026.3, p-value < 2.2e-16\n",
       "alternative hypothesis: true difference in means is not equal to 0\n",
       "95 percent confidence interval:\n",
       " -0.01622233 -0.01003100\n",
       "sample estimates:\n",
       "  mean of x   mean of y \n",
       "0.005038849 0.018165512 \n"
      ]
     },
     "metadata": {},
     "output_type": "display_data"
    },
    {
     "data": {
      "text/html": [
       "0.205227255564455"
      ],
      "text/latex": [
       "0.205227255564455"
      ],
      "text/markdown": [
       "0.205227255564455"
      ],
      "text/plain": [
       "[1] 0.2052273"
      ]
     },
     "metadata": {},
     "output_type": "display_data"
    },
    {
     "data": {
      "text/plain": [
       "\n",
       "\tWelch Two Sample t-test\n",
       "\n",
       "data:  d.higheigen$agg_coord_received and d.admin$agg_coord_received\n",
       "t = -0.78355, df = 3269.8, p-value = 0.4334\n",
       "alternative hypothesis: true difference in means is not equal to 0\n",
       "95 percent confidence interval:\n",
       " -0.005072540  0.002175873\n",
       "sample estimates:\n",
       " mean of x  mean of y \n",
       "0.01671718 0.01816551 \n"
      ]
     },
     "metadata": {},
     "output_type": "display_data"
    },
    {
     "data": {
      "text/html": [
       "0.025289459819052"
      ],
      "text/latex": [
       "0.025289459819052"
      ],
      "text/markdown": [
       "0.025289459819052"
      ],
      "text/plain": [
       "[1] 0.02528946"
      ]
     },
     "metadata": {},
     "output_type": "display_data"
    }
   ],
   "source": [
    "# Do highgly central and non-central users receive different amounts of coordination? YES\n",
    "t.test(d.loweigen$agg_coord_received, d.higheigen$agg_coord_received)\n",
    "cohensD(d.loweigen$agg_coord_received, d.higheigen$agg_coord_received)\n",
    "# Do admins and non-admins receive different amounts of coordination? YES\n",
    "t.test(d.nonadmin$agg_coord_received, d.admin$agg_coord_received)\n",
    "cohensD(d.nonadmin$agg_coord_received, d.admin$agg_coord_received)\n",
    "# Do hihgly central users and admins receive different amounts of coordination? NO\n",
    "t.test(d.higheigen$agg_coord_received, d.admin$agg_coord_received)\n",
    "cohensD(d.higheigen$agg_coord_received, d.admin$agg_coord_received)"
   ]
  },
  {
   "cell_type": "code",
   "execution_count": 9,
   "metadata": {},
   "outputs": [
    {
     "data": {
      "text/plain": [
       "\n",
       "\tWelch Two Sample t-test\n",
       "\n",
       "data:  d.higheigen.admin$agg_coord_received and d.higheigen.nonadmin$agg_coord_received\n",
       "t = 1.8379, df = 1547, p-value = 0.06627\n",
       "alternative hypothesis: true difference in means is not equal to 0\n",
       "95 percent confidence interval:\n",
       " -0.0002816625  0.0086586796\n",
       "sample estimates:\n",
       " mean of x  mean of y \n",
       "0.01960763 0.01541912 \n"
      ]
     },
     "metadata": {},
     "output_type": "display_data"
    },
    {
     "data": {
      "text/html": [
       "0.0781663212683951"
      ],
      "text/latex": [
       "0.0781663212683951"
      ],
      "text/markdown": [
       "0.0781663212683951"
      ],
      "text/plain": [
       "[1] 0.07816632"
      ]
     },
     "metadata": {},
     "output_type": "display_data"
    },
    {
     "data": {
      "text/plain": [
       "\n",
       "\tWelch Two Sample t-test\n",
       "\n",
       "data:  d.loweigen.admin$agg_coord_received and d.loweigen.nonadmin$agg_coord_received\n",
       "t = 5.4961, df = 999.6, p-value = 4.929e-08\n",
       "alternative hypothesis: true difference in means is not equal to 0\n",
       "95 percent confidence interval:\n",
       " 0.008299358 0.017516909\n",
       "sample estimates:\n",
       "  mean of x   mean of y \n",
       "0.016930984 0.004022851 \n"
      ]
     },
     "metadata": {},
     "output_type": "display_data"
    },
    {
     "data": {
      "text/html": [
       "0.198123210581878"
      ],
      "text/latex": [
       "0.198123210581878"
      ],
      "text/markdown": [
       "0.198123210581878"
      ],
      "text/plain": [
       "[1] 0.1981232"
      ]
     },
     "metadata": {},
     "output_type": "display_data"
    }
   ],
   "source": [
    "# This is what we had tested in Centre Stage:\n",
    "# among highy central, do admins receive more coordination? NO\n",
    "t.test(d.higheigen.admin$agg_coord_received, d.higheigen.nonadmin$agg_coord_received)\n",
    "cohensD(d.higheigen.admin$agg_coord_received, d.higheigen.nonadmin$agg_coord_received)\n",
    "# among non-central users, do admins receive more coordination? YES\n",
    "t.test(d.loweigen.admin$agg_coord_received, d.loweigen.nonadmin$agg_coord_received)\n",
    "cohensD(d.loweigen.admin$agg_coord_received, d.loweigen.nonadmin$agg_coord_received)"
   ]
  },
  {
   "cell_type": "code",
   "execution_count": 10,
   "metadata": {},
   "outputs": [
    {
     "data": {
      "text/plain": [
       "\n",
       "\tWelch Two Sample t-test\n",
       "\n",
       "data:  d.loweigen.admin$agg_coord_received and d.higheigen.admin$agg_coord_received\n",
       "t = -0.90209, df = 1675, p-value = 0.3671\n",
       "alternative hypothesis: true difference in means is not equal to 0\n",
       "95 percent confidence interval:\n",
       " -0.008496399  0.003143107\n",
       "sample estimates:\n",
       " mean of x  mean of y \n",
       "0.01693098 0.01960763 \n"
      ]
     },
     "metadata": {},
     "output_type": "display_data"
    },
    {
     "data": {
      "text/html": [
       "0.0429451577921131"
      ],
      "text/latex": [
       "0.0429451577921131"
      ],
      "text/markdown": [
       "0.0429451577921131"
      ],
      "text/plain": [
       "[1] 0.04294516"
      ]
     },
     "metadata": {},
     "output_type": "display_data"
    },
    {
     "data": {
      "text/plain": [
       "\n",
       "\tWelch Two Sample t-test\n",
       "\n",
       "data:  d.loweigen.nonadmin$agg_coord_received and d.higheigen.nonadmin$agg_coord_received\n",
       "t = -8.2557, df = 2271.3, p-value = 2.529e-16\n",
       "alternative hypothesis: true difference in means is not equal to 0\n",
       "95 percent confidence interval:\n",
       " -0.014103260 -0.008689281\n",
       "sample estimates:\n",
       "  mean of x   mean of y \n",
       "0.004022851 0.015419121 \n"
      ]
     },
     "metadata": {},
     "output_type": "display_data"
    },
    {
     "data": {
      "text/html": [
       "0.178008052017514"
      ],
      "text/latex": [
       "0.178008052017514"
      ],
      "text/markdown": [
       "0.178008052017514"
      ],
      "text/plain": [
       "[1] 0.1780081"
      ]
     },
     "metadata": {},
     "output_type": "display_data"
    }
   ],
   "source": [
    "# We had not tested this counterpart, however: \n",
    "# among admins, do highly central users receive more coordination? NO\n",
    "t.test(d.loweigen.admin$agg_coord_received, d.higheigen.admin$agg_coord_received)\n",
    "cohensD(d.loweigen.admin$agg_coord_received, d.higheigen.admin$agg_coord_received)\n",
    "# among non-admins, do highly central users receive more coordination? YES\n",
    "t.test(d.loweigen.nonadmin$agg_coord_received, d.higheigen.nonadmin$agg_coord_received)\n",
    "cohensD(d.loweigen.nonadmin$agg_coord_received, d.higheigen.nonadmin$agg_coord_received)"
   ]
  },
  {
   "cell_type": "markdown",
   "metadata": {},
   "source": [
    "-  Weak positive correlation between coordination received and centrality: r = 2.0 p < 0.001\n",
    "-  More coordination received by highly central than low central (p < 0.001, d=0.2)\n",
    "-  More coodination received by admins than non-admins (p < 0.001, d=0.18)\n",
    "-  The amount of coordination received by admins vs highly central users is not significantly different.\n",
    "-  Among highly central users, there is no significant effect of adminship\n",
    "-  Among admins, there is no significant effect of centrality\n"
   ]
  },
  {
   "cell_type": "markdown",
   "metadata": {},
   "source": [
    "# Perplexity"
   ]
  },
  {
   "cell_type": "code",
   "execution_count": 20,
   "metadata": {},
   "outputs": [
    {
     "data": {
      "text/plain": [
       "\n",
       "\tWelch Two Sample t-test\n",
       "\n",
       "data:  d.loweigen$perplexity and d.higheigen$perplexity\n",
       "t = 0.42519, df = 11287, p-value = 0.6707\n",
       "alternative hypothesis: true difference in means is not equal to 0\n",
       "95 percent confidence interval:\n",
       " -2.619021  4.069941\n",
       "sample estimates:\n",
       "mean of x mean of y \n",
       " 150.0416  149.3161 \n"
      ]
     },
     "metadata": {},
     "output_type": "display_data"
    },
    {
     "data": {
      "text/html": [
       "0.00403288016839759"
      ],
      "text/latex": [
       "0.00403288016839759"
      ],
      "text/markdown": [
       "0.00403288016839759"
      ],
      "text/plain": [
       "[1] 0.00403288"
      ]
     },
     "metadata": {},
     "output_type": "display_data"
    },
    {
     "data": {
      "text/plain": [
       "\n",
       "\tWelch Two Sample t-test\n",
       "\n",
       "data:  d.nonadmin$perplexity and d.admin$perplexity\n",
       "t = 4.9347, df = 9597.5, p-value = 8.162e-07\n",
       "alternative hypothesis: true difference in means is not equal to 0\n",
       "95 percent confidence interval:\n",
       "  4.693949 10.880608\n",
       "sample estimates:\n",
       "mean of x mean of y \n",
       " 150.5163  142.7290 \n"
      ]
     },
     "metadata": {},
     "output_type": "display_data"
    },
    {
     "data": {
      "text/html": [
       "0.0432926408770635"
      ],
      "text/latex": [
       "0.0432926408770635"
      ],
      "text/markdown": [
       "0.0432926408770635"
      ],
      "text/plain": [
       "[1] 0.04329264"
      ]
     },
     "metadata": {},
     "output_type": "display_data"
    }
   ],
   "source": [
    "t.test(d.loweigen$perplexity, d.higheigen$perplexity)\n",
    "cohensD(d.loweigen$perplexity, d.higheigen$perplexity)\n",
    "\n",
    "t.test(d.nonadmin$perplexity, d.admin$perplexity)\n",
    "cohensD(d.nonadmin$perplexity, d.admin$perplexity)"
   ]
  },
  {
   "cell_type": "code",
   "execution_count": 21,
   "metadata": {},
   "outputs": [
    {
     "data": {
      "image/png": "[encoded data removed]",
      "text/plain": [
       "plot without title"
      ]
     },
     "metadata": {},
     "output_type": "display_data"
    }
   ],
   "source": [
    "plot(d$eigen_central, d$perplexity)"
   ]
  },
  {
   "cell_type": "code",
   "execution_count": null,
   "metadata": {},
   "outputs": [],
   "source": [
    "t.test(d.)"
   ]
  }
 ],
 "metadata": {
  "kernelspec": {
   "display_name": "R",
   "language": "R",
   "name": "ir"
  },
  "language_info": {
   "codemirror_mode": "r",
   "file_extension": ".r",
   "mimetype": "text/x-r-source",
   "name": "R",
   "pygments_lexer": "r",
   "version": "3.2.3"
  }
 },
 "nbformat": 4,
 "nbformat_minor": 2
}
