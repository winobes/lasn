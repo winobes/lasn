{
 "cells": [
  {
   "cell_type": "code",
   "execution_count": 70,
   "metadata": {},
   "outputs": [
    {
     "data": {
      "application/vnd.jupyter.widget-view+json": {
       "model_id": "e74452fe508a420bb3f1c69b5973a409",
       "version_major": 2,
       "version_minor": 0
      },
      "text/plain": [
       "HBox(children=(IntProgress(value=1, bar_style='info', max=1), HTML(value='')))"
      ]
     },
     "metadata": {},
     "output_type": "display_data"
    },
    {
     "name": "stdout",
     "output_type": "stream",
     "text": [
      "\n"
     ]
    }
   ],
   "source": [
    "from data import wiki\n",
    "from data import corpus\n",
    "import alignment\n",
    "\n",
    "import nltk\n",
    "import pandas as pd\n",
    "import pickle\n",
    "from tqdm import tqdm_notebook as tqdm\n",
    "\n",
    "tqdm().pandas()\n",
    "\n",
    "posts = wiki.load_posts()\n",
    "pairs = corpus.get_reply_pairs(posts)\n",
    "users = wiki.load_users(posts=posts)"
   ]
  },
  {
   "cell_type": "code",
   "execution_count": 90,
   "metadata": {},
   "outputs": [],
   "source": [
    "markers = alignment.load_markers()"
   ]
  },
  {
   "cell_type": "code",
   "execution_count": 107,
   "metadata": {},
   "outputs": [],
   "source": [
    "def scp_alignment_towards_group(markers, group, users, posts):\n",
    "    markers_ab = list(map(lambda x: x+'_a', markers)) + list(map(lambda x: x+'_b', markers))\n",
    "    df = pairs[['user_a', 'user_b'] + markers_ab]\\\n",
    "        .merge(users[[group]].add_suffix('_a'), how='left', left_on='user_a', right_index=True)\\\n",
    "        .merge(users[[group]].add_suffix('_b'), how='left', left_on='user_b', right_index=True)\n",
    "    df.head()\n",
    "    for m in markers:\n",
    "        df[m+'_a'] = df[m+'_a'] > 0\n",
    "        df[m+'_b'] = df[m+'_b'] > 0\n",
    "        posts[m+'_bool'] = posts[m] > 0\n",
    "        prior_m = posts[['user',m+'_bool']].groupby('user').mean()\n",
    "        scp = df[df[m+'_a']][[group+'_a', 'user_b', m+'_b']].groupby([group+'_a', 'user_b']).mean().reset_index(group+'_a').join(prior_m)\n",
    "        scp['scp'] = scp[m+'_bool'] - scp[m+'_b']\n",
    "        print(m)\n",
    "        print(scp[[group+'_a', 'scp']].groupby(group+'_a').mean())\n",
    "        print()"
   ]
  },
  {
   "cell_type": "code",
   "execution_count": 108,
   "metadata": {},
   "outputs": [
    {
     "name": "stdout",
     "output_type": "stream",
     "text": [
      "conjunctions\n",
      "              scp\n",
      "admin_a          \n",
      "False    0.005012\n",
      "True     0.012089\n",
      "\n",
      "articles\n",
      "              scp\n",
      "admin_a          \n",
      "False    0.001644\n",
      "True     0.018751\n",
      "\n",
      "prepositions\n",
      "              scp\n",
      "admin_a          \n",
      "False    0.004992\n",
      "True     0.018455\n",
      "\n",
      "adverbs\n",
      "              scp\n",
      "admin_a          \n",
      "False   -0.002145\n",
      "True     0.012612\n",
      "\n",
      "quantifiers\n",
      "              scp\n",
      "admin_a          \n",
      "False   -0.033471\n",
      "True    -0.025629\n",
      "\n",
      "impersonal_pronouns\n",
      "              scp\n",
      "admin_a          \n",
      "False   -0.014031\n",
      "True    -0.000033\n",
      "\n",
      "personal_pronouns\n",
      "              scp\n",
      "admin_a          \n",
      "False    0.018568\n",
      "True     0.035509\n",
      "\n",
      "auxiliary_verbs\n",
      "              scp\n",
      "admin_a          \n",
      "False   -0.008239\n",
      "True     0.013442\n",
      "\n"
     ]
    }
   ],
   "source": [
    "scp_alignment_towards_group(markers, 'admin', users, posts)"
   ]
  },
  {
   "cell_type": "code",
   "execution_count": 124,
   "metadata": {},
   "outputs": [
    {
     "data": {
      "text/plain": [
       "False    29007\n",
       "True      1893\n",
       "Name: highly_central, dtype: int64"
      ]
     },
     "execution_count": 124,
     "metadata": {},
     "output_type": "execute_result"
    }
   ],
   "source": [
    "threshold = users.centrality.mean() + users.centrality.std()\n",
    "users['highly_central'] = (users['centrality'] > threshold)\n",
    "users.highly_central.value_counts()"
   ]
  },
  {
   "cell_type": "code",
   "execution_count": 125,
   "metadata": {},
   "outputs": [
    {
     "name": "stdout",
     "output_type": "stream",
     "text": [
      "conjunctions\n",
      "                       scp\n",
      "highly_central_a          \n",
      "False             0.006840\n",
      "True              0.009705\n",
      "\n",
      "articles\n",
      "                       scp\n",
      "highly_central_a          \n",
      "False             0.003028\n",
      "True              0.013799\n",
      "\n",
      "prepositions\n",
      "                       scp\n",
      "highly_central_a          \n",
      "False             0.005411\n",
      "True              0.016019\n",
      "\n",
      "adverbs\n",
      "                       scp\n",
      "highly_central_a          \n",
      "False            -0.000134\n",
      "True              0.010870\n",
      "\n",
      "quantifiers\n",
      "                       scp\n",
      "highly_central_a          \n",
      "False            -0.035247\n",
      "True             -0.024755\n",
      "\n",
      "impersonal_pronouns\n",
      "                       scp\n",
      "highly_central_a          \n",
      "False            -0.012832\n",
      "True             -0.006710\n",
      "\n",
      "personal_pronouns\n",
      "                       scp\n",
      "highly_central_a          \n",
      "False             0.020581\n",
      "True              0.030002\n",
      "\n",
      "auxiliary_verbs\n",
      "                       scp\n",
      "highly_central_a          \n",
      "False            -0.003911\n",
      "True              0.004550\n",
      "\n"
     ]
    }
   ],
   "source": [
    "scp_alignment_towards_group(markers, 'highly_central', users, posts)"
   ]
  },
  {
   "cell_type": "code",
   "execution_count": 79,
   "metadata": {},
   "outputs": [
    {
     "data": {
      "text/html": [
       "<div>\n",
       "<style scoped>\n",
       "    .dataframe tbody tr th:only-of-type {\n",
       "        vertical-align: middle;\n",
       "    }\n",
       "\n",
       "    .dataframe tbody tr th {\n",
       "        vertical-align: top;\n",
       "    }\n",
       "\n",
       "    .dataframe thead th {\n",
       "        text-align: right;\n",
       "    }\n",
       "</style>\n",
       "<table border=\"1\" class=\"dataframe\">\n",
       "  <thead>\n",
       "    <tr style=\"text-align: right;\">\n",
       "      <th></th>\n",
       "      <th>scp</th>\n",
       "    </tr>\n",
       "    <tr>\n",
       "      <th>admin_a</th>\n",
       "      <th></th>\n",
       "    </tr>\n",
       "  </thead>\n",
       "  <tbody>\n",
       "    <tr>\n",
       "      <th>False</th>\n",
       "      <td>0.005012</td>\n",
       "    </tr>\n",
       "    <tr>\n",
       "      <th>True</th>\n",
       "      <td>0.012089</td>\n",
       "    </tr>\n",
       "  </tbody>\n",
       "</table>\n",
       "</div>"
      ],
      "text/plain": [
       "              scp\n",
       "admin_a          \n",
       "False    0.005012\n",
       "True     0.012089"
      ]
     },
     "execution_count": 79,
     "metadata": {},
     "output_type": "execute_result"
    }
   ],
   "source": []
  },
  {
   "cell_type": "code",
   "execution_count": null,
   "metadata": {},
   "outputs": [],
   "source": []
  }
 ],
 "metadata": {
  "kernelspec": {
   "display_name": "lasn",
   "language": "python",
   "name": "lasn"
  },
  "language_info": {
   "codemirror_mode": {
    "name": "ipython",
    "version": 3
   },
   "file_extension": ".py",
   "mimetype": "text/x-python",
   "name": "python",
   "nbconvert_exporter": "python",
   "pygments_lexer": "ipython3",
   "version": "3.7.0"
  }
 },
 "nbformat": 4,
 "nbformat_minor": 2
}
