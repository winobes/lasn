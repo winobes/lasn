{
 "cells": [
  {
   "cell_type": "code",
   "execution_count": null,
   "metadata": {},
   "outputs": [],
   "source": [
    "from data import wiki\n",
    "from data import corpus\n",
    "import alignment\n",
    "\n",
    "import nltk\n",
    "import pandas as pd\n",
    "import numpy as np\n",
    "import pickle\n",
    "\n",
    "from tqdm import tqdm_notebook as tqdm\n",
    "from IPython.display import display, clear_output\n",
    "import matplotlib.pyplot as plt\n",
    "%matplotlib inline\n",
    "\n",
    "tqdm().pandas()\n",
    "\n",
    "markers = alignment.load_markers()\n",
    "markers_list = ['quantifiers', 'impersonal_pronouns','adverbs', \n",
    "    'articles', 'auxiliary_verbs', 'conjunctions',  \n",
    "    'personal_pronouns', 'prepositions']\n",
    "\n",
    "posts = wiki.load_posts()\n",
    "posts = corpus.tokenize_posts(posts, lower_case=True, overwrite=False)\n",
    "posts = corpus.detect_markers(posts, markers, overwrite=False)\n",
    "\n",
    "pairs = corpus.get_reply_pairs(posts)\n",
    "users = wiki.load_users(posts=posts)\n",
    "\n",
    "wiki.save_posts(posts, overwrite=False)\n",
    "wiki.save_users(users, overwrite=False)"
   ]
  },
  {
   "cell_type": "markdown",
   "metadata": {},
   "source": [
    "Echoes of Power: given a set of exchanges $(u_a, u_b) \\in U_{(A,b)}$ of user $b$ replying to users in group $A$, we define the coordination of $b$ _towards_ $A$ as:\n",
    "$$\n",
    "C^m(b,A) = P[\\mathcal{E}_m(u_b) \\mid \\mathcal{E}_m(u_a)] - P[\\mathcal{E}_m(u_b)]\n",
    "$$\n",
    "\n",
    "where $\\mathcal{E}_m(u)$ means is $\\mathtt{true}$ iff utterance $u$ exhibits marker $m$.\n",
    "\n",
    "We estimate the probabilities as follows:\n",
    "$$\n",
    "\\begin{align*}\n",
    "P[\\mathcal{E}_m(u_b)] &\\approx \\frac{|\\{\\mathcal{E}_m(u_b) \\mid (u_a, u_b) \\in {U_{(A,b)}}\\}|}{|U_{A,b}|}\\\\\n",
    "P[\\mathcal{E}_m(u_b) \\mid \\mathcal{E}_m(u_a)] &\\approx \\frac{|\\{\\mathcal{E}_m(u_a)\\land\\mathcal{E}_m(u_b) \\mid (u_a, u_b) \\in {U_{(A,b)}}\\}|}{|\\{\\mathcal{E}_m(u_a) \\mid (u_a, u_b) \\in {U_{(A,b)}}\\}|}\n",
    "\\end{align*}\n",
    "$$"
   ]
  },
  {
   "cell_type": "code",
   "execution_count": 2,
   "metadata": {},
   "outputs": [
    {
     "name": "stdout",
     "output_type": "stream",
     "text": [
      "Threshold centrality: 0.8344793851197967\n"
     ]
    }
   ],
   "source": [
    "posts['length'] = posts.tokens.apply(len)\n",
    "\n",
    "# add users\n",
    "df = posts.merge(users, left_on='user', right_index=True)\n",
    "\n",
    "# binarize centrality\n",
    "threshold = users.centrality.mean() + users.centrality.std()\n",
    "df['highly_central'] = (df['centrality'] > threshold)\n",
    "print(\"Threshold centrality: {}\".format(threshold))\n",
    "\n",
    "# merge into reply pairs\n",
    "df = df.merge(df, left_index=True, right_on='reply_to', suffixes=('_a', '_b'))"
   ]
  },
  {
   "cell_type": "code",
   "execution_count": 3,
   "metadata": {},
   "outputs": [],
   "source": [
    "markers_a = [m+'_a' for m in markers]\n",
    "markers_b = [m+'_b' for m in markers]"
   ]
  },
  {
   "cell_type": "code",
   "execution_count": 4,
   "metadata": {},
   "outputs": [],
   "source": [
    "def scp(groupA, df):\n",
    "    \n",
    "    groupA = groupA+'_a'\n",
    "   \n",
    "    # binarize marker presence\n",
    "    ma = (df[markers_a] > 0).rename(dict(zip(markers_a, markers_list)), axis=1)\n",
    "    mb = (df[markers_b] > 0).rename(dict(zip(markers_b, markers_list)), axis=1)\n",
    "    mab = ma & mb\n",
    "\n",
    "    ma[groupA], ma['user_b'] = df[groupA], df['user_b']\n",
    "    mb[groupA], mb['user_b'] = df[groupA], df['user_b']\n",
    "    mab[groupA], mab['user_b'] = df[groupA], df['user_b']\n",
    "    \n",
    "    a = ma.groupby([groupA, 'user_b']).sum()\n",
    "    b = mb.groupby([groupA, 'user_b']).sum()\n",
    "    ab = mab.groupby([groupA, 'user_b']).sum()\n",
    "    total = df.groupby([groupA, 'user_b']).size()\n",
    "    total = pd.concat([total] * len(markers), keys=markers_list, axis=1) # reshape to match others\n",
    "\n",
    "    p_base = b.div(total)\n",
    "    p_cond = ab.div(a)\n",
    "    p_cond = p_cond.replace([np.inf, -np.inf], np.nan)\n",
    "    \n",
    "    scp = (p_cond - p_base)\n",
    "    \n",
    "    agg1 = scp.dropna().mean(axis=1)\n",
    "    agg2 = scp.fillna(scp.mean(level=0)).mean(axis=1)\n",
    "    agg3 = scp.transpose().fillna(scp.mean(axis=1)).transpose().mean(axis=1)\n",
    "    scp['agg1'], scp['agg2'], scp['agg3'] = agg1, agg2, agg3\n",
    "    \n",
    "    return scp"
   ]
  },
  {
   "cell_type": "code",
   "execution_count": 5,
   "metadata": {},
   "outputs": [],
   "source": [
    "admin_scp = scp('admin', df)\n",
    "central_scp = scp('highly_central', df)"
   ]
  },
  {
   "cell_type": "code",
   "execution_count": 6,
   "metadata": {},
   "outputs": [
    {
     "data": {
      "image/png": "[encoded data removed]",
      "text/plain": [
       "<Figure size 720x360 with 2 Axes>"
      ]
     },
     "metadata": {
      "needs_background": "light"
     },
     "output_type": "display_data"
    }
   ],
   "source": [
    "data = (admin_scp, central_scp)\n",
    "labels = (['admin', 'non-admin'], ['central', 'non-central'])\n",
    "colors = (['violet', 'darkviolet'], ['palegreen', 'darkgreen'])\n",
    "groups = [True, False]\n",
    "title = 'Coordination Towards Group'\n",
    "stats = ['agg1', 'agg2', 'agg3'] + markers_list\n",
    "\n",
    "fig, axs = plt.subplots(nrows=1, ncols=2, sharex=True, sharey=True, figsize=(10,5))\n",
    "ind = np.arange(len(stats))\n",
    "width = 0.35\n",
    "\n",
    "for ax, d, l, c in zip(axs, data, labels, colors):\n",
    "    p = []\n",
    "    for i, group in enumerate(groups):\n",
    "        values = [d.mean(level=0).loc[group].loc[m] * 100 for m in stats]\n",
    "        p.append(ax.bar(ind+i*width, list(values), width=width, color=c[i]))\n",
    "    ax.legend((p[i][0] for i in range(len(p))), l)\n",
    "    ax.set_title(title)\n",
    "    ax.set_xticklabels(stats)\n",
    "    ax.set_xticks(ind+width)\n",
    "    for tick in ax.get_xticklabels():\n",
    "        tick.set_rotation(90)"
   ]
  },
  {
   "cell_type": "markdown",
   "metadata": {},
   "source": [
    "# WSCP"
   ]
  },
  {
   "cell_type": "markdown",
   "metadata": {},
   "source": [
    "Word-based SCP is similar to SCP, but instead of\n",
    "comparing the probability of $u_b$ exhibiting $m$,\n",
    "we compare the probability that a given word $w$ in\n",
    "$u_b$ is in $m$ (the set of words constituting the marker).\n",
    "\n",
    "Coordination of user $b$ towards group $A$ is defined:\n",
    "$$\n",
    "C^m(b,A) = P[w_b \\in m \\mid \\mathcal{E}_m(u_a)] - P[w_b\\in m]\n",
    "$$\n",
    "\n",
    "Where $P[w_b \\in m \\mid \\mathcal{E}_m(u_a)]$ is estimated by the frequency of $m$ tokens over all posts in $\\{(u_a,u_b)\\in U_{(a,b)}\\mid \\mathcal{E}_m(u_a)\\}$\n",
    "\n",
    "And $P[w_b \\in m]$ is estimated by the frequency of $m$ tokens in all posts by $b$ (not just those in $U_{a,b}$)."
   ]
  },
  {
   "cell_type": "code",
   "execution_count": 7,
   "metadata": {},
   "outputs": [],
   "source": [
    "def wscp(posts, df, groupA):\n",
    "    \n",
    "    def base_prob_m(m):\n",
    "\n",
    "        base_m_count = posts.groupby('user')[m].sum()\n",
    "        base_word_count = posts.groupby('user')['length'].sum()\n",
    "        base_prob = base_m_count / base_word_count\n",
    "        return base_prob\n",
    "\n",
    "    def cond_prob_m(m):\n",
    "        cond_m_count = df[ma_bin[m]].groupby([groupA+'_a', 'user_b'])[m+'_b'].sum()\n",
    "        cond_word_count = df[ma_bin[m]].groupby([groupA+'_a', 'user_b'])['length_b'].sum()\n",
    "        cond_prob = cond_m_count / cond_word_count\n",
    "        return cond_prob\n",
    "\n",
    "    ma_bin = (df[markers_a] > 0).rename(dict(zip(markers_a, markers_list)), axis=1)\n",
    "    base_prob = pd.DataFrame({m: base_prob_m(m) for m in markers})\n",
    "    cond_prob = pd.DataFrame({m: cond_prob_m(m) for m in markers})\n",
    "    \n",
    "    wscp = cond_prob.subtract(base_prob, level=1)\n",
    "    \n",
    "    agg1 = wscp.dropna().mean(axis=1)\n",
    "    agg2 = wscp.fillna(wscp.mean(level=0)).mean(axis=1)\n",
    "    agg3 = wscp.transpose().fillna(wscp.mean(axis=1)).transpose().mean(axis=1)\n",
    "    wscp['agg1'], wscp['agg2'], wscp['agg3'] = agg1, agg2, agg3\n",
    "    \n",
    "    return wscp"
   ]
  },
  {
   "cell_type": "code",
   "execution_count": 8,
   "metadata": {},
   "outputs": [],
   "source": [
    "admin_wscp = wscp(posts, df, 'admin')\n",
    "central_wscp = wscp(posts, df, 'highly_central')"
   ]
  },
  {
   "cell_type": "code",
   "execution_count": 9,
   "metadata": {},
   "outputs": [
    {
     "data": {
      "image/png": "[encoded data removed]",
      "text/plain": [
       "<Figure size 720x360 with 2 Axes>"
      ]
     },
     "metadata": {
      "needs_background": "light"
     },
     "output_type": "display_data"
    }
   ],
   "source": [
    "data = (admin_wscp, central_wscp)\n",
    "labels = (['admin', 'non-admin'], ['central', 'non-central'])\n",
    "colors = (['violet', 'darkviolet'], ['palegreen', 'darkgreen'])\n",
    "groups = [True, False]\n",
    "title = 'Coordination Towards Group'\n",
    "stats = ['agg1', 'agg2', 'agg3'] + markers_list\n",
    "\n",
    "fig, axs = plt.subplots(nrows=1, ncols=2, sharex=True, sharey=True, figsize=(10,5))\n",
    "ind = np.arange(len(stats))\n",
    "width = 0.35\n",
    "\n",
    "for ax, d, l, c in zip(axs, data, labels, colors):\n",
    "    p = []\n",
    "    for i, group in enumerate(groups):\n",
    "        values = [d.mean(level=0).loc[group].loc[m] * 100 for m in stats]\n",
    "        p.append(ax.bar(ind+i*width, list(values), width=width, color=c[i]))\n",
    "    ax.legend((p[i][0] for i in range(len(p))), l)\n",
    "    ax.set_title(title)\n",
    "    ax.set_xticklabels(stats)\n",
    "    ax.set_xticks(ind+width)\n",
    "    for tick in ax.get_xticklabels():\n",
    "        tick.set_rotation(90)"
   ]
  },
  {
   "cell_type": "markdown",
   "metadata": {},
   "source": [
    "# Correlation with centrality\n",
    "\n",
    "How much does a user's centrality correlate with their degree of style coordination with different groups?\n"
   ]
  },
  {
   "cell_type": "markdown",
   "metadata": {},
   "source": [
    "## SCP"
   ]
  },
  {
   "cell_type": "code",
   "execution_count": 55,
   "metadata": {},
   "outputs": [
    {
     "name": "stdout",
     "output_type": "stream",
     "text": [
      "Correlation between SCP coordination given & centrality\n",
      "Coordination given to admins\n",
      "                    r        p-value\n",
      "quantifiers         0.04149  0.00022\n",
      "impersonal_pronouns 0.02912  0.00973\n",
      "adverbs             0.04793  0.00001\n",
      "articles            0.02445  0.02813\n",
      "auxiliary_verbs     0.03248  0.01055\n",
      "conjunctions        0.05119  0.00001\n",
      "personal_pronouns   0.03419  0.00209\n",
      "prepositions        0.05226  0.00000\n",
      "agg1                0.07086  0.00000\n",
      "agg2                0.06943  0.00000\n",
      "agg3                0.07659  0.00000\n",
      "\n",
      "Coordination given to non-admins\n",
      "                    r        p-value\n",
      "quantifiers         0.03076  0.00046\n",
      "impersonal_pronouns 0.03901  0.00001\n",
      "adverbs             0.02228  0.00995\n",
      "articles            0.01411  0.10582\n",
      "auxiliary_verbs     0.05493  0.00000\n",
      "conjunctions        0.05165  0.00000\n",
      "personal_pronouns   0.02888  0.00089\n",
      "prepositions        0.03777  0.00001\n",
      "agg1                0.07804  0.00000\n",
      "agg2                0.06405  0.00000\n",
      "agg3                0.06963  0.00000\n",
      "\n"
     ]
    }
   ],
   "source": [
    "import scipy.stats as stats\n",
    "\n",
    "print(\"Correlation between SCP coordination given & centrality\")\n",
    "for admin in(True, False):\n",
    "    print(\"Coordination given to {}admins\".format('' if admin else \"non-\"))\n",
    "    print(20*\" \" +\"{:6}   {:6}\".format(\"r\", \"p-value\"))\n",
    "    a = admin_scp.loc[admin]\n",
    "    a['centrality'] = users['centrality']\n",
    "    for m in markers_list + ['agg1', 'agg2', 'agg3']:\n",
    "        b = a[['centrality', m]].dropna()\n",
    "        r, p_value = stats.pearsonr(b['centrality'], b[m])\n",
    "        print(\"{:20}{:.5f}  {:.5f}\".format(m,r, p_value))\n",
    "    print()"
   ]
  },
  {
   "cell_type": "code",
   "execution_count": 54,
   "metadata": {},
   "outputs": [
    {
     "name": "stdout",
     "output_type": "stream",
     "text": [
      "Correlation between SCP coordination given & centrality\n",
      "Coordination given to central users\n",
      "                    r        p-value\n",
      "quantifiers         0.04170  0.00008\n",
      "impersonal_pronouns 0.04045  0.00015\n",
      "adverbs             0.04306  0.00003\n",
      "articles            0.02741  0.00914\n",
      "auxiliary_verbs     0.03553  0.00297\n",
      "conjunctions        0.05774  0.00000\n",
      "personal_pronouns   0.01922  0.06567\n",
      "prepositions        0.03926  0.00018\n",
      "agg1                0.06628  0.00000\n",
      "agg2                0.06868  0.00000\n",
      "agg3                0.07640  0.00000\n",
      "\n",
      "Coordination given to non-central users\n",
      "                    r        p-value\n",
      "quantifiers         0.03258  0.00029\n",
      "impersonal_pronouns 0.03157  0.00049\n",
      "adverbs             0.02064  0.01985\n",
      "articles            0.01403  0.11658\n",
      "auxiliary_verbs     0.05734  0.00000\n",
      "conjunctions        0.05696  0.00000\n",
      "personal_pronouns   0.02970  0.00087\n",
      "prepositions        0.04418  0.00000\n",
      "agg1                0.08008  0.00000\n",
      "agg2                0.06725  0.00000\n",
      "agg3                0.07267  0.00000\n",
      "\n"
     ]
    }
   ],
   "source": [
    "print(\"Correlation between SCP coordination given & centrality\")\n",
    "for central in(True, False):\n",
    "    print(\"Coordination given to {}central users\".format('' if central else \"non-\"))\n",
    "    print(20*\" \" +\"{:6}   {:6}\".format(\"r\", \"p-value\"))\n",
    "    a = central_scp.loc[central]\n",
    "    a['centrality'] = users['centrality']\n",
    "    for m in markers_list + ['agg1', 'agg2', 'agg3']:\n",
    "        b = a[['centrality', m]].dropna()\n",
    "        r, p_value = stats.pearsonr(b['centrality'], b[m])\n",
    "        print(\"{:20}{:.5f}  {:.5f}\".format(m,r, p_value))\n",
    "    print()"
   ]
  },
  {
   "cell_type": "markdown",
   "metadata": {},
   "source": [
    "## WSCP"
   ]
  },
  {
   "cell_type": "code",
   "execution_count": 56,
   "metadata": {},
   "outputs": [
    {
     "name": "stdout",
     "output_type": "stream",
     "text": [
      "Correlation between WSCP coordination given & centrality\n",
      "Coordination given to admins\n",
      "                    r        p-value\n",
      "quantifiers         0.02156  0.05464\n",
      "impersonal_pronouns 0.02444  0.03001\n",
      "adverbs             0.02674  0.01514\n",
      "articles            0.02937  0.00836\n",
      "auxiliary_verbs     0.03178  0.01234\n",
      "conjunctions        0.00482  0.67519\n",
      "personal_pronouns   0.00223  0.84093\n",
      "prepositions        0.05382  0.00000\n",
      "agg1                0.05792  0.00001\n",
      "agg2                0.05354  0.00000\n",
      "agg3                0.05000  0.00000\n",
      "\n",
      "Coordination given to non-admins\n",
      "                    r        p-value\n",
      "quantifiers         0.01078  0.21968\n",
      "impersonal_pronouns 0.01704  0.05373\n",
      "adverbs             0.01663  0.05445\n",
      "articles            0.02455  0.00489\n",
      "auxiliary_verbs     0.02017  0.03926\n",
      "conjunctions        -0.00404  0.65260\n",
      "personal_pronouns   0.01129  0.19436\n",
      "prepositions        0.00392  0.65319\n",
      "agg1                0.04369  0.00002\n",
      "agg2                0.02754  0.00124\n",
      "agg3                0.02035  0.01702\n",
      "\n"
     ]
    }
   ],
   "source": [
    "import scipy.stats as stats\n",
    "\n",
    "print(\"Correlation between WSCP coordination given & centrality\")\n",
    "for admin in(True, False):\n",
    "    print(\"Coordination given to {}admins\".format('' if admin else \"non-\"))\n",
    "    print(20*\" \" +\"{:6}   {:6}\".format(\"r\", \"p-value\"))\n",
    "    a = admin_wscp.loc[admin]\n",
    "    a['centrality'] = users['centrality']\n",
    "    for m in markers_list + ['agg1', 'agg2', 'agg3']:\n",
    "        b = a[['centrality', m]].dropna()\n",
    "        r, p_value = stats.pearsonr(b['centrality'], b[m])\n",
    "        print(\"{:20}{:.5f}  {:.5f}\".format(m,r, p_value))\n",
    "    print()"
   ]
  },
  {
   "cell_type": "code",
   "execution_count": 58,
   "metadata": {},
   "outputs": [
    {
     "name": "stdout",
     "output_type": "stream",
     "text": [
      "Correlation between WSCP coordination given & centrality\n",
      "Coordination given to central users\n",
      "                    r        p-value\n",
      "quantifiers         0.01576  0.13654\n",
      "impersonal_pronouns 0.02980  0.00514\n",
      "adverbs             0.02758  0.00803\n",
      "articles            0.05379  0.00000\n",
      "auxiliary_verbs     0.03598  0.00263\n",
      "conjunctions        0.01137  0.29476\n",
      "personal_pronouns   -0.01440  0.16792\n",
      "prepositions        0.05710  0.00000\n",
      "agg1                0.06067  0.00000\n",
      "agg2                0.05830  0.00000\n",
      "agg3                0.05574  0.00000\n",
      "\n",
      "Coordination given to non-central users\n",
      "                    r        p-value\n",
      "quantifiers         0.00899  0.31800\n",
      "impersonal_pronouns 0.00801  0.37608\n",
      "adverbs             0.00855  0.33489\n",
      "articles            0.02218  0.01312\n",
      "auxiliary_verbs     0.02791  0.00536\n",
      "conjunctions        -0.01095  0.23462\n",
      "personal_pronouns   0.00893  0.31712\n",
      "prepositions        0.00171  0.84814\n",
      "agg1                0.03764  0.00030\n",
      "agg2                0.02036  0.01996\n",
      "agg3                0.01243  0.15538\n",
      "\n"
     ]
    }
   ],
   "source": [
    "print(\"Correlation between WSCP coordination given & centrality\")\n",
    "for central in(True, False):\n",
    "    print(\"Coordination given to {}central users\".format('' if central else \"non-\"))\n",
    "    print(20*\" \" +\"{:6}   {:6}\".format(\"r\", \"p-value\"))\n",
    "    a = central_wscp.loc[central]\n",
    "    a['centrality'] = users['centrality']\n",
    "    for m in markers_list + ['agg1', 'agg2', 'agg3']:\n",
    "        b = a[['centrality', m]].dropna()\n",
    "        r, p_value = stats.pearsonr(b['centrality'], b[m])\n",
    "        print(\"{:20}{:.5f}  {:.5f}\".format(m,r, p_value))\n",
    "    print()"
   ]
  },
  {
   "cell_type": "code",
   "execution_count": null,
   "metadata": {},
   "outputs": [],
   "source": []
  }
 ],
 "metadata": {
  "kernelspec": {
   "display_name": "lasn",
   "language": "python",
   "name": "lasn"
  },
  "language_info": {
   "codemirror_mode": {
    "name": "ipython",
    "version": 3
   },
   "file_extension": ".py",
   "mimetype": "text/x-python",
   "name": "python",
   "nbconvert_exporter": "python",
   "pygments_lexer": "ipython3",
   "version": "3.7.0"
  }
 },
 "nbformat": 4,
 "nbformat_minor": 2
}
