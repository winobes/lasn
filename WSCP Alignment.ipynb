{
 "cells": [
  {
   "cell_type": "code",
   "execution_count": 1,
   "metadata": {},
   "outputs": [
    {
     "data": {
      "application/vnd.jupyter.widget-view+json": {
       "model_id": "6cd38e25215244949ace9b431fb77d73"
      }
     },
     "metadata": {},
     "output_type": "display_data"
    },
    {
     "name": "stdout",
     "output_type": "stream",
     "text": [
      "\n"
     ]
    }
   ],
   "source": [
    "from data import wiki\n",
    "from data import corpus\n",
    "import alignment\n",
    "\n",
    "import nltk\n",
    "import pandas as pd\n",
    "import pickle\n",
    "from tqdm import tqdm_notebook as tqdm\n",
    "\n",
    "tqdm().pandas()\n",
    "\n",
    "posts = wiki.load_posts()\n",
    "users = wiki.load_users(posts=posts)\n",
    "\n",
    "markers = alignment.load_markers()"
   ]
  },
  {
   "cell_type": "code",
   "execution_count": 2,
   "metadata": {
    "collapsed": true
   },
   "outputs": [],
   "source": [
    "posts['post_len'] = posts['tokens'].apply(len) # length of 'b' posts\n",
    "\n",
    "for m in markers: # binary marker presence\n",
    "    posts[m+'_bin'] = posts[m] > 0\n",
    "\n",
    "# set up dataframe of reply pairs (a,b) \n",
    "pairs = corpus.get_reply_pairs(posts)\n",
    "df = pairs\\\n",
    "    .merge(users.add_suffix('_a'), how='left', left_on='user_a', right_index=True)\\\n",
    "    .merge(users.add_suffix('_b'), how='left', left_on='user_b', right_index=True)"
   ]
  },
  {
   "cell_type": "code",
   "execution_count": 3,
   "metadata": {
    "collapsed": true
   },
   "outputs": [],
   "source": [
    "# compute condintions for alignment measurement\n",
    "centrality_threshold = users.centrality.mean() + users.centrality.std()\n",
    "df['highly_central_a'] = df.centrality_a > centrality_threshold\n",
    "df['admin_at_time_a'] = df.timestamp_b > df.admin_ascension_a\n",
    "\n",
    "# compute overall marker frequency for measure scaling/normalization\n",
    "marker_freq = dict(posts[list(markers)].sum() / posts['post_len'].sum())"
   ]
  },
  {
   "cell_type": "code",
   "execution_count": 4,
   "metadata": {
    "collapsed": true
   },
   "outputs": [],
   "source": [
    "def scp(a):\n",
    "    \"\"\" `a` is a dataframe containing reply pairs where user_a is a member\n",
    "        of the desired group A.\n",
    "        `marker_freq` is a dictionary from markers to overall frequencies\n",
    "        in the whole corpus.\n",
    "    \"\"\"\n",
    "    def scp_m(m):\n",
    "\n",
    "        # TODO: implement bootstrap resampling for confidence?\n",
    "\n",
    "        base_prob = a.groupby('user_b')[m+'_bin_b'].mean()\n",
    "        cond_prob = a[a[m+'_bin_a']].groupby('user_b')[m+'_bin_b'].mean()\n",
    "        \n",
    "        return cond_prob - base_prob\n",
    "\n",
    "    return pd.DataFrame({m: scp_m(m) for m in markers})"
   ]
  },
  {
   "cell_type": "code",
   "execution_count": 5,
   "metadata": {
    "collapsed": true
   },
   "outputs": [],
   "source": [
    "def wscp(a):\n",
    "    \"\"\" `a` is a dataframe containing reply pairs where user_a is a member\n",
    "        of the desired group A.\n",
    "        `marker_freq` is a dictionary from markers to overall frequencies\n",
    "        in the whole corpus.\n",
    "    \"\"\"\n",
    "    def wscp_m(m):\n",
    "\n",
    "        base_m_count = a.groupby('user_b')[m+'_b'].sum()\n",
    "        base_word_count = a.groupby('user_b')['post_len_b'].sum()\n",
    "        base_prob = base_m_count / base_word_count\n",
    "\n",
    "        cond_m_count = a[a[m+'_bin_a']].groupby('user_b')[m+'_b'].sum()\n",
    "        cond_word_count = a[a[m+'_bin_a']].groupby('user_b')['post_len_b'].sum()\n",
    "        cond_prob = cond_m_count / cond_word_count\n",
    "        \n",
    "        return (cond_prob - base_prob) / marker_freq[m]\n",
    "\n",
    "    return pd.DataFrame({m: wscp_m(m) for m in markers})\n"
   ]
  },
  {
   "cell_type": "code",
   "execution_count": 6,
   "metadata": {
    "collapsed": true
   },
   "outputs": [],
   "source": [
    "def agg1(df):\n",
    "    \"\"\" Computes \"Aggregated 1\" as described in Echoes of Power.\n",
    "        Drop any users missing any of the values.\n",
    "    \"\"\"\n",
    "    return df.dropna().mean(axis=1)\n",
    "\n",
    "def agg2(df):\n",
    "    \"\"\" Computes \"Aggregated 2\" as described in Echoes of Power.\n",
    "        Fill missing values with the group average\n",
    "    \"\"\" \n",
    "    return df.fillna(df.mean()).mean(axis=1)\n",
    "\n",
    "def agg3(df):\n",
    "    \"\"\" Computes \"Aggregated 3\" as described in Echoes of Power.\n",
    "        Fill missing values with the per-user mean of the other markers.\n",
    "    \"\"\" \n",
    "    return df.transpose().fillna(df.mean(axis=1)).transpose().mean(axis=1)\n",
    "\n",
    "def coord_with_aggs(coord_measure, a):\n",
    "    coords = coord_measure(a)\n",
    "    aggs = pd.Series([agg1(coords).mean(), agg2(coords).mean(), agg3(coords).mean()], index=['agg1', 'agg2', 'agg3'])\n",
    "    return aggs.append(pd.Series(coords.mean()))"
   ]
  },
  {
   "cell_type": "code",
   "execution_count": 11,
   "metadata": {
    "collapsed": true
   },
   "outputs": [],
   "source": [
    "%matplotlib inline\n",
    "\n",
    "conditions = [\n",
    "        ('High Centrality Targets', df[df['highly_central_a']]),\n",
    "        ('Low Centrality Targets', df[~df['highly_central_a']]),\n",
    "        ('Admin Targets', df[df['admin_at_time_a']]),\n",
    "        ('Non-Admin Targets', df[~df['admin_at_time_a']])]\n",
    "labels, dfs = zip(*conditions)"
   ]
  },
  {
   "cell_type": "code",
   "execution_count": 12,
   "metadata": {},
   "outputs": [
    {
     "name": "stdout",
     "output_type": "stream",
     "text": [
      "                     High Centrality Targets  Low Centrality Targets  \\\n",
      "agg1                                0.013578                0.014586   \n",
      "agg2                                0.011057                0.012549   \n",
      "agg3                                0.009877                0.010882   \n",
      "adverbs                             0.006879                0.007142   \n",
      "articles                            0.009897                0.009978   \n",
      "auxiliary_verbs                     0.010458                0.010256   \n",
      "conjunctions                        0.008885                0.010459   \n",
      "impersonal_pronouns                 0.016375                0.018714   \n",
      "personal_pronouns                   0.008524                0.009559   \n",
      "prepositions                        0.005762                0.004853   \n",
      "quantifiers                         0.021673                0.029427   \n",
      "\n",
      "                     Admin Targets  Non-Admin Targets  \n",
      "agg1                      0.014199           0.014392  \n",
      "agg2                      0.011604           0.012239  \n",
      "agg3                      0.010195           0.010771  \n",
      "adverbs                   0.006842           0.007497  \n",
      "articles                  0.009596           0.010860  \n",
      "auxiliary_verbs           0.011136           0.010704  \n",
      "conjunctions              0.007998           0.009990  \n",
      "impersonal_pronouns       0.016559           0.018390  \n",
      "personal_pronouns         0.009001           0.009026  \n",
      "prepositions              0.005422           0.005807  \n",
      "quantifiers               0.026276           0.025641  \n"
     ]
    },
    {
     "data": {
      "text/plain": [
       "<matplotlib.axes._subplots.AxesSubplot at 0x7fb896f32c50>"
      ]
     },
     "execution_count": 12,
     "metadata": {},
     "output_type": "execute_result"
    },
    {
     "data": {
      "image/png": "[encoded data removed]",
      "text/plain": [
       "<matplotlib.figure.Figure at 0x7fb89708b860>"
      ]
     },
     "metadata": {},
     "output_type": "display_data"
    }
   ],
   "source": [
    "scp_results = pd.DataFrame({group: coord_with_aggs(scp, group_df) for group, group_df in conditions}, columns=labels)\n",
    "title1=\"SCP Coordination (Echoes of Power)\"\n",
    "print(scp_results)\n",
    "scp_results.plot.bar(title=title1)"
   ]
  },
  {
   "cell_type": "code",
   "execution_count": 13,
   "metadata": {},
   "outputs": [
    {
     "name": "stdout",
     "output_type": "stream",
     "text": [
      "                     High Centrality Targets  Low Centrality Targets  \\\n",
      "agg1                                0.005320                0.010810   \n",
      "agg2                                0.002762                0.008535   \n",
      "agg3                                0.002618                0.006632   \n",
      "adverbs                             0.001099                0.002854   \n",
      "articles                            0.000846                0.003830   \n",
      "auxiliary_verbs                     0.003071                0.003505   \n",
      "conjunctions                        0.000830                0.001766   \n",
      "impersonal_pronouns                 0.007035                0.013690   \n",
      "personal_pronouns                   0.006097                0.012002   \n",
      "prepositions                        0.001108                0.001341   \n",
      "quantifiers                         0.002010                0.029294   \n",
      "\n",
      "                     Admin Targets  Non-Admin Targets  \n",
      "agg1                      0.008225           0.008217  \n",
      "agg2                      0.005906           0.006146  \n",
      "agg3                      0.004668           0.004814  \n",
      "adverbs                   0.000416           0.001266  \n",
      "articles                  0.000280           0.004419  \n",
      "auxiliary_verbs           0.005592           0.004219  \n",
      "conjunctions             -0.000355           0.000022  \n",
      "impersonal_pronouns       0.007580           0.009401  \n",
      "personal_pronouns         0.008953           0.009242  \n",
      "prepositions             -0.000084           0.001497  \n",
      "quantifiers               0.024862           0.019104  \n"
     ]
    },
    {
     "data": {
      "text/plain": [
       "<matplotlib.axes._subplots.AxesSubplot at 0x7fb897389a58>"
      ]
     },
     "execution_count": 13,
     "metadata": {},
     "output_type": "execute_result"
    },
    {
     "data": {
      "image/png": "[encoded data removed]",
      "text/plain": [
       "<matplotlib.figure.Figure at 0x7fb897320748>"
      ]
     },
     "metadata": {},
     "output_type": "display_data"
    }
   ],
   "source": [
    "wscp_results = pd.DataFrame({group: coord_with_aggs(wscp, df) for group, df in conditions}, columns=labels)\n",
    "title2=\"Word-based SCP Coordination\"\n",
    "print(wscp_results)\n",
    "wscp_results.plot.bar(title=title2)\n"
   ]
  },
  {
   "cell_type": "code",
   "execution_count": null,
   "metadata": {
    "collapsed": true
   },
   "outputs": [],
   "source": []
  },
  {
   "cell_type": "code",
   "execution_count": null,
   "metadata": {
    "collapsed": true
   },
   "outputs": [],
   "source": []
  },
  {
   "cell_type": "code",
   "execution_count": 27,
   "metadata": {},
   "outputs": [
    {
     "data": {
      "text/plain": [
       "'reply_to utterance_id_a user_a talkpage_user_a conversation_root_a reply_to_a timestamp_a timestamp_unixtime_a clean_text_a raw_text_a tokens_a pos_tags_a conjunctions_a articles_a prepositions_a adverbs_a quantifiers_a impersonal_pronouns_a personal_pronouns_a auxiliary_verbs_a post_len_a adverbs_bin_a conjunctions_bin_a articles_bin_a auxiliary_verbs_bin_a prepositions_bin_a impersonal_pronouns_bin_a personal_pronouns_bin_a quantifiers_bin_a utterance_id_b user_b talkpage_user_b conversation_root_b reply_to_b timestamp_b timestamp_unixtime_b clean_text_b raw_text_b tokens_b pos_tags_b conjunctions_b articles_b prepositions_b adverbs_b quantifiers_b impersonal_pronouns_b personal_pronouns_b auxiliary_verbs_b post_len_b adverbs_bin_b conjunctions_bin_b articles_bin_b auxiliary_verbs_bin_b prepositions_bin_b impersonal_pronouns_bin_b personal_pronouns_bin_b quantifiers_bin_b edit_count_a gender_a numerical_id_a post_count_a admin_ascension_a admin_a centrality_a edit_count_b gender_b numerical_id_b post_count_b admin_ascension_b admin_b centrality_b highly_central_a admin_at_time_a'"
      ]
     },
     "execution_count": 27,
     "metadata": {},
     "output_type": "execute_result"
    }
   ],
   "source": [
    "' '.join(list(df))"
   ]
  },
  {
   "cell_type": "code",
   "execution_count": 52,
   "metadata": {},
   "outputs": [],
   "source": [
    "from collections import Counter, defaultdict\n",
    "\n",
    "bm_Am = Counter() # count u_b and u_a exhibit m \n",
    "bm_A  = Counter() # count u_b exhibits m\n",
    "b_Am  = Counter() # count u_a exhibits m\n",
    "b_A = Counter() # count total number of reply pairs (u_b, u_a)\n",
    "m = 'conjunctions'"
   ]
  },
  {
   "cell_type": "code",
   "execution_count": 53,
   "metadata": {},
   "outputs": [
    {
     "data": {
      "application/vnd.jupyter.widget-view+json": {
       "model_id": "34f2b7d9e34b4209a0419dd4d46359a6"
      }
     },
     "metadata": {},
     "output_type": "display_data"
    },
    {
     "name": "stdout",
     "output_type": "stream",
     "text": [
      "\n"
     ]
    }
   ],
   "source": [
    "for idx, r in tqdm(df.iterrows(), total=len(df)):\n",
    "    if r['admin_at_time_a']:\n",
    "        b_A[r['user_b']] += 1\n",
    "    else:\n",
    "        continue\n",
    "    if r[m+'_bin_a']:\n",
    "        b_Am[r['user_b']] += 1\n",
    "        if r[m+'_bin_b']:\n",
    "            bm_Am[r['user_b']] += 1\n",
    "    if r[m+'_bin_b']:\n",
    "        bm_A[r['user_b']] += 1"
   ]
  },
  {
   "cell_type": "code",
   "execution_count": 54,
   "metadata": {},
   "outputs": [],
   "source": [
    "import numpy as np\n",
    "\n",
    "scp_user = {}\n",
    "for user in b_A:\n",
    "    if b_A[user] == 0 or b_Am[user] == 0:\n",
    "        continue\n",
    "    scp_user[user] = (bm_Am[user] / b_Am[user]) - (bm_A[user] / b_A[user]) "
   ]
  },
  {
   "cell_type": "code",
   "execution_count": 55,
   "metadata": {},
   "outputs": [
    {
     "data": {
      "text/plain": [
       "0.007998495474840677"
      ]
     },
     "execution_count": 55,
     "metadata": {},
     "output_type": "execute_result"
    }
   ],
   "source": [
    "sum(scp_user.values()) / len(scp_user)"
   ]
  },
  {
   "cell_type": "code",
   "execution_count": 57,
   "metadata": {},
   "outputs": [
    {
     "data": {
      "application/vnd.jupyter.widget-view+json": {
       "model_id": "7eaba51362964ddcb27fe9d4d88ea769"
      }
     },
     "metadata": {},
     "output_type": "display_data"
    },
    {
     "name": "stdout",
     "output_type": "stream",
     "text": [
      "\n"
     ]
    },
    {
     "data": {
      "text/plain": [
       "0.009990430417021754"
      ]
     },
     "execution_count": 57,
     "metadata": {},
     "output_type": "execute_result"
    }
   ],
   "source": [
    "bm_Am = Counter() # count u_b and u_a exhibit m \n",
    "bm_A  = Counter() # count u_b exhibits m\n",
    "b_Am  = Counter() # count u_a exhibits m\n",
    "b_A = Counter() # count total number of reply pairs (u_b, u_a)\n",
    "\n",
    "m = 'conjunctions'\n",
    "\n",
    "for idx, r in tqdm(df.iterrows(), total=len(df)):\n",
    "    if not r['admin_at_time_a']:\n",
    "        b_A[r['user_b']] += 1\n",
    "    else:\n",
    "        continue\n",
    "    if r[m+'_bin_a']:\n",
    "        b_Am[r['user_b']] += 1\n",
    "        if r[m+'_bin_b']:\n",
    "            bm_Am[r['user_b']] += 1\n",
    "    if r[m+'_bin_b']:\n",
    "        bm_A[r['user_b']] += 1\n",
    "        \n",
    "scp_user = {}\n",
    "for user in b_A:\n",
    "    if b_A[user] == 0 or b_Am[user] == 0:\n",
    "        continue\n",
    "    scp_user[user] = (bm_Am[user] / b_Am[user]) - (bm_A[user] / b_A[user]) \n",
    "    \n",
    "sum(scp_user.values()) / len(scp_user)"
   ]
  },
  {
   "cell_type": "code",
   "execution_count": 50,
   "metadata": {},
   "outputs": [
    {
     "data": {
      "text/plain": [
       "False    130622\n",
       "True     42141 \n",
       "Name: admin_at_time_a, dtype: int64"
      ]
     },
     "execution_count": 50,
     "metadata": {},
     "output_type": "execute_result"
    }
   ],
   "source": [
    "df.admin_at_time_a.value_counts()"
   ]
  },
  {
   "cell_type": "code",
   "execution_count": null,
   "metadata": {
    "collapsed": true
   },
   "outputs": [],
   "source": []
  },
  {
   "cell_type": "code",
   "execution_count": null,
   "metadata": {
    "collapsed": true
   },
   "outputs": [],
   "source": []
  },
  {
   "cell_type": "code",
   "execution_count": null,
   "metadata": {
    "collapsed": true
   },
   "outputs": [],
   "source": []
  },
  {
   "cell_type": "code",
   "execution_count": 60,
   "metadata": {},
   "outputs": [
    {
     "data": {
      "text/plain": [
       "15099"
      ]
     },
     "execution_count": 60,
     "metadata": {},
     "output_type": "execute_result"
    }
   ],
   "source": [
    "len(df['user_b'].unique())"
   ]
  },
  {
   "cell_type": "code",
   "execution_count": null,
   "metadata": {
    "collapsed": true
   },
   "outputs": [],
   "source": []
  },
  {
   "cell_type": "code",
   "execution_count": 72,
   "metadata": {},
   "outputs": [],
   "source": [
    "def div_safe(arr):\n",
    "    arr[arr == 0] = np.nan\n",
    "    return arr\n",
    "\n",
    "def get_coordination(groupA_cond):\n",
    "    \n",
    "    B = df['user_b'].unique()\n",
    "    B_to_index = {b: i for i, b in enumerate(B)}\n",
    "\n",
    "    # coordination given counts - counting over pairs \n",
    "    # (u_a, u_b) where a in A said u_a and b replied with u_b\n",
    "    Am_bm = np.zeros((len(markers), len(B))) # defaultdict(Counter) # count u_a and u_b exhibit m \n",
    "    Am_b  = np.zeros((len(markers), len(B))) # defaultdict(Counter) # count u_a exhibits m\n",
    "    A_bm  = np.zeros((len(markers), len(B))) # defaultdict(Counter) # count u_b exhibits m\n",
    "    A_b   = np.zeros((len(B),)) # count total number of reply pairs (u_a, u_b)\n",
    "\n",
    "    # coordination received counts - counting over pairs\n",
    "    # (u_b, u_a) where b said u_b and a in A replied with u_a\n",
    "    bm_Am = np.zeros((len(markers), len(B))) # defaultdict(Counter) # count u_b and u_a exhibit m \n",
    "    bm_A  = np.zeros((len(markers), len(B))) # defaultdict(Counter) # count u_b exhibits m\n",
    "    b_Am  = np.zeros((len(markers), len(B))) # defaultdict(Counter) # count u_a exhibits m\n",
    "    b_A   = np.zeros((len(B),)) # Counter() # count total number of reply pairs (u_b, u_a)\n",
    "\n",
    "    # count marker occurances & instances of alignment among reply pairs\n",
    "    print(\"Gathering marker counts...\")\n",
    "    for idx, row in tqdm(df.iterrows(), total=len(df)):\n",
    "        reply_user = row['user_b']\n",
    "        parent_user = row['user_a']\n",
    "\n",
    "        # increment coordination given counts\n",
    "        if groupA_cond(row):\n",
    "            b_i = B_to_index[reply_user]\n",
    "            A_b[b_i] += 1\n",
    "            for m_i, m in enumerate(markers):\n",
    "                if row[m+'_bin_a']:  #if parent.exhibits_marker(m):\n",
    "                    Am_b[m_i,b_i] += 1\n",
    "                    if row[m+'_bin_b']: #if reply.exhibits_marker(m):\n",
    "                        Am_bm[m_i,b_i] += 1\n",
    "                if row[m+'_bin_b']: #if reply.exhibits_marker(m):\n",
    "                    A_bm[m_i,b_i] += 1\n",
    "\n",
    "        # increment coordination received counts\n",
    "#         if reply_user in A and parent_user in B: \n",
    "#             b_i = B_to_index[parent_user]\n",
    "#             b_A[b_i] += 1\n",
    "#             for m_i, m in enumerate(marker_list):\n",
    "#                 if parent.exhibits_marker(m):\n",
    "#                     bm_A[m_i,b_i] += 1\n",
    "#                     if reply.exhibits_marker(m):\n",
    "#                         bm_Am[m_i,b_i] += 1\n",
    "#                 if reply.exhibits_marker(m):\n",
    "#                     b_Am[m_i,b_i] += 1\n",
    "\n",
    "    # calculate the per-marker coordinations\n",
    "    coord_given = (Am_bm / div_safe(Am_b)) - (A_bm / div_safe(A_b))\n",
    "#     coord_received = (bm_Am / div_safe(bm_A)) - (b_Am / div_safe(b_A))\n",
    "\n",
    "    # calculate the aggrigate (ignoring undefined markers its undefined for)\n",
    "    coord_given_agg3 = np.nanmean(coord_given, axis=0)\n",
    "#     coord_received_agg3 = np.nanmean(coord_received, axis=0)\n",
    "\n",
    "    # convert back to dictionary output\n",
    "    coord_given = {m: {b: coord_given[m_i,b_i] \n",
    "        for b_i, b in enumerate(B)} for m_i, m in enumerate(markers)}\n",
    "#     coord_received = {m: {b: coord_received[m_i,b_i] \n",
    "#         for b_i, b in enumerate(B)} for m_i, m in enumerate(marker_list)}\n",
    "\n",
    "    for b in tqdm(B):\n",
    "        coord_given['agg3'] = {b: coord_given_agg3[b_i] for b_i, b in enumerate(B)} \n",
    "#         coord_received['agg3'] = {b: coord_received_agg3[b_i] for b_i, b in enumerate(B)} \n",
    "\n",
    "    return coord_given #, coord_received\n"
   ]
  },
  {
   "cell_type": "code",
   "execution_count": 73,
   "metadata": {},
   "outputs": [
    {
     "name": "stdout",
     "output_type": "stream",
     "text": [
      "Gathering marker counts...\n"
     ]
    },
    {
     "data": {
      "application/vnd.jupyter.widget-view+json": {
       "model_id": "618461559fb540e49fe7337e777f6422"
      }
     },
     "metadata": {},
     "output_type": "display_data"
    },
    {
     "name": "stdout",
     "output_type": "stream",
     "text": [
      "\n"
     ]
    },
    {
     "name": "stderr",
     "output_type": "stream",
     "text": [
      "/usr/local/lib/python3.5/dist-packages/ipykernel_launcher.py:59: RuntimeWarning: Mean of empty slice\n"
     ]
    },
    {
     "data": {
      "application/vnd.jupyter.widget-view+json": {
       "model_id": "8d2f5501b1ff415280a52ec66921a792"
      }
     },
     "metadata": {},
     "output_type": "display_data"
    },
    {
     "name": "stdout",
     "output_type": "stream",
     "text": [
      "\n"
     ]
    }
   ],
   "source": [
    "coord_given_admin = get_coordination(lambda x: x['admin_at_time_a'])"
   ]
  },
  {
   "cell_type": "code",
   "execution_count": 74,
   "metadata": {},
   "outputs": [
    {
     "name": "stdout",
     "output_type": "stream",
     "text": [
      "Gathering marker counts...\n"
     ]
    },
    {
     "data": {
      "application/vnd.jupyter.widget-view+json": {
       "model_id": "9a64d7da8fa74c31a533dc57eea54835"
      }
     },
     "metadata": {},
     "output_type": "display_data"
    },
    {
     "name": "stdout",
     "output_type": "stream",
     "text": [
      "\n"
     ]
    },
    {
     "name": "stderr",
     "output_type": "stream",
     "text": [
      "/usr/local/lib/python3.5/dist-packages/ipykernel_launcher.py:59: RuntimeWarning: Mean of empty slice\n"
     ]
    },
    {
     "data": {
      "application/vnd.jupyter.widget-view+json": {
       "model_id": "332f92afdb174665bef62b58d94c594d"
      }
     },
     "metadata": {},
     "output_type": "display_data"
    },
    {
     "name": "stdout",
     "output_type": "stream",
     "text": [
      "\n"
     ]
    }
   ],
   "source": [
    "coord_given_nadmin = get_coordination(lambda x: not x['admin_at_time_a'])"
   ]
  },
  {
   "cell_type": "code",
   "execution_count": 79,
   "metadata": {},
   "outputs": [
    {
     "name": "stdout",
     "output_type": "stream",
     "text": [
      "adverbs : 0.006841871763755899\n",
      "conjunctions : 0.007998495474840658\n",
      "articles : 0.009595826005169865\n",
      "auxiliary_verbs : 0.011136286156910187\n",
      "prepositions : 0.0054222839561824466\n",
      "impersonal_pronouns : 0.01655910175818639\n",
      "personal_pronouns : 0.009001174689171257\n",
      "quantifiers : 0.02627602457030471\n"
     ]
    }
   ],
   "source": [
    "for m in markers:\n",
    "    coord = [c for c in coord_given_admin[m].values() if not np.isnan(c)]\n",
    "    print('{} : {}'.format(m, sum(coord) / len(coord)))"
   ]
  },
  {
   "cell_type": "code",
   "execution_count": 80,
   "metadata": {},
   "outputs": [
    {
     "name": "stdout",
     "output_type": "stream",
     "text": [
      "adverbs : 0.007497042160427875\n",
      "conjunctions : 0.009990430417021749\n",
      "articles : 0.010859928313259342\n",
      "auxiliary_verbs : 0.010703820877890062\n",
      "prepositions : 0.005806652145838205\n",
      "impersonal_pronouns : 0.0183899143532242\n",
      "personal_pronouns : 0.0090257789972184\n",
      "quantifiers : 0.02564136649824962\n"
     ]
    }
   ],
   "source": [
    "for m in markers:\n",
    "    coord = [c for c in coord_given_nadmin[m].values() if not np.isnan(c)]\n",
    "    print('{} : {}'.format(m, sum(coord) / len(coord)))"
   ]
  },
  {
   "cell_type": "code",
   "execution_count": null,
   "metadata": {
    "collapsed": true
   },
   "outputs": [],
   "source": []
  }
 ],
 "metadata": {
  "kernelspec": {
   "display_name": "Python 3",
   "language": "python",
   "name": "python3"
  },
  "language_info": {
   "codemirror_mode": {
    "name": "ipython",
    "version": 3
   },
   "file_extension": ".py",
   "mimetype": "text/x-python",
   "name": "python",
   "nbconvert_exporter": "python",
   "pygments_lexer": "ipython3",
   "version": "3.5.2"
  }
 },
 "nbformat": 4,
 "nbformat_minor": 2
}
