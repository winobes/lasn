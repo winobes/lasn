{
 "cells": [
  {
   "cell_type": "code",
   "execution_count": 6,
   "metadata": {},
   "outputs": [
    {
     "data": {
      "application/vnd.jupyter.widget-view+json": {
       "model_id": "16ee0c840a6e4b969d9a120716fbf928",
       "version_major": 2,
       "version_minor": 0
      },
      "text/plain": [
       "HBox(children=(IntProgress(value=1, bar_style='info', max=1), HTML(value='')))"
      ]
     },
     "metadata": {},
     "output_type": "display_data"
    },
    {
     "name": "stdout",
     "output_type": "stream",
     "text": [
      "\n"
     ]
    },
    {
     "name": "stderr",
     "output_type": "stream",
     "text": [
      "Reading conversations file.: 100%|██████████| 516766/516766 [00:09<00:00, 57365.71it/s]\n"
     ]
    },
    {
     "name": "stdout",
     "output_type": "stream",
     "text": [
      "Filtered 7827 posts from blank or missing users\n"
     ]
    }
   ],
   "source": [
    "from data import wiki\n",
    "from data import corpus\n",
    "import alignment\n",
    "\n",
    "import nltk\n",
    "import pandas as pd\n",
    "import pickle\n",
    "from tqdm import tqdm_notebook as tqdm\n",
    "\n",
    "tqdm().pandas()\n",
    "\n",
    "posts = wiki.load_posts()\n",
    "pairs = corpus.get_reply_pairs(posts)\n",
    "users = wiki.load_users(posts=posts)\n",
    "network = wiki.load_network(reply_pairs=pairs, recreate=False)\n",
    "\n",
    "df = pd.merge(posts, users, left_on='user', right_index=True)"
   ]
  },
  {
   "cell_type": "code",
   "execution_count": 7,
   "metadata": {},
   "outputs": [],
   "source": [
    "threshold = users.centrality.mean() + users.centrality.std()\n",
    "users['highly_central'] = (users['centrality'] > threshold)\n",
    "df['highly_central'] = (df['centrality'] > threshold)"
   ]
  },
  {
   "cell_type": "code",
   "execution_count": 9,
   "metadata": {},
   "outputs": [
    {
     "name": "stderr",
     "output_type": "stream",
     "text": [
      "Tokenizing posts.: 100%|██████████| 383467/383467 [04:09<00:00, 1539.89it/s]\n"
     ]
    },
    {
     "name": "stdout",
     "output_type": "stream",
     "text": [
      "Filtered 6544 posts with 0-length utterances\n"
     ]
    }
   ],
   "source": [
    "if not 'tokens' in posts:\n",
    "    posts = corpus.tokenize_posts(posts)"
   ]
  },
  {
   "cell_type": "code",
   "execution_count": 5,
   "metadata": {},
   "outputs": [],
   "source": [
    "if not 'pos_tags' in posts:\n",
    "    pos_tags = posts.tokens.progress_apply(nltk.pos_tag)\n",
    "    posts['pos_tags'] = pos_tags.progress_apply(lambda x: [y[1] for y in x])\n",
    "    wiki.save_posts(posts, overwrite=True)"
   ]
  },
  {
   "cell_type": "code",
   "execution_count": 22,
   "metadata": {},
   "outputs": [
    {
     "name": "stdout",
     "output_type": "stream",
     "text": [
      "Wrote 99 posts to word_language_model/data/wikitalk_tiny_sample/valid.txt\n",
      "Wrote 99 posts to word_language_model/data/wikitalk_tiny_sample/test.txt\n",
      "Wrote 799 posts to word_language_model/data/wikitalk_tiny_sample/train.txt\n",
      "Wrote 37691 posts to word_language_model/data/wikitalk_all/valid.txt\n",
      "Wrote 37691 posts to word_language_model/data/wikitalk_all/test.txt\n",
      "Wrote 301538 posts to word_language_model/data/wikitalk_all/train.txt\n",
      "Wrote 4431 posts to word_language_model/data/wikitalk_2006/valid.txt\n",
      "Wrote 4431 posts to word_language_model/data/wikitalk_2006/test.txt\n",
      "Wrote 35458 posts to word_language_model/data/wikitalk_2006/train.txt\n",
      "Wrote 5657 posts to word_language_model/data/wikitalk_2007/valid.txt\n",
      "Wrote 5657 posts to word_language_model/data/wikitalk_2007/test.txt\n",
      "Wrote 45269 posts to word_language_model/data/wikitalk_2007/train.txt\n",
      "Wrote 5515 posts to word_language_model/data/wikitalk_2008/valid.txt\n",
      "Wrote 5515 posts to word_language_model/data/wikitalk_2008/test.txt\n",
      "Wrote 44131 posts to word_language_model/data/wikitalk_2008/train.txt\n",
      "Wrote 5290 posts to word_language_model/data/wikitalk_2009/valid.txt\n",
      "Wrote 5290 posts to word_language_model/data/wikitalk_2009/test.txt\n",
      "Wrote 42335 posts to word_language_model/data/wikitalk_2009/train.txt\n",
      "Wrote 6467 posts to word_language_model/data/wikitalk_2010/valid.txt\n",
      "Wrote 6467 posts to word_language_model/data/wikitalk_2010/test.txt\n",
      "Wrote 51747 posts to word_language_model/data/wikitalk_2010/train.txt\n",
      "Wrote 9001 posts to word_language_model/data/wikitalk_2011/valid.txt\n",
      "Wrote 9001 posts to word_language_model/data/wikitalk_2011/test.txt\n",
      "Wrote 72021 posts to word_language_model/data/wikitalk_2011/train.txt\n"
     ]
    }
   ],
   "source": [
    "import time\n",
    "import os\n",
    "\n",
    "data_dir = 'word_language_model/data/wikitalk_{}'\n",
    "\n",
    "def write_data(data_dir, posts):\n",
    "\n",
    "    def write_file(filename, ids):\n",
    "        path = os.path.join(data_dir, filename)\n",
    "        with open(os.path.join(data_dir, filename), 'w') as f:\n",
    "            for i, idx in enumerate(ids):\n",
    "                tokens = posts.loc[idx].tokens\n",
    "                f.write(' '.join(tokens)+'\\n')\n",
    "        print(\"Wrote {} posts to {}\".format(i, path))\n",
    "\n",
    "    if not os.path.exists(data_dir):\n",
    "            os.mkdir(data_dir)\n",
    "\n",
    "    post_ids = list(posts.index)\n",
    "    random.shuffle(post_ids)\n",
    "    reserved_percent = 20\n",
    "    n_test_posts = int(reserved_percent/2/100 * len(post_ids))\n",
    "    n_valid_posts = int(reserved_percent/2/100 * len(post_ids))\n",
    "\n",
    "    write_file('valid.txt', post_ids[:n_valid_posts])\n",
    "    write_file('test.txt',  post_ids[n_valid_posts:n_valid_posts+n_test_posts])\n",
    "    write_file('train.txt', post_ids[n_valid_posts+n_test_posts:])\n",
    "    \n",
    "\n",
    "write_data(data_dir.format('tiny_sample'), posts.head(1000))\n",
    "write_data(data_dir.format('all'), posts)\n",
    "for year in range(2006,2012):\n",
    "    write_data(data_dir.format(year), posts[posts.year == year])"
   ]
  },
  {
   "cell_type": "markdown",
   "metadata": {},
   "source": [
    "Now we'll create a vocab from the `wikitalk_all` data so that every language model can use the same vocab."
   ]
  },
  {
   "cell_type": "code",
   "execution_count": 63,
   "metadata": {},
   "outputs": [],
   "source": [
    "import torch\n",
    "import torchtext as tt\n",
    "import dill\n",
    "\n",
    "text_field = tt.data.Field(lower=True, include_lengths=False)\n",
    "train, val, test = tt.datasets.LanguageModelingDataset.splits(path='lm_data/wikitalk_all/', \n",
    "                train='train.txt', validation='valid.txt', test='test.txt', \n",
    "                text_field = text_field)\n",
    "text_field.build_vocab(train, val, test, max_size=100000)\n",
    "torch.save(text_field, 'lm_data/wikitalk_all/vocab.dill', pickle_module=dill)"
   ]
  },
  {
   "cell_type": "markdown",
   "metadata": {},
   "source": [
    "# Training\n",
    "\n",
    "We use LSTM language models (code based on: https://github.com/pytorch/examples/tree/master/word_language_model)\n",
    "\n",
    "First, we train the model for the whole corpus:\n",
    "\n",
    "`python3 lm_train.py --vocab lm_data/wikitalk_all/ --model LSTM --epochs 10 --batch-size 50 --emsize 100 --cuda --data data/wikitalk_all/ --save data/wikitalk_all/model.bin`\n",
    "\n",
    "Next, we train the language models for each year, with more than 10k posts (2006--2011) and halt training after the first epoch where the validation loss is less than (or equal to) the final validation perplexity (60) of the \"global\" model.\n",
    "\n",
    "`python3 lm_train.py --vocab lm_data/wikitalk_all/ --model LSTM --epochs 20 --batch-size 50 --emsize 100 --stop-at-ppl 60 --cuda --data data/wikitalk_2006/ --save data/wikitalk_2006/model.bin`\n",
    "\n"
   ]
  },
  {
   "cell_type": "markdown",
   "metadata": {},
   "source": [
    "# Evaluating utterance perplexity\n",
    "\n",
    "We evaluate the perplexity of each utterance twice:\n",
    "1. Using the language model trained on data from the year the utterance was made and\n",
    "2. using the global language model (trained on data from all years)"
   ]
  },
  {
   "cell_type": "code",
   "execution_count": 10,
   "metadata": {},
   "outputs": [
    {
     "data": {
      "application/vnd.jupyter.widget-view+json": {
       "model_id": "e3d1aa5e28ee445d85280ce9d90df669",
       "version_major": 2,
       "version_minor": 0
      },
      "text/plain": [
       "HBox(children=(IntProgress(value=0, description='2006', max=439, style=ProgressStyle(description_width='initia…"
      ]
     },
     "metadata": {},
     "output_type": "display_data"
    },
    {
     "name": "stdout",
     "output_type": "stream",
     "text": [
      "\n"
     ]
    },
    {
     "data": {
      "application/vnd.jupyter.widget-view+json": {
       "model_id": "d86ba571a84b4faf86ebaba508062a15",
       "version_major": 2,
       "version_minor": 0
      },
      "text/plain": [
       "HBox(children=(IntProgress(value=0, description='2007', max=562, style=ProgressStyle(description_width='initia…"
      ]
     },
     "metadata": {},
     "output_type": "display_data"
    },
    {
     "name": "stdout",
     "output_type": "stream",
     "text": [
      "\n"
     ]
    },
    {
     "data": {
      "application/vnd.jupyter.widget-view+json": {
       "model_id": "4fb9cd7bfd8b4bc1a518cb225b9162cc",
       "version_major": 2,
       "version_minor": 0
      },
      "text/plain": [
       "HBox(children=(IntProgress(value=0, description='2008', max=547, style=ProgressStyle(description_width='initia…"
      ]
     },
     "metadata": {},
     "output_type": "display_data"
    },
    {
     "name": "stdout",
     "output_type": "stream",
     "text": [
      "\n"
     ]
    },
    {
     "data": {
      "application/vnd.jupyter.widget-view+json": {
       "model_id": "2dacb892763f4ae784ad959ff0d3b2c1",
       "version_major": 2,
       "version_minor": 0
      },
      "text/plain": [
       "HBox(children=(IntProgress(value=0, description='2009', max=525, style=ProgressStyle(description_width='initia…"
      ]
     },
     "metadata": {},
     "output_type": "display_data"
    },
    {
     "name": "stdout",
     "output_type": "stream",
     "text": [
      "\n"
     ]
    },
    {
     "data": {
      "application/vnd.jupyter.widget-view+json": {
       "model_id": "04b3eaf101e0452abf4ede84bf477be2",
       "version_major": 2,
       "version_minor": 0
      },
      "text/plain": [
       "HBox(children=(IntProgress(value=0, description='2010', max=642, style=ProgressStyle(description_width='initia…"
      ]
     },
     "metadata": {},
     "output_type": "display_data"
    },
    {
     "name": "stdout",
     "output_type": "stream",
     "text": [
      "\n"
     ]
    },
    {
     "data": {
      "application/vnd.jupyter.widget-view+json": {
       "model_id": "72471bdd7fa1455c99ace48867962b49",
       "version_major": 2,
       "version_minor": 0
      },
      "text/plain": [
       "HBox(children=(IntProgress(value=0, description='2011', max=895, style=ProgressStyle(description_width='initia…"
      ]
     },
     "metadata": {},
     "output_type": "display_data"
    },
    {
     "name": "stdout",
     "output_type": "stream",
     "text": [
      "\n"
     ]
    }
   ],
   "source": [
    "import torch\n",
    "import torch.nn as nn\n",
    "import dill\n",
    "import os\n",
    "import torchtext as tt\n",
    "import math\n",
    "import nltk\n",
    "from tqdm import tqdm_notebook as tqdm\n",
    "\n",
    "\n",
    "text_field = torch.load('lm_data/wikitalk_all/vocab.dill', pickle_module=dill)\n",
    "\n",
    "id_field = tt.data.Field(sequential=False, use_vocab=False, is_target=False)\n",
    "length_field = tt.data.Field(sequential=False, use_vocab=False, is_target=False)\n",
    "fields = [('id', id_field), ('text', text_field), ('length', length_field)]\n",
    "pad_idx = text_field.vocab.stoi['<pad>']\n",
    "\n",
    "softmax = nn.Softmax(dim=2)\n",
    "\n",
    "ppls = {}\n",
    "for year in list(range(2006,2012)):\n",
    "\n",
    "    # load data\n",
    "    year_posts = posts[posts.timestamp.apply(lambda x: x.year) == year]\n",
    "    examples = [(i, post.tokens, len(post.tokens)) for i, post in year_posts.iterrows() \n",
    "                if len(post.tokens) > 1]\n",
    "    examples = [tt.data.Example.fromlist(e, fields) for e in examples]\n",
    "    data = tt.data.Dataset(examples, fields)\n",
    "    data.sort_key = sort_key=lambda x: x.length\n",
    "    batch_iter = tt.data.BucketIterator(data, batch_size=100, device='cuda', train='false', sort=True)\n",
    "\n",
    "    # load model\n",
    "    model = torch.load('lm_data/wikitalk_{}/model.bin'.format(year)).to('cuda')\n",
    "    model.eval()\n",
    "\n",
    "    with torch.no_grad():\n",
    "        for batch in tqdm(batch_iter, desc=str(year)):\n",
    "            text_len, batch_size = batch.text.shape\n",
    "            mask = batch.text.clone()\n",
    "            mask[mask == pad_idx] = 0\n",
    "            mask[mask != 0] = 1\n",
    "            mask = mask[0:-1].t().float()\n",
    "            hidden = model.init_hidden(batch_size)\n",
    "            log_probs = []\n",
    "            for i in range(text_len-1):\n",
    "                input_ = batch.text[i].reshape(1,-1)\n",
    "                target = batch.text[i+1].reshape(1,-1)\n",
    "                output, hidden = model(input_, hidden)\n",
    "                proba = softmax(output).gather(2, target.reshape(1,-1,1))\n",
    "                log_probs.append(proba.squeeze().log2())\n",
    "            log_probs = torch.stack(log_probs, dim=1) * mask\n",
    "            batch_ppls = torch.pow((-1 * log_probs).sum(dim=1) / batch.length.float(), 2)\n",
    "            ppls.update(dict(zip(batch.id.tolist(), batch_ppls.tolist())))\n",
    "ppls = {str(key): val for key,val in ppls.items()} # torchtext converts the index to a number..\n",
    "posts['ppl_year'] = pd.Series(ppls)"
   ]
  },
  {
   "cell_type": "code",
   "execution_count": 11,
   "metadata": {},
   "outputs": [],
   "source": [
    "wiki.save_posts(posts, overwrite=True)"
   ]
  },
  {
   "cell_type": "code",
   "execution_count": 12,
   "metadata": {},
   "outputs": [
    {
     "data": {
      "application/vnd.jupyter.widget-view+json": {
       "model_id": "ea4a7ea199674bf69318e8e430a098d9",
       "version_major": 2,
       "version_minor": 0
      },
      "text/plain": [
       "HBox(children=(IntProgress(value=0, max=3738), HTML(value='')))"
      ]
     },
     "metadata": {},
     "output_type": "display_data"
    },
    {
     "name": "stdout",
     "output_type": "stream",
     "text": [
      "\n"
     ]
    }
   ],
   "source": [
    "ppls = {}\n",
    "\n",
    "# load data\n",
    "examples = [(i, post.tokens, len(post.tokens)) for i, post in posts.iterrows() \n",
    "            if len(post.tokens) > 1]\n",
    "examples = [tt.data.Example.fromlist(e, fields) for e in examples]\n",
    "data = tt.data.Dataset(examples, fields)\n",
    "data.sort_key = sort_key=lambda x: x.length\n",
    "batch_iter = tt.data.BucketIterator(data, batch_size=100, device='cuda', train='false', sort=True)\n",
    "\n",
    "# load model\n",
    "model = torch.load('lm_data/wikitalk_{}/model.bin'.format('all')).to('cuda')\n",
    "model.eval()\n",
    "\n",
    "with torch.no_grad():\n",
    "    for batch in tqdm(batch_iter):\n",
    "        text_len, batch_size = batch.text.shape\n",
    "        mask = batch.text.clone()\n",
    "        mask[mask == pad_idx] = 0\n",
    "        mask[mask != 0] = 1\n",
    "        mask = mask[0:-1].t().float()\n",
    "        hidden = model.init_hidden(batch_size)\n",
    "        log_probs = []\n",
    "        for i in range(text_len-1):\n",
    "            input_ = batch.text[i].reshape(1,-1)\n",
    "            target = batch.text[i+1].reshape(1,-1)\n",
    "            output, hidden = model(input_, hidden)\n",
    "            proba = softmax(output).gather(2, target.reshape(1,-1,1))\n",
    "            log_probs.append(proba.squeeze().log2())\n",
    "        log_probs = torch.stack(log_probs, dim=1) * mask\n",
    "        batch_ppls = torch.pow((-1 * log_probs).sum(dim=1) / batch.length.float(), 2)\n",
    "        ppls.update(dict(zip(batch.id.tolist(), batch_ppls.tolist())))\n",
    "ppls = {str(key): val for key,val in ppls.items()} # torchtext converts the index to a number..\n",
    "posts['ppl_all'] = pd.Series(ppls)"
   ]
  },
  {
   "cell_type": "code",
   "execution_count": 13,
   "metadata": {},
   "outputs": [],
   "source": [
    "wiki.save_posts(posts, overwrite=True)"
   ]
  },
  {
   "cell_type": "code",
   "execution_count": 43,
   "metadata": {},
   "outputs": [
    {
     "data": {
      "image/png": "[encoded data removed]",
      "text/plain": [
       "<Figure size 432x288 with 1 Axes>"
      ]
     },
     "metadata": {
      "needs_background": "light"
     },
     "output_type": "display_data"
    }
   ],
   "source": [
    "import matplotlib.pyplot as plt\n",
    "%matplotlib inline\n",
    "\n",
    "fig, ax = plt.subplots()\n",
    "ax.set_xlim(-10, 150)\n",
    "\n",
    "posts.ppl_year.hist(ax=ax, bins=100, color='Green')\n",
    "posts.ppl_all.hist(ax=ax, bins=100, color='Blue')\n",
    "plt.show()"
   ]
  },
  {
   "cell_type": "code",
   "execution_count": 44,
   "metadata": {},
   "outputs": [
    {
     "data": {
      "text/plain": [
       "<matplotlib.axes._subplots.AxesSubplot at 0x7f2077060ba8>"
      ]
     },
     "execution_count": 44,
     "metadata": {},
     "output_type": "execute_result"
    },
    {
     "data": {
      "image/png": "[encoded data removed]",
      "text/plain": [
       "<Figure size 432x288 with 1 Axes>"
      ]
     },
     "metadata": {
      "needs_background": "light"
     },
     "output_type": "display_data"
    }
   ],
   "source": [
    "fig, ax = plt.subplots()\n",
    "ax.set_xlim(-50, 50)\n",
    "(posts.ppl_all-posts.ppl_year).hist(bins=200, ax=ax)"
   ]
  },
  {
   "cell_type": "code",
   "execution_count": null,
   "metadata": {},
   "outputs": [],
   "source": []
  }
 ],
 "metadata": {
  "kernelspec": {
   "display_name": "lasn",
   "language": "python",
   "name": "lasn"
  },
  "language_info": {
   "codemirror_mode": {
    "name": "ipython",
    "version": 3
   },
   "file_extension": ".py",
   "mimetype": "text/x-python",
   "name": "python",
   "nbconvert_exporter": "python",
   "pygments_lexer": "ipython3",
   "version": "3.7.0"
  }
 },
 "nbformat": 4,
 "nbformat_minor": 2
}
