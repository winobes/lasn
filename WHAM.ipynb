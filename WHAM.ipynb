{
 "cells": [
  {
   "cell_type": "code",
   "execution_count": null,
   "metadata": {},
   "outputs": [],
   "source": [
    "from data import wiki\n",
    "from data import corpus\n",
    "\n",
    "from experiments.util import load_markers\n",
    "import pandas as pd\n",
    "import pystan"
   ]
  },
  {
   "cell_type": "code",
   "execution_count": null,
   "metadata": {},
   "outputs": [],
   "source": [
    "posts = wiki.load_posts()\n",
    "pairs = corpus.get_reply_pairs(posts)"
   ]
  },
  {
   "cell_type": "markdown",
   "metadata": {},
   "source": [
    "## Format the input data for Stan"
   ]
  },
  {
   "cell_type": "code",
   "execution_count": null,
   "metadata": {},
   "outputs": [],
   "source": [
    "\n",
    "markers = load_markers()\n",
    "\n",
    "# merge the marker usage columns for the reply pair\n",
    "for m in markers:\n",
    "    pairs[m] = list(zip(pairs[m+'_a'], pairs[m+'_b']))\n",
    "\n",
    "# reshape\n",
    "df = pd.melt(pairs, id_vars = ['user_a', 'user_b', 'utterance_id_b'], value_vars=markers, var_name='marker')\n",
    "\n",
    "# change the marker labels to indices Stan will like\n",
    "marker_idx = {m:i+1 for i,m in enumerate(markers)}\n",
    "df['marker'] = df['marker'].apply(lambda x: marker_idx[x])\n",
    "\n",
    "# reshape again\n",
    "df = df.pivot_table(index=['user_a', 'user_b', 'marker'], columns='value', aggfunc='size', fill_value=0)\n",
    "df = df.reset_index()\n",
    "\n",
    "# df = df.sample(500)\n",
    "print(len(df))"
   ]
  },
  {
   "cell_type": "code",
   "execution_count": null,
   "metadata": {},
   "outputs": [],
   "source": [
    "data = {\n",
    "    \"NumMarkers\": len(markers),\n",
    "    \"NumObservations\": len(df),\n",
    "    \"MarkerType\": df.marker.values,\n",
    "    \"NumUtterancesAB\": (df[(True, True)] + df[(True, False)]).values,\n",
    "    \"NumUtterancesNotAB\": (df[(False, True)] + df[(False, False)]).values,\n",
    "    \"CountsAB\": df[(True, True)].values,\n",
    "    \"CountsNotAB\": df[(False, True)].values,\n",
    "    \"StdDev\": .25\n",
    "}"
   ]
  },
  {
   "cell_type": "markdown",
   "metadata": {},
   "source": [
    "### Compile the Stan model"
   ]
  },
  {
   "cell_type": "code",
   "execution_count": null,
   "metadata": {
    "scrolled": true
   },
   "outputs": [],
   "source": [
    "sm = pystan.StanModel(file='experiments/alignment.cauchy.nosubpop.stan', verbose=True)"
   ]
  },
  {
   "cell_type": "markdown",
   "metadata": {},
   "source": [
    "### Fit the Stan model to the data\n",
    "save the paramteer `eta_ab_pop`"
   ]
  },
  {
   "cell_type": "code",
   "execution_count": null,
   "metadata": {},
   "outputs": [],
   "source": [
    "import time\n",
    "\n",
    "start = time.time()\n",
    "fit = sm.sampling(data=data, iter=200, pars=['eta_ab_pop'], chains=4)\n",
    "end = time.time()\n",
    "print(end - start)"
   ]
  },
  {
   "cell_type": "code",
   "execution_count": null,
   "metadata": {},
   "outputs": [],
   "source": [
    "print(fit.stansummary(probs=[.95]))\n",
    "print()\n",
    "for i, m in marker_idx.items():\n",
    "    print(\"{}: {}\".format(m, i))"
   ]
  },
  {
   "cell_type": "code",
   "execution_count": null,
   "metadata": {},
   "outputs": [],
   "source": [
    "import pickle\n",
    "with open('stan_model.pickle', 'wb') as f:\n",
    "    pickle.dump(sm, f)\n",
    "with open('stan_fit.pickle', 'wb') as f:\n",
    "    pickle.dump(fit, f)"
   ]
  },
  {
   "cell_type": "code",
   "execution_count": null,
   "metadata": {},
   "outputs": [],
   "source": []
  },
  {
   "cell_type": "code",
   "execution_count": null,
   "metadata": {},
   "outputs": [],
   "source": []
  }
 ],
 "metadata": {
  "kernelspec": {
   "display_name": "lasn-env",
   "language": "python",
   "name": "lasn-env"
  },
  "language_info": {
   "codemirror_mode": {
    "name": "ipython",
    "version": 3
   },
   "file_extension": ".py",
   "mimetype": "text/x-python",
   "name": "python",
   "nbconvert_exporter": "python",
   "pygments_lexer": "ipython3",
   "version": "3.7.0"
  }
 },
 "nbformat": 4,
 "nbformat_minor": 2
}
