{
 "cells": [
  {
   "cell_type": "code",
   "execution_count": 2,
   "metadata": {},
   "outputs": [],
   "source": [
    "from data import wiki\n",
    "from data import corpus\n",
    "import wham\n",
    "\n",
    "import pystan\n",
    "import pandas as pd\n",
    "import pickle\n",
    "from tqdm import tqdm"
   ]
  },
  {
   "cell_type": "code",
   "execution_count": null,
   "metadata": {},
   "outputs": [],
   "source": [
    "markers = wham.load_markers()\n",
    "\n",
    "posts = wiki.load_posts()\n",
    "posts = corpus.tokenize_posts(posts)\n",
    "posts = corpus.detect_markers(posts, markers, overwrite=False)\n",
    "wiki.save_posts(posts, overwrite=False)"
   ]
  },
  {
   "cell_type": "code",
   "execution_count": null,
   "metadata": {},
   "outputs": [],
   "source": [
    "pairs = corpus.get_reply_pairs(posts)\n",
    "users = wiki.create_users(posts=posts)\n",
    "\n",
    "network = corpus.create_network(pairs)\n",
    "users = corpus.compute_centrality(users, network, normalize=True, overwrite=True)"
   ]
  },
  {
   "cell_type": "code",
   "execution_count": null,
   "metadata": {},
   "outputs": [],
   "source": [
    "users['admin'] = users['admin'].fillna(False)"
   ]
  },
  {
   "cell_type": "code",
   "execution_count": null,
   "metadata": {},
   "outputs": [],
   "source": [
    "threshold = users.centrality.mean() + users.centrality.std()\n",
    "users['highly_central'] = (users['centrality'] > threshold)\n",
    "users.highly_central.value_counts()"
   ]
  },
  {
   "cell_type": "code",
   "execution_count": null,
   "metadata": {
    "scrolled": false
   },
   "outputs": [],
   "source": [
    "%matplotlib inline\n",
    "import math \n",
    "cs = ['green' if admin else 'blue' for admin in users.highly_central]\n",
    "users.plot.scatter('post_count', 'centrality', c=cs)"
   ]
  },
  {
   "cell_type": "code",
   "execution_count": null,
   "metadata": {},
   "outputs": [],
   "source": [
    "markers = wham.load_markers()\n",
    "reply_pairs = pairs.join(users, on='user_a')\n",
    "subpops_column = 'admin'\n",
    "default = False\n",
    "sample=500\n",
    "\n",
    "reply_pairs['len_b'] = reply_pairs.tokens_b.apply(len)\n",
    "\n",
    "# tortured reshaping\n",
    "for m in markers:\n",
    "    reply_pairs[m] = list(zip(reply_pairs[m+'_a'], reply_pairs[m+'_b']))\n",
    "id_vars = ['utterance_id_b', 'user_a', 'user_b', subpops_column, 'len_b']\n",
    "df = pd.melt(reply_pairs, id_vars=id_vars, value_vars=markers, var_name='marker')\n",
    "df = df.join(pd.DataFrame(df['value'].tolist(), columns=['count_a', 'count_b']))\n",
    "\n",
    "df['bool_a'] = df.count_a > 0\n",
    "df['bool_b'] = df.count_b > 0\n",
    "\n",
    "df['n_base'] = df.len_b.where(~df.bool_a, 0)\n",
    "df['c_base'] = df.count_b.where(~df.bool_a & df.bool_b, 0)\n",
    "\n",
    "df['n_align'] = df.len_b.where(df.bool_a, 0)\n",
    "df['c_align'] = df.count_b.where(df.bool_a & df.bool_b, 0)\n",
    "\n",
    "# change the marker & subpop labels to indices Stan will like\n",
    "marker_idx = {m:i+1 for i,m in enumerate(markers)}\n",
    "df['marker'] = df['marker'].apply(lambda x: marker_idx[x])\n",
    "subpops = df[subpops_column].unique()\n",
    "subpop_idx = {s:i+1 for i,s in enumerate(subpops)}\n",
    "df[subpops_column] = df[subpops_column].apply(lambda x: subpop_idx[x])"
   ]
  },
  {
   "cell_type": "code",
   "execution_count": null,
   "metadata": {},
   "outputs": [],
   "source": [
    "if sample:\n",
    "    df = df.sample(sample)\n",
    "print(len(df))\n",
    "\n",
    "data = {\n",
    "    \"NumMarkers\": len(markers),\n",
    "    \"NumSubPops\": len(subpops),\n",
    "    \"NumObservations\": len(df),\n",
    "    \"SpeakerSubPop\": df[subpops_column].values,\n",
    "    \"MarkerType\": df.marker.values,\n",
    "    \"NumUtterancesAB\": df.n_align.values,\n",
    "    \"NumUtterancesNotAB\": df.n_base.values,\n",
    "    \"CountsAB\": df.c_align.values,\n",
    "    \"CountsNotAB\": df.c_base.values,\n",
    "    \"StdDev\": .25\n",
    "}\n",
    "\n",
    "## Compile the Stan model\n",
    "sm = pystan.StanModel(file='wham/alignment.cauchy.stan', verbose=True)\n",
    "\n",
    "## Sample // fit the model to the data\n",
    "import time\n",
    "t_start = time.time()\n",
    "fit = sm.sampling(data=data, iter=200, chains=2)\n",
    "t_end = time.time()"
   ]
  },
  {
   "cell_type": "code",
   "execution_count": null,
   "metadata": {},
   "outputs": [],
   "source": [
    "print(\"Sampling time was {} hours.\".format((t_end - t_start) / 3600))\n",
    "print(fit.stansummary(pars=['eta_pop', 'eta_ab_pop', 'eta_subpop', 'eta_ab_subpop']))\n",
    "print()\n",
    "print('markers')\n",
    "for i, m in marker_idx.items():\n",
    "    print(\"{}: {}\".format(m, i))\n",
    "print()\n",
    "print(subpops_column)\n",
    "for i, m in subpop_idx.items():\n",
    "    print(\"{}: {}\".format(m, i))\n",
    "\n",
    "with open('stan_model.pickle', 'wb') as f:\n",
    "    pickle.dump(sm, f)\n",
    "with open('stan_fit.pickle', 'wb') as f:\n",
    "    pickle.dump(fit, f)"
   ]
  },
  {
   "cell_type": "code",
   "execution_count": null,
   "metadata": {},
   "outputs": [],
   "source": []
  }
 ],
 "metadata": {
  "kernelspec": {
   "display_name": "lasn-env",
   "language": "python",
   "name": "lasn-env"
  },
  "language_info": {
   "codemirror_mode": {
    "name": "ipython",
    "version": 3
   },
   "file_extension": ".py",
   "mimetype": "text/x-python",
   "name": "python",
   "nbconvert_exporter": "python",
   "pygments_lexer": "ipython3",
   "version": "3.7.0"
  }
 },
 "nbformat": 4,
 "nbformat_minor": 2
}
